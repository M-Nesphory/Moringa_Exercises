{
 "cells": [
  {
   "cell_type": "markdown",
   "id": "0a143706-de27-4b03-9d7c-19b0d118fe55",
   "metadata": {},
   "source": [
    "**Group 1: FizzBuzz**\n",
    "\n",
    "Task: Loop through numbers 1 to 50.\n",
    "\n",
    "Print:\n",
    "- 'Fizz' for multiples of 3\n",
    "- 'Buzz' for multiples of 5\n",
    "- 'FizzBuzz' for both\n",
    "- Else, print the number.\r\n"
   ]
  },
  {
   "cell_type": "code",
   "execution_count": 39,
   "id": "39338457-1cf3-4a21-8a18-47fa8942c43d",
   "metadata": {},
   "outputs": [
    {
     "name": "stdout",
     "output_type": "stream",
     "text": [
      "1\n",
      "2\n",
      "Fizz\n",
      "4\n",
      "Buzz\n",
      "Fizz\n",
      "7\n",
      "8\n",
      "Fizz\n",
      "Buzz\n",
      "11\n",
      "Fizz\n",
      "13\n",
      "14\n",
      "FizzBuzz\n",
      "16\n",
      "17\n",
      "Fizz\n",
      "19\n",
      "Buzz\n",
      "Fizz\n",
      "22\n",
      "23\n",
      "Fizz\n",
      "Buzz\n",
      "26\n",
      "Fizz\n",
      "28\n",
      "29\n",
      "FizzBuzz\n",
      "31\n",
      "32\n",
      "Fizz\n",
      "34\n",
      "Buzz\n",
      "Fizz\n",
      "37\n",
      "38\n",
      "Fizz\n",
      "Buzz\n",
      "41\n",
      "Fizz\n",
      "43\n",
      "44\n",
      "FizzBuzz\n",
      "46\n",
      "47\n",
      "Fizz\n",
      "49\n",
      "Buzz\n"
     ]
    }
   ],
   "source": [
    "num = 1\n",
    "while num <=50:\n",
    "    if num%3 == 0 and num%5 == 0:\n",
    "        print(\"FizzBuzz\")\n",
    "    elif num%3 == 0:\n",
    "        print(\"Fizz\")\n",
    "    elif num%5 == 0:\n",
    "        print(\"Buzz\")\n",
    "    else:\n",
    "        print(num)\n",
    "    num+=1"
   ]
  },
  {
   "cell_type": "markdown",
   "id": "5dd86a0a-5de3-48e0-ba02-ac279b33a36b",
   "metadata": {},
   "source": [
    "**Group 2: Unique Words**\n",
    "\n",
    "Ask the user to enter 10 words (via input loop)\n",
    "\n",
    "Store them in a set to remove duplicates\n",
    "\n",
    "Print:\n",
    "- Total words entered\n",
    "- Number of unique words\n",
    "- The set of unique wordsords\r\n",
    "ds\r\n"
   ]
  },
  {
   "cell_type": "code",
   "execution_count": 31,
   "id": "56114015-1162-41eb-a2f8-5d5fbbb7fe50",
   "metadata": {},
   "outputs": [
    {
     "name": "stdin",
     "output_type": "stream",
     "text": [
      "Enter a word:  a\n",
      "Enter a word:  a\n",
      "Enter a word:  a\n",
      "Enter a word:  adf\n",
      "Enter a word:  \n",
      "Enter a word:  as\n",
      "Enter a word:  sdsds\n",
      "Enter a word:  s\n",
      "Enter a word:  dS\n",
      "Enter a word:  d\n"
     ]
    },
    {
     "name": "stdout",
     "output_type": "stream",
     "text": [
      "['a', 'a', 'a', 'adf', '', 'as', 'sdsds', 's', 'dS', 'd'] \n",
      "\n",
      "You have entered 10 words\n",
      "\n",
      "Unique words entered: 8 \n",
      "\n",
      "{'', 'd', 's', 'sdsds', 'a', 'as', 'dS', 'adf'}\n"
     ]
    }
   ],
   "source": [
    "word_list = []\n",
    "word_count = 1\n",
    "while word_count <= 10:\n",
    "    word = input(\"Enter a word: \")\n",
    "    word_list.append(word)\n",
    "    word_count+=1\n",
    "# Printing the whole list\n",
    "print(word_list, \"\\n\")\n",
    "# Counts and returns the number of words entered\n",
    "print(\"You have entered\",len(word_list), \"words\\n\")\n",
    "word_set = set(word_list)\n",
    "# Counts and returns the number of unique words entered\n",
    "print(\"Unique words entered:\", len(word_set), \"\\n\")\n",
    "# Prints the set of unique words\n",
    "print(word_set)"
   ]
  },
  {
   "cell_type": "markdown",
   "id": "73d3fa83-cf39-40d0-9b36-b9a4084338c2",
   "metadata": {},
   "source": [
    "**Group 3: Even or Odd Reporter**\n",
    "\n",
    "Task: Loop through numbers from 1 to 40.\n",
    "\n",
    "- Print whether each number is even or odd\n",
    "- Print if divisible by 3"
   ]
  },
  {
   "cell_type": "code",
   "execution_count": 6,
   "id": "083c5ca8-d1c4-4ce3-920e-4233775c4585",
   "metadata": {},
   "outputs": [
    {
     "name": "stdout",
     "output_type": "stream",
     "text": [
      "Odd\n",
      "Even\n",
      "Odd; divisible by 3\n",
      "Even\n",
      "Odd\n",
      "Even; divisible by 3\n",
      "Odd\n",
      "Even\n",
      "Odd; divisible by 3\n",
      "Even\n",
      "Odd\n",
      "Even; divisible by 3\n",
      "Odd\n",
      "Even\n",
      "Odd; divisible by 3\n",
      "Even\n",
      "Odd\n",
      "Even; divisible by 3\n",
      "Odd\n",
      "Even\n",
      "Odd; divisible by 3\n",
      "Even\n",
      "Odd\n",
      "Even; divisible by 3\n",
      "Odd\n",
      "Even\n",
      "Odd; divisible by 3\n",
      "Even\n",
      "Odd\n",
      "Even; divisible by 3\n",
      "Odd\n",
      "Even\n",
      "Odd; divisible by 3\n",
      "Even\n",
      "Odd\n",
      "Even; divisible by 3\n",
      "Odd\n",
      "Even\n",
      "Odd; divisible by 3\n",
      "Even\n"
     ]
    }
   ],
   "source": [
    "num = 1\n",
    "while num <= 40:\n",
    "    if num%2 == 0:\n",
    "        if num%3 == 0:\n",
    "            print(\"Even; divisible by 3\")\n",
    "        else:\n",
    "            print(\"Even\")\n",
    "    elif num%2 == 1:\n",
    "        if num%3 == 0:\n",
    "            print(\"Odd; divisible by 3\")\n",
    "        else:\n",
    "            print(\"Odd\")\n",
    "    num+=1"
   ]
  },
  {
   "cell_type": "markdown",
   "id": "bb6c45ab-3135-479e-9682-c463ff36650b",
   "metadata": {},
   "source": [
    "**Group 4: Multiples of a number**\n",
    "\n",
    "Task: Ask the user for a number n.\n",
    "\n",
    "- Loop from 1 to 100\n",
    "- Print all numbers that are multiples of n"
   ]
  },
  {
   "cell_type": "code",
   "execution_count": 47,
   "id": "9a22054e-be85-4801-b732-07e70fa93ee4",
   "metadata": {},
   "outputs": [
    {
     "name": "stdin",
     "output_type": "stream",
     "text": [
      "Enter a number: 9\n"
     ]
    },
    {
     "name": "stdout",
     "output_type": "stream",
     "text": [
      "9\n",
      "18\n",
      "27\n",
      "36\n",
      "45\n",
      "54\n",
      "63\n",
      "72\n",
      "81\n",
      "90\n",
      "99\n"
     ]
    }
   ],
   "source": [
    "num = int(input(\"Enter a number:\"))\n",
    "count = 1\n",
    "while count <= 100:\n",
    "    if count%num == 0:\n",
    "        print(count)\n",
    "    count+=1"
   ]
  },
  {
   "cell_type": "markdown",
   "id": "65fe3f71-5ed4-4409-bda9-8065e80a6f29",
   "metadata": {},
   "source": [
    "**Group 5: Positive and Negative Numbers**\n",
    "\n",
    "Given a tuple of numbers:\n",
    "\r",
    "numbers = (-5, 3, -2, 9, 0, -1, 4)\n",
    "\n",
    "Use a for loop and if to count and print:\n",
    "- How many are poitive\n",
    "- How many are negative\n",
    "- How many are zero\r\n"
   ]
  },
  {
   "cell_type": "code",
   "execution_count": 1,
   "id": "b43ce941-241a-442b-b819-7e603284982f",
   "metadata": {},
   "outputs": [
    {
     "name": "stdout",
     "output_type": "stream",
     "text": [
      "There are 3 numbers\n",
      "There are 3 numbers\n",
      "There are 1 zeroes\n"
     ]
    }
   ],
   "source": [
    "numbers = (-5, 3, -2, 9, 0, -1, 4)\n",
    "positives = []\n",
    "negatives = []\n",
    "zeroes = []\n",
    "for i in numbers:\n",
    "    if i > 0:\n",
    "        positives.append(i)\n",
    "    elif i < 0:\n",
    "        negatives.append(i)\n",
    "    elif i == 0:\n",
    "        zeroes.append(i)\n",
    "print(\"There are\", len(positives), \"numbers\")\n",
    "print(\"There are\", len(negatives), \"numbers\")\n",
    "print(\"There are\", len(zeroes), \"zeroes\")"
   ]
  },
  {
   "cell_type": "markdown",
   "id": "4002b5e4-aa5c-4837-974b-7778821578e0",
   "metadata": {},
   "source": [
    "**Group 6: Number Categorizer**\n",
    "\n",
    "You have a dictionary of names and ages:\n",
    "\r\n",
    "people = {\"Alice\": 17, \"Bob\": 20, \"Charlie\": 16, \"David\": 25\n",
    "\n",
    "Use a for loop and if to print only those who are 18 or older.\r\n"
   ]
  },
  {
   "cell_type": "code",
   "execution_count": 3,
   "id": "99b077cb-af83-4091-92bb-119e4c6b449a",
   "metadata": {},
   "outputs": [
    {
     "name": "stdout",
     "output_type": "stream",
     "text": [
      "Bob aged 20\n",
      "David aged 25\n"
     ]
    }
   ],
   "source": [
    "people = {\"Alice\": 17, \"Bob\": 20, \"Charlie\": 16, \"David\": 25}\n",
    "for key,value in people.items():\n",
    "    if value >= 18:\n",
    "        print(key, \"aged\", value)"
   ]
  },
  {
   "cell_type": "markdown",
   "id": "2d2b5bec-7691-4f83-a3c8-6d8e2881d85e",
   "metadata": {},
   "source": [
    "**Group 7: Shopping List Checker**\n",
    "\n",
    "shopping_list = [\"milk\", \"bread\", \"eggs\", \"cheese\", \"butter\"]\n",
    "\r\n",
    "cart = [\"milk\", \"eggs\", \"butter\"\n",
    "\n",
    "Use a for loop and if to print items from shopping_list not in the cart.\r\n"
   ]
  },
  {
   "cell_type": "code",
   "execution_count": 6,
   "id": "cff57008-f0b1-4282-94b2-299f6d0d7e73",
   "metadata": {},
   "outputs": [
    {
     "name": "stdout",
     "output_type": "stream",
     "text": [
      "['bread', 'cheese']\n"
     ]
    }
   ],
   "source": [
    "shopping_list = [\"milk\", \"bread\", \"eggs\", \"cheese\", \"butter\"]\n",
    "cart = [\"milk\", \"eggs\", \"butter\",]\n",
    "not_in_cart = []\n",
    "for item in shopping_list:\n",
    "    if item not in cart:\n",
    "        not_in_cart.append(item)\n",
    "print(not_in_cart)"
   ]
  },
  {
   "cell_type": "markdown",
   "id": "e9d6cdce-70e8-4313-a9b1-f573e235a077",
   "metadata": {},
   "source": [
    "**Group 8: Sum of even numbers**\n",
    "\n",
    "Task: Sum of Even numbers\n",
    "\n",
    "Given a tuple\n",
    "\n",
    "data = (2,7,4,9,12,5,6)\n",
    "\n",
    "Use a for loop to sum all even numbers and print"
   ]
  },
  {
   "cell_type": "code",
   "execution_count": 8,
   "id": "a39fe209-d0c7-489f-a19d-c464bd7f05d3",
   "metadata": {},
   "outputs": [
    {
     "name": "stdout",
     "output_type": "stream",
     "text": [
      "The sum of all even numbers is 24\n"
     ]
    }
   ],
   "source": [
    "data = (2, 7, 4, 9, 12, 5, 6)\n",
    "sum = 0\n",
    "for num in data:\n",
    "    if num%2 == 0:\n",
    "        sum+=num\n",
    "print(\"The sum of all even numbers is\",sum)"
   ]
  },
  {
   "cell_type": "code",
   "execution_count": null,
   "id": "ed44c85d-dae2-4a18-a3ad-70b74375c50d",
   "metadata": {},
   "outputs": [],
   "source": []
  }
 ],
 "metadata": {
  "kernelspec": {
   "display_name": "Python 3 (ipykernel)",
   "language": "python",
   "name": "python3"
  },
  "language_info": {
   "codemirror_mode": {
    "name": "ipython",
    "version": 3
   },
   "file_extension": ".py",
   "mimetype": "text/x-python",
   "name": "python",
   "nbconvert_exporter": "python",
   "pygments_lexer": "ipython3",
   "version": "3.11.7"
  }
 },
 "nbformat": 4,
 "nbformat_minor": 5
}
