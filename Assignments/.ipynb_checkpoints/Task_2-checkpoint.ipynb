{
 "cells": [
  {
   "cell_type": "code",
   "execution_count": 1,
   "id": "46484791-20ca-42dc-96e4-ea94909c75f5",
   "metadata": {},
   "outputs": [],
   "source": [
    "balance = 100\n",
    "def withdraw_money():\n",
    "  while balance > 0: \n",
    "    withdraw_amount = int(input(print('Enter amount to withdraw: $')))\n",
    "    if withdraw_amount > balance:\n",
    "      print('Transaction declined due insufficient funds')\n",
    "      break\n",
    "    else:\n",
    "      balance -= withdraw_amount\n",
    "      print(\"Your balance is: $\", balance)"
   ]
  },
  {
   "cell_type": "code",
   "execution_count": null,
   "id": "4dddb003-6c24-4432-af7f-5942eadc14bf",
   "metadata": {},
   "outputs": [],
   "source": []
  }
 ],
 "metadata": {
  "kernelspec": {
   "display_name": "Python 3 (ipykernel)",
   "language": "python",
   "name": "python3"
  },
  "language_info": {
   "codemirror_mode": {
    "name": "ipython",
    "version": 3
   },
   "file_extension": ".py",
   "mimetype": "text/x-python",
   "name": "python",
   "nbconvert_exporter": "python",
   "pygments_lexer": "ipython3",
   "version": "3.11.7"
  }
 },
 "nbformat": 4,
 "nbformat_minor": 5
}
