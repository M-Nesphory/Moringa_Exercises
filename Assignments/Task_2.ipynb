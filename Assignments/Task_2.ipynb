{
 "cells": [
  {
   "cell_type": "markdown",
   "id": "b5115e85-952c-4b1c-8c3a-0969d9e2b909",
   "metadata": {},
   "source": [
    "**Write a function withdraw_money() that starts with a balance of $100. The user can repeatedly withdraw money by entering an amount. The loop stops when the user enters 0 or the balance runs out. Print the remaining balance each time.**"
   ]
  },
  {
   "cell_type": "code",
   "execution_count": 48,
   "id": "503f6042-5c89-44ec-a5eb-7f072766155d",
   "metadata": {},
   "outputs": [
    {
     "name": "stdin",
     "output_type": "stream",
     "text": [
      "Enter amount to withdraw $ 98\n"
     ]
    },
    {
     "name": "stdout",
     "output_type": "stream",
     "text": [
      "Your balance is $2\n"
     ]
    },
    {
     "name": "stdin",
     "output_type": "stream",
     "text": [
      "Enter amount to withdraw $ 2\n"
     ]
    },
    {
     "name": "stdout",
     "output_type": "stream",
     "text": [
      "You need to work harder!\n",
      "Your balance is $0\n"
     ]
    }
   ],
   "source": [
    "def withdraw_money():\n",
    "    balance = 100\n",
    "    while balance > 0:\n",
    "        withdraw_amount = int(input(\"Enter amount to withdraw $\"))\n",
    "        if withdraw_amount > balance:\n",
    "            print(\"Transaction failed due to insufficient funds\")\n",
    "            print(f\"Your balance is ${balance}\")\n",
    "            break\n",
    "        elif withdraw_amount == 0:\n",
    "            print(f\"Your balance is ${balance}\")\n",
    "            break\n",
    "        elif withdraw_amount <= balance:\n",
    "            balance-=withdraw_amount\n",
    "            if balance == 0:\n",
    "                print(\"You need to work harder!\")\n",
    "            print(f\"Your balance is ${balance}\")\n",
    "withdraw_money()"
   ]
  },
  {
   "cell_type": "markdown",
   "id": "7237356c-ce73-46e9-aa07-dbff53b4c936",
   "metadata": {},
   "source": [
    "**Write a function multiply(a, b) that returns the product of a and b using a while loop (i.e., repeated addition).**"
   ]
  },
  {
   "cell_type": "code",
   "execution_count": 49,
   "id": "a54053b6-3916-40ca-9186-e887a3f99e2b",
   "metadata": {},
   "outputs": [
    {
     "data": {
      "text/plain": [
       "45"
      ]
     },
     "execution_count": 49,
     "metadata": {},
     "output_type": "execute_result"
    }
   ],
   "source": [
    "def multiply(a,b):\n",
    "    x = 1\n",
    "    result = 0\n",
    "    while x <= b:\n",
    "        result += a\n",
    "        x += 1\n",
    "    return result\n",
    "multiply(5,9)"
   ]
  },
  {
   "cell_type": "code",
   "execution_count": null,
   "id": "4f9633d6-e393-4c61-a61b-abbd1594037d",
   "metadata": {},
   "outputs": [],
   "source": []
  }
 ],
 "metadata": {
  "kernelspec": {
   "display_name": "Python 3 (ipykernel)",
   "language": "python",
   "name": "python3"
  },
  "language_info": {
   "codemirror_mode": {
    "name": "ipython",
    "version": 3
   },
   "file_extension": ".py",
   "mimetype": "text/x-python",
   "name": "python",
   "nbconvert_exporter": "python",
   "pygments_lexer": "ipython3",
   "version": "3.11.7"
  }
 },
 "nbformat": 4,
 "nbformat_minor": 5
}
