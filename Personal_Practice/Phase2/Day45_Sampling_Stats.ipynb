{
 "cells": [
  {
   "cell_type": "markdown",
   "id": "ef828d47",
   "metadata": {},
   "source": [
    "# Sampling Statistics\n",
    "Point estimates are estimates of population parameters based on sample data.\n",
    "\n",
    "The average of a sample is known as the sample mean. Sampling distribution can be thought of as relative frequency distribution with a large number of samples. A relative frequency distribution tends to approach the sampling distribution as the number of samples increase.\n",
    "\n",
    "In order to learn the **population mean**, we don't measure the whole population. Instead, we take a random sample and use **sample mean, ( x_bar or $\\bar{x}$ )** to estimate the population mean **( mu or $\\mu$ )**. The sample mean is usually not exactly the same as the population mean and depends upon the values of samples chosen, however, the population mean remains fixed. While using the **sample mean** to estimate the population mean, we come across the **sampling error**, which directly relates to the **standard deviation** of a sampling statistic (e.g. mean values). This difference can be caused by many factors including poor survey design, biased sampling methods, and the randomness inherent to drawing a sample from a population."
   ]
  },
  {
   "cell_type": "markdown",
   "id": "51771b72",
   "metadata": {},
   "source": [
    "## Step 1\n",
    "\n",
    "Let's calculate the population mean first, which we calculate as:\n",
    "\n",
    "**$\\large \\mu = \\frac{\\text{sum of all elements}}{N}$**, where N is population size."
   ]
  },
  {
   "cell_type": "code",
   "execution_count": 1,
   "id": "62f5ec89",
   "metadata": {},
   "outputs": [],
   "source": [
    "# Import necessary libraries\n",
    "import numpy as np\n",
    "from collections import Counter\n",
    "import matplotlib.pyplot as plt\n",
    "import itertools"
   ]
  },
  {
   "cell_type": "markdown",
   "id": "36130c92",
   "metadata": {},
   "source": [
    "Create two lists, one with pumpkin names and one with the respective pumpkin weights. Combine the lists to create a pumpkin directory with the pumpkin names as keys and the pumpkin weights as values. "
   ]
  },
  {
   "cell_type": "code",
   "execution_count": 2,
   "id": "e7fde951",
   "metadata": {},
   "outputs": [
    {
     "name": "stdout",
     "output_type": "stream",
     "text": [
      "{'A': 19, 'B': 14, 'C': 15, 'D': 9, 'E': 10, 'F': 17}\n"
     ]
    }
   ],
   "source": [
    "# Create two lists with pumpkin names and weights\n",
    "pumpkin = [\"A\", \"B\", \"C\", \"D\", \"E\", \"F\"]\n",
    "weights = [19,14,15,9,10,17]\n",
    "\n",
    "# Combine both lists to create a dictionary\n",
    "pumpkin_dict = {key:value for key,value in zip(pumpkin, weights)}\n",
    "print(pumpkin_dict)"
   ]
  },
  {
   "cell_type": "markdown",
   "id": "2d4c7305",
   "metadata": {},
   "source": [
    "Now, let's try to calculate the mean of the pumpkin population and also visualize the weight distribution. "
   ]
  },
  {
   "cell_type": "code",
   "execution_count": 3,
   "id": "22ade0c0",
   "metadata": {},
   "outputs": [
    {
     "data": {
      "text/plain": [
       "14.0"
      ]
     },
     "execution_count": 3,
     "metadata": {},
     "output_type": "execute_result"
    }
   ],
   "source": [
    "# Calculate the population mean from pumpkin_dict\n",
    "def calculate_mu(x):\n",
    "    d = np.sum(list(x.values()))/len(x.values())\n",
    "    return d\n",
    "mu = calculate_mu(pumpkin_dict)\n",
    "mu"
   ]
  },
  {
   "cell_type": "markdown",
   "id": "386d8b1c",
   "metadata": {},
   "source": [
    "That was a pretty a straightforward exercise. Let's use the data we have so far to visualize the weights of individual pumpkins and mean weight. "
   ]
  },
  {
   "cell_type": "code",
   "execution_count": 4,
   "id": "7f451c54",
   "metadata": {},
   "outputs": [
    {
     "data": {
      "image/png": "[encoded data removed]",
      "text/plain": [
       "<Figure size 640x480 with 1 Axes>"
      ]
     },
     "metadata": {},
     "output_type": "display_data"
    }
   ],
   "source": [
    "# Plot a bar graph showing weights of pumpkins and highlight the mean weight\n",
    "plt.bar(data = pumpkin_dict,x = pumpkin_dict.keys(), height = pumpkin_dict.values())\n",
    "plt.axhline(mu, color = 'red', linestyle = \"--\", label = \"population mean\")\n",
    "plt.legend()\n",
    "plt.xlabel(\"Pumpkin\")\n",
    "plt.ylabel(\"Weight\");"
   ]
  },
  {
   "cell_type": "markdown",
   "id": "4c76d8ee",
   "metadata": {},
   "source": [
    "We can see only one pumpkin has a weight which is equal to the mean weight (B:14). Let's try to simulate the random sampling process as stated below. \n",
    "\n",
    "## Step 2 : Calculate the mean of samples\n",
    "\n",
    "From the `pumpkin_dict`, we can now obtain the sampling distributions of the sample mean for a given sample size. We'll do this while sampling *without* replacement (to reflect the idea that one can have two pumpkins at a given time, and will be taken out of population once used). \n",
    "\n",
    "Let's also try to make the code more flexible to allow sampling of any number of pumpkins from the population to study the effect of the sample size on the sample mean. \n",
    "\n",
    "To achieve this, first, we need to identify all the possible combinations that can be observed by choosing 2 pumpkins from the population, following the game rule."
   ]
  },
  {
   "cell_type": "code",
   "execution_count": 19,
   "id": "bda84e23",
   "metadata": {},
   "outputs": [
    {
     "data": {
      "text/plain": [
       "14.0"
      ]
     },
     "execution_count": 19,
     "metadata": {},
     "output_type": "execute_result"
    }
   ],
   "source": [
    "# Identify a sample size n \n",
    "n = 2 \n",
    "\n",
    "# Use itertools.combinations() to generate and print a list of combinations\n",
    "combs = list(itertools.combinations(pumpkin_dict, n))\n",
    "# Using 2 samples, we can see 15 possible combinations as below:\n",
    "# [('A', 'B'), ('A', 'C'), ('A', 'D'), ('A', 'E'), ('A', 'F'), ('B', 'C'), ('B', 'D'), \n",
    "#  ('B', 'E'), ('B', 'F'), ('C', 'D'), ('C', 'E'), ('C', 'F'), ('D', 'E'), ('D', 'F'), \n",
    "#  ('E', 'F')]\n",
    "\n",
    "x_bar_list = []\n",
    "for comb in combs:\n",
    "    if comb[0] in pumpkin_dict.keys():\n",
    "        mean = (pumpkin_dict[comb[0]] + pumpkin_dict[comb[1]])/2\n",
    "    x_bar_list.append(mean)\n",
    "\n",
    "np.sum(x_bar_list)/len(x_bar_list)"
   ]
  },
  {
   "cell_type": "markdown",
   "id": "8bfd743c",
   "metadata": {},
   "source": [
    "Great! We can now generate any number of combinations from the population (try changing the value of `n` above). The next step in the process is to calculate the mean of all possible combinations and study whether these means differ from the population mean, and whether sample size has any effect on estimating the population mean. \n",
    "\n",
    "Let's write a function that would include the code for generating combinations as above and also for identifying the mean for each sample. "
   ]
  },
  {
   "cell_type": "code",
   "execution_count": 33,
   "id": "7210304c",
   "metadata": {},
   "outputs": [
    {
     "name": "stdout",
     "output_type": "stream",
     "text": [
      "Mean of population is 14.0\n",
      "('A', 'B') 16.5\n",
      "('A', 'C') 17.0\n",
      "('A', 'D') 14.0\n",
      "('A', 'E') 14.5\n",
      "('A', 'F') 18.0\n",
      "('B', 'C') 14.5\n",
      "('B', 'D') 11.5\n",
      "('B', 'E') 12.0\n",
      "('B', 'F') 15.5\n",
      "('C', 'D') 12.0\n",
      "('C', 'E') 12.5\n",
      "('C', 'F') 16.0\n",
      "('D', 'E') 9.5\n",
      "('D', 'F') 13.0\n",
      "('E', 'F') 13.5\n"
     ]
    }
   ],
   "source": [
    "def sample_means (sample_size, data):\n",
    "    \n",
    "    \"\"\"\n",
    "    This function takes in population data as a dictionary along \n",
    "    with a chosen sample size to generate all possible combinations \n",
    "    of given sample size. \n",
    "    The function calculates the mean of each sample and returns:\n",
    "    a) a list of all combinations (as tuples) \n",
    "    b) a list of means for all sample\n",
    "    \"\"\"\n",
    "    \n",
    "    n = sample_size\n",
    "    # Calculate the mean of population\n",
    "    mu = calculate_mu(data)\n",
    "    print(f\"Mean of population is {mu}\")\n",
    "    \n",
    "    # Generate all possible combinations using given sample size\n",
    "    combs = list(itertools.combinations(data, sample_size))\n",
    "    \n",
    "    # Calculate the mean weight (x_bar) for all the combinations \n",
    "    # (samples) using the given data\n",
    "    x_bar_list = []\n",
    "    for comb in combs:\n",
    "        if comb[0] in data.keys():\n",
    "            mean = (data[comb[0]] + data[comb[1]])/2\n",
    "        x_bar_list.append(mean)\n",
    "\n",
    "    # Calculate sample mean for all combinations and append to x_bar_list\n",
    "    \n",
    "    return combs, x_bar_list\n",
    "\n",
    "n= 2 # Sample size\n",
    "combs, means = sample_means(n, pumpkin_dict)\n",
    "# Print the sample combinations with their means\n",
    "for comb, mean in zip(combs, means):\n",
    "    print(f\"{comb} {mean}\")"
   ]
  },
  {
   "cell_type": "markdown",
   "id": "4fff85d2",
   "metadata": {},
   "source": [
    "Thus, even though each sample may give you an answer involving some error, the expected value is right at the target: exactly the population mean. In other words: \n",
    ">If one does the experiment over and over again, the overall average of the sample mean is exactly the population mean.\n",
    "\n",
    "In the output above, we can see that some mean values i.e. 14.5, 12, are being repeated in the combinations. We can develop a frequency table to identify the probability of seeing a different mean value."
   ]
  },
  {
   "cell_type": "code",
   "execution_count": 40,
   "id": "ced892b8",
   "metadata": {},
   "outputs": [
    {
     "data": {
      "text/plain": [
       "[0.06666666666666667,\n",
       " 0.06666666666666667,\n",
       " 0.06666666666666667,\n",
       " 0.13333333333333333,\n",
       " 0.06666666666666667,\n",
       " 0.06666666666666667,\n",
       " 0.13333333333333333,\n",
       " 0.06666666666666667,\n",
       " 0.06666666666666667,\n",
       " 0.06666666666666667,\n",
       " 0.06666666666666667,\n",
       " 0.06666666666666667,\n",
       " 0.06666666666666667]"
      ]
     },
     "execution_count": 40,
     "metadata": {},
     "output_type": "execute_result"
    }
   ],
   "source": [
    "freq = {}\n",
    "for mean in means:\n",
    "    if mean in freq:\n",
    "        freq[mean] += 1\n",
    "    else:\n",
    "        freq[mean] = 1\n",
    "prob = []\n",
    "for pro in freq.values():\n",
    "    prob.append(pro/len(means))\n",
    "prob"
   ]
  },
  {
   "cell_type": "code",
   "execution_count": 46,
   "id": "1f7ad269",
   "metadata": {},
   "outputs": [
    {
     "data": {
      "text/plain": [
       "[0.06666666666666667,\n",
       " 0.06666666666666667,\n",
       " 0.06666666666666667,\n",
       " 0.13333333333333333,\n",
       " 0.06666666666666667,\n",
       " 0.06666666666666667,\n",
       " 0.13333333333333333,\n",
       " 0.06666666666666667,\n",
       " 0.06666666666666667,\n",
       " 0.06666666666666667,\n",
       " 0.06666666666666667,\n",
       " 0.06666666666666667,\n",
       " 0.06666666666666667]"
      ]
     },
     "execution_count": 46,
     "metadata": {},
     "output_type": "execute_result"
    }
   ],
   "source": [
    "def calculate_probability(means):\n",
    "    '''\n",
    "    Input: a list of means (x_hats)\n",
    "    Output: a list of probablitity of each mean value\n",
    "    '''\n",
    "    # Calculate the frequency of each mean value\n",
    "    freq = {}\n",
    "    for mean in x_bar_list:\n",
    "        if mean in freq:\n",
    "            freq[mean] += 1\n",
    "        else:\n",
    "            freq[mean] = 1\n",
    "            \n",
    "    prob = []\n",
    "    for pro in freq.values():\n",
    "        prob.append(pro/len(means))\n",
    "    # Calculate and append frequency of each mean value in the prob list. \n",
    "    \n",
    "    return prob\n",
    "\n",
    "probs = calculate_probability(means)\n",
    "probs"
   ]
  },
  {
   "cell_type": "markdown",
   "id": "98363857",
   "metadata": {},
   "source": [
    "# FUCK THIS SHIT"
   ]
  },
  {
   "cell_type": "code",
   "execution_count": null,
   "id": "24850eec",
   "metadata": {},
   "outputs": [],
   "source": []
  }
 ],
 "metadata": {
  "kernelspec": {
   "display_name": "Python (learn-env)",
   "language": "python",
   "name": "learn-env"
  },
  "language_info": {
   "codemirror_mode": {
    "name": "ipython",
    "version": 3
   },
   "file_extension": ".py",
   "mimetype": "text/x-python",
   "name": "python",
   "nbconvert_exporter": "python",
   "pygments_lexer": "ipython3",
   "version": "3.8.5"
  }
 },
 "nbformat": 4,
 "nbformat_minor": 5
}
