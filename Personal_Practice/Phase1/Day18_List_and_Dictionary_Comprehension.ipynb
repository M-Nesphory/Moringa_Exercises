{
 "cells": [
  {
   "cell_type": "markdown",
   "id": "c130ab5d",
   "metadata": {},
   "source": [
    "**List Constrution using list comprehension**\n"
   ]
  },
  {
   "cell_type": "markdown",
   "id": "4a1f3374",
   "metadata": {},
   "source": [
    "Comprehension is a faster and more efficient way to make new lists and dictionary.\n",
    "\n",
    "Mostly written in one line"
   ]
  },
  {
   "cell_type": "code",
   "execution_count": 1,
   "id": "0fa4d490",
   "metadata": {},
   "outputs": [
    {
     "name": "stdout",
     "output_type": "stream",
     "text": [
      "[4, 7, 8]\n",
      "[4, 7, 8]\n"
     ]
    }
   ],
   "source": [
    "data = [4,1,7,2,3,8]\n",
    "\n",
    "# Make a list of ints greater than 3\n",
    "greater_than_3 = [x for x in data if x > 3]\n",
    "\n",
    "# The above is similar to\n",
    "larger_than_3 = []\n",
    "for x in data:\n",
    "    if x > 3:\n",
    "        larger_than_3.append(x)\n",
    "# Comprehension did it in one line while the for loop took more space and time to code\n",
    "\n",
    "print(greater_than_3)\n",
    "print(larger_than_3)"
   ]
  },
  {
   "cell_type": "code",
   "execution_count": 2,
   "id": "59c54f52",
   "metadata": {},
   "outputs": [
    {
     "data": {
      "text/plain": [
       "[8, 14, 16]"
      ]
     },
     "execution_count": 2,
     "metadata": {},
     "output_type": "execute_result"
    }
   ],
   "source": [
    "# Transforming Elements with a list comprehension\n",
    "double_vals = [x*2 for x in data if x > 3]\n",
    "double_vals"
   ]
  },
  {
   "cell_type": "markdown",
   "id": "3d9f699c",
   "metadata": {},
   "source": [
    "**Dictionary Construction using Comprehension**"
   ]
  },
  {
   "cell_type": "code",
   "execution_count": 3,
   "id": "8693b0db",
   "metadata": {},
   "outputs": [
    {
     "name": "stdout",
     "output_type": "stream",
     "text": [
      "{1: 1, 2: 4, 3: 9, 4: 16, 5: 25, 6: 36, 7: 49, 8: 64, 9: 81}\n"
     ]
    }
   ],
   "source": [
    "# Normal making of a dictionary\n",
    "nums = [1,2,3,4,5,6,7,8,9]\n",
    "squares = [1,4,9,16,25,36,49,64,81]\n",
    "zipped = zip(nums, squares)\n",
    "# Zip puts two iterables together into one\n",
    "\n",
    "pairs = {}\n",
    "for num, square in zipped:\n",
    "    pairs[num] = square\n",
    "print(pairs)"
   ]
  },
  {
   "cell_type": "code",
   "execution_count": 4,
   "id": "ba688131",
   "metadata": {},
   "outputs": [
    {
     "data": {
      "text/plain": [
       "{1: 1, 2: 4, 3: 9, 4: 16, 5: 25, 6: 36, 7: 49, 8: 64, 9: 81}"
      ]
     },
     "execution_count": 4,
     "metadata": {},
     "output_type": "execute_result"
    }
   ],
   "source": [
    "# The same is achievable using comprehension\n",
    "nums = [1,2,3,4,5,6,7,8,9]\n",
    "squares = [1,4,9,16,25,36,49,64,81]\n",
    "zipped = zip(nums, squares)\n",
    "# Please note: Zip can only be used once.\n",
    "# To use it more than once convert it into a list using list()\n",
    "pairs_comp = {num: square for num, square in zipped}\n",
    "pairs_comp\n",
    "# {}"
   ]
  },
  {
   "cell_type": "code",
   "execution_count": 5,
   "id": "6dd83583",
   "metadata": {},
   "outputs": [
    {
     "data": {
      "text/plain": [
       "[(1, 1), (2, 4), (3, 9), (4, 16), (5, 25), (6, 36), (7, 49), (8, 64), (9, 81)]"
      ]
     },
     "execution_count": 5,
     "metadata": {},
     "output_type": "execute_result"
    }
   ],
   "source": [
    "zipped = list(zip(nums,squares))\n",
    "zipped\n",
    "# Converted to a list to use this more than once"
   ]
  },
  {
   "cell_type": "code",
   "execution_count": 6,
   "id": "e289140f",
   "metadata": {},
   "outputs": [
    {
     "data": {
      "text/plain": [
       "{2: 3, 4: 12, 6: 27, 8: 48, 10: 75, 12: 108, 14: 147, 16: 192, 18: 243}"
      ]
     },
     "execution_count": 6,
     "metadata": {},
     "output_type": "execute_result"
    }
   ],
   "source": [
    "# Transforming keys and values using Dict Comprehension\n",
    "# Say you want to double the keys and triple the values\n",
    "# Normally\n",
    "worked_upon ={}\n",
    "for key, value in zipped:\n",
    "    worked_upon[key *2] = value *3\n",
    "worked_upon"
   ]
  },
  {
   "cell_type": "code",
   "execution_count": 7,
   "id": "c3b3d4f8",
   "metadata": {},
   "outputs": [
    {
     "data": {
      "text/plain": [
       "{2: 3, 4: 12, 6: 27, 8: 48, 10: 75, 12: 108, 14: 147, 16: 192, 18: 243}"
      ]
     },
     "execution_count": 7,
     "metadata": {},
     "output_type": "execute_result"
    }
   ],
   "source": [
    "# Using Dictionary Comprehension\n",
    "{key*2:value*3 for key, value in zipped}"
   ]
  }
 ],
 "metadata": {
  "kernelspec": {
   "display_name": "Python (learn-env)",
   "language": "python",
   "name": "learn-env"
  },
  "language_info": {
   "codemirror_mode": {
    "name": "ipython",
    "version": 3
   },
   "file_extension": ".py",
   "mimetype": "text/x-python",
   "name": "python",
   "nbconvert_exporter": "python",
   "pygments_lexer": "ipython3",
   "version": "3.8.5"
  }
 },
 "nbformat": 4,
 "nbformat_minor": 5
}
