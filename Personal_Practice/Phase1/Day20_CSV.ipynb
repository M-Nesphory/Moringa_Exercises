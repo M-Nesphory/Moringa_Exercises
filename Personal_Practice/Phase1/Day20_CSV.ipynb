{
 "cells": [
  {
   "cell_type": "markdown",
   "id": "1f1b674e",
   "metadata": {},
   "source": [
    "# Comma Separated Values\n",
    "\n",
    "Used to contain tabular data (rows and columns)"
   ]
  },
  {
   "cell_type": "code",
   "execution_count": 1,
   "id": "d201f82d",
   "metadata": {},
   "outputs": [
    {
     "data": {
      "text/plain": [
       "[[13.1, 13.59, 13.44],\n",
       " [13.93, 13.85, 13.47],\n",
       " [14.12, 14.41, 13.89],\n",
       " [14.42, 13.55, 13.43]]"
      ]
     },
     "execution_count": 1,
     "metadata": {},
     "output_type": "execute_result"
    }
   ],
   "source": [
    "# Say we have this data\n",
    "\n",
    "track_times = [\n",
    "    [13.10, 13.59, 13.44],\n",
    "    [13.93, 13.85, 13.47],\n",
    "    [14.12, 14.41, 13.89],\n",
    "    [14.42, 13.55, 13.43]\n",
    "]\n",
    "track_times"
   ]
  },
  {
   "cell_type": "markdown",
   "id": "cc001f45",
   "metadata": {},
   "source": [
    "Say we want to store this on disk.\n",
    "\n",
    "We will first need to serialize the data.\n",
    "\n",
    "(*Serialization is converting the Python object into a structured format for storage and sharing*)\n",
    "\n",
    "Serializing helps to:\n",
    "- convert the overall list into a string\n",
    "- separating the nested lists by \"\\n\"\n",
    "- separating the elements by commas"
   ]
  },
  {
   "cell_type": "code",
   "execution_count": 2,
   "id": "ce591508",
   "metadata": {},
   "outputs": [
    {
     "name": "stdout",
     "output_type": "stream",
     "text": [
      "13.1,13.59,13.44\n",
      "13.93,13.85,13.47\n",
      "14.12,14.41,13.89\n",
      "14.42,13.55,13.43\n"
     ]
    }
   ],
   "source": [
    "# Initialize an empty string\n",
    "track_times_csv = \"\"\n",
    "\n",
    "# Loop over the list\n",
    "for index, athlete_times in enumerate(track_times):\n",
    "    # join comma with each time\n",
    "    athlete_times_string = ','.join([str(time) for time in athlete_times])\n",
    "    # append the values\n",
    "    track_times_csv += athlete_times_string\n",
    "    # append a new line unless on the last row\n",
    "    if index < (len(track_times) -1):\n",
    "        track_times_csv += \"\\n\"\n",
    "\n",
    "print(track_times_csv)"
   ]
  },
  {
   "cell_type": "code",
   "execution_count": 4,
   "id": "29a17ffa",
   "metadata": {},
   "outputs": [],
   "source": [
    "# Write it to a file and save to disk\n",
    "with open (r\"C:\\Users\\nrmmw\\Documents\\Flatiron\\dsc-csv\\track_times_csv\", \"w\") as f:\n",
    "    f.write(track_times_csv)"
   ]
  },
  {
   "cell_type": "code",
   "execution_count": 6,
   "id": "85f0969b",
   "metadata": {},
   "outputs": [
    {
     "name": "stdout",
     "output_type": "stream",
     "text": [
      "13.1,13.59,13.44\n",
      "13.93,13.85,13.47\n",
      "14.12,14.41,13.89\n",
      "14.42,13.55,13.43\n"
     ]
    }
   ],
   "source": [
    "# Assume that later on we open the file\n",
    "# We have to deserialize the file back into a list of lists\n",
    "\n",
    "with open(r\"C:\\Users\\nrmmw\\Documents\\Flatiron\\dsc-csv\\track_times_csv\") as f:\n",
    "    track_times_csv = f.read()\n",
    "print(track_times_csv)"
   ]
  },
  {
   "cell_type": "markdown",
   "id": "65267475",
   "metadata": {},
   "source": [
    "### CSV Module\n",
    "\n",
    "Ignore all that shit above because we have a simpler way using the **csv module**"
   ]
  },
  {
   "cell_type": "code",
   "execution_count": 23,
   "id": "07f8fb75",
   "metadata": {},
   "outputs": [],
   "source": [
    "# Importing the module\n",
    "import csv"
   ]
  },
  {
   "cell_type": "markdown",
   "id": "9ea34088",
   "metadata": {},
   "source": [
    "*csv.reader* reads the content of the csv file"
   ]
  },
  {
   "cell_type": "code",
   "execution_count": 24,
   "id": "a854d92c",
   "metadata": {},
   "outputs": [
    {
     "data": {
      "text/plain": [
       "[[13.1, 13.59, 13.44],\n",
       " [13.93, 13.85, 13.47],\n",
       " [14.12, 14.41, 13.89],\n",
       " [14.42, 13.55, 13.43]]"
      ]
     },
     "execution_count": 24,
     "metadata": {},
     "output_type": "execute_result"
    }
   ],
   "source": [
    "with open(r\"C:\\Users\\nrmmw\\Documents\\Flatiron\\dsc-csv\\track_times_csv\") as f:\n",
    "    reader = csv.reader(f, quoting = csv.QUOTE_NONNUMERIC)\n",
    "    # csv.QUOTE_NONNUMERIC specifies that values without\n",
    "    # explicit quotes should be treated as numbers\n",
    "    new_track_times = list(reader)\n",
    "    # Converts it into a list\n",
    "    \n",
    "new_track_times"
   ]
  },
  {
   "cell_type": "markdown",
   "id": "df81659a",
   "metadata": {},
   "source": [
    "Converying the reader into a list is important to ensure that we can use the file later even after the file is closed\n",
    "\n",
    "*csv.reader* is useful for CSVs without column headings\n",
    "\n",
    "*csv.writer* can take a list of lists and write it to a csv file."
   ]
  },
  {
   "cell_type": "markdown",
   "id": "e3d86f6e",
   "metadata": {},
   "source": [
    "*csv.DictReader* is more used for csv files with column headings"
   ]
  },
  {
   "cell_type": "code",
   "execution_count": 38,
   "id": "f43eee39",
   "metadata": {},
   "outputs": [
    {
     "name": "stdout",
     "output_type": "stream",
     "text": [
      "['Gender', 'Event', 'Location', 'Year', 'Medal', 'Name', 'Nationality', 'Result']\n",
      "['M', '10000M Men', 'Rio', '2016', 'G', 'Mohamed FARAH', 'GBR', '25:05.17']\n",
      "['M', '10000M Men', 'Rio', '2016', 'S', 'Paul Kipngetich TANUI', 'KEN', '27:05.64']\n",
      "['M', '10000M Men', 'Rio', '2016', 'B', 'Tamirat TOLA', 'ETH', '27:06.26']\n",
      "['M', '10000M Men', 'Beijing', '2008', 'G', 'Kenenisa BEKELE', 'ETH', '27:01.17']\n",
      "['M', '10000M Men', 'Beijing', '2008', 'S', 'Sileshi SIHINE', 'ETH', '27:02.77']\n"
     ]
    }
   ],
   "source": [
    "# For a file with headers, csv.reader will print the headings as a row too\n",
    "with open(r\"C:\\Users\\nrmmw\\Documents\\Flatiron\\dsc-csv\\olympic_medals.csv\", encoding='utf-8') as f:\n",
    "    reader = csv.reader(f)\n",
    "    for _ in range(6):\n",
    "        print(next(reader))"
   ]
  },
  {
   "cell_type": "markdown",
   "id": "5c54cb7c",
   "metadata": {},
   "source": [
    "**NOTE:**\n",
    "\n",
    "csv.reader outputs the csv file as a list of lists while csv.DictReader outputs the csv file as a list of dictionaries"
   ]
  },
  {
   "cell_type": "code",
   "execution_count": 40,
   "id": "31c5eee3",
   "metadata": {},
   "outputs": [
    {
     "name": "stdout",
     "output_type": "stream",
     "text": [
      "2394\n"
     ]
    },
    {
     "data": {
      "text/plain": [
       "[{'Gender': 'M',\n",
       "  'Event': '10000M Men',\n",
       "  'Location': 'Rio',\n",
       "  'Year': '2016',\n",
       "  'Medal': 'G',\n",
       "  'Name': 'Mohamed FARAH',\n",
       "  'Nationality': 'GBR',\n",
       "  'Result': '25:05.17'},\n",
       " {'Gender': 'M',\n",
       "  'Event': '10000M Men',\n",
       "  'Location': 'Rio',\n",
       "  'Year': '2016',\n",
       "  'Medal': 'S',\n",
       "  'Name': 'Paul Kipngetich TANUI',\n",
       "  'Nationality': 'KEN',\n",
       "  'Result': '27:05.64'},\n",
       " {'Gender': 'M',\n",
       "  'Event': '10000M Men',\n",
       "  'Location': 'Rio',\n",
       "  'Year': '2016',\n",
       "  'Medal': 'B',\n",
       "  'Name': 'Tamirat TOLA',\n",
       "  'Nationality': 'ETH',\n",
       "  'Result': '27:06.26'},\n",
       " {'Gender': 'M',\n",
       "  'Event': '10000M Men',\n",
       "  'Location': 'Beijing',\n",
       "  'Year': '2008',\n",
       "  'Medal': 'G',\n",
       "  'Name': 'Kenenisa BEKELE',\n",
       "  'Nationality': 'ETH',\n",
       "  'Result': '27:01.17'},\n",
       " {'Gender': 'M',\n",
       "  'Event': '10000M Men',\n",
       "  'Location': 'Beijing',\n",
       "  'Year': '2008',\n",
       "  'Medal': 'S',\n",
       "  'Name': 'Sileshi SIHINE',\n",
       "  'Nationality': 'ETH',\n",
       "  'Result': '27:02.77'}]"
      ]
     },
     "execution_count": 40,
     "metadata": {},
     "output_type": "execute_result"
    }
   ],
   "source": [
    "with open(r\"C:\\Users\\nrmmw\\Documents\\Flatiron\\dsc-csv\\olympic_medals.csv\", encoding='utf-8') as f:\n",
    "    reader = csv.DictReader(f)\n",
    "    olympics_data = list(reader)\n",
    "\n",
    "print(len(olympics_data))\n",
    "olympics_data[:5]"
   ]
  },
  {
   "cell_type": "markdown",
   "id": "40c49345",
   "metadata": {},
   "source": [
    "Now we can analyse the shit out of this.\n",
    "\n",
    "To get only gold medals:"
   ]
  },
  {
   "cell_type": "code",
   "execution_count": 43,
   "id": "5aa631b8",
   "metadata": {},
   "outputs": [
    {
     "name": "stdout",
     "output_type": "stream",
     "text": [
      "Out of a total of 2394 medals, 799 were gold medals\n"
     ]
    }
   ],
   "source": [
    "gold_medals = []\n",
    "for record in olympics_data:\n",
    "    if record[\"Medal\"] == 'G':\n",
    "        gold_medals.append(record)\n",
    "\n",
    "print(f\"Out of a total of {len(olympics_data)} medals, {len(gold_medals)} were gold medals\")"
   ]
  },
  {
   "cell_type": "markdown",
   "id": "55847ff1",
   "metadata": {},
   "source": [
    "How many USA gold medallist were in 2016?\n",
    "Print the event, and the name of the medallist"
   ]
  },
  {
   "cell_type": "code",
   "execution_count": 96,
   "id": "af36f1ac",
   "metadata": {},
   "outputs": [
    {
     "name": "stdout",
     "output_type": "stream",
     "text": [
      "<class 'dict'>\n"
     ]
    },
    {
     "data": {
      "text/plain": [
       "[{'Event': '1500M Men', 'Name': 'Matthew CENTROWITZ'},\n",
       " {'Event': '400M Hurdles Men', 'Name': 'Kerron CLEMENT'},\n",
       " {'Event': '4X400M Relay Men', 'Name': 'null'},\n",
       " {'Event': 'Decathlon Men', 'Name': 'Ashton EATON'},\n",
       " {'Event': 'Long Jump Men', 'Name': 'Jeff HENDERSON'},\n",
       " {'Event': 'Shot Put Men', 'Name': 'Ryan CROUSER'},\n",
       " {'Event': 'Triple Jump Men', 'Name': 'Christian TAYLOR'},\n",
       " {'Event': '100M Hurdles Women', 'Name': 'Brianna ROLLINS'},\n",
       " {'Event': '400M Hurdles Women', 'Name': 'Dalilah MUHAMMAD'},\n",
       " {'Event': '4X100M Relay Women', 'Name': 'null'},\n",
       " {'Event': '4X400M Relay Women', 'Name': 'null'},\n",
       " {'Event': 'Long Jump Women', 'Name': 'Tianna BARTOLETTA'},\n",
       " {'Event': 'Shot Put Women', 'Name': 'Michelle CARTER'}]"
      ]
     },
     "execution_count": 96,
     "metadata": {},
     "output_type": "execute_result"
    }
   ],
   "source": [
    "usa_2016_gold_medals = []\n",
    "\n",
    "for record in olympics_data:\n",
    "    if record[\"Year\"] == \"2016\" and record[\"Medal\"] == \"G\" and record[\"Nationality\"] == \"USA\":\n",
    "        usa_2016_gold_medals.append({\"Event\": record[\"Event\"], \"Name\": record[\"Name\"]})\n",
    "\n",
    "print(type(usa_2016_gold_medals[0]))\n",
    "usa_2016_gold_medals"
   ]
  },
  {
   "cell_type": "markdown",
   "id": "91d59b6e",
   "metadata": {},
   "source": [
    "We can then write the result above into a csv file using csv.DictWriter. \n",
    "For Windows we will have to write \"dialect = 'unix'\" when using csv.DictWriter to avoid unnecessary blank lines being saved to the file"
   ]
  },
  {
   "cell_type": "code",
   "execution_count": 95,
   "id": "b992d7e5",
   "metadata": {},
   "outputs": [],
   "source": [
    "with open(r\"C:\\Users\\nrmmw\\Documents\\Flatiron\\dsc-csv\\usa_2016_gold_medals.csv\", encoding='utf-8', mode = 'w') as f:\n",
    "    writer = csv.DictWriter(f, fieldnames = [\"Event\", \"Name\"], dialect = \"unix\")\n",
    "    writer.writeheader()\n",
    "    for record in usa_2016_gold_medals:\n",
    "        writer.writerow(record)"
   ]
  },
  {
   "cell_type": "code",
   "execution_count": null,
   "id": "31cac0fb",
   "metadata": {},
   "outputs": [],
   "source": []
  }
 ],
 "metadata": {
  "kernelspec": {
   "display_name": "Python (learn-env)",
   "language": "python",
   "name": "learn-env"
  },
  "language_info": {
   "codemirror_mode": {
    "name": "ipython",
    "version": 3
   },
   "file_extension": ".py",
   "mimetype": "text/x-python",
   "name": "python",
   "nbconvert_exporter": "python",
   "pygments_lexer": "ipython3",
   "version": "3.8.5"
  }
 },
 "nbformat": 4,
 "nbformat_minor": 5
}
