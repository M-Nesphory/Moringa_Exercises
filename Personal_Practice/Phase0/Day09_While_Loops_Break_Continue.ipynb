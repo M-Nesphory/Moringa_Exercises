{
 "cells": [
  {
   "cell_type": "markdown",
   "metadata": {},
   "source": [
    "**While Loops**\n",
    "\n",
    "While loops can perform the same action over and over untril a condition is no longer True\n",
    "\n",
    "**Break** and **continue** control the flow of loops"
   ]
  },
  {
   "cell_type": "code",
   "execution_count": 4,
   "metadata": {},
   "outputs": [
    {
     "name": "stdout",
     "output_type": "stream",
     "text": [
      "1\n",
      "2\n",
      "3\n",
      "4\n",
      "5\n",
      "Done\n"
     ]
    }
   ],
   "source": [
    "counter = 1 # increment counter\n",
    "while counter <= 5: # while condition remains true\n",
    "    # block statement\n",
    "    print(counter)\n",
    "    counter+=1\n",
    "print('Done')"
   ]
  },
  {
   "cell_type": "markdown",
   "metadata": {},
   "source": [
    "A while loop must always have a condition that will stop the loop. It will otherwise become infinite. This can crash your browser/program if not taken care of."
   ]
  },
  {
   "cell_type": "code",
   "execution_count": 5,
   "metadata": {},
   "outputs": [
    {
     "name": "stdout",
     "output_type": "stream",
     "text": [
      "----[sips water]----\n",
      "ah, that was refreshing\n",
      "hydration is now at 10\n",
      "\n",
      "----[sips water]----\n",
      "ah, that was refreshing\n",
      "hydration is now at 20\n",
      "\n",
      "----[sips water]----\n",
      "ah, that was refreshing\n",
      "hydration is now at 30\n",
      "\n",
      "----[sips water]----\n",
      "ah, that was refreshing\n",
      "hydration is now at 40\n",
      "\n",
      "----[sips water]----\n",
      "ah, that was refreshing\n",
      "hydration is now at 50\n",
      "\n",
      "----[sips water]----\n",
      "ah, that was refreshing\n",
      "hydration is now at 60\n",
      "\n",
      "----[sips water]----\n",
      "ah, that was refreshing\n",
      "hydration is now at 70\n",
      "\n",
      "----[sips water]----\n",
      "ah, that was refreshing\n",
      "hydration is now at 80\n",
      "\n",
      "----[sips water]----\n",
      "ah, that was refreshing\n",
      "hydration is now at 90\n",
      "\n",
      "----[sips water]----\n",
      "ah, that was refreshing\n",
      "hydration is now at 100\n",
      "\n"
     ]
    }
   ],
   "source": [
    "hydration = 0\n",
    "water = 1\n",
    "while hydration < 100 and water > 0:\n",
    "    print('----[sips water]----')\n",
    "    water -= .1\n",
    "    print('ah, that was refreshing')\n",
    "    hydration +=10\n",
    "    print(f'hydration is now at {hydration}\\n')"
   ]
  },
  {
   "cell_type": "markdown",
   "metadata": {},
   "source": [
    "A **break** statement is used to stop the loop altogether and whatever occurs after it is not executed.\n",
    "\n",
    "A **continue** statement is used o skip the operation on an element and moves on to the next one. Whatever occurs after it is not executed."
   ]
  },
  {
   "cell_type": "markdown",
   "metadata": {},
   "source": [
    "**Quiz**"
   ]
  },
  {
   "cell_type": "markdown",
   "metadata": {},
   "source": [
    "Imagine a person named Agnes is finally ready to achieve her dream of becoming a competitive eater! Because the competition is so fierce, she knows she'll need to do lots of training to become number one.\n",
    "\n",
    "Her first regiment of training consists of eating pizza. Below is a for loop version of her training process. Using your knowledge of while loops, translate the pizza eating code below from a for loop to a while loop."
   ]
  },
  {
   "cell_type": "code",
   "execution_count": 9,
   "metadata": {},
   "outputs": [
    {
     "name": "stdout",
     "output_type": "stream",
     "text": [
      "Another slice eaten!\n",
      "Now eaten 1 slices!\n",
      "Another slice eaten!\n",
      "Now eaten 2 slices!\n",
      "Another slice eaten!\n",
      "Now eaten 3 slices!\n",
      "Another slice eaten!\n",
      "Now eaten 4 slices!\n",
      "Another slice eaten!\n",
      "Now eaten 5 slices!\n",
      "Another slice eaten!\n",
      "Now eaten 6 slices!\n"
     ]
    }
   ],
   "source": [
    "slices_of_pie = 6\n",
    "slices_eaten = 0\n",
    "\n",
    "for slice in range(slices_of_pie):\n",
    "    print('Another slice eaten!')\n",
    "    slices_eaten += 1\n",
    "    print('Now eaten {} slices!'.format(slices_eaten))"
   ]
  },
  {
   "cell_type": "code",
   "execution_count": 10,
   "metadata": {},
   "outputs": [
    {
     "name": "stdout",
     "output_type": "stream",
     "text": [
      "Another slice eaten!\n",
      "Now eaten 1 slices!\n",
      "Another slice eaten!\n",
      "Now eaten 2 slices!\n",
      "Another slice eaten!\n",
      "Now eaten 3 slices!\n",
      "Another slice eaten!\n",
      "Now eaten 4 slices!\n",
      "Another slice eaten!\n",
      "Now eaten 5 slices!\n",
      "Another slice eaten!\n",
      "Now eaten 6 slices!\n"
     ]
    }
   ],
   "source": [
    "slices_of_pie = 6\n",
    "slices_eaten = 0\n",
    "\n",
    "while slices_eaten < slices_of_pie:\n",
    "    print('Another slice eaten!')\n",
    "    slices_eaten += 1\n",
    "    print(f\"Now eaten {slices_eaten} slices!\")"
   ]
  },
  {
   "cell_type": "markdown",
   "metadata": {},
   "source": [
    "After a long night of training with pizza, Agnes sleeps like a rock. When she wakes up in the morning, she realizes that her journey is not over. It has only just begun! In the next cell, continue her training; this time she'll be eating pancakes. None of the pancakes are prepared yet, and she wants to determine how much time she'll have left over after making all the pancakes. Here are the important details:\n",
    "\n",
    "- Agnes has 1468 seconds allotted for breakfast today\n",
    "- Agnes will be making herself 5 pancakes\n",
    "- Each pancake takes 27 seconds to cook on each side\n",
    "- It takes an average of 5 seconds to either flip a pancake, add it or remove it from the pan\n",
    "- There is only room for one pancake at a time on the frying pan\n",
    "- Remember there are two sides to every pancake!\n",
    "\n",
    "After Agnes cooks the 5 pancakes, how much time will she have left over to eat them? Use a while loop to find out below."
   ]
  },
  {
   "cell_type": "code",
   "execution_count": 3,
   "metadata": {},
   "outputs": [
    {
     "name": "stdout",
     "output_type": "stream",
     "text": [
      "Pancakes done: 1\n",
      "Time left: 1399 seconds\n",
      "\n",
      "Pancakes done: 2\n",
      "Time left: 1330 seconds\n",
      "\n",
      "Pancakes done: 3\n",
      "Time left: 1261 seconds\n",
      "\n",
      "Pancakes done: 4\n",
      "Time left: 1192 seconds\n",
      "\n",
      "Pancakes done: 5\n",
      "Time left: 1123 seconds\n",
      "\n",
      "Agnes has 1123 seconds left to eat breakfast\n"
     ]
    }
   ],
   "source": [
    "time_for_breakfast = 1468\n",
    "num_cooked_pancakes = 0\n",
    "\n",
    "while num_cooked_pancakes < 5:\n",
    "    cooking_time = (27 * 2) + 15\n",
    "    num_cooked_pancakes += 1\n",
    "    print(f\"Pancakes done: {num_cooked_pancakes}\")\n",
    "    time_for_breakfast -= cooking_time\n",
    "    print(f\"Time left: {time_for_breakfast} seconds\\n\")\n",
    "    \n",
    "print(f\"Agnes has {time_for_breakfast} seconds left to eat breakfast\")"
   ]
  },
  {
   "cell_type": "markdown",
   "metadata": {},
   "source": [
    "Fast forward 5 years, and Agnes has become an international competitive eating superstar. Using her starpower, she decides to open up a restaurant chain. As part of a promotional deal, at a grand opening, she tells her fans that if they are part of the first 30 people to the restaurant, there is a 50% chance that they'll receive free food. Agnes executes this by giving each of the first 30 people a number ranging from 0-29. All people who have an even number will receive free food, and all those with odd numbers will sadly remain hungry :(. Use a loop to create two lists below of:\n",
    "\n",
    "- hungry_patrons\n",
    "- fed_patrons\n",
    "\n",
    "All people will start out in the list of hungry_patrons, and only the lucky ones will move to fed_patrons."
   ]
  },
  {
   "cell_type": "code",
   "execution_count": 50,
   "metadata": {},
   "outputs": [
    {
     "name": "stdout",
     "output_type": "stream",
     "text": [
      "Fed patrons: [0, 2, 4, 6, 8, 10, 12, 14, 16, 18, 20, 22, 24, 26, 28]\n",
      "Hungry patrons: [1, 3, 5, 7, 9, 11, 13, 15, 17, 19, 21, 23, 25, 27, 29]\n"
     ]
    }
   ],
   "source": [
    "line_of_hungry_patrons = list(range(0,30))\n",
    "fed_patrons = []\n",
    "hungry_patrons = []\n",
    "\n",
    "for patron in line_of_hungry_patrons:\n",
    "    if patron%2 == 0:\n",
    "        fed_patrons.append(patron)\n",
    "        # print(\"You will eat for free\")\n",
    "    else:\n",
    "        hungry_patrons.append(patron)\n",
    "        # print(\"Unlucky\")\n",
    "print(f\"Fed patrons: {fed_patrons}\")\n",
    "print(f\"Hungry patrons: {hungry_patrons}\")"
   ]
  },
  {
   "cell_type": "markdown",
   "metadata": {},
   "source": [
    "Agnes decides that she wants to start creating targeted advertisements for people. Here is a list of customer objects with information about their name, age, job, pet, and pet name. You'll use loops to find people that meet certain requirements for Agnes' targeted marketing. Write for loops with conditional statements in conjunction with break and continue to get the desired output."
   ]
  },
  {
   "cell_type": "code",
   "execution_count": 51,
   "metadata": {},
   "outputs": [],
   "source": [
    "people = [\n",
    "    {'name': \"Daniel\", 'age': 29, 'job': \"Engineer\", 'pet': \"Cat\", 'pet_name': \"Gato\"},\n",
    "    {'name': \"Katie\", 'age': 30, 'job': \"Teacher\", 'pet': \"Dog\", 'pet_name': \"Frank\"},\n",
    "    {'name': \"Owen\", 'age': 26, 'job': \"Sales person\", 'pet': \"Cat\", 'pet_name': \"Cosmo\"},\n",
    "    {'name': \"Josh\", 'age': 22, 'job': \"Student\", 'pet': \"Cat\", 'pet_name': \"Chat\"},\n",
    "    {'name': \"Estelle\", 'age': 35, 'job': \"French Diplomat\", 'pet': \"Dog\", 'pet_name': \"Gabby\"},\n",
    "    {'name': \"Gustav\", 'age': 24, 'job': \"Brewer\", 'pet': \"Dog\", 'pet_name': \"Helen\"}\n",
    "]"
   ]
  },
  {
   "cell_type": "markdown",
   "metadata": {},
   "source": [
    "Use a for loop to find the first person in the list of people that has a dog as their pet. The iteration count shouldn't exceed 2"
   ]
  },
  {
   "cell_type": "code",
   "execution_count": 90,
   "metadata": {},
   "outputs": [
    {
     "name": "stdout",
     "output_type": "stream",
     "text": [
      "Katie has a dog! Had to check 1 of records to find a dog owner.\n",
      "Estelle has a dog! Had to check 4 of records to find a dog owner.\n"
     ]
    },
    {
     "data": {
      "text/plain": [
       "[{'name': 'Katie',\n",
       "  'age': 30,\n",
       "  'job': 'Teacher',\n",
       "  'pet': 'Dog',\n",
       "  'pet_name': 'Frank'},\n",
       " {'name': 'Estelle',\n",
       "  'age': 35,\n",
       "  'job': 'French Diplomat',\n",
       "  'pet': 'Dog',\n",
       "  'pet_name': 'Gabby'}]"
      ]
     },
     "execution_count": 90,
     "metadata": {},
     "output_type": "execute_result"
    }
   ],
   "source": [
    "first_dog_person = []\n",
    "iteration_count = 0\n",
    "for person in people:\n",
    "    if person['pet'] == \"Dog\":\n",
    "        first_dog_person.append(person)\n",
    "        print(f\"{person['name']} has a dog! Had to check {iteration_count} of records to find a dog owner.\")\n",
    "    if len(first_dog_person) >= 2:\n",
    "        # print(\"We have had enough\")\n",
    "        break\n",
    "first_dog_person"
   ]
  },
  {
   "cell_type": "markdown",
   "metadata": {},
   "source": [
    "Now, use a for loop to create a list of all the cat owners who are under the age of 28."
   ]
  },
  {
   "cell_type": "code",
   "execution_count": 79,
   "metadata": {},
   "outputs": [
    {
     "data": {
      "text/plain": [
       "[{'name': 'Owen',\n",
       "  'age': 26,\n",
       "  'job': 'Sales person',\n",
       "  'pet': 'Cat',\n",
       "  'pet_name': 'Cosmo'},\n",
       " {'name': 'Josh',\n",
       "  'age': 22,\n",
       "  'job': 'Student',\n",
       "  'pet': 'Cat',\n",
       "  'pet_name': 'Chat'}]"
      ]
     },
     "execution_count": 79,
     "metadata": {},
     "output_type": "execute_result"
    }
   ],
   "source": [
    "cat_owners = []\n",
    "for person in people:\n",
    "    if person['pet'] == 'Cat' and person['age'] < 28:\n",
    "        cat_owners.append(person)\n",
    "cat_owners"
   ]
  },
  {
   "cell_type": "markdown",
   "metadata": {},
   "source": [
    "Use a for loop to find the first person who is above 29 years old. Use a print statement to state their name and how old they are."
   ]
  },
  {
   "cell_type": "code",
   "execution_count": 85,
   "metadata": {},
   "outputs": [
    {
     "data": {
      "text/plain": [
       "[{'name': 'Katie',\n",
       "  'age': 30,\n",
       "  'job': 'Teacher',\n",
       "  'pet': 'Dog',\n",
       "  'pet_name': 'Frank'}]"
      ]
     },
     "execution_count": 85,
     "metadata": {},
     "output_type": "execute_result"
    }
   ],
   "source": [
    "thirty_something_yr_old = []\n",
    "for person in people:\n",
    "    if person['age'] >29:\n",
    "        thirty_something_yr_old.append(person)\n",
    "    elif len(thirty_something_yr_old) >= 1:\n",
    "        break\n",
    "thirty_something_yr_old"
   ]
  },
  {
   "cell_type": "markdown",
   "metadata": {},
   "source": [
    "Use a for loop to create a list of people's names and another list of pet names for all the dog owners."
   ]
  },
  {
   "cell_type": "code",
   "execution_count": 88,
   "metadata": {},
   "outputs": [
    {
     "name": "stdout",
     "output_type": "stream",
     "text": [
      "['Katie', 'Estelle', 'Gustav']\n",
      "['Frank', 'Gabby', 'Helen']\n"
     ]
    }
   ],
   "source": [
    "dog_owner_names = []\n",
    "dog_names = []\n",
    "for person in people:\n",
    "    if person['pet'] == 'Dog':\n",
    "        dog_owner_names.append(person['name'])\n",
    "        dog_names.append(person['pet_name'])\n",
    "print(dog_owner_names)\n",
    "print(dog_names)"
   ]
  },
  {
   "cell_type": "markdown",
   "metadata": {},
   "source": [
    "Use a for loop to create a list of odd numbers from the list of numbers from 0 to 100. Each time there is an odd number, add 10 to it and append it to list_of_odd_numbers_plus_ten. Stop adding numbers to the list when there are 35 numbers in it. Once you have reached 35 numbers, return the sum of the new list of numbers."
   ]
  },
  {
   "cell_type": "code",
   "execution_count": 105,
   "metadata": {},
   "outputs": [
    {
     "name": "stdout",
     "output_type": "stream",
     "text": [
      "[11, 13, 15, 17, 19, 21, 23, 25, 27, 29, 31, 33, 35, 37, 39, 41, 43, 45, 47, 49, 51, 53, 55, 57, 59, 61, 63, 65, 67, 69, 71, 73, 75, 77, 79]\n",
      "Length of the list: 35\n",
      "Total = 1575\n"
     ]
    }
   ],
   "source": [
    "list_of_numbers = list(range(0, 100))\n",
    "list_of_odd_numbers_plus_ten = []\n",
    "sum = 0\n",
    "\n",
    "for number in list_of_numbers:\n",
    "    if number%2 != 0:\n",
    "        number_plus_10 = number + 10\n",
    "        list_of_odd_numbers_plus_ten.append(number_plus_10)\n",
    "        sum += number_plus_10\n",
    "    elif len(list_of_odd_numbers_plus_ten) >= 35:\n",
    "        break\n",
    "print(list_of_odd_numbers_plus_ten)\n",
    "# print(\"Length of the list: \"+ str(len(list_of_odd_numbers_plus_ten)))\n",
    "print(f\"Total = {sum}\")"
   ]
  }
 ],
 "metadata": {
  "kernelspec": {
   "display_name": "Python (learn-env)",
   "language": "python",
   "name": "learn-env"
  },
  "language_info": {
   "codemirror_mode": {
    "name": "ipython",
    "version": 3
   },
   "file_extension": ".py",
   "mimetype": "text/x-python",
   "name": "python",
   "nbconvert_exporter": "python",
   "pygments_lexer": "ipython3",
   "version": "3.8.5"
  }
 },
 "nbformat": 4,
 "nbformat_minor": 5
}
