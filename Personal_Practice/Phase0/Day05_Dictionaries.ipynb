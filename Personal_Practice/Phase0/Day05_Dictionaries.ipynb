{
 "cells": [
  {
   "cell_type": "markdown",
   "id": "85c7d20a-6a64-4e3a-91b2-f7cdacd09b0d",
   "metadata": {},
   "source": [
    "Dictionaries are another kind of collections in Python. However, unlike lists, dictionaries are collections of **key-value pairs**. They act like a traditional dictionary, where the key is a word being searched for and the value is the definition of the word being searched for.\n",
    "\n",
    "Keys and Values in a dictionary can be of any type.\n",
    "\n",
    "The syntax for a dictionary is **{'key':'value'}**\n",
    "\n",
    "Dictionaries are initialized with curly braces. Key to the left and corresponding value to the right."
   ]
  },
  {
   "cell_type": "code",
   "execution_count": 8,
   "id": "e55f4c54-fc8a-43ba-93a0-43ed4a226c2d",
   "metadata": {},
   "outputs": [
    {
     "data": {
      "text/plain": [
       "{'Show_name': 'FRIENDS', 'Genre': 'Sitcom', 'No_of_seasons': 10}"
      ]
     },
     "execution_count": 8,
     "metadata": {},
     "output_type": "execute_result"
    }
   ],
   "source": [
    "# Creating the variable friends and assigning it to a variable\n",
    "friends = {'Show_name':'FRIENDS', 'Genre':'Sitcom', 'No_of_seasons':10}\n",
    "friends\n",
    "# Accessing the whole dictionary"
   ]
  },
  {
   "cell_type": "code",
   "execution_count": 9,
   "id": "a66a4ddf-cb26-4f39-94fc-62fd75d563f7",
   "metadata": {},
   "outputs": [
    {
     "data": {
      "text/plain": [
       "'FRIENDS'"
      ]
     },
     "execution_count": 9,
     "metadata": {},
     "output_type": "execute_result"
    }
   ],
   "source": [
    "# Accessing a specific value in the dictionary\n",
    "friends[\"Show_name\"]"
   ]
  },
  {
   "cell_type": "code",
   "execution_count": 10,
   "id": "89679bbc-5114-48f3-aabe-3c7b3ee667bd",
   "metadata": {},
   "outputs": [],
   "source": [
    "# Adding another key-value to the dictionary\n",
    "friends['No_of_episodes'] = 236"
   ]
  },
  {
   "cell_type": "code",
   "execution_count": 11,
   "id": "7eb27312-2993-4aed-a632-0b9479479942",
   "metadata": {},
   "outputs": [
    {
     "name": "stdout",
     "output_type": "stream",
     "text": [
      "{'Show_name': 'FRIENDS', 'Genre': 'Sitcom', 'No_of_seasons': 10, 'No_of_episodes': 236}\n"
     ]
    }
   ],
   "source": [
    "print(friends)"
   ]
  },
  {
   "cell_type": "code",
   "execution_count": 21,
   "id": "8e5091fa-169c-4131-96f3-d8b0ea066d4a",
   "metadata": {},
   "outputs": [
    {
     "data": {
      "text/plain": [
       "{'Show_name': 'FRIENDS',\n",
       " 'Genre': 'Sitcom',\n",
       " 'No_of_seasons': 10,\n",
       " 'No_of_episodes': 236,\n",
       " 'Theme_song': \"I'll be there for you\"}"
      ]
     },
     "execution_count": 21,
     "metadata": {},
     "output_type": "execute_result"
    }
   ],
   "source": [
    "friends['Theme_song'] = 'I\\'ll be there for you'\n",
    "friends"
   ]
  },
  {
   "cell_type": "code",
   "execution_count": 22,
   "id": "de48a7e0-674e-4741-87f5-6efe527b7be2",
   "metadata": {},
   "outputs": [],
   "source": [
    "# Deleting a key-value pair in a dictionary\n",
    "del friends['Theme_song']"
   ]
  },
  {
   "cell_type": "code",
   "execution_count": 23,
   "id": "3b7bac91-ae3b-4798-91e3-54ee936ddbad",
   "metadata": {},
   "outputs": [
    {
     "name": "stdout",
     "output_type": "stream",
     "text": [
      "{'Show_name': 'FRIENDS', 'Genre': 'Sitcom', 'No_of_seasons': 10, 'No_of_episodes': 236}\n"
     ]
    }
   ],
   "source": [
    "print(friends)"
   ]
  },
  {
   "cell_type": "code",
   "execution_count": 24,
   "id": "66c5457e-80e5-4167-9d66-b638bdb34c85",
   "metadata": {},
   "outputs": [
    {
     "name": "stdout",
     "output_type": "stream",
     "text": [
      "Help on class dict in module builtins:\n",
      "\n",
      "class dict(object)\n",
      " |  dict() -> new empty dictionary\n",
      " |  dict(mapping) -> new dictionary initialized from a mapping object's\n",
      " |      (key, value) pairs\n",
      " |  dict(iterable) -> new dictionary initialized as if via:\n",
      " |      d = {}\n",
      " |      for k, v in iterable:\n",
      " |          d[k] = v\n",
      " |  dict(**kwargs) -> new dictionary initialized with the name=value pairs\n",
      " |      in the keyword argument list.  For example:  dict(one=1, two=2)\n",
      " |  \n",
      " |  Built-in subclasses:\n",
      " |      StgDict\n",
      " |  \n",
      " |  Methods defined here:\n",
      " |  \n",
      " |  __contains__(self, key, /)\n",
      " |      True if the dictionary has the specified key, else False.\n",
      " |  \n",
      " |  __delitem__(self, key, /)\n",
      " |      Delete self[key].\n",
      " |  \n",
      " |  __eq__(self, value, /)\n",
      " |      Return self==value.\n",
      " |  \n",
      " |  __ge__(self, value, /)\n",
      " |      Return self>=value.\n",
      " |  \n",
      " |  __getattribute__(self, name, /)\n",
      " |      Return getattr(self, name).\n",
      " |  \n",
      " |  __getitem__(...)\n",
      " |      x.__getitem__(y) <==> x[y]\n",
      " |  \n",
      " |  __gt__(self, value, /)\n",
      " |      Return self>value.\n",
      " |  \n",
      " |  __init__(self, /, *args, **kwargs)\n",
      " |      Initialize self.  See help(type(self)) for accurate signature.\n",
      " |  \n",
      " |  __ior__(self, value, /)\n",
      " |      Return self|=value.\n",
      " |  \n",
      " |  __iter__(self, /)\n",
      " |      Implement iter(self).\n",
      " |  \n",
      " |  __le__(self, value, /)\n",
      " |      Return self<=value.\n",
      " |  \n",
      " |  __len__(self, /)\n",
      " |      Return len(self).\n",
      " |  \n",
      " |  __lt__(self, value, /)\n",
      " |      Return self<value.\n",
      " |  \n",
      " |  __ne__(self, value, /)\n",
      " |      Return self!=value.\n",
      " |  \n",
      " |  __or__(self, value, /)\n",
      " |      Return self|value.\n",
      " |  \n",
      " |  __repr__(self, /)\n",
      " |      Return repr(self).\n",
      " |  \n",
      " |  __reversed__(self, /)\n",
      " |      Return a reverse iterator over the dict keys.\n",
      " |  \n",
      " |  __ror__(self, value, /)\n",
      " |      Return value|self.\n",
      " |  \n",
      " |  __setitem__(self, key, value, /)\n",
      " |      Set self[key] to value.\n",
      " |  \n",
      " |  __sizeof__(...)\n",
      " |      D.__sizeof__() -> size of D in memory, in bytes\n",
      " |  \n",
      " |  clear(...)\n",
      " |      D.clear() -> None.  Remove all items from D.\n",
      " |  \n",
      " |  copy(...)\n",
      " |      D.copy() -> a shallow copy of D\n",
      " |  \n",
      " |  get(self, key, default=None, /)\n",
      " |      Return the value for key if key is in the dictionary, else default.\n",
      " |  \n",
      " |  items(...)\n",
      " |      D.items() -> a set-like object providing a view on D's items\n",
      " |  \n",
      " |  keys(...)\n",
      " |      D.keys() -> a set-like object providing a view on D's keys\n",
      " |  \n",
      " |  pop(...)\n",
      " |      D.pop(k[,d]) -> v, remove specified key and return the corresponding value.\n",
      " |      \n",
      " |      If the key is not found, return the default if given; otherwise,\n",
      " |      raise a KeyError.\n",
      " |  \n",
      " |  popitem(self, /)\n",
      " |      Remove and return a (key, value) pair as a 2-tuple.\n",
      " |      \n",
      " |      Pairs are returned in LIFO (last-in, first-out) order.\n",
      " |      Raises KeyError if the dict is empty.\n",
      " |  \n",
      " |  setdefault(self, key, default=None, /)\n",
      " |      Insert key with a value of default if key is not in the dictionary.\n",
      " |      \n",
      " |      Return the value for key if key is in the dictionary, else default.\n",
      " |  \n",
      " |  update(...)\n",
      " |      D.update([E, ]**F) -> None.  Update D from dict/iterable E and F.\n",
      " |      If E is present and has a .keys() method, then does:  for k in E: D[k] = E[k]\n",
      " |      If E is present and lacks a .keys() method, then does:  for k, v in E: D[k] = v\n",
      " |      In either case, this is followed by: for k in F:  D[k] = F[k]\n",
      " |  \n",
      " |  values(...)\n",
      " |      D.values() -> an object providing a view on D's values\n",
      " |  \n",
      " |  ----------------------------------------------------------------------\n",
      " |  Class methods defined here:\n",
      " |  \n",
      " |  __class_getitem__(...) from builtins.type\n",
      " |      See PEP 585\n",
      " |  \n",
      " |  fromkeys(iterable, value=None, /) from builtins.type\n",
      " |      Create a new dictionary with keys from iterable and values set to value.\n",
      " |  \n",
      " |  ----------------------------------------------------------------------\n",
      " |  Static methods defined here:\n",
      " |  \n",
      " |  __new__(*args, **kwargs) from builtins.type\n",
      " |      Create and return a new object.  See help(type) for accurate signature.\n",
      " |  \n",
      " |  ----------------------------------------------------------------------\n",
      " |  Data and other attributes defined here:\n",
      " |  \n",
      " |  __hash__ = None\n",
      "\n"
     ]
    }
   ],
   "source": [
    "help(dict)"
   ]
  },
  {
   "cell_type": "code",
   "execution_count": 27,
   "id": "0d54bb6c-ea47-4318-9ec6-2eede40909d1",
   "metadata": {},
   "outputs": [
    {
     "data": {
      "text/plain": [
       "\u001b[1;31mSignature:\u001b[0m \u001b[0mfriends\u001b[0m\u001b[1;33m.\u001b[0m\u001b[0mpopitem\u001b[0m\u001b[1;33m(\u001b[0m\u001b[1;33m)\u001b[0m\u001b[1;33m\u001b[0m\u001b[1;33m\u001b[0m\u001b[0m\n",
       "\u001b[1;31mDocstring:\u001b[0m\n",
       "Remove and return a (key, value) pair as a 2-tuple.\n",
       "\n",
       "Pairs are returned in LIFO (last-in, first-out) order.\n",
       "Raises KeyError if the dict is empty.\n",
       "\u001b[1;31mType:\u001b[0m      builtin_function_or_method"
      ]
     },
     "metadata": {},
     "output_type": "display_data"
    }
   ],
   "source": [
    "friends.popitem?\n",
    "# To get more information about a specific method"
   ]
  },
  {
   "cell_type": "markdown",
   "id": "76629ab4-8b0f-4312-9a1c-a88ca2bb997a",
   "metadata": {},
   "source": [
    "Dictionaries can also be lists.\n",
    "\n",
    "E.g FRIENDS had two creators. We can put them as a list"
   ]
  },
  {
   "cell_type": "code",
   "execution_count": null,
   "id": "f1626346-aa83-4c90-8e5e-0b012ad9326f",
   "metadata": {},
   "outputs": [],
   "source": [
    "# The list\n",
    "creators = ['David Crane','Marta Kauffman']"
   ]
  },
  {
   "cell_type": "code",
   "execution_count": 31,
   "id": "bac8d6d4-2839-4036-b71c-f4c7f6810bbd",
   "metadata": {},
   "outputs": [],
   "source": [
    "friends['creators'] = ['David Crane', 'Marta Kauffman']"
   ]
  },
  {
   "cell_type": "code",
   "execution_count": 29,
   "id": "f2052139-92b7-4371-9b2c-aade5ebf96ef",
   "metadata": {},
   "outputs": [
    {
     "data": {
      "text/plain": [
       "{'Show_name': 'FRIENDS',\n",
       " 'Genre': 'Sitcom',\n",
       " 'No_of_seasons': 10,\n",
       " 'No_of_episodes': 236,\n",
       " 'creators': ['David Crane', 'Marta Kauffman']}"
      ]
     },
     "execution_count": 29,
     "metadata": {},
     "output_type": "execute_result"
    }
   ],
   "source": [
    "friends"
   ]
  },
  {
   "cell_type": "code",
   "execution_count": 32,
   "id": "63d7dcba-8f06-48e1-8125-6833083f6399",
   "metadata": {},
   "outputs": [
    {
     "data": {
      "text/plain": [
       "['David Crane', 'Marta Kauffman']"
      ]
     },
     "execution_count": 32,
     "metadata": {},
     "output_type": "execute_result"
    }
   ],
   "source": [
    "# Accessing the creators key\n",
    "friends['creators']"
   ]
  },
  {
   "cell_type": "code",
   "execution_count": 35,
   "id": "bc4e30fe-66da-4565-a4a1-964ec2d7acc6",
   "metadata": {},
   "outputs": [
    {
     "data": {
      "text/plain": [
       "'David Crane'"
      ]
     },
     "execution_count": 35,
     "metadata": {},
     "output_type": "execute_result"
    }
   ],
   "source": [
    "# To get only one creator we can access the list too\n",
    "friends['creators'][0]"
   ]
  },
  {
   "cell_type": "code",
   "execution_count": 36,
   "id": "e2ed1387-6921-4778-8401-9fda44f21104",
   "metadata": {},
   "outputs": [
    {
     "data": {
      "text/plain": [
       "'Marta Kauffman'"
      ]
     },
     "execution_count": 36,
     "metadata": {},
     "output_type": "execute_result"
    }
   ],
   "source": [
    "friends['creators'][1]"
   ]
  },
  {
   "cell_type": "markdown",
   "id": "181d26ae-6501-41c0-88d7-d9f5b4545d6b",
   "metadata": {},
   "source": [
    "Another Example"
   ]
  },
  {
   "cell_type": "code",
   "execution_count": 37,
   "id": "bb409b83-7d74-4232-9552-fbda3b63c5b0",
   "metadata": {},
   "outputs": [],
   "source": [
    "seinfeld = {'show_name':'Seinfeld', 'creators':['Larry David','Jerry Seinfeld'], 'genre': 'Sitcom', 'no_of seasons':9, 'no_of_episodes':180}"
   ]
  },
  {
   "cell_type": "code",
   "execution_count": 38,
   "id": "e5ac8bde-6683-4fc0-9176-396e49c705ea",
   "metadata": {},
   "outputs": [
    {
     "data": {
      "text/plain": [
       "{'show_name': 'Seinfeld',\n",
       " 'creators': ['Larry David', 'Jerry Seinfeld'],\n",
       " 'genre': 'Sitcom',\n",
       " 'no_of seasons': 9,\n",
       " 'no_of_episodes': 180}"
      ]
     },
     "execution_count": 38,
     "metadata": {},
     "output_type": "execute_result"
    }
   ],
   "source": [
    "seinfeld"
   ]
  },
  {
   "cell_type": "code",
   "execution_count": 41,
   "id": "0789e014-e6a3-4ac0-b776-91adfcbc26fb",
   "metadata": {},
   "outputs": [
    {
     "data": {
      "text/plain": [
       "[{'Show_name': 'FRIENDS',\n",
       "  'Genre': 'Sitcom',\n",
       "  'No_of_seasons': 10,\n",
       "  'No_of_episodes': 236,\n",
       "  'creators': ['David Crane', 'Marta Kauffman']},\n",
       " {'show_name': 'Seinfeld',\n",
       "  'creators': ['Larry David', 'Jerry Seinfeld'],\n",
       "  'genre': 'Sitcom',\n",
       "  'no_of seasons': 9,\n",
       "  'no_of_episodes': 180}]"
      ]
     },
     "execution_count": 41,
     "metadata": {},
     "output_type": "execute_result"
    }
   ],
   "source": [
    "# Having both TV Shows as a list\n",
    "tv_shows = [friends,seinfeld]\n",
    "tv_shows"
   ]
  },
  {
   "cell_type": "markdown",
   "id": "1633eedc-1af7-4920-a1fa-2b2d56bdc07e",
   "metadata": {},
   "source": [
    "Okay honestly, this is getting confusing even for me but these are nested data structures. These are two dictionaries in a single list containing two of the greatest shows of all time."
   ]
  },
  {
   "cell_type": "code",
   "execution_count": 42,
   "id": "d409fba2-2555-4c2f-a289-14fa87617429",
   "metadata": {},
   "outputs": [
    {
     "data": {
      "text/plain": [
       "{'show_name': 'Seinfeld',\n",
       " 'creators': ['Larry David', 'Jerry Seinfeld'],\n",
       " 'genre': 'Sitcom',\n",
       " 'no_of seasons': 9,\n",
       " 'no_of_episodes': 180}"
      ]
     },
     "execution_count": 42,
     "metadata": {},
     "output_type": "execute_result"
    }
   ],
   "source": [
    "tv_shows[1]\n",
    "# This accesses the second dictionary called Seinfeld \n",
    "# Remember that it is the second element in the list"
   ]
  },
  {
   "cell_type": "code",
   "execution_count": 43,
   "id": "1116ed11-6753-4e66-b77a-6f759f61815b",
   "metadata": {},
   "outputs": [
    {
     "data": {
      "text/plain": [
       "['Larry David', 'Jerry Seinfeld']"
      ]
     },
     "execution_count": 43,
     "metadata": {},
     "output_type": "execute_result"
    }
   ],
   "source": [
    "tv_shows[1]['creators']\n",
    "# This goes further and accesses the creators key in the second element\n",
    "# (Now accessing the dictionary)"
   ]
  },
  {
   "cell_type": "code",
   "execution_count": 46,
   "id": "1e620ae4-0b1a-4774-b8e3-a3cccc1ad194",
   "metadata": {},
   "outputs": [
    {
     "data": {
      "text/plain": [
       "'Marta Kauffman'"
      ]
     },
     "execution_count": 46,
     "metadata": {},
     "output_type": "execute_result"
    }
   ],
   "source": [
    "# Let us get more confusing. Good Lord\n",
    "# Say you want to access the second creator of Friends. (Mixing it up)\n",
    "tv_shows[0]['creators'][1]"
   ]
  },
  {
   "cell_type": "markdown",
   "id": "cec08871-c9a3-476e-8cc9-e61176dadae0",
   "metadata": {},
   "source": [
    "Okay breaking down the problem and going step by step actually helped\n",
    "\n",
    "Dear Nes, Stop looking at the bigger picture. Sometimes just go step by step. Polepole Boss"
   ]
  },
  {
   "cell_type": "markdown",
   "id": "d049fff7-0ec0-411a-a41b-f987bda7cc90",
   "metadata": {},
   "source": [
    "**Dictionaries Lab**"
   ]
  },
  {
   "cell_type": "code",
   "execution_count": 47,
   "id": "8e407c61-2320-49b9-b241-4462e5c5913f",
   "metadata": {},
   "outputs": [],
   "source": [
    "# Creating a dictionary\n",
    "greenville = {'Area':68, 'City':'Greenville', 'Country':'USA', 'Population': 84554}"
   ]
  },
  {
   "cell_type": "code",
   "execution_count": 106,
   "id": "2796c4f8-0906-4717-a383-4e6fbcbdc2aa",
   "metadata": {},
   "outputs": [
    {
     "data": {
      "text/plain": [
       "{'Area': 68, 'City': 'Greenville', 'Country': 'USA', 'Population': 84554}"
      ]
     },
     "execution_count": 106,
     "metadata": {},
     "output_type": "execute_result"
    }
   ],
   "source": [
    "greenville\n",
    "# Printing the dictionary"
   ]
  },
  {
   "cell_type": "code",
   "execution_count": 50,
   "id": "bff1475d-dd0f-4692-af4c-570913b3812e",
   "metadata": {},
   "outputs": [
    {
     "data": {
      "text/plain": [
       "84554"
      ]
     },
     "execution_count": 50,
     "metadata": {},
     "output_type": "execute_result"
    }
   ],
   "source": [
    "greenville_population = greenville['Population']\n",
    "greenville_population"
   ]
  },
  {
   "cell_type": "code",
   "execution_count": 53,
   "id": "2cb162df-9bb0-4369-a056-140a5c65e798",
   "metadata": {},
   "outputs": [
    {
     "data": {
      "text/plain": [
       "68"
      ]
     },
     "execution_count": 53,
     "metadata": {},
     "output_type": "execute_result"
    }
   ],
   "source": [
    "greenville_area = greenville['Area']"
   ]
  },
  {
   "cell_type": "code",
   "execution_count": 68,
   "id": "bd3fcb24-aad9-4412-8a80-b7aaf184d802",
   "metadata": {},
   "outputs": [
    {
     "data": {
      "text/plain": [
       "dict_keys(['Area', 'City', 'Country', 'Population'])"
      ]
     },
     "execution_count": 68,
     "metadata": {},
     "output_type": "execute_result"
    }
   ],
   "source": [
    "city_keys = greenville.keys()\n",
    "city_keys\n",
    "# To get all the keys in the dictionary"
   ]
  },
  {
   "cell_type": "code",
   "execution_count": 67,
   "id": "2484921a-a0d1-41d2-9148-70a59ad07ff0",
   "metadata": {},
   "outputs": [
    {
     "data": {
      "text/plain": [
       "dict_values([68, 'Greenville', 'USA', 84554])"
      ]
     },
     "execution_count": 67,
     "metadata": {},
     "output_type": "execute_result"
    }
   ],
   "source": [
    "city_values = greenville.values()\n",
    "city_values\n",
    "# To get all the values in the dictionary"
   ]
  },
  {
   "cell_type": "code",
   "execution_count": 72,
   "id": "2f3e3a09-8908-4856-8678-d89b759b0867",
   "metadata": {},
   "outputs": [],
   "source": [
    "import pandas as pd # Importing Pandas package\n",
    "file_name = 'cities.xlsx' # Assigning the file to variable file_name\n",
    "travel_df = pd.read_excel(file_name) # Converting the file into a Panda Dataframe called travel_df\n",
    "cities= travel_df.to_dict('records') # Converting the dataframe into a dictionary"
   ]
  },
  {
   "cell_type": "code",
   "execution_count": 73,
   "id": "b63fd793-7c8b-4a4b-9d9c-2b77edb27757",
   "metadata": {},
   "outputs": [
    {
     "data": {
      "text/plain": [
       "[{'City': 'Solta', 'Country': 'Croatia', 'Population': 1700, 'Area': 59},\n",
       " {'City': 'Greenville', 'Country': 'USA', 'Population': 84554, 'Area': 68},\n",
       " {'City': 'Buenos Aires',\n",
       "  'Country': 'Argentina',\n",
       "  'Population': 13591863,\n",
       "  'Area': 4758},\n",
       " {'City': 'Los Cabos',\n",
       "  'Country': 'Mexico',\n",
       "  'Population': 287651,\n",
       "  'Area': 3750},\n",
       " {'City': 'Walla Walla Valley',\n",
       "  'Country': 'USA',\n",
       "  'Population': 32237,\n",
       "  'Area': 33},\n",
       " {'City': 'Marakesh', 'Country': 'Morocco', 'Population': 928850, 'Area': 200},\n",
       " {'City': 'Albuquerque',\n",
       "  'Country': 'New Mexico',\n",
       "  'Population': 559277,\n",
       "  'Area': 491},\n",
       " {'City': 'Archipelago Sea',\n",
       "  'Country': 'Finland',\n",
       "  'Population': 60000,\n",
       "  'Area': 8300},\n",
       " {'City': 'Iguazu Falls',\n",
       "  'Country': 'Argentina',\n",
       "  'Population': 0,\n",
       "  'Area': 672},\n",
       " {'City': 'Salina Island', 'Country': 'Italy', 'Population': 4000, 'Area': 27},\n",
       " {'City': 'Toronto', 'Country': 'Canada', 'Population': 630, 'Area': 2731571},\n",
       " {'City': 'Pyeongchang',\n",
       "  'Country': 'South Korea',\n",
       "  'Population': 2581000,\n",
       "  'Area': 3194}]"
      ]
     },
     "execution_count": 73,
     "metadata": {},
     "output_type": "execute_result"
    }
   ],
   "source": [
    "cities"
   ]
  },
  {
   "cell_type": "code",
   "execution_count": 74,
   "id": "00b36bc2-4609-4ced-9ed7-1dda20435751",
   "metadata": {},
   "outputs": [
    {
     "data": {
      "text/plain": [
       "{'City': 'Salina Island', 'Country': 'Italy', 'Population': 4000, 'Area': 27}"
      ]
     },
     "execution_count": 74,
     "metadata": {},
     "output_type": "execute_result"
    }
   ],
   "source": [
    "cities[-3]"
   ]
  },
  {
   "cell_type": "code",
   "execution_count": 80,
   "id": "a9ddb1ba-a7b2-47e0-83f1-adf08b1cfa78",
   "metadata": {},
   "outputs": [
    {
     "name": "stdout",
     "output_type": "stream",
     "text": [
      "{'City': 'Salina Island', 'Country': 'Italy', 'Population': 4000, 'Area': 27}\n"
     ]
    }
   ],
   "source": [
    "salina = cities[-3]\n",
    "print(salina)\n",
    "# Accessing the 3rd last city in the list and assigning it to the variable salina"
   ]
  },
  {
   "cell_type": "code",
   "execution_count": 87,
   "id": "fb9a45a4-aa61-4dc6-8568-a9aae51e2c8a",
   "metadata": {},
   "outputs": [
    {
     "data": {
      "text/plain": [
       "287651"
      ]
     },
     "execution_count": 87,
     "metadata": {},
     "output_type": "execute_result"
    }
   ],
   "source": [
    "los_cabos_pop = cities[3]['Population']\n",
    "los_cabos_pop\n",
    "# Accessing the population of the 4th city in the list and calling it los_cabos_pop"
   ]
  },
  {
   "cell_type": "code",
   "execution_count": 92,
   "id": "37b40f4f-f857-4194-b1cf-8a6f2799d19a",
   "metadata": {},
   "outputs": [
    {
     "data": {
      "text/plain": [
       "12"
      ]
     },
     "execution_count": 92,
     "metadata": {},
     "output_type": "execute_result"
    }
   ],
   "source": [
    "city_count = len(cities)\n",
    "city_count\n",
    "# Displaying the length/ Total number of cities in the list"
   ]
  },
  {
   "cell_type": "code",
   "execution_count": 94,
   "id": "ba9cc26e-c948-442d-839e-54cae8cd0c43",
   "metadata": {},
   "outputs": [],
   "source": [
    "cities[11]['City'] = 'PyeongChang'\n",
    "# Updating the city attribute in the dictionary"
   ]
  },
  {
   "cell_type": "code",
   "execution_count": 96,
   "id": "2451569c-3bd1-4b45-98df-8cd2f20dbd1a",
   "metadata": {},
   "outputs": [
    {
     "data": {
      "text/plain": [
       "{'City': 'PyeongChang',\n",
       " 'Country': 'South Korea',\n",
       " 'Population': 2581000,\n",
       " 'Area': 3194}"
      ]
     },
     "execution_count": 96,
     "metadata": {},
     "output_type": "execute_result"
    }
   ],
   "source": [
    "cities[11]\n",
    "# Confirming and Done"
   ]
  },
  {
   "cell_type": "code",
   "execution_count": 100,
   "id": "ccfbf370-61bd-4812-bead-1b1b1cda9e3e",
   "metadata": {},
   "outputs": [
    {
     "data": {
      "text/plain": [
       "['PyeongChang', 'South Korea', 2581000, 3194]"
      ]
     },
     "execution_count": 100,
     "metadata": {},
     "output_type": "execute_result"
    }
   ],
   "source": [
    "pyeongchang_values = list(cities[11].values())\n",
    "pyeongchang_values\n",
    "# Accessing the values of PyeongChang and storing them in a list variable called pyeongchang_values"
   ]
  },
  {
   "cell_type": "code",
   "execution_count": 101,
   "id": "134d9dbd-b160-4b6f-9167-2e981620e41d",
   "metadata": {},
   "outputs": [
    {
     "data": {
      "text/plain": [
       "list"
      ]
     },
     "execution_count": 101,
     "metadata": {},
     "output_type": "execute_result"
    }
   ],
   "source": [
    "type(pyeongchang_values)"
   ]
  },
  {
   "cell_type": "code",
   "execution_count": 104,
   "id": "37a8ab96-4bda-4f4f-a9e0-f01db18bfeb0",
   "metadata": {},
   "outputs": [
    {
     "data": {
      "text/plain": [
       "['City', 'Country', 'Population', 'Area']"
      ]
     },
     "execution_count": 104,
     "metadata": {},
     "output_type": "execute_result"
    }
   ],
   "source": [
    "pyeongchang_keys = list(cities[11].keys())\n",
    "pyeongchang_keys\n",
    "# Accessing the keys of PyeongChang and storing them in a list variable called pyeongchang_keys"
   ]
  },
  {
   "cell_type": "code",
   "execution_count": 105,
   "id": "590c25d5-22bc-4cff-b46d-0782f7253bf8",
   "metadata": {},
   "outputs": [
    {
     "data": {
      "text/plain": [
       "list"
      ]
     },
     "execution_count": 105,
     "metadata": {},
     "output_type": "execute_result"
    }
   ],
   "source": [
    "type(pyeongchang_keys)"
   ]
  }
 ],
 "metadata": {
  "kernelspec": {
   "display_name": "Python [conda env:base] *",
   "language": "python",
   "name": "conda-base-py"
  },
  "language_info": {
   "codemirror_mode": {
    "name": "ipython",
    "version": 3
   },
   "file_extension": ".py",
   "mimetype": "text/x-python",
   "name": "python",
   "nbconvert_exporter": "python",
   "pygments_lexer": "ipython3",
   "version": "3.11.7"
  }
 },
 "nbformat": 4,
 "nbformat_minor": 5
}
