{
 "cells": [
  {
   "cell_type": "code",
   "execution_count": 12,
   "id": "aaee21c7-685c-4499-86d9-69921df5fa7a",
   "metadata": {},
   "outputs": [],
   "source": [
    "# declaring a variable called email and assigning it to the string \"art.vandelay@vandelay.com\"\n",
    "email = \"art.vandelay@vandelay.com\""
   ]
  },
  {
   "cell_type": "code",
   "execution_count": 2,
   "id": "c882b85e-010f-4da2-8483-30dae6483337",
   "metadata": {},
   "outputs": [
    {
     "data": {
      "text/plain": [
       "'art.vandelay@vandelay.com'"
      ]
     },
     "execution_count": 2,
     "metadata": {},
     "output_type": "execute_result"
    }
   ],
   "source": [
    "email"
   ]
  },
  {
   "cell_type": "code",
   "execution_count": 6,
   "id": "db7924c4-bd69-4a1c-ad8c-909e95ee52b2",
   "metadata": {},
   "outputs": [
    {
     "data": {
      "text/plain": [
       "'vandelay.com'"
      ]
     },
     "execution_count": 6,
     "metadata": {},
     "output_type": "execute_result"
    }
   ],
   "source": [
    "website = \"vandelay.com\"\n",
    "website"
   ]
  },
  {
   "cell_type": "code",
   "execution_count": 7,
   "id": "93185fa2-72c1-41b3-8e42-07d22a00de2b",
   "metadata": {},
   "outputs": [
    {
     "ename": "NameError",
     "evalue": "name 'full_name' is not defined",
     "output_type": "error",
     "traceback": [
      "\u001b[1;31m---------------------------------------------------------------------------\u001b[0m",
      "\u001b[1;31mNameError\u001b[0m                                 Traceback (most recent call last)",
      "Cell \u001b[1;32mIn[7], line 1\u001b[0m\n\u001b[1;32m----> 1\u001b[0m full_name\n",
      "\u001b[1;31mNameError\u001b[0m: name 'full_name' is not defined"
     ]
    }
   ],
   "source": [
    "full_name"
   ]
  },
  {
   "cell_type": "code",
   "execution_count": 9,
   "id": "1bf5191d-7465-4eb8-9816-ab4182e5061d",
   "metadata": {},
   "outputs": [
    {
     "data": {
      "text/plain": [
       "'Art Vandelay'"
      ]
     },
     "execution_count": 9,
     "metadata": {},
     "output_type": "execute_result"
    }
   ],
   "source": [
    "full_name = \"Art Vandelay\"\n",
    "full_name"
   ]
  },
  {
   "cell_type": "code",
   "execution_count": 11,
   "id": "258fdcb3-1aa2-46e6-949e-46cc85b0bddc",
   "metadata": {},
   "outputs": [
    {
     "data": {
      "text/plain": [
       "'art.vandelay@vandelay.com'"
      ]
     },
     "execution_count": 11,
     "metadata": {},
     "output_type": "execute_result"
    }
   ],
   "source": [
    "email"
   ]
  },
  {
   "cell_type": "code",
   "execution_count": 15,
   "id": "a4eba587-233b-4c1e-b6e4-eb50f00a05ea",
   "metadata": {},
   "outputs": [
    {
     "data": {
      "text/plain": [
       "'Unassigned variable'"
      ]
     },
     "execution_count": 15,
     "metadata": {},
     "output_type": "execute_result"
    }
   ],
   "source": [
    "# Data without assigning to a variable\n",
    "\"Unassigned variable\""
   ]
  },
  {
   "cell_type": "code",
   "execution_count": 16,
   "id": "df0f1479-0abf-49a0-8908-c5236339f50d",
   "metadata": {},
   "outputs": [],
   "source": [
    "None"
   ]
  },
  {
   "cell_type": "code",
   "execution_count": 17,
   "id": "62db68a4-d6ed-40a5-9566-51bf12f6e933",
   "metadata": {},
   "outputs": [
    {
     "data": {
      "text/plain": [
       "NoneType"
      ]
     },
     "execution_count": 17,
     "metadata": {},
     "output_type": "execute_result"
    }
   ],
   "source": [
    "type(None)\n",
    "# None is a data type. Represents nothing"
   ]
  },
  {
   "cell_type": "code",
   "execution_count": 18,
   "id": "09f4ff3e-d245-4bc7-b402-aaa565ff675c",
   "metadata": {},
   "outputs": [],
   "source": [
    "# Variables can be assigned to None\n",
    "# Variables assigned to None output nothing\n",
    "address = None"
   ]
  },
  {
   "cell_type": "code",
   "execution_count": 22,
   "id": "710b2cd0-98de-4dbd-a094-3fded12dc324",
   "metadata": {},
   "outputs": [
    {
     "data": {
      "text/plain": [
       "'Send an email to Art Vandelay at art.vandelay@vandelay.com to say how nice it was meeting yesterday'"
      ]
     },
     "execution_count": 22,
     "metadata": {},
     "output_type": "execute_result"
    }
   ],
   "source": [
    "\"Send an email to \" +full_name+ \" at \" +email+ \" to say how nice it was meeting yesterday\"\n",
    "# Variables at play"
   ]
  },
  {
   "cell_type": "code",
   "execution_count": 23,
   "id": "b18356ee-68c6-481d-8e2a-7be0706682f4",
   "metadata": {},
   "outputs": [],
   "source": [
    "# Reassigning/Updating Variables\n",
    "full_name = \"Liz Kaplan\"\n",
    "email = \"liz@ka-plan.com\""
   ]
  },
  {
   "cell_type": "code",
   "execution_count": 24,
   "id": "b21128a1-6792-42c5-94b5-249ee5fa04cf",
   "metadata": {},
   "outputs": [
    {
     "data": {
      "text/plain": [
       "'Send an email to Liz Kaplan at liz@ka-plan.com to say how nice it was meeting yesterday'"
      ]
     },
     "execution_count": 24,
     "metadata": {},
     "output_type": "execute_result"
    }
   ],
   "source": [
    "#Rerunning previous code\n",
    "\"Send an email to \" +full_name+ \" at \" +email+ \" to say how nice it was meeting yesterday\""
   ]
  },
  {
   "cell_type": "code",
   "execution_count": null,
   "id": "816875de-8db5-4b61-895e-1e2d6735ea44",
   "metadata": {},
   "outputs": [],
   "source": []
  }
 ],
 "metadata": {
  "kernelspec": {
   "display_name": "Python 3 (ipykernel)",
   "language": "python",
   "name": "python3"
  },
  "language_info": {
   "codemirror_mode": {
    "name": "ipython",
    "version": 3
   },
   "file_extension": ".py",
   "mimetype": "text/x-python",
   "name": "python",
   "nbconvert_exporter": "python",
   "pygments_lexer": "ipython3",
   "version": "3.11.7"
  }
 },
 "nbformat": 4,
 "nbformat_minor": 5
}
