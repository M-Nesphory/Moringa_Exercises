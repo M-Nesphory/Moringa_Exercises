{
 "cells": [
  {
   "cell_type": "markdown",
   "id": "3cc285cb",
   "metadata": {},
   "source": [
    "# Data Cleaning Practice\n",
    "\n",
    "This notebook is to help us practice our data cleaning skills. The following were done to deal with null values:\n",
    "- Dropping rows,\n",
    "- Dropping columns,\n",
    "- Replacing values,\n",
    "- Filling null values,\n",
    "- Backward filling,\n",
    "- Forward filling,\n",
    "\n",
    "and finally sorting the index."
   ]
  },
  {
   "cell_type": "code",
   "execution_count": 296,
   "id": "72168efd",
   "metadata": {},
   "outputs": [],
   "source": [
    "# Importing necessary libraries\n",
    "import pandas as pd\n",
    "from matplotlib import pyplot as plt\n",
    "import seaborn as sns\n",
    "\n",
    "%matplotlib inline"
   ]
  },
  {
   "cell_type": "code",
   "execution_count": 297,
   "id": "66512699",
   "metadata": {},
   "outputs": [
    {
     "data": {
      "text/html": [
       "<div>\n",
       "<style scoped>\n",
       "    .dataframe tbody tr th:only-of-type {\n",
       "        vertical-align: middle;\n",
       "    }\n",
       "\n",
       "    .dataframe tbody tr th {\n",
       "        vertical-align: top;\n",
       "    }\n",
       "\n",
       "    .dataframe thead th {\n",
       "        text-align: right;\n",
       "    }\n",
       "</style>\n",
       "<table border=\"1\" class=\"dataframe\">\n",
       "  <thead>\n",
       "    <tr style=\"text-align: right;\">\n",
       "      <th></th>\n",
       "      <th>Transaction ID</th>\n",
       "      <th>Item</th>\n",
       "      <th>Quantity</th>\n",
       "      <th>Price Per Unit</th>\n",
       "      <th>Total Spent</th>\n",
       "      <th>Payment Method</th>\n",
       "      <th>Location</th>\n",
       "      <th>Transaction Date</th>\n",
       "    </tr>\n",
       "  </thead>\n",
       "  <tbody>\n",
       "    <tr>\n",
       "      <th>0</th>\n",
       "      <td>TXN_1961373</td>\n",
       "      <td>Coffee</td>\n",
       "      <td>2</td>\n",
       "      <td>2.0</td>\n",
       "      <td>4.0</td>\n",
       "      <td>Credit Card</td>\n",
       "      <td>Takeaway</td>\n",
       "      <td>2023-09-08</td>\n",
       "    </tr>\n",
       "    <tr>\n",
       "      <th>1</th>\n",
       "      <td>TXN_4977031</td>\n",
       "      <td>Cake</td>\n",
       "      <td>4</td>\n",
       "      <td>3.0</td>\n",
       "      <td>12.0</td>\n",
       "      <td>Cash</td>\n",
       "      <td>In-store</td>\n",
       "      <td>2023-05-16</td>\n",
       "    </tr>\n",
       "    <tr>\n",
       "      <th>2</th>\n",
       "      <td>TXN_4271903</td>\n",
       "      <td>Cookie</td>\n",
       "      <td>4</td>\n",
       "      <td>1.0</td>\n",
       "      <td>ERROR</td>\n",
       "      <td>Credit Card</td>\n",
       "      <td>In-store</td>\n",
       "      <td>2023-07-19</td>\n",
       "    </tr>\n",
       "    <tr>\n",
       "      <th>3</th>\n",
       "      <td>TXN_7034554</td>\n",
       "      <td>Salad</td>\n",
       "      <td>2</td>\n",
       "      <td>5.0</td>\n",
       "      <td>10.0</td>\n",
       "      <td>UNKNOWN</td>\n",
       "      <td>UNKNOWN</td>\n",
       "      <td>2023-04-27</td>\n",
       "    </tr>\n",
       "    <tr>\n",
       "      <th>4</th>\n",
       "      <td>TXN_3160411</td>\n",
       "      <td>Coffee</td>\n",
       "      <td>2</td>\n",
       "      <td>2.0</td>\n",
       "      <td>4.0</td>\n",
       "      <td>Digital Wallet</td>\n",
       "      <td>In-store</td>\n",
       "      <td>2023-06-11</td>\n",
       "    </tr>\n",
       "    <tr>\n",
       "      <th>...</th>\n",
       "      <td>...</td>\n",
       "      <td>...</td>\n",
       "      <td>...</td>\n",
       "      <td>...</td>\n",
       "      <td>...</td>\n",
       "      <td>...</td>\n",
       "      <td>...</td>\n",
       "      <td>...</td>\n",
       "    </tr>\n",
       "    <tr>\n",
       "      <th>9995</th>\n",
       "      <td>TXN_7672686</td>\n",
       "      <td>Coffee</td>\n",
       "      <td>2</td>\n",
       "      <td>2.0</td>\n",
       "      <td>4.0</td>\n",
       "      <td>NaN</td>\n",
       "      <td>UNKNOWN</td>\n",
       "      <td>2023-08-30</td>\n",
       "    </tr>\n",
       "    <tr>\n",
       "      <th>9996</th>\n",
       "      <td>TXN_9659401</td>\n",
       "      <td>NaN</td>\n",
       "      <td>3</td>\n",
       "      <td>NaN</td>\n",
       "      <td>3.0</td>\n",
       "      <td>Digital Wallet</td>\n",
       "      <td>NaN</td>\n",
       "      <td>2023-06-02</td>\n",
       "    </tr>\n",
       "    <tr>\n",
       "      <th>9997</th>\n",
       "      <td>TXN_5255387</td>\n",
       "      <td>Coffee</td>\n",
       "      <td>4</td>\n",
       "      <td>2.0</td>\n",
       "      <td>8.0</td>\n",
       "      <td>Digital Wallet</td>\n",
       "      <td>NaN</td>\n",
       "      <td>2023-03-02</td>\n",
       "    </tr>\n",
       "    <tr>\n",
       "      <th>9998</th>\n",
       "      <td>TXN_7695629</td>\n",
       "      <td>Cookie</td>\n",
       "      <td>3</td>\n",
       "      <td>NaN</td>\n",
       "      <td>3.0</td>\n",
       "      <td>Digital Wallet</td>\n",
       "      <td>NaN</td>\n",
       "      <td>2023-12-02</td>\n",
       "    </tr>\n",
       "    <tr>\n",
       "      <th>9999</th>\n",
       "      <td>TXN_6170729</td>\n",
       "      <td>Sandwich</td>\n",
       "      <td>3</td>\n",
       "      <td>4.0</td>\n",
       "      <td>12.0</td>\n",
       "      <td>Cash</td>\n",
       "      <td>In-store</td>\n",
       "      <td>2023-11-07</td>\n",
       "    </tr>\n",
       "  </tbody>\n",
       "</table>\n",
       "<p>10000 rows × 8 columns</p>\n",
       "</div>"
      ],
      "text/plain": [
       "     Transaction ID      Item Quantity Price Per Unit Total Spent  \\\n",
       "0       TXN_1961373    Coffee        2            2.0         4.0   \n",
       "1       TXN_4977031      Cake        4            3.0        12.0   \n",
       "2       TXN_4271903    Cookie        4            1.0       ERROR   \n",
       "3       TXN_7034554     Salad        2            5.0        10.0   \n",
       "4       TXN_3160411    Coffee        2            2.0         4.0   \n",
       "...             ...       ...      ...            ...         ...   \n",
       "9995    TXN_7672686    Coffee        2            2.0         4.0   \n",
       "9996    TXN_9659401       NaN        3            NaN         3.0   \n",
       "9997    TXN_5255387    Coffee        4            2.0         8.0   \n",
       "9998    TXN_7695629    Cookie        3            NaN         3.0   \n",
       "9999    TXN_6170729  Sandwich        3            4.0        12.0   \n",
       "\n",
       "      Payment Method  Location Transaction Date  \n",
       "0        Credit Card  Takeaway       2023-09-08  \n",
       "1               Cash  In-store       2023-05-16  \n",
       "2        Credit Card  In-store       2023-07-19  \n",
       "3            UNKNOWN   UNKNOWN       2023-04-27  \n",
       "4     Digital Wallet  In-store       2023-06-11  \n",
       "...              ...       ...              ...  \n",
       "9995             NaN   UNKNOWN       2023-08-30  \n",
       "9996  Digital Wallet       NaN       2023-06-02  \n",
       "9997  Digital Wallet       NaN       2023-03-02  \n",
       "9998  Digital Wallet       NaN       2023-12-02  \n",
       "9999            Cash  In-store       2023-11-07  \n",
       "\n",
       "[10000 rows x 8 columns]"
      ]
     },
     "execution_count": 297,
     "metadata": {},
     "output_type": "execute_result"
    }
   ],
   "source": [
    "# Importing and Previewing\n",
    "sales_df = pd.read_csv('dirty_cafe_sales.csv')\n",
    "sales_df"
   ]
  },
  {
   "cell_type": "code",
   "execution_count": 298,
   "id": "95b855b9",
   "metadata": {},
   "outputs": [
    {
     "name": "stdout",
     "output_type": "stream",
     "text": [
      "<class 'pandas.core.frame.DataFrame'>\n",
      "RangeIndex: 10000 entries, 0 to 9999\n",
      "Data columns (total 8 columns):\n",
      " #   Column            Non-Null Count  Dtype \n",
      "---  ------            --------------  ----- \n",
      " 0   Transaction ID    10000 non-null  object\n",
      " 1   Item              9667 non-null   object\n",
      " 2   Quantity          9862 non-null   object\n",
      " 3   Price Per Unit    9821 non-null   object\n",
      " 4   Total Spent       9827 non-null   object\n",
      " 5   Payment Method    7421 non-null   object\n",
      " 6   Location          6735 non-null   object\n",
      " 7   Transaction Date  9841 non-null   object\n",
      "dtypes: object(8)\n",
      "memory usage: 625.1+ KB\n"
     ]
    }
   ],
   "source": [
    "# Dataframe Info\n",
    "sales_df.info()"
   ]
  },
  {
   "cell_type": "markdown",
   "id": "5d4cea22",
   "metadata": {},
   "source": [
    "**Note:** Some columns should not be objects. Some like `Quantity` should be an integer,`Price Per Unit` and `Total Spent` should be float.\n",
    "\n",
    "The `Transaction Date` column can also be converted into a datetime format"
   ]
  },
  {
   "cell_type": "code",
   "execution_count": 299,
   "id": "00df0b13",
   "metadata": {},
   "outputs": [
    {
     "data": {
      "text/plain": [
       "Transaction ID         0\n",
       "Item                 333\n",
       "Quantity             138\n",
       "Price Per Unit       179\n",
       "Total Spent          173\n",
       "Payment Method      2579\n",
       "Location            3265\n",
       "Transaction Date     159\n",
       "dtype: int64"
      ]
     },
     "execution_count": 299,
     "metadata": {},
     "output_type": "execute_result"
    }
   ],
   "source": [
    "# Check Total Null Values\n",
    "sales_df.isnull().sum()"
   ]
  },
  {
   "cell_type": "code",
   "execution_count": 300,
   "id": "2adc9d72",
   "metadata": {},
   "outputs": [
    {
     "data": {
      "text/plain": [
       "array(['Coffee', 'Cake', 'Cookie', 'Salad', 'Smoothie', 'UNKNOWN',\n",
       "       'Sandwich', nan, 'ERROR', 'Juice', 'Tea'], dtype=object)"
      ]
     },
     "execution_count": 300,
     "metadata": {},
     "output_type": "execute_result"
    }
   ],
   "source": [
    "# Check Unique values in Item column\n",
    "sales_df['Item'].unique()"
   ]
  },
  {
   "cell_type": "code",
   "execution_count": 301,
   "id": "e32e0f36",
   "metadata": {},
   "outputs": [],
   "source": [
    "# Assigning rows to be dropped where Item is Unknown or Error\n",
    "to_drop = sales_df[(sales_df['Item'] == 'UNKNOWN') | (sales_df['Item'] == 'ERROR') | (sales_df['Item'].isna())]"
   ]
  },
  {
   "cell_type": "code",
   "execution_count": 302,
   "id": "29966c5c",
   "metadata": {},
   "outputs": [],
   "source": [
    "# Dropping the affected rows\n",
    "sales_df.drop(to_drop.index, axis = 0, inplace = True)"
   ]
  },
  {
   "cell_type": "code",
   "execution_count": 303,
   "id": "c6697b8d",
   "metadata": {},
   "outputs": [
    {
     "name": "stdout",
     "output_type": "stream",
     "text": [
      "<class 'pandas.core.frame.DataFrame'>\n",
      "Int64Index: 9031 entries, 0 to 9999\n",
      "Data columns (total 8 columns):\n",
      " #   Column            Non-Null Count  Dtype \n",
      "---  ------            --------------  ----- \n",
      " 0   Transaction ID    9031 non-null   object\n",
      " 1   Item              9031 non-null   object\n",
      " 2   Quantity          8910 non-null   object\n",
      " 3   Price Per Unit    8873 non-null   object\n",
      " 4   Total Spent       8877 non-null   object\n",
      " 5   Payment Method    6701 non-null   object\n",
      " 6   Location          6086 non-null   object\n",
      " 7   Transaction Date  8888 non-null   object\n",
      "dtypes: object(8)\n",
      "memory usage: 635.0+ KB\n"
     ]
    }
   ],
   "source": [
    "# Confirming that they have been dropped\n",
    "sales_df.info()"
   ]
  },
  {
   "cell_type": "code",
   "execution_count": 304,
   "id": "302df5d2",
   "metadata": {},
   "outputs": [
    {
     "data": {
      "text/plain": [
       "Transaction ID         0\n",
       "Item                   0\n",
       "Quantity             121\n",
       "Price Per Unit       158\n",
       "Total Spent          154\n",
       "Payment Method      2330\n",
       "Location            2945\n",
       "Transaction Date     143\n",
       "dtype: int64"
      ]
     },
     "execution_count": 304,
     "metadata": {},
     "output_type": "execute_result"
    }
   ],
   "source": [
    "# Checking null values\n",
    "sales_df.isna().sum()"
   ]
  },
  {
   "cell_type": "code",
   "execution_count": 305,
   "id": "543635cb",
   "metadata": {},
   "outputs": [
    {
     "data": {
      "text/plain": [
       "0"
      ]
     },
     "execution_count": 305,
     "metadata": {},
     "output_type": "execute_result"
    }
   ],
   "source": [
    "# Checking null values for Item column\n",
    "sales_df['Item'].isna().sum()"
   ]
  },
  {
   "cell_type": "code",
   "execution_count": 306,
   "id": "00af929b",
   "metadata": {},
   "outputs": [
    {
     "data": {
      "text/plain": [
       "array(['Coffee', 'Cake', 'Cookie', 'Salad', 'Smoothie', 'Sandwich',\n",
       "       'Juice', 'Tea'], dtype=object)"
      ]
     },
     "execution_count": 306,
     "metadata": {},
     "output_type": "execute_result"
    }
   ],
   "source": [
    "# Confirming there are no placeholder values in Item Column \n",
    "sales_df['Item'].unique()"
   ]
  },
  {
   "cell_type": "code",
   "execution_count": 307,
   "id": "e6add2c2",
   "metadata": {},
   "outputs": [],
   "source": [
    "# Identifying and removing rows with 'ERROR' and 'UNKNOWN' values in Quantity\n",
    "quantity_error = sales_df[(sales_df['Quantity'] == 'ERROR') | (sales_df['Quantity'] == 'UNKNOWN')]\n",
    "sales_df.drop(quantity_error.index, axis = 0, inplace = True)"
   ]
  },
  {
   "cell_type": "code",
   "execution_count": 308,
   "id": "a86d140c",
   "metadata": {},
   "outputs": [],
   "source": [
    "# Identifying and removing rows with 'ERROR' and 'UNKNOWN' values in Price Per Unit\n",
    "ppu_error = sales_df[(sales_df['Price Per Unit'] == 'ERROR') | (sales_df['Price Per Unit'] == 'UNKNOWN')]\n",
    "sales_df.drop(ppu_error.index, axis = 0, inplace = True)"
   ]
  },
  {
   "cell_type": "code",
   "execution_count": 309,
   "id": "953fb220",
   "metadata": {},
   "outputs": [],
   "source": [
    "# Identifying and removing rows with 'ERROR' and 'UNKNOWN' values in Total Spent\n",
    "total_error = sales_df[(sales_df['Total Spent'] == 'ERROR') | (sales_df['Total Spent'] == 'UNKNOWN')]\n",
    "sales_df.drop(total_error.index, axis = 0, inplace = True)"
   ]
  },
  {
   "cell_type": "code",
   "execution_count": 310,
   "id": "f7855ea3",
   "metadata": {},
   "outputs": [
    {
     "name": "stdout",
     "output_type": "stream",
     "text": [
      "<class 'pandas.core.frame.DataFrame'>\n",
      "Int64Index: 8139 entries, 0 to 9999\n",
      "Data columns (total 8 columns):\n",
      " #   Column            Non-Null Count  Dtype \n",
      "---  ------            --------------  ----- \n",
      " 0   Transaction ID    8139 non-null   object\n",
      " 1   Item              8139 non-null   object\n",
      " 2   Quantity          8027 non-null   object\n",
      " 3   Price Per Unit    7988 non-null   object\n",
      " 4   Total Spent       7989 non-null   object\n",
      " 5   Payment Method    6042 non-null   object\n",
      " 6   Location          5491 non-null   object\n",
      " 7   Transaction Date  8011 non-null   object\n",
      "dtypes: object(8)\n",
      "memory usage: 572.3+ KB\n"
     ]
    }
   ],
   "source": [
    "# There are still null values in Quantity, Price Per Unit and Total Spent\n",
    "sales_df.info()"
   ]
  },
  {
   "cell_type": "code",
   "execution_count": 311,
   "id": "36571f9d",
   "metadata": {},
   "outputs": [],
   "source": [
    "# Filling those null values with 0\n",
    "sales_df[['Quantity', 'Price Per Unit', 'Total Spent']] = sales_df[['Quantity', 'Price Per Unit', 'Total Spent']].fillna(0)"
   ]
  },
  {
   "cell_type": "code",
   "execution_count": 312,
   "id": "a766c200",
   "metadata": {},
   "outputs": [],
   "source": [
    "# Converting Quantity values to int\n",
    "sales_df['Quantity'] = sales_df['Quantity'].astype(int)\n",
    "# Converting Price Per Unit values to float\n",
    "sales_df['Price Per Unit'] = sales_df['Price Per Unit'].astype(float)\n",
    "# Converting Total Spent values to float\n",
    "sales_df['Total Spent'] = sales_df['Total Spent'].astype(float)"
   ]
  },
  {
   "cell_type": "code",
   "execution_count": 313,
   "id": "519ee653",
   "metadata": {},
   "outputs": [
    {
     "name": "stdout",
     "output_type": "stream",
     "text": [
      "<class 'pandas.core.frame.DataFrame'>\n",
      "Int64Index: 8139 entries, 0 to 9999\n",
      "Data columns (total 8 columns):\n",
      " #   Column            Non-Null Count  Dtype  \n",
      "---  ------            --------------  -----  \n",
      " 0   Transaction ID    8139 non-null   object \n",
      " 1   Item              8139 non-null   object \n",
      " 2   Quantity          8139 non-null   int32  \n",
      " 3   Price Per Unit    8139 non-null   float64\n",
      " 4   Total Spent       8139 non-null   float64\n",
      " 5   Payment Method    6042 non-null   object \n",
      " 6   Location          5491 non-null   object \n",
      " 7   Transaction Date  8011 non-null   object \n",
      "dtypes: float64(2), int32(1), object(5)\n",
      "memory usage: 540.5+ KB\n"
     ]
    }
   ],
   "source": [
    "# There are no null values in Quantity, Price Per Unit and Total Spent\n",
    "sales_df.info()"
   ]
  },
  {
   "cell_type": "code",
   "execution_count": 314,
   "id": "ac258035",
   "metadata": {},
   "outputs": [
    {
     "data": {
      "text/plain": [
       "Digital Wallet    1868\n",
       "Credit Card       1857\n",
       "Cash              1840\n",
       "ERROR              244\n",
       "UNKNOWN            233\n",
       "Name: Payment Method, dtype: int64"
      ]
     },
     "execution_count": 314,
     "metadata": {},
     "output_type": "execute_result"
    }
   ],
   "source": [
    "# Check the unique values in Payment Method column\n",
    "sales_df['Payment Method'].value_counts()"
   ]
  },
  {
   "cell_type": "code",
   "execution_count": 315,
   "id": "f1e29d19",
   "metadata": {},
   "outputs": [],
   "source": [
    "# Replacing ERROR with Other in Payment Method column\n",
    "sales_df['Payment Method'] = sales_df['Payment Method'].replace('ERROR', \"Other\")\n",
    "# Replacing UNKNOWN with Other in Payment Method column\n",
    "sales_df['Payment Method'] = sales_df['Payment Method'].replace('UNKNOWN', \"Other\")\n",
    "# Filling null values with Other in Payment Method column\n",
    "sales_df['Payment Method'] = sales_df['Payment Method'].fillna(\"Other\")"
   ]
  },
  {
   "cell_type": "code",
   "execution_count": 316,
   "id": "c62fc1c5",
   "metadata": {},
   "outputs": [
    {
     "data": {
      "text/plain": [
       "Other             2574\n",
       "Digital Wallet    1868\n",
       "Credit Card       1857\n",
       "Cash              1840\n",
       "Name: Payment Method, dtype: int64"
      ]
     },
     "execution_count": 316,
     "metadata": {},
     "output_type": "execute_result"
    }
   ],
   "source": [
    "# Checking for unique values again\n",
    "sales_df['Payment Method'].value_counts()"
   ]
  },
  {
   "cell_type": "code",
   "execution_count": 317,
   "id": "b1cafd98",
   "metadata": {},
   "outputs": [
    {
     "name": "stdout",
     "output_type": "stream",
     "text": [
      "<class 'pandas.core.frame.DataFrame'>\n",
      "Int64Index: 8139 entries, 0 to 9999\n",
      "Data columns (total 8 columns):\n",
      " #   Column            Non-Null Count  Dtype  \n",
      "---  ------            --------------  -----  \n",
      " 0   Transaction ID    8139 non-null   object \n",
      " 1   Item              8139 non-null   object \n",
      " 2   Quantity          8139 non-null   int32  \n",
      " 3   Price Per Unit    8139 non-null   float64\n",
      " 4   Total Spent       8139 non-null   float64\n",
      " 5   Payment Method    8139 non-null   object \n",
      " 6   Location          5491 non-null   object \n",
      " 7   Transaction Date  8011 non-null   object \n",
      "dtypes: float64(2), int32(1), object(5)\n",
      "memory usage: 540.5+ KB\n"
     ]
    }
   ],
   "source": [
    "# Payment Method has no null values\n",
    "sales_df.info()"
   ]
  },
  {
   "cell_type": "code",
   "execution_count": 318,
   "id": "4004fc6b",
   "metadata": {},
   "outputs": [
    {
     "data": {
      "text/plain": [
       "In-store    2463\n",
       "Takeaway    2451\n",
       "ERROR        300\n",
       "UNKNOWN      277\n",
       "Name: Location, dtype: int64"
      ]
     },
     "execution_count": 318,
     "metadata": {},
     "output_type": "execute_result"
    }
   ],
   "source": [
    "#  Checking unique values in Location column\n",
    "sales_df['Location'].value_counts()"
   ]
  },
  {
   "cell_type": "code",
   "execution_count": 319,
   "id": "76e2d068",
   "metadata": {},
   "outputs": [],
   "source": [
    "# Filling null values with forward fill\n",
    "sales_df['Location'] = sales_df['Location'].fillna(method = 'ffill')\n",
    "\n",
    "# Backward fill (method = \"bfill\")\n",
    "# Forward fill (method = \"ffill\")"
   ]
  },
  {
   "cell_type": "code",
   "execution_count": 320,
   "id": "e6909283",
   "metadata": {},
   "outputs": [
    {
     "name": "stdout",
     "output_type": "stream",
     "text": [
      "<class 'pandas.core.frame.DataFrame'>\n",
      "Int64Index: 8139 entries, 0 to 9999\n",
      "Data columns (total 8 columns):\n",
      " #   Column            Non-Null Count  Dtype  \n",
      "---  ------            --------------  -----  \n",
      " 0   Transaction ID    8139 non-null   object \n",
      " 1   Item              8139 non-null   object \n",
      " 2   Quantity          8139 non-null   int32  \n",
      " 3   Price Per Unit    8139 non-null   float64\n",
      " 4   Total Spent       8139 non-null   float64\n",
      " 5   Payment Method    8139 non-null   object \n",
      " 6   Location          8139 non-null   object \n",
      " 7   Transaction Date  8011 non-null   object \n",
      "dtypes: float64(2), int32(1), object(5)\n",
      "memory usage: 540.5+ KB\n"
     ]
    }
   ],
   "source": [
    "# Location has no null values\n",
    "sales_df.info()"
   ]
  },
  {
   "cell_type": "code",
   "execution_count": 321,
   "id": "22cdd055",
   "metadata": {},
   "outputs": [
    {
     "data": {
      "text/plain": [
       "In-store    3649\n",
       "Takeaway    3644\n",
       "ERROR        428\n",
       "UNKNOWN      418\n",
       "Name: Location, dtype: int64"
      ]
     },
     "execution_count": 321,
     "metadata": {},
     "output_type": "execute_result"
    }
   ],
   "source": [
    "# Checking unique values in Location\n",
    "sales_df['Location'].value_counts()"
   ]
  },
  {
   "cell_type": "code",
   "execution_count": 322,
   "id": "491a5aaf",
   "metadata": {},
   "outputs": [],
   "source": [
    "# Replacing ERROR and UNKNOWN with Unknown in the Location Column\n",
    "sales_df['Location'] = sales_df['Location'].replace('ERROR', 'Unknown')\n",
    "sales_df['Location'] = sales_df['Location'].replace('UNKNOWN', 'Unknown')"
   ]
  },
  {
   "cell_type": "code",
   "execution_count": 323,
   "id": "38edac74",
   "metadata": {},
   "outputs": [
    {
     "data": {
      "text/plain": [
       "In-store    3649\n",
       "Takeaway    3644\n",
       "Unknown      846\n",
       "Name: Location, dtype: int64"
      ]
     },
     "execution_count": 323,
     "metadata": {},
     "output_type": "execute_result"
    }
   ],
   "source": [
    "# Confirming unique values again in Location column\n",
    "sales_df['Location'].value_counts()"
   ]
  },
  {
   "cell_type": "code",
   "execution_count": 324,
   "id": "6dee7c94",
   "metadata": {},
   "outputs": [
    {
     "name": "stdout",
     "output_type": "stream",
     "text": [
      "<class 'pandas.core.frame.DataFrame'>\n",
      "Int64Index: 8139 entries, 0 to 9999\n",
      "Data columns (total 8 columns):\n",
      " #   Column            Non-Null Count  Dtype  \n",
      "---  ------            --------------  -----  \n",
      " 0   Transaction ID    8139 non-null   object \n",
      " 1   Item              8139 non-null   object \n",
      " 2   Quantity          8139 non-null   int32  \n",
      " 3   Price Per Unit    8139 non-null   float64\n",
      " 4   Total Spent       8139 non-null   float64\n",
      " 5   Payment Method    8139 non-null   object \n",
      " 6   Location          8139 non-null   object \n",
      " 7   Transaction Date  8011 non-null   object \n",
      "dtypes: float64(2), int32(1), object(5)\n",
      "memory usage: 540.5+ KB\n"
     ]
    }
   ],
   "source": [
    "# Let's now deal with the Transaction Date column\n",
    "sales_df.info()"
   ]
  },
  {
   "cell_type": "code",
   "execution_count": 325,
   "id": "dd6e0cbc",
   "metadata": {},
   "outputs": [],
   "source": [
    "# Filling the null values with backfilling\n",
    "sales_df['Transaction Date'] = sales_df['Transaction Date'].fillna(method = \"bfill\")"
   ]
  },
  {
   "cell_type": "code",
   "execution_count": 326,
   "id": "28f23537",
   "metadata": {},
   "outputs": [
    {
     "name": "stdout",
     "output_type": "stream",
     "text": [
      "<class 'pandas.core.frame.DataFrame'>\n",
      "Int64Index: 8139 entries, 0 to 9999\n",
      "Data columns (total 8 columns):\n",
      " #   Column            Non-Null Count  Dtype  \n",
      "---  ------            --------------  -----  \n",
      " 0   Transaction ID    8139 non-null   object \n",
      " 1   Item              8139 non-null   object \n",
      " 2   Quantity          8139 non-null   int32  \n",
      " 3   Price Per Unit    8139 non-null   float64\n",
      " 4   Total Spent       8139 non-null   float64\n",
      " 5   Payment Method    8139 non-null   object \n",
      " 6   Location          8139 non-null   object \n",
      " 7   Transaction Date  8139 non-null   object \n",
      "dtypes: float64(2), int32(1), object(5)\n",
      "memory usage: 540.5+ KB\n"
     ]
    }
   ],
   "source": [
    "# All null values filled. Now to change the datatype to datetime\n",
    "sales_df.info()"
   ]
  },
  {
   "cell_type": "code",
   "execution_count": 327,
   "id": "3c98b070",
   "metadata": {},
   "outputs": [],
   "source": [
    "# Identifying rows with ERROR and UNKNOWN values\n",
    "date_error = sales_df[(sales_df['Transaction Date'] == 'UNKNOWN') | (sales_df['Transaction Date'] == 'ERROR')]"
   ]
  },
  {
   "cell_type": "code",
   "execution_count": 328,
   "id": "c8eed479",
   "metadata": {},
   "outputs": [],
   "source": [
    "# Dropping them\n",
    "sales_df.drop(date_error.index, axis = 0, inplace = True)"
   ]
  },
  {
   "cell_type": "code",
   "execution_count": 329,
   "id": "c23fcdfe",
   "metadata": {},
   "outputs": [],
   "source": [
    "# Converting the Transaction Date Column to datetime format\n",
    "# errors = 'coerce': forces all to convert to the specified format\n",
    "# Values that do not conform to the format are converted to NaT (Not a Time)\n",
    "sales_df['Transaction Date'] = pd.to_datetime(df['Transaction Date'], format= \"%Y-%m-%d\", errors = 'coerce')"
   ]
  },
  {
   "cell_type": "code",
   "execution_count": 330,
   "id": "c27036fd",
   "metadata": {},
   "outputs": [
    {
     "name": "stdout",
     "output_type": "stream",
     "text": [
      "<class 'pandas.core.frame.DataFrame'>\n",
      "Int64Index: 7886 entries, 0 to 9999\n",
      "Data columns (total 8 columns):\n",
      " #   Column            Non-Null Count  Dtype         \n",
      "---  ------            --------------  -----         \n",
      " 0   Transaction ID    7886 non-null   object        \n",
      " 1   Item              7886 non-null   object        \n",
      " 2   Quantity          7886 non-null   int32         \n",
      " 3   Price Per Unit    7886 non-null   float64       \n",
      " 4   Total Spent       7886 non-null   float64       \n",
      " 5   Payment Method    7886 non-null   object        \n",
      " 6   Location          7886 non-null   object        \n",
      " 7   Transaction Date  7761 non-null   datetime64[ns]\n",
      "dtypes: datetime64[ns](1), float64(2), int32(1), object(4)\n",
      "memory usage: 523.7+ KB\n"
     ]
    }
   ],
   "source": [
    "# There are a couple of null values (NaT) in the Transaction Date Column \n",
    "sales_df.info()"
   ]
  },
  {
   "cell_type": "code",
   "execution_count": 331,
   "id": "8f19f2f7",
   "metadata": {},
   "outputs": [],
   "source": [
    "# Backfilling to fill the NaT rows in Transaction Date column\n",
    "sales_df['Transaction Date'] = sales_df['Transaction Date'].fillna(method = 'bfill')"
   ]
  },
  {
   "cell_type": "code",
   "execution_count": 332,
   "id": "280e3faa",
   "metadata": {},
   "outputs": [
    {
     "name": "stdout",
     "output_type": "stream",
     "text": [
      "<class 'pandas.core.frame.DataFrame'>\n",
      "Int64Index: 7886 entries, 0 to 9999\n",
      "Data columns (total 8 columns):\n",
      " #   Column            Non-Null Count  Dtype         \n",
      "---  ------            --------------  -----         \n",
      " 0   Transaction ID    7886 non-null   object        \n",
      " 1   Item              7886 non-null   object        \n",
      " 2   Quantity          7886 non-null   int32         \n",
      " 3   Price Per Unit    7886 non-null   float64       \n",
      " 4   Total Spent       7886 non-null   float64       \n",
      " 5   Payment Method    7886 non-null   object        \n",
      " 6   Location          7886 non-null   object        \n",
      " 7   Transaction Date  7886 non-null   datetime64[ns]\n",
      "dtypes: datetime64[ns](1), float64(2), int32(1), object(4)\n",
      "memory usage: 523.7+ KB\n"
     ]
    }
   ],
   "source": [
    "# We have a clean DataFrame\n",
    "# Datatypes check\n",
    "# Null values eradicated\n",
    "sales_df.info()"
   ]
  },
  {
   "cell_type": "code",
   "execution_count": 333,
   "id": "33b504dd",
   "metadata": {},
   "outputs": [
    {
     "data": {
      "text/html": [
       "<div>\n",
       "<style scoped>\n",
       "    .dataframe tbody tr th:only-of-type {\n",
       "        vertical-align: middle;\n",
       "    }\n",
       "\n",
       "    .dataframe tbody tr th {\n",
       "        vertical-align: top;\n",
       "    }\n",
       "\n",
       "    .dataframe thead th {\n",
       "        text-align: right;\n",
       "    }\n",
       "</style>\n",
       "<table border=\"1\" class=\"dataframe\">\n",
       "  <thead>\n",
       "    <tr style=\"text-align: right;\">\n",
       "      <th></th>\n",
       "      <th>Transaction ID</th>\n",
       "      <th>Item</th>\n",
       "      <th>Quantity</th>\n",
       "      <th>Price Per Unit</th>\n",
       "      <th>Total Spent</th>\n",
       "      <th>Payment Method</th>\n",
       "      <th>Location</th>\n",
       "      <th>Transaction Date</th>\n",
       "    </tr>\n",
       "  </thead>\n",
       "  <tbody>\n",
       "    <tr>\n",
       "      <th>0</th>\n",
       "      <td>TXN_1961373</td>\n",
       "      <td>Coffee</td>\n",
       "      <td>2</td>\n",
       "      <td>2.0</td>\n",
       "      <td>4.0</td>\n",
       "      <td>Credit Card</td>\n",
       "      <td>Takeaway</td>\n",
       "      <td>2023-09-08</td>\n",
       "    </tr>\n",
       "    <tr>\n",
       "      <th>1</th>\n",
       "      <td>TXN_4977031</td>\n",
       "      <td>Cake</td>\n",
       "      <td>4</td>\n",
       "      <td>3.0</td>\n",
       "      <td>12.0</td>\n",
       "      <td>Cash</td>\n",
       "      <td>In-store</td>\n",
       "      <td>2023-05-16</td>\n",
       "    </tr>\n",
       "    <tr>\n",
       "      <th>3</th>\n",
       "      <td>TXN_7034554</td>\n",
       "      <td>Salad</td>\n",
       "      <td>2</td>\n",
       "      <td>5.0</td>\n",
       "      <td>10.0</td>\n",
       "      <td>Other</td>\n",
       "      <td>Unknown</td>\n",
       "      <td>2023-04-27</td>\n",
       "    </tr>\n",
       "    <tr>\n",
       "      <th>4</th>\n",
       "      <td>TXN_3160411</td>\n",
       "      <td>Coffee</td>\n",
       "      <td>2</td>\n",
       "      <td>2.0</td>\n",
       "      <td>4.0</td>\n",
       "      <td>Digital Wallet</td>\n",
       "      <td>In-store</td>\n",
       "      <td>2023-06-11</td>\n",
       "    </tr>\n",
       "    <tr>\n",
       "      <th>5</th>\n",
       "      <td>TXN_2602893</td>\n",
       "      <td>Smoothie</td>\n",
       "      <td>5</td>\n",
       "      <td>4.0</td>\n",
       "      <td>20.0</td>\n",
       "      <td>Credit Card</td>\n",
       "      <td>In-store</td>\n",
       "      <td>2023-03-31</td>\n",
       "    </tr>\n",
       "    <tr>\n",
       "      <th>...</th>\n",
       "      <td>...</td>\n",
       "      <td>...</td>\n",
       "      <td>...</td>\n",
       "      <td>...</td>\n",
       "      <td>...</td>\n",
       "      <td>...</td>\n",
       "      <td>...</td>\n",
       "      <td>...</td>\n",
       "    </tr>\n",
       "    <tr>\n",
       "      <th>9993</th>\n",
       "      <td>TXN_4766549</td>\n",
       "      <td>Smoothie</td>\n",
       "      <td>2</td>\n",
       "      <td>4.0</td>\n",
       "      <td>0.0</td>\n",
       "      <td>Cash</td>\n",
       "      <td>In-store</td>\n",
       "      <td>2023-10-20</td>\n",
       "    </tr>\n",
       "    <tr>\n",
       "      <th>9995</th>\n",
       "      <td>TXN_7672686</td>\n",
       "      <td>Coffee</td>\n",
       "      <td>2</td>\n",
       "      <td>2.0</td>\n",
       "      <td>4.0</td>\n",
       "      <td>Other</td>\n",
       "      <td>Unknown</td>\n",
       "      <td>2023-08-30</td>\n",
       "    </tr>\n",
       "    <tr>\n",
       "      <th>9997</th>\n",
       "      <td>TXN_5255387</td>\n",
       "      <td>Coffee</td>\n",
       "      <td>4</td>\n",
       "      <td>2.0</td>\n",
       "      <td>8.0</td>\n",
       "      <td>Digital Wallet</td>\n",
       "      <td>Unknown</td>\n",
       "      <td>2023-03-02</td>\n",
       "    </tr>\n",
       "    <tr>\n",
       "      <th>9998</th>\n",
       "      <td>TXN_7695629</td>\n",
       "      <td>Cookie</td>\n",
       "      <td>3</td>\n",
       "      <td>0.0</td>\n",
       "      <td>3.0</td>\n",
       "      <td>Digital Wallet</td>\n",
       "      <td>Unknown</td>\n",
       "      <td>2023-12-02</td>\n",
       "    </tr>\n",
       "    <tr>\n",
       "      <th>9999</th>\n",
       "      <td>TXN_6170729</td>\n",
       "      <td>Sandwich</td>\n",
       "      <td>3</td>\n",
       "      <td>4.0</td>\n",
       "      <td>12.0</td>\n",
       "      <td>Cash</td>\n",
       "      <td>In-store</td>\n",
       "      <td>2023-11-07</td>\n",
       "    </tr>\n",
       "  </tbody>\n",
       "</table>\n",
       "<p>7886 rows × 8 columns</p>\n",
       "</div>"
      ],
      "text/plain": [
       "     Transaction ID      Item  Quantity  Price Per Unit  Total Spent  \\\n",
       "0       TXN_1961373    Coffee         2             2.0          4.0   \n",
       "1       TXN_4977031      Cake         4             3.0         12.0   \n",
       "3       TXN_7034554     Salad         2             5.0         10.0   \n",
       "4       TXN_3160411    Coffee         2             2.0          4.0   \n",
       "5       TXN_2602893  Smoothie         5             4.0         20.0   \n",
       "...             ...       ...       ...             ...          ...   \n",
       "9993    TXN_4766549  Smoothie         2             4.0          0.0   \n",
       "9995    TXN_7672686    Coffee         2             2.0          4.0   \n",
       "9997    TXN_5255387    Coffee         4             2.0          8.0   \n",
       "9998    TXN_7695629    Cookie         3             0.0          3.0   \n",
       "9999    TXN_6170729  Sandwich         3             4.0         12.0   \n",
       "\n",
       "      Payment Method  Location Transaction Date  \n",
       "0        Credit Card  Takeaway       2023-09-08  \n",
       "1               Cash  In-store       2023-05-16  \n",
       "3              Other   Unknown       2023-04-27  \n",
       "4     Digital Wallet  In-store       2023-06-11  \n",
       "5        Credit Card  In-store       2023-03-31  \n",
       "...              ...       ...              ...  \n",
       "9993            Cash  In-store       2023-10-20  \n",
       "9995           Other   Unknown       2023-08-30  \n",
       "9997  Digital Wallet   Unknown       2023-03-02  \n",
       "9998  Digital Wallet   Unknown       2023-12-02  \n",
       "9999            Cash  In-store       2023-11-07  \n",
       "\n",
       "[7886 rows x 8 columns]"
      ]
     },
     "execution_count": 333,
     "metadata": {},
     "output_type": "execute_result"
    }
   ],
   "source": [
    "# Oh no. Our index is f***** up!\n",
    "sales_df"
   ]
  },
  {
   "cell_type": "code",
   "execution_count": 334,
   "id": "1f474535",
   "metadata": {},
   "outputs": [],
   "source": [
    "# Resetting the index of our DataFrame\n",
    "sales_df = sales_df.reset_index()"
   ]
  },
  {
   "cell_type": "code",
   "execution_count": 335,
   "id": "5ed8f49e",
   "metadata": {},
   "outputs": [],
   "source": [
    "# Dropping the column labelled \"index\"\n",
    "sales_df.drop('index', axis = 1, inplace = True)"
   ]
  },
  {
   "cell_type": "code",
   "execution_count": 336,
   "id": "7beda2f7",
   "metadata": {},
   "outputs": [
    {
     "data": {
      "text/html": [
       "<div>\n",
       "<style scoped>\n",
       "    .dataframe tbody tr th:only-of-type {\n",
       "        vertical-align: middle;\n",
       "    }\n",
       "\n",
       "    .dataframe tbody tr th {\n",
       "        vertical-align: top;\n",
       "    }\n",
       "\n",
       "    .dataframe thead th {\n",
       "        text-align: right;\n",
       "    }\n",
       "</style>\n",
       "<table border=\"1\" class=\"dataframe\">\n",
       "  <thead>\n",
       "    <tr style=\"text-align: right;\">\n",
       "      <th></th>\n",
       "      <th>Transaction ID</th>\n",
       "      <th>Item</th>\n",
       "      <th>Quantity</th>\n",
       "      <th>Price Per Unit</th>\n",
       "      <th>Total Spent</th>\n",
       "      <th>Payment Method</th>\n",
       "      <th>Location</th>\n",
       "      <th>Transaction Date</th>\n",
       "    </tr>\n",
       "  </thead>\n",
       "  <tbody>\n",
       "    <tr>\n",
       "      <th>0</th>\n",
       "      <td>TXN_1961373</td>\n",
       "      <td>Coffee</td>\n",
       "      <td>2</td>\n",
       "      <td>2.0</td>\n",
       "      <td>4.0</td>\n",
       "      <td>Credit Card</td>\n",
       "      <td>Takeaway</td>\n",
       "      <td>2023-09-08</td>\n",
       "    </tr>\n",
       "    <tr>\n",
       "      <th>1</th>\n",
       "      <td>TXN_4977031</td>\n",
       "      <td>Cake</td>\n",
       "      <td>4</td>\n",
       "      <td>3.0</td>\n",
       "      <td>12.0</td>\n",
       "      <td>Cash</td>\n",
       "      <td>In-store</td>\n",
       "      <td>2023-05-16</td>\n",
       "    </tr>\n",
       "    <tr>\n",
       "      <th>2</th>\n",
       "      <td>TXN_7034554</td>\n",
       "      <td>Salad</td>\n",
       "      <td>2</td>\n",
       "      <td>5.0</td>\n",
       "      <td>10.0</td>\n",
       "      <td>Other</td>\n",
       "      <td>Unknown</td>\n",
       "      <td>2023-04-27</td>\n",
       "    </tr>\n",
       "    <tr>\n",
       "      <th>3</th>\n",
       "      <td>TXN_3160411</td>\n",
       "      <td>Coffee</td>\n",
       "      <td>2</td>\n",
       "      <td>2.0</td>\n",
       "      <td>4.0</td>\n",
       "      <td>Digital Wallet</td>\n",
       "      <td>In-store</td>\n",
       "      <td>2023-06-11</td>\n",
       "    </tr>\n",
       "    <tr>\n",
       "      <th>4</th>\n",
       "      <td>TXN_2602893</td>\n",
       "      <td>Smoothie</td>\n",
       "      <td>5</td>\n",
       "      <td>4.0</td>\n",
       "      <td>20.0</td>\n",
       "      <td>Credit Card</td>\n",
       "      <td>In-store</td>\n",
       "      <td>2023-03-31</td>\n",
       "    </tr>\n",
       "    <tr>\n",
       "      <th>...</th>\n",
       "      <td>...</td>\n",
       "      <td>...</td>\n",
       "      <td>...</td>\n",
       "      <td>...</td>\n",
       "      <td>...</td>\n",
       "      <td>...</td>\n",
       "      <td>...</td>\n",
       "      <td>...</td>\n",
       "    </tr>\n",
       "    <tr>\n",
       "      <th>7881</th>\n",
       "      <td>TXN_4766549</td>\n",
       "      <td>Smoothie</td>\n",
       "      <td>2</td>\n",
       "      <td>4.0</td>\n",
       "      <td>0.0</td>\n",
       "      <td>Cash</td>\n",
       "      <td>In-store</td>\n",
       "      <td>2023-10-20</td>\n",
       "    </tr>\n",
       "    <tr>\n",
       "      <th>7882</th>\n",
       "      <td>TXN_7672686</td>\n",
       "      <td>Coffee</td>\n",
       "      <td>2</td>\n",
       "      <td>2.0</td>\n",
       "      <td>4.0</td>\n",
       "      <td>Other</td>\n",
       "      <td>Unknown</td>\n",
       "      <td>2023-08-30</td>\n",
       "    </tr>\n",
       "    <tr>\n",
       "      <th>7883</th>\n",
       "      <td>TXN_5255387</td>\n",
       "      <td>Coffee</td>\n",
       "      <td>4</td>\n",
       "      <td>2.0</td>\n",
       "      <td>8.0</td>\n",
       "      <td>Digital Wallet</td>\n",
       "      <td>Unknown</td>\n",
       "      <td>2023-03-02</td>\n",
       "    </tr>\n",
       "    <tr>\n",
       "      <th>7884</th>\n",
       "      <td>TXN_7695629</td>\n",
       "      <td>Cookie</td>\n",
       "      <td>3</td>\n",
       "      <td>0.0</td>\n",
       "      <td>3.0</td>\n",
       "      <td>Digital Wallet</td>\n",
       "      <td>Unknown</td>\n",
       "      <td>2023-12-02</td>\n",
       "    </tr>\n",
       "    <tr>\n",
       "      <th>7885</th>\n",
       "      <td>TXN_6170729</td>\n",
       "      <td>Sandwich</td>\n",
       "      <td>3</td>\n",
       "      <td>4.0</td>\n",
       "      <td>12.0</td>\n",
       "      <td>Cash</td>\n",
       "      <td>In-store</td>\n",
       "      <td>2023-11-07</td>\n",
       "    </tr>\n",
       "  </tbody>\n",
       "</table>\n",
       "<p>7886 rows × 8 columns</p>\n",
       "</div>"
      ],
      "text/plain": [
       "     Transaction ID      Item  Quantity  Price Per Unit  Total Spent  \\\n",
       "0       TXN_1961373    Coffee         2             2.0          4.0   \n",
       "1       TXN_4977031      Cake         4             3.0         12.0   \n",
       "2       TXN_7034554     Salad         2             5.0         10.0   \n",
       "3       TXN_3160411    Coffee         2             2.0          4.0   \n",
       "4       TXN_2602893  Smoothie         5             4.0         20.0   \n",
       "...             ...       ...       ...             ...          ...   \n",
       "7881    TXN_4766549  Smoothie         2             4.0          0.0   \n",
       "7882    TXN_7672686    Coffee         2             2.0          4.0   \n",
       "7883    TXN_5255387    Coffee         4             2.0          8.0   \n",
       "7884    TXN_7695629    Cookie         3             0.0          3.0   \n",
       "7885    TXN_6170729  Sandwich         3             4.0         12.0   \n",
       "\n",
       "      Payment Method  Location Transaction Date  \n",
       "0        Credit Card  Takeaway       2023-09-08  \n",
       "1               Cash  In-store       2023-05-16  \n",
       "2              Other   Unknown       2023-04-27  \n",
       "3     Digital Wallet  In-store       2023-06-11  \n",
       "4        Credit Card  In-store       2023-03-31  \n",
       "...              ...       ...              ...  \n",
       "7881            Cash  In-store       2023-10-20  \n",
       "7882           Other   Unknown       2023-08-30  \n",
       "7883  Digital Wallet   Unknown       2023-03-02  \n",
       "7884  Digital Wallet   Unknown       2023-12-02  \n",
       "7885            Cash  In-store       2023-11-07  \n",
       "\n",
       "[7886 rows x 8 columns]"
      ]
     },
     "execution_count": 336,
     "metadata": {},
     "output_type": "execute_result"
    }
   ],
   "source": [
    "# All good\n",
    "sales_df"
   ]
  }
 ],
 "metadata": {
  "kernelspec": {
   "display_name": "Python (learn-env)",
   "language": "python",
   "name": "learn-env"
  },
  "language_info": {
   "codemirror_mode": {
    "name": "ipython",
    "version": 3
   },
   "file_extension": ".py",
   "mimetype": "text/x-python",
   "name": "python",
   "nbconvert_exporter": "python",
   "pygments_lexer": "ipython3",
   "version": "3.8.5"
  }
 },
 "nbformat": 4,
 "nbformat_minor": 5
}
