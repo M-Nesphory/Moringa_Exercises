{
 "cells": [
  {
   "cell_type": "markdown",
   "metadata": {
    "id": "aFP68PdyWikJ"
   },
   "source": [
    "# Introduction to Linear Regression Model\n",
    "\n",
    "NOTE: ensure to create a copy before you start the assignment."
   ]
  },
  {
   "cell_type": "code",
   "execution_count": 89,
   "metadata": {
    "id": "A_LK7ldBhPbj"
   },
   "outputs": [],
   "source": [
    "#import pandas library\n",
    "import pandas as pd\n",
    "import numpy as np\n",
    "import sympy as smpl\n",
    "import matplotlib.pyplot as plt\n",
    "import seaborn as sns\n",
    "from scipy import stats\n",
    "import sklearn.metrics as metrics\n",
    "import statsmodels.api as sm\n",
    "from statsmodels.tools.tools import add_constant\n",
    "import statsmodels.graphics as smg\n",
    "from random import gauss\n",
    "from sklearn.linear_model import LinearRegression"
   ]
  },
  {
   "cell_type": "markdown",
   "metadata": {
    "id": "2-2PwSxjcO2q"
   },
   "source": [
    "## Covariance and Correlation\n",
    "\n",
    "The idea of correlation is the simple idea that variables often change together. For a simple example, cities with more buses tend to have higher populations.\n",
    "\n",
    "We might observe that, as one variable X increases, so does another Y, OR that as X increases, Y decreases.\n",
    "\n",
    "The covariance describes how two variables co-vary. Note the similarity in the definition to the definition of ordinary variance:"
   ]
  },
  {
   "cell_type": "markdown",
   "metadata": {
    "id": "Cp4Z0QP3dffR"
   },
   "source": [
    "### Covariance\n",
    "\n",
    "For two random variables $X$ and $Y$, each with $n$ values:\n",
    "\n",
    "$\\Large\\sigma_{XY} = \\frac{\\Sigma^n_{i = 1}(x_i - \\mu_x)(y_i - \\mu_y)}{n-1}$ <br/>"
   ]
  },
  {
   "cell_type": "code",
   "execution_count": 90,
   "metadata": {
    "id": "QCi5wTCdcQBG"
   },
   "outputs": [],
   "source": [
    "#Create our own dataset and divide it into features(x)  and target(y)\n",
    "x = [1,3,5]\n",
    "y = [2,9,10]"
   ]
  },
  {
   "cell_type": "code",
   "execution_count": 91,
   "metadata": {
    "colab": {
     "base_uri": "https://localhost:8080/"
    },
    "id": "xvUljd4NdTDc",
    "outputId": "5df9ac41-3b1e-4550-fc0b-aa476a3a6953"
   },
   "outputs": [
    {
     "name": "stdout",
     "output_type": "stream",
     "text": [
      "<class 'list'>\n",
      "<class 'list'>\n"
     ]
    }
   ],
   "source": [
    "#checking the data type\n",
    "print(type(x))\n",
    "print(type(y))"
   ]
  },
  {
   "cell_type": "code",
   "execution_count": 92,
   "metadata": {
    "colab": {
     "base_uri": "https://localhost:8080/",
     "height": 204
    },
    "id": "K5yUrzTHdti1",
    "outputId": "3bf56e2c-83f8-4b5d-df69-8d40d106ac93"
   },
   "outputs": [
    {
     "data": {
      "text/html": [
       "<div>\n",
       "<style scoped>\n",
       "    .dataframe tbody tr th:only-of-type {\n",
       "        vertical-align: middle;\n",
       "    }\n",
       "\n",
       "    .dataframe tbody tr th {\n",
       "        vertical-align: top;\n",
       "    }\n",
       "\n",
       "    .dataframe thead th {\n",
       "        text-align: right;\n",
       "    }\n",
       "</style>\n",
       "<table border=\"1\" class=\"dataframe\">\n",
       "  <thead>\n",
       "    <tr style=\"text-align: right;\">\n",
       "      <th></th>\n",
       "      <th>x</th>\n",
       "      <th>y</th>\n",
       "    </tr>\n",
       "  </thead>\n",
       "  <tbody>\n",
       "    <tr>\n",
       "      <th>0</th>\n",
       "      <td>1</td>\n",
       "      <td>2</td>\n",
       "    </tr>\n",
       "    <tr>\n",
       "      <th>1</th>\n",
       "      <td>3</td>\n",
       "      <td>9</td>\n",
       "    </tr>\n",
       "    <tr>\n",
       "      <th>2</th>\n",
       "      <td>5</td>\n",
       "      <td>10</td>\n",
       "    </tr>\n",
       "  </tbody>\n",
       "</table>\n",
       "</div>"
      ],
      "text/plain": [
       "   x   y\n",
       "0  1   2\n",
       "1  3   9\n",
       "2  5  10"
      ]
     },
     "execution_count": 92,
     "metadata": {},
     "output_type": "execute_result"
    }
   ],
   "source": [
    "#converting the dataset to Dataframe\n",
    "data = pd.DataFrame({\"x\":x,\"y\":y})\n",
    "data"
   ]
  },
  {
   "cell_type": "code",
   "execution_count": 93,
   "metadata": {
    "colab": {
     "base_uri": "https://localhost:8080/",
     "height": 449
    },
    "id": "kW95nZPgd18a",
    "outputId": "b1d1360e-834b-4def-b932-f2d61e6a079c"
   },
   "outputs": [
    {
     "data": {
      "image/png": "[encoded data removed]",
      "text/plain": [
       "<Figure size 640x480 with 1 Axes>"
      ]
     },
     "metadata": {},
     "output_type": "display_data"
    }
   ],
   "source": [
    "#scatter plot\n",
    "plt.scatter(x, y)\n",
    "plt.plot(x,y, color = \"blue\");"
   ]
  },
  {
   "cell_type": "code",
   "execution_count": 94,
   "metadata": {
    "colab": {
     "base_uri": "https://localhost:8080/"
    },
    "id": "YYXTw8YfecnU",
    "outputId": "4c29a886-a304-4eca-c778-27f9415108e1"
   },
   "outputs": [
    {
     "data": {
      "text/plain": [
       "3.0"
      ]
     },
     "execution_count": 94,
     "metadata": {},
     "output_type": "execute_result"
    }
   ],
   "source": [
    "#get the mean for X\n",
    "x_mean = data.x.mean()\n",
    "x_mean"
   ]
  },
  {
   "cell_type": "code",
   "execution_count": 95,
   "metadata": {
    "colab": {
     "base_uri": "https://localhost:8080/"
    },
    "id": "XtY9yabkegDJ",
    "outputId": "e5894efb-e035-4248-b1d8-15929ae6da47"
   },
   "outputs": [
    {
     "data": {
      "text/plain": [
       "7.0"
      ]
     },
     "execution_count": 95,
     "metadata": {},
     "output_type": "execute_result"
    }
   ],
   "source": [
    "#Get the mean for y\n",
    "y_mean = data.y.mean()\n",
    "y_mean"
   ]
  },
  {
   "cell_type": "code",
   "execution_count": 96,
   "metadata": {
    "colab": {
     "base_uri": "https://localhost:8080/"
    },
    "id": "vJgaOQcQeiam",
    "outputId": "c53613aa-8db3-4b3f-aa4b-cca89866d408"
   },
   "outputs": [
    {
     "data": {
      "text/plain": [
       "5.333333333333333"
      ]
     },
     "execution_count": 96,
     "metadata": {},
     "output_type": "execute_result"
    }
   ],
   "source": [
    "# Covariance (manual)\n",
    "#cov(X, Y) = Σ((xᵢ - μₓ)(yᵢ - μᵧ)) /n-1\n",
    "covxy = ((1-x_mean) * (2- y_mean) + (3-x_mean)* (9-y_mean) + (5 - x_mean)*(10 - y_mean))/3\n",
    "covxy"
   ]
  },
  {
   "cell_type": "code",
   "execution_count": 97,
   "metadata": {
    "colab": {
     "base_uri": "https://localhost:8080/"
    },
    "id": "pSEmwLyEewDy",
    "outputId": "8c38af82-403f-4e4c-9917-739a392f8cc9"
   },
   "outputs": [
    {
     "data": {
      "text/plain": [
       "5.333333333333333"
      ]
     },
     "execution_count": 97,
     "metadata": {},
     "output_type": "execute_result"
    }
   ],
   "source": [
    "#Better with numpy\n",
    "np.cov(x, y, ddof = 0)[0,1]"
   ]
  },
  {
   "cell_type": "code",
   "execution_count": 98,
   "metadata": {
    "colab": {
     "base_uri": "https://localhost:8080/"
    },
    "id": "gQDbuhntfpmK",
    "outputId": "abbe7cf4-cb01-493d-97a2-187815152ea4"
   },
   "outputs": [
    {
     "data": {
      "text/plain": [
       "array([[ 2.66666667,  5.33333333],\n",
       "       [ 5.33333333, 12.66666667]])"
      ]
     },
     "execution_count": 98,
     "metadata": {},
     "output_type": "execute_result"
    }
   ],
   "source": [
    "#covariance and var for all the 2 values\n",
    "np.cov(x, y, ddof = 0)"
   ]
  },
  {
   "cell_type": "code",
   "execution_count": 99,
   "metadata": {
    "colab": {
     "base_uri": "https://localhost:8080/"
    },
    "id": "DGxut84yf9LW",
    "outputId": "887ab79b-0a8e-446c-de2e-467583ae0649"
   },
   "outputs": [
    {
     "data": {
      "text/plain": [
       "2.6666666666666665"
      ]
     },
     "execution_count": 99,
     "metadata": {},
     "output_type": "execute_result"
    }
   ],
   "source": [
    "#Variance of x\n",
    "np.var(x)"
   ]
  },
  {
   "cell_type": "markdown",
   "metadata": {
    "id": "WE4fV2EJgJVT"
   },
   "source": [
    "Note that the value of the covariance is very much a function of the values of X and Y, which can make interpretation difficult. What is wanted is a standardized scale for covariance, hence: correlation."
   ]
  },
  {
   "cell_type": "markdown",
   "metadata": {
    "id": "IYN2ywGlgjHi"
   },
   "source": [
    "### Correlation\n",
    "\n",
    "Pearson Correlation:<br/>$\\Large r_P = \\frac{\\Sigma^n_{i = 1}(x_i - \\mu_x)(y_i - \\mu_y)}{\\sqrt{\\Sigma^n_{i = 1}(x_i - \\mu_x)^2\\Sigma^n_{i = 1}(y_i -\\mu_y)^2}}$\n",
    "\n",
    "Note that we are simply standardizing the covariance by the standard deviations of X and Y (the $n$'s cancel!)."
   ]
  },
  {
   "cell_type": "markdown",
   "metadata": {
    "id": "tIjwNzAGgsrj"
   },
   "source": [
    "$\\bf{Check}$:\n",
    "\n",
    "<details><summary>\n",
    "What happens if X = Y?\n",
    "</summary>\n",
    "Then numerator = denominator and the correlation = 1!\n",
    "</details>\n",
    "<br/>\n",
    "We'll always have $-1 \\leq r \\leq 1$. (This was the point of standardizing by the standard deviations of X and Y.)\n",
    "\n",
    "A correlation of -1 means that X and Y are perfectly negatively correlated, and a correlation of 1 means that X and Y are perfectly positively correlated.\n",
    "\n",
    "NumPy also has a correlation method:"
   ]
  },
  {
   "cell_type": "code",
   "execution_count": 100,
   "metadata": {
    "colab": {
     "base_uri": "https://localhost:8080/"
    },
    "id": "bhDMLJxEgWtW",
    "outputId": "27b5c8da-88db-4c41-d859-380533bca68e"
   },
   "outputs": [
    {
     "data": {
      "text/plain": [
       "0.917662935482247"
      ]
     },
     "execution_count": 100,
     "metadata": {},
     "output_type": "execute_result"
    }
   ],
   "source": [
    "#checking correlation\n",
    "np.corrcoef(x,y)[0,1]"
   ]
  },
  {
   "cell_type": "markdown",
   "metadata": {
    "id": "F3hf8T3-hQRG"
   },
   "source": [
    "# check on whether manual and numpy calculation is same"
   ]
  },
  {
   "cell_type": "code",
   "execution_count": 101,
   "metadata": {
    "colab": {
     "base_uri": "https://localhost:8080/"
    },
    "id": "5VlUVqmAhJqR",
    "outputId": "acfaf1b3-29cf-4e0b-cf3a-9b8a16f441c0"
   },
   "outputs": [
    {
     "data": {
      "text/plain": [
       "True"
      ]
     },
     "execution_count": 101,
     "metadata": {},
     "output_type": "execute_result"
    }
   ],
   "source": [
    "#checking\n",
    "np.corrcoef(x, y)[0, 1] == (np.cov(x, y, ddof=0) / (np.std(x) * np.std(y)))[0, 1]"
   ]
  },
  {
   "cell_type": "markdown",
   "metadata": {
    "id": "f94DfpNDhfgG"
   },
   "source": [
    "And so does SciPy:"
   ]
  },
  {
   "cell_type": "code",
   "execution_count": 102,
   "metadata": {
    "colab": {
     "base_uri": "https://localhost:8080/"
    },
    "id": "MknH2z0LhcDW",
    "outputId": "33d0b102-44a7-4922-a06c-f4bd800fe6b4"
   },
   "outputs": [
    {
     "data": {
      "text/plain": [
       "PearsonRResult(statistic=0.917662935482247, pvalue=0.2601469382930061)"
      ]
     },
     "execution_count": 102,
     "metadata": {},
     "output_type": "execute_result"
    }
   ],
   "source": [
    "#check corr using stat model\n",
    "stats.pearsonr(x,y)"
   ]
  },
  {
   "cell_type": "markdown",
   "metadata": {
    "id": "mp32mp0ViJCy"
   },
   "source": [
    "## Statistical Learning Theory\n",
    "\n",
    "It's important at this point to understand the distinction between dependent and independent variables.\n",
    "\n",
    "Roughly, the independent variable is what can be directly manipulated and the dependent variable is what cannot be (but is nevertheless of great interest). What matters structurally is simply that we understand the dependent variable to be a function of the independent variable(s).\n",
    "\n",
    "This is the proper interpretation of a statistical model.\n",
    "\n",
    "Simple idea: We can model correlation with a line. As one variable changes, so does the other.\n",
    "\n",
    "This model has two parameters: slope and y-intercept.\n",
    "\n",
    "Unless there's a perfectly (and suspiciously) linear relationship between our predictor(s) and our target, there will be some sort of error or loss or residual. The best-fit line is constructed by minimizing the sum of the squares of these losses"
   ]
  },
  {
   "cell_type": "markdown",
   "metadata": {
    "id": "PyBOKIsSiYRr"
   },
   "source": [
    "## Regression Equation\n",
    "\n",
    "The solution for a simple regression best-fit line is as follows:\n",
    "\n",
    "- slope: <br/>$\\Large m = r_P\\frac{\\sigma_y}{\\sigma_x} = \\frac{cov(X, Y)}{var(X)}$\n",
    "\n",
    "- y-intercept:<br/> $\\Large b = \\mu_y - m\\mu_x$"
   ]
  },
  {
   "cell_type": "markdown",
   "metadata": {
    "id": "rdbj1_CciltR"
   },
   "source": [
    "## Interpretation\n",
    "\n",
    "The output of the simple linear regression algorithm is a pair of parameters: the slope and the y-intercept of the best-fit line through the data."
   ]
  },
  {
   "cell_type": "markdown",
   "metadata": {
    "id": "UQxBqsn4jWyS"
   },
   "source": [
    "## Simple Linear Regression with statsmodels\n",
    "\n",
    "Let's take a look at how to build a simple linear regression model with statsmodels. The statsmodels package offers a highly descriptive report of the fit of a regression model. Let's generate a simple regression and then analyze the report!\n",
    "\n",
    "First let's try data that fit a straight line perfectly:"
   ]
  },
  {
   "cell_type": "code",
   "execution_count": 103,
   "metadata": {
    "id": "q1AeagZ3iaQf"
   },
   "outputs": [],
   "source": [
    "#creating another dataset\n",
    "x = np.arange(20)\n",
    "y = 3*x +5"
   ]
  },
  {
   "cell_type": "code",
   "execution_count": 104,
   "metadata": {
    "colab": {
     "base_uri": "https://localhost:8080/",
     "height": 206
    },
    "id": "35KSxV_yjj74",
    "outputId": "23394c94-1671-40b1-d91f-c6524dcfb88c"
   },
   "outputs": [
    {
     "data": {
      "text/html": [
       "<div>\n",
       "<style scoped>\n",
       "    .dataframe tbody tr th:only-of-type {\n",
       "        vertical-align: middle;\n",
       "    }\n",
       "\n",
       "    .dataframe tbody tr th {\n",
       "        vertical-align: top;\n",
       "    }\n",
       "\n",
       "    .dataframe thead th {\n",
       "        text-align: right;\n",
       "    }\n",
       "</style>\n",
       "<table border=\"1\" class=\"dataframe\">\n",
       "  <thead>\n",
       "    <tr style=\"text-align: right;\">\n",
       "      <th></th>\n",
       "      <th>x</th>\n",
       "      <th>y</th>\n",
       "    </tr>\n",
       "  </thead>\n",
       "  <tbody>\n",
       "    <tr>\n",
       "      <th>0</th>\n",
       "      <td>0</td>\n",
       "      <td>5</td>\n",
       "    </tr>\n",
       "    <tr>\n",
       "      <th>1</th>\n",
       "      <td>1</td>\n",
       "      <td>8</td>\n",
       "    </tr>\n",
       "    <tr>\n",
       "      <th>2</th>\n",
       "      <td>2</td>\n",
       "      <td>11</td>\n",
       "    </tr>\n",
       "    <tr>\n",
       "      <th>3</th>\n",
       "      <td>3</td>\n",
       "      <td>14</td>\n",
       "    </tr>\n",
       "    <tr>\n",
       "      <th>4</th>\n",
       "      <td>4</td>\n",
       "      <td>17</td>\n",
       "    </tr>\n",
       "    <tr>\n",
       "      <th>5</th>\n",
       "      <td>5</td>\n",
       "      <td>20</td>\n",
       "    </tr>\n",
       "    <tr>\n",
       "      <th>6</th>\n",
       "      <td>6</td>\n",
       "      <td>23</td>\n",
       "    </tr>\n",
       "    <tr>\n",
       "      <th>7</th>\n",
       "      <td>7</td>\n",
       "      <td>26</td>\n",
       "    </tr>\n",
       "    <tr>\n",
       "      <th>8</th>\n",
       "      <td>8</td>\n",
       "      <td>29</td>\n",
       "    </tr>\n",
       "    <tr>\n",
       "      <th>9</th>\n",
       "      <td>9</td>\n",
       "      <td>32</td>\n",
       "    </tr>\n",
       "    <tr>\n",
       "      <th>10</th>\n",
       "      <td>10</td>\n",
       "      <td>35</td>\n",
       "    </tr>\n",
       "    <tr>\n",
       "      <th>11</th>\n",
       "      <td>11</td>\n",
       "      <td>38</td>\n",
       "    </tr>\n",
       "    <tr>\n",
       "      <th>12</th>\n",
       "      <td>12</td>\n",
       "      <td>41</td>\n",
       "    </tr>\n",
       "    <tr>\n",
       "      <th>13</th>\n",
       "      <td>13</td>\n",
       "      <td>44</td>\n",
       "    </tr>\n",
       "    <tr>\n",
       "      <th>14</th>\n",
       "      <td>14</td>\n",
       "      <td>47</td>\n",
       "    </tr>\n",
       "    <tr>\n",
       "      <th>15</th>\n",
       "      <td>15</td>\n",
       "      <td>50</td>\n",
       "    </tr>\n",
       "    <tr>\n",
       "      <th>16</th>\n",
       "      <td>16</td>\n",
       "      <td>53</td>\n",
       "    </tr>\n",
       "    <tr>\n",
       "      <th>17</th>\n",
       "      <td>17</td>\n",
       "      <td>56</td>\n",
       "    </tr>\n",
       "    <tr>\n",
       "      <th>18</th>\n",
       "      <td>18</td>\n",
       "      <td>59</td>\n",
       "    </tr>\n",
       "    <tr>\n",
       "      <th>19</th>\n",
       "      <td>19</td>\n",
       "      <td>62</td>\n",
       "    </tr>\n",
       "  </tbody>\n",
       "</table>\n",
       "</div>"
      ],
      "text/plain": [
       "     x   y\n",
       "0    0   5\n",
       "1    1   8\n",
       "2    2  11\n",
       "3    3  14\n",
       "4    4  17\n",
       "5    5  20\n",
       "6    6  23\n",
       "7    7  26\n",
       "8    8  29\n",
       "9    9  32\n",
       "10  10  35\n",
       "11  11  38\n",
       "12  12  41\n",
       "13  13  44\n",
       "14  14  47\n",
       "15  15  50\n",
       "16  16  53\n",
       "17  17  56\n",
       "18  18  59\n",
       "19  19  62"
      ]
     },
     "execution_count": 104,
     "metadata": {},
     "output_type": "execute_result"
    }
   ],
   "source": [
    "#creating a dataframe\n",
    "data = pd.DataFrame({\"x\":x,\"y\":y})\n",
    "data"
   ]
  },
  {
   "cell_type": "code",
   "execution_count": 105,
   "metadata": {
    "colab": {
     "base_uri": "https://localhost:8080/",
     "height": 466
    },
    "id": "vpBcPddmjrZP",
    "outputId": "6b116dda-255b-4136-809c-f67a6f06383a"
   },
   "outputs": [
    {
     "data": {
      "image/png": "[encoded data removed]",
      "text/plain": [
       "<Figure size 640x480 with 1 Axes>"
      ]
     },
     "metadata": {},
     "output_type": "display_data"
    }
   ],
   "source": [
    "#ploting scatter plot\n",
    "plt.scatter(x,y)\n",
    "plt.plot(x,y, color = \"r\");"
   ]
  },
  {
   "cell_type": "code",
   "execution_count": 106,
   "metadata": {
    "colab": {
     "base_uri": "https://localhost:8080/"
    },
    "id": "CaVs_reSkQBd",
    "outputId": "b52d3ba2-f571-4b11-b7b9-461c19bb3cef"
   },
   "outputs": [
    {
     "data": {
      "text/plain": [
       "99.75"
      ]
     },
     "execution_count": 106,
     "metadata": {},
     "output_type": "execute_result"
    }
   ],
   "source": [
    "#checking coverance\n",
    "#cov(X, Y) = Σ((xᵢ - μₓ)(yᵢ - μᵧ)) / (n - 1)\n",
    "#np.cov(x, y, ddof=0)[0]\n",
    "np.cov(x,y, ddof =0)[0,1]"
   ]
  },
  {
   "cell_type": "code",
   "execution_count": 107,
   "metadata": {
    "colab": {
     "base_uri": "https://localhost:8080/"
    },
    "id": "cge7dnWskywY",
    "outputId": "f3fc629d-c62b-40b4-a732-c2425dabfd9c"
   },
   "outputs": [
    {
     "data": {
      "text/plain": [
       "PearsonRResult(statistic=0.9999999999999999, pvalue=0.0)"
      ]
     },
     "execution_count": 107,
     "metadata": {},
     "output_type": "execute_result"
    }
   ],
   "source": [
    "#checking correlation\n",
    "#r = (Σ((xᵢ - μₓ)(yᵢ - μᵧ))) / (√((Σ(xᵢ - μₓ)²) * (Σ(yᵢ - μᵧ)²)))\n",
    "#stats.pearsonr(x, y)\n",
    "stats.pearsonr(x,y)"
   ]
  },
  {
   "cell_type": "markdown",
   "metadata": {
    "id": "2lu75TBckNwM"
   },
   "source": [
    "### Regression Without Error in statsmodels"
   ]
  },
  {
   "cell_type": "code",
   "execution_count": 108,
   "metadata": {
    "id": "VWTU_Alwk60O"
   },
   "outputs": [],
   "source": [
    "#creating the model\n",
    "model = sm.formula.ols(formula = \"y~x\", data = data).fit()\n",
    "# (y~X) dependent variable, independent variable\n"
   ]
  },
  {
   "cell_type": "code",
   "execution_count": 109,
   "metadata": {
    "colab": {
     "base_uri": "https://localhost:8080/",
     "height": 445
    },
    "id": "CNC2tjlil1s5",
    "outputId": "cbe139f6-6716-4f6f-b2a6-6584ef9b8f4b"
   },
   "outputs": [
    {
     "data": {
      "text/html": [
       "<table class=\"simpletable\">\n",
       "<caption>OLS Regression Results</caption>\n",
       "<tr>\n",
       "  <th>Dep. Variable:</th>            <td>y</td>        <th>  R-squared:         </th> <td>   1.000</td> \n",
       "</tr>\n",
       "<tr>\n",
       "  <th>Model:</th>                   <td>OLS</td>       <th>  Adj. R-squared:    </th> <td>   1.000</td> \n",
       "</tr>\n",
       "<tr>\n",
       "  <th>Method:</th>             <td>Least Squares</td>  <th>  F-statistic:       </th> <td>3.321e+31</td>\n",
       "</tr>\n",
       "<tr>\n",
       "  <th>Date:</th>             <td>Wed, 23 Jul 2025</td> <th>  Prob (F-statistic):</th> <td>7.48e-274</td>\n",
       "</tr>\n",
       "<tr>\n",
       "  <th>Time:</th>                 <td>09:36:57</td>     <th>  Log-Likelihood:    </th> <td>  611.51</td> \n",
       "</tr>\n",
       "<tr>\n",
       "  <th>No. Observations:</th>      <td>    20</td>      <th>  AIC:               </th> <td>  -1219.</td> \n",
       "</tr>\n",
       "<tr>\n",
       "  <th>Df Residuals:</th>          <td>    18</td>      <th>  BIC:               </th> <td>  -1217.</td> \n",
       "</tr>\n",
       "<tr>\n",
       "  <th>Df Model:</th>              <td>     1</td>      <th>                     </th>     <td> </td>    \n",
       "</tr>\n",
       "<tr>\n",
       "  <th>Covariance Type:</th>      <td>nonrobust</td>    <th>                     </th>     <td> </td>    \n",
       "</tr>\n",
       "</table>\n",
       "<table class=\"simpletable\">\n",
       "<tr>\n",
       "      <td></td>         <th>coef</th>     <th>std err</th>      <th>t</th>      <th>P>|t|</th>  <th>[0.025</th>    <th>0.975]</th>  \n",
       "</tr>\n",
       "<tr>\n",
       "  <th>Intercept</th> <td>    5.0000</td> <td> 5.79e-15</td> <td> 8.64e+14</td> <td> 0.000</td> <td>    5.000</td> <td>    5.000</td>\n",
       "</tr>\n",
       "<tr>\n",
       "  <th>x</th>         <td>    3.0000</td> <td> 5.21e-16</td> <td> 5.76e+15</td> <td> 0.000</td> <td>    3.000</td> <td>    3.000</td>\n",
       "</tr>\n",
       "</table>\n",
       "<table class=\"simpletable\">\n",
       "<tr>\n",
       "  <th>Omnibus:</th>       <td>43.228</td> <th>  Durbin-Watson:     </th> <td>   0.004</td>\n",
       "</tr>\n",
       "<tr>\n",
       "  <th>Prob(Omnibus):</th> <td> 0.000</td> <th>  Jarque-Bera (JB):  </th> <td>   3.335</td>\n",
       "</tr>\n",
       "<tr>\n",
       "  <th>Skew:</th>          <td> 0.201</td> <th>  Prob(JB):          </th> <td>   0.189</td>\n",
       "</tr>\n",
       "<tr>\n",
       "  <th>Kurtosis:</th>      <td> 1.040</td> <th>  Cond. No.          </th> <td>    21.5</td>\n",
       "</tr>\n",
       "</table><br/><br/>Notes:<br/>[1] Standard Errors assume that the covariance matrix of the errors is correctly specified."
      ],
      "text/latex": [
       "\\begin{center}\n",
       "\\begin{tabular}{lclc}\n",
       "\\toprule\n",
       "\\textbf{Dep. Variable:}    &        y         & \\textbf{  R-squared:         } &     1.000   \\\\\n",
       "\\textbf{Model:}            &       OLS        & \\textbf{  Adj. R-squared:    } &     1.000   \\\\\n",
       "\\textbf{Method:}           &  Least Squares   & \\textbf{  F-statistic:       } & 3.321e+31   \\\\\n",
       "\\textbf{Date:}             & Wed, 23 Jul 2025 & \\textbf{  Prob (F-statistic):} & 7.48e-274   \\\\\n",
       "\\textbf{Time:}             &     09:36:57     & \\textbf{  Log-Likelihood:    } &    611.51   \\\\\n",
       "\\textbf{No. Observations:} &          20      & \\textbf{  AIC:               } &    -1219.   \\\\\n",
       "\\textbf{Df Residuals:}     &          18      & \\textbf{  BIC:               } &    -1217.   \\\\\n",
       "\\textbf{Df Model:}         &           1      & \\textbf{                     } &             \\\\\n",
       "\\textbf{Covariance Type:}  &    nonrobust     & \\textbf{                     } &             \\\\\n",
       "\\bottomrule\n",
       "\\end{tabular}\n",
       "\\begin{tabular}{lcccccc}\n",
       "                   & \\textbf{coef} & \\textbf{std err} & \\textbf{t} & \\textbf{P$> |$t$|$} & \\textbf{[0.025} & \\textbf{0.975]}  \\\\\n",
       "\\midrule\n",
       "\\textbf{Intercept} &       5.0000  &     5.79e-15     &  8.64e+14  &         0.000        &        5.000    &        5.000     \\\\\n",
       "\\textbf{x}         &       3.0000  &     5.21e-16     &  5.76e+15  &         0.000        &        3.000    &        3.000     \\\\\n",
       "\\bottomrule\n",
       "\\end{tabular}\n",
       "\\begin{tabular}{lclc}\n",
       "\\textbf{Omnibus:}       & 43.228 & \\textbf{  Durbin-Watson:     } &    0.004  \\\\\n",
       "\\textbf{Prob(Omnibus):} &  0.000 & \\textbf{  Jarque-Bera (JB):  } &    3.335  \\\\\n",
       "\\textbf{Skew:}          &  0.201 & \\textbf{  Prob(JB):          } &    0.189  \\\\\n",
       "\\textbf{Kurtosis:}      &  1.040 & \\textbf{  Cond. No.          } &     21.5  \\\\\n",
       "\\bottomrule\n",
       "\\end{tabular}\n",
       "%\\caption{OLS Regression Results}\n",
       "\\end{center}\n",
       "\n",
       "Notes: \\newline\n",
       " [1] Standard Errors assume that the covariance matrix of the errors is correctly specified."
      ],
      "text/plain": [
       "<class 'statsmodels.iolib.summary.Summary'>\n",
       "\"\"\"\n",
       "                            OLS Regression Results                            \n",
       "==============================================================================\n",
       "Dep. Variable:                      y   R-squared:                       1.000\n",
       "Model:                            OLS   Adj. R-squared:                  1.000\n",
       "Method:                 Least Squares   F-statistic:                 3.321e+31\n",
       "Date:                Wed, 23 Jul 2025   Prob (F-statistic):          7.48e-274\n",
       "Time:                        09:36:57   Log-Likelihood:                 611.51\n",
       "No. Observations:                  20   AIC:                            -1219.\n",
       "Df Residuals:                      18   BIC:                            -1217.\n",
       "Df Model:                           1                                         \n",
       "Covariance Type:            nonrobust                                         \n",
       "==============================================================================\n",
       "                 coef    std err          t      P>|t|      [0.025      0.975]\n",
       "------------------------------------------------------------------------------\n",
       "Intercept      5.0000   5.79e-15   8.64e+14      0.000       5.000       5.000\n",
       "x              3.0000   5.21e-16   5.76e+15      0.000       3.000       3.000\n",
       "==============================================================================\n",
       "Omnibus:                       43.228   Durbin-Watson:                   0.004\n",
       "Prob(Omnibus):                  0.000   Jarque-Bera (JB):                3.335\n",
       "Skew:                           0.201   Prob(JB):                        0.189\n",
       "Kurtosis:                       1.040   Cond. No.                         21.5\n",
       "==============================================================================\n",
       "\n",
       "Notes:\n",
       "[1] Standard Errors assume that the covariance matrix of the errors is correctly specified.\n",
       "\"\"\""
      ]
     },
     "execution_count": 109,
     "metadata": {},
     "output_type": "execute_result"
    }
   ],
   "source": [
    "#check model summary\n",
    "# Train the model\n",
    "model.summary()"
   ]
  },
  {
   "cell_type": "markdown",
   "metadata": {
    "id": "jMzpp6sNmCBo"
   },
   "source": [
    "### Regression with Error in statsmodels"
   ]
  },
  {
   "cell_type": "code",
   "execution_count": 123,
   "metadata": {
    "colab": {
     "base_uri": "https://localhost:8080/",
     "height": 143
    },
    "id": "q3sNVDJglfHr",
    "outputId": "3cd308c2-bd4d-46d7-ba3e-eb68d8d220a3"
   },
   "outputs": [
    {
     "data": {
      "text/plain": [
       "array([ 3.89589978, 10.83494278,  9.25962104, 17.4779451 , 11.02279927,\n",
       "       18.29136624, 22.31624285, 25.61099117, 35.09595166, 30.0512272 ,\n",
       "       43.27624739, 36.95453786, 39.5545879 , 40.22693865, 49.68506433,\n",
       "       49.96725214, 49.58028693, 59.13113124, 65.07069526, 72.81374651])"
      ]
     },
     "execution_count": 123,
     "metadata": {},
     "output_type": "execute_result"
    }
   ],
   "source": [
    "#adding noise\n",
    "x = np.arange(20)\n",
    "y = np.array([3 * pt + 5 + gauss(mu = 0, sigma = 5) for pt in x])\n",
    "y"
   ]
  },
  {
   "cell_type": "code",
   "execution_count": 124,
   "metadata": {},
   "outputs": [
    {
     "data": {
      "text/html": [
       "<div>\n",
       "<style scoped>\n",
       "    .dataframe tbody tr th:only-of-type {\n",
       "        vertical-align: middle;\n",
       "    }\n",
       "\n",
       "    .dataframe tbody tr th {\n",
       "        vertical-align: top;\n",
       "    }\n",
       "\n",
       "    .dataframe thead th {\n",
       "        text-align: right;\n",
       "    }\n",
       "</style>\n",
       "<table border=\"1\" class=\"dataframe\">\n",
       "  <thead>\n",
       "    <tr style=\"text-align: right;\">\n",
       "      <th></th>\n",
       "      <th>x</th>\n",
       "      <th>y</th>\n",
       "    </tr>\n",
       "  </thead>\n",
       "  <tbody>\n",
       "    <tr>\n",
       "      <th>0</th>\n",
       "      <td>0</td>\n",
       "      <td>3.895900</td>\n",
       "    </tr>\n",
       "    <tr>\n",
       "      <th>1</th>\n",
       "      <td>1</td>\n",
       "      <td>10.834943</td>\n",
       "    </tr>\n",
       "    <tr>\n",
       "      <th>2</th>\n",
       "      <td>2</td>\n",
       "      <td>9.259621</td>\n",
       "    </tr>\n",
       "    <tr>\n",
       "      <th>3</th>\n",
       "      <td>3</td>\n",
       "      <td>17.477945</td>\n",
       "    </tr>\n",
       "    <tr>\n",
       "      <th>4</th>\n",
       "      <td>4</td>\n",
       "      <td>11.022799</td>\n",
       "    </tr>\n",
       "    <tr>\n",
       "      <th>5</th>\n",
       "      <td>5</td>\n",
       "      <td>18.291366</td>\n",
       "    </tr>\n",
       "    <tr>\n",
       "      <th>6</th>\n",
       "      <td>6</td>\n",
       "      <td>22.316243</td>\n",
       "    </tr>\n",
       "    <tr>\n",
       "      <th>7</th>\n",
       "      <td>7</td>\n",
       "      <td>25.610991</td>\n",
       "    </tr>\n",
       "    <tr>\n",
       "      <th>8</th>\n",
       "      <td>8</td>\n",
       "      <td>35.095952</td>\n",
       "    </tr>\n",
       "    <tr>\n",
       "      <th>9</th>\n",
       "      <td>9</td>\n",
       "      <td>30.051227</td>\n",
       "    </tr>\n",
       "    <tr>\n",
       "      <th>10</th>\n",
       "      <td>10</td>\n",
       "      <td>43.276247</td>\n",
       "    </tr>\n",
       "    <tr>\n",
       "      <th>11</th>\n",
       "      <td>11</td>\n",
       "      <td>36.954538</td>\n",
       "    </tr>\n",
       "    <tr>\n",
       "      <th>12</th>\n",
       "      <td>12</td>\n",
       "      <td>39.554588</td>\n",
       "    </tr>\n",
       "    <tr>\n",
       "      <th>13</th>\n",
       "      <td>13</td>\n",
       "      <td>40.226939</td>\n",
       "    </tr>\n",
       "    <tr>\n",
       "      <th>14</th>\n",
       "      <td>14</td>\n",
       "      <td>49.685064</td>\n",
       "    </tr>\n",
       "    <tr>\n",
       "      <th>15</th>\n",
       "      <td>15</td>\n",
       "      <td>49.967252</td>\n",
       "    </tr>\n",
       "    <tr>\n",
       "      <th>16</th>\n",
       "      <td>16</td>\n",
       "      <td>49.580287</td>\n",
       "    </tr>\n",
       "    <tr>\n",
       "      <th>17</th>\n",
       "      <td>17</td>\n",
       "      <td>59.131131</td>\n",
       "    </tr>\n",
       "    <tr>\n",
       "      <th>18</th>\n",
       "      <td>18</td>\n",
       "      <td>65.070695</td>\n",
       "    </tr>\n",
       "    <tr>\n",
       "      <th>19</th>\n",
       "      <td>19</td>\n",
       "      <td>72.813747</td>\n",
       "    </tr>\n",
       "  </tbody>\n",
       "</table>\n",
       "</div>"
      ],
      "text/plain": [
       "     x          y\n",
       "0    0   3.895900\n",
       "1    1  10.834943\n",
       "2    2   9.259621\n",
       "3    3  17.477945\n",
       "4    4  11.022799\n",
       "5    5  18.291366\n",
       "6    6  22.316243\n",
       "7    7  25.610991\n",
       "8    8  35.095952\n",
       "9    9  30.051227\n",
       "10  10  43.276247\n",
       "11  11  36.954538\n",
       "12  12  39.554588\n",
       "13  13  40.226939\n",
       "14  14  49.685064\n",
       "15  15  49.967252\n",
       "16  16  49.580287\n",
       "17  17  59.131131\n",
       "18  18  65.070695\n",
       "19  19  72.813747"
      ]
     },
     "execution_count": 124,
     "metadata": {},
     "output_type": "execute_result"
    }
   ],
   "source": [
    "df2 = pd.DataFrame({\"x\": x, \"y\":y})\n",
    "df2"
   ]
  },
  {
   "cell_type": "code",
   "execution_count": 125,
   "metadata": {
    "colab": {
     "base_uri": "https://localhost:8080/"
    },
    "id": "jwZ7NvGlmT1a",
    "outputId": "e5416785-ab23-417d-cf79-24344483f30c"
   },
   "outputs": [
    {
     "name": "stdout",
     "output_type": "stream",
     "text": [
      "Slope 3.24938035652307\n",
      "Intercept 3.636760377375411\n"
     ]
    }
   ],
   "source": [
    "## Calculating the line of best fit\n",
    "coefficients = np.polyfit(df2['x'], df2['y'], 1)\n",
    "slope = coefficients[0]\n",
    "print(\"Slope\",slope)\n",
    "intercept = coefficients[1]\n",
    "print(\"Intercept\",intercept)\n",
    "line_of_best_fit =intercept + slope * df2['x']"
   ]
  },
  {
   "cell_type": "code",
   "execution_count": 126,
   "metadata": {
    "colab": {
     "base_uri": "https://localhost:8080/",
     "height": 539
    },
    "id": "D6gZpOjlmhMh",
    "outputId": "1bbb2171-dd90-4cb9-f2c1-df4f78d16fbc"
   },
   "outputs": [
    {
     "data": {
      "image/png": "[encoded data removed]",
      "text/plain": [
       "<Figure size 600x600 with 1 Axes>"
      ]
     },
     "metadata": {},
     "output_type": "display_data"
    }
   ],
   "source": [
    "#scatter plot/incoperating line of best_fit\n",
    "plt.figure(figsize=(6,6))\n",
    "plt.scatter(x,y);\n"
   ]
  },
  {
   "cell_type": "code",
   "execution_count": 131,
   "metadata": {
    "colab": {
     "base_uri": "https://localhost:8080/",
     "height": 441
    },
    "id": "mhapYv2empb0",
    "outputId": "2a13d153-1718-4538-be3d-112f98483686"
   },
   "outputs": [
    {
     "data": {
      "text/html": [
       "<table class=\"simpletable\">\n",
       "<caption>OLS Regression Results</caption>\n",
       "<tr>\n",
       "  <th>Dep. Variable:</th>            <td>y</td>        <th>  R-squared (uncentered):</th>      <td>   0.988</td>\n",
       "</tr>\n",
       "<tr>\n",
       "  <th>Model:</th>                   <td>OLS</td>       <th>  Adj. R-squared (uncentered):</th> <td>   0.987</td>\n",
       "</tr>\n",
       "<tr>\n",
       "  <th>Method:</th>             <td>Least Squares</td>  <th>  F-statistic:       </th>          <td>   1528.</td>\n",
       "</tr>\n",
       "<tr>\n",
       "  <th>Date:</th>             <td>Wed, 23 Jul 2025</td> <th>  Prob (F-statistic):</th>          <td>1.28e-19</td>\n",
       "</tr>\n",
       "<tr>\n",
       "  <th>Time:</th>                 <td>09:57:57</td>     <th>  Log-Likelihood:    </th>          <td> -57.892</td>\n",
       "</tr>\n",
       "<tr>\n",
       "  <th>No. Observations:</th>      <td>    20</td>      <th>  AIC:               </th>          <td>   117.8</td>\n",
       "</tr>\n",
       "<tr>\n",
       "  <th>Df Residuals:</th>          <td>    19</td>      <th>  BIC:               </th>          <td>   118.8</td>\n",
       "</tr>\n",
       "<tr>\n",
       "  <th>Df Model:</th>              <td>     1</td>      <th>                     </th>              <td> </td>   \n",
       "</tr>\n",
       "<tr>\n",
       "  <th>Covariance Type:</th>      <td>nonrobust</td>    <th>                     </th>              <td> </td>   \n",
       "</tr>\n",
       "</table>\n",
       "<table class=\"simpletable\">\n",
       "<tr>\n",
       "   <td></td>     <th>coef</th>     <th>std err</th>      <th>t</th>      <th>P>|t|</th>  <th>[0.025</th>    <th>0.975]</th>  \n",
       "</tr>\n",
       "<tr>\n",
       "  <th>x1</th> <td>    3.5291</td> <td>    0.090</td> <td>   39.084</td> <td> 0.000</td> <td>    3.340</td> <td>    3.718</td>\n",
       "</tr>\n",
       "</table>\n",
       "<table class=\"simpletable\">\n",
       "<tr>\n",
       "  <th>Omnibus:</th>       <td> 0.960</td> <th>  Durbin-Watson:     </th> <td>   1.577</td>\n",
       "</tr>\n",
       "<tr>\n",
       "  <th>Prob(Omnibus):</th> <td> 0.619</td> <th>  Jarque-Bera (JB):  </th> <td>   0.754</td>\n",
       "</tr>\n",
       "<tr>\n",
       "  <th>Skew:</th>          <td> 0.086</td> <th>  Prob(JB):          </th> <td>   0.686</td>\n",
       "</tr>\n",
       "<tr>\n",
       "  <th>Kurtosis:</th>      <td> 2.065</td> <th>  Cond. No.          </th> <td>    1.00</td>\n",
       "</tr>\n",
       "</table><br/><br/>Notes:<br/>[1] R² is computed without centering (uncentered) since the model does not contain a constant.<br/>[2] Standard Errors assume that the covariance matrix of the errors is correctly specified."
      ],
      "text/latex": [
       "\\begin{center}\n",
       "\\begin{tabular}{lclc}\n",
       "\\toprule\n",
       "\\textbf{Dep. Variable:}    &        y         & \\textbf{  R-squared (uncentered):}      &     0.988   \\\\\n",
       "\\textbf{Model:}            &       OLS        & \\textbf{  Adj. R-squared (uncentered):} &     0.987   \\\\\n",
       "\\textbf{Method:}           &  Least Squares   & \\textbf{  F-statistic:       }          &     1528.   \\\\\n",
       "\\textbf{Date:}             & Wed, 23 Jul 2025 & \\textbf{  Prob (F-statistic):}          &  1.28e-19   \\\\\n",
       "\\textbf{Time:}             &     09:57:57     & \\textbf{  Log-Likelihood:    }          &   -57.892   \\\\\n",
       "\\textbf{No. Observations:} &          20      & \\textbf{  AIC:               }          &     117.8   \\\\\n",
       "\\textbf{Df Residuals:}     &          19      & \\textbf{  BIC:               }          &     118.8   \\\\\n",
       "\\textbf{Df Model:}         &           1      & \\textbf{                     }          &             \\\\\n",
       "\\textbf{Covariance Type:}  &    nonrobust     & \\textbf{                     }          &             \\\\\n",
       "\\bottomrule\n",
       "\\end{tabular}\n",
       "\\begin{tabular}{lcccccc}\n",
       "            & \\textbf{coef} & \\textbf{std err} & \\textbf{t} & \\textbf{P$> |$t$|$} & \\textbf{[0.025} & \\textbf{0.975]}  \\\\\n",
       "\\midrule\n",
       "\\textbf{x1} &       3.5291  &        0.090     &    39.084  &         0.000        &        3.340    &        3.718     \\\\\n",
       "\\bottomrule\n",
       "\\end{tabular}\n",
       "\\begin{tabular}{lclc}\n",
       "\\textbf{Omnibus:}       &  0.960 & \\textbf{  Durbin-Watson:     } &    1.577  \\\\\n",
       "\\textbf{Prob(Omnibus):} &  0.619 & \\textbf{  Jarque-Bera (JB):  } &    0.754  \\\\\n",
       "\\textbf{Skew:}          &  0.086 & \\textbf{  Prob(JB):          } &    0.686  \\\\\n",
       "\\textbf{Kurtosis:}      &  2.065 & \\textbf{  Cond. No.          } &     1.00  \\\\\n",
       "\\bottomrule\n",
       "\\end{tabular}\n",
       "%\\caption{OLS Regression Results}\n",
       "\\end{center}\n",
       "\n",
       "Notes: \\newline\n",
       " [1] R² is computed without centering (uncentered) since the model does not contain a constant. \\newline\n",
       " [2] Standard Errors assume that the covariance matrix of the errors is correctly specified."
      ],
      "text/plain": [
       "<class 'statsmodels.iolib.summary.Summary'>\n",
       "\"\"\"\n",
       "                                 OLS Regression Results                                \n",
       "=======================================================================================\n",
       "Dep. Variable:                      y   R-squared (uncentered):                   0.988\n",
       "Model:                            OLS   Adj. R-squared (uncentered):              0.987\n",
       "Method:                 Least Squares   F-statistic:                              1528.\n",
       "Date:                Wed, 23 Jul 2025   Prob (F-statistic):                    1.28e-19\n",
       "Time:                        09:57:57   Log-Likelihood:                         -57.892\n",
       "No. Observations:                  20   AIC:                                      117.8\n",
       "Df Residuals:                      19   BIC:                                      118.8\n",
       "Df Model:                           1                                                  \n",
       "Covariance Type:            nonrobust                                                  \n",
       "==============================================================================\n",
       "                 coef    std err          t      P>|t|      [0.025      0.975]\n",
       "------------------------------------------------------------------------------\n",
       "x1             3.5291      0.090     39.084      0.000       3.340       3.718\n",
       "==============================================================================\n",
       "Omnibus:                        0.960   Durbin-Watson:                   1.577\n",
       "Prob(Omnibus):                  0.619   Jarque-Bera (JB):                0.754\n",
       "Skew:                           0.086   Prob(JB):                        0.686\n",
       "Kurtosis:                       2.065   Cond. No.                         1.00\n",
       "==============================================================================\n",
       "\n",
       "Notes:\n",
       "[1] R² is computed without centering (uncentered) since the model does not contain a constant.\n",
       "[2] Standard Errors assume that the covariance matrix of the errors is correctly specified.\n",
       "\"\"\""
      ]
     },
     "execution_count": 131,
     "metadata": {},
     "output_type": "execute_result"
    }
   ],
   "source": [
    "#calling and creating the model # you can use sm.formula.ols too... model = sm.formula.ols(formula='y~x', data=df2).fit()\n",
    "model2 = sm.OLS(endog = y, exog = x).fit()\n",
    "model2.summary()"
   ]
  },
  {
   "cell_type": "markdown",
   "metadata": {
    "id": "ou9435gymwqs"
   },
   "source": [
    "#### Fitted Model Attributes and Methods"
   ]
  },
  {
   "cell_type": "code",
   "execution_count": 132,
   "metadata": {
    "colab": {
     "base_uri": "https://localhost:8080/"
    },
    "id": "hpGHSZJ1mtiG",
    "outputId": "698d2895-f392-46f1-c60e-ff6bd0455340"
   },
   "outputs": [
    {
     "data": {
      "text/plain": [
       "array([39.08373657])"
      ]
     },
     "execution_count": 132,
     "metadata": {},
     "output_type": "execute_result"
    }
   ],
   "source": [
    "# t_statistics\n",
    "model2.tvalues"
   ]
  },
  {
   "cell_type": "code",
   "execution_count": 133,
   "metadata": {
    "colab": {
     "base_uri": "https://localhost:8080/"
    },
    "id": "nRJaiI3cm_BB",
    "outputId": "e68ebfd9-2c45-43f5-e51a-14e898026d43"
   },
   "outputs": [
    {
     "data": {
      "text/plain": [
       "array([1.28384087e-19])"
      ]
     },
     "execution_count": 133,
     "metadata": {},
     "output_type": "execute_result"
    }
   ],
   "source": [
    "# p value\n",
    "# Prob (F-statistic)\n",
    "model2.pvalues"
   ]
  },
  {
   "cell_type": "markdown",
   "metadata": {
    "id": "P0rDHAjFnMGT"
   },
   "source": [
    "#####  Adding a constant"
   ]
  },
  {
   "cell_type": "code",
   "execution_count": 136,
   "metadata": {
    "id": "bq3mWntqnCor"
   },
   "outputs": [
    {
     "data": {
      "text/plain": [
       "array([[ 1.,  0.],\n",
       "       [ 1.,  1.],\n",
       "       [ 1.,  2.],\n",
       "       [ 1.,  3.],\n",
       "       [ 1.,  4.],\n",
       "       [ 1.,  5.],\n",
       "       [ 1.,  6.],\n",
       "       [ 1.,  7.],\n",
       "       [ 1.,  8.],\n",
       "       [ 1.,  9.],\n",
       "       [ 1., 10.],\n",
       "       [ 1., 11.],\n",
       "       [ 1., 12.],\n",
       "       [ 1., 13.],\n",
       "       [ 1., 14.],\n",
       "       [ 1., 15.],\n",
       "       [ 1., 16.],\n",
       "       [ 1., 17.],\n",
       "       [ 1., 18.],\n",
       "       [ 1., 19.]])"
      ]
     },
     "execution_count": 136,
     "metadata": {},
     "output_type": "execute_result"
    }
   ],
   "source": [
    "#adding constant\n",
    "# Add a constant term to the predictor variables/feature\n",
    "x = np.arange(20)\n",
    "y = np.array([3 * pt + 5 + gauss(mu = 0, sigma = 5) for pt in x])\n",
    "x_1 = sm.add_constant(x)\n",
    "x_1"
   ]
  },
  {
   "cell_type": "code",
   "execution_count": 137,
   "metadata": {
    "id": "GcfieKYQnJou"
   },
   "outputs": [
    {
     "data": {
      "text/html": [
       "<table class=\"simpletable\">\n",
       "<caption>OLS Regression Results</caption>\n",
       "<tr>\n",
       "  <th>Dep. Variable:</th>            <td>y</td>        <th>  R-squared:         </th> <td>   0.939</td>\n",
       "</tr>\n",
       "<tr>\n",
       "  <th>Model:</th>                   <td>OLS</td>       <th>  Adj. R-squared:    </th> <td>   0.935</td>\n",
       "</tr>\n",
       "<tr>\n",
       "  <th>Method:</th>             <td>Least Squares</td>  <th>  F-statistic:       </th> <td>   275.0</td>\n",
       "</tr>\n",
       "<tr>\n",
       "  <th>Date:</th>             <td>Wed, 23 Jul 2025</td> <th>  Prob (F-statistic):</th> <td>2.38e-12</td>\n",
       "</tr>\n",
       "<tr>\n",
       "  <th>Time:</th>                 <td>10:20:03</td>     <th>  Log-Likelihood:    </th> <td> -57.425</td>\n",
       "</tr>\n",
       "<tr>\n",
       "  <th>No. Observations:</th>      <td>    20</td>      <th>  AIC:               </th> <td>   118.9</td>\n",
       "</tr>\n",
       "<tr>\n",
       "  <th>Df Residuals:</th>          <td>    18</td>      <th>  BIC:               </th> <td>   120.8</td>\n",
       "</tr>\n",
       "<tr>\n",
       "  <th>Df Model:</th>              <td>     1</td>      <th>                     </th>     <td> </td>   \n",
       "</tr>\n",
       "<tr>\n",
       "  <th>Covariance Type:</th>      <td>nonrobust</td>    <th>                     </th>     <td> </td>   \n",
       "</tr>\n",
       "</table>\n",
       "<table class=\"simpletable\">\n",
       "<tr>\n",
       "    <td></td>       <th>coef</th>     <th>std err</th>      <th>t</th>      <th>P>|t|</th>  <th>[0.025</th>    <th>0.975]</th>  \n",
       "</tr>\n",
       "<tr>\n",
       "  <th>const</th> <td>    6.4621</td> <td>    1.941</td> <td>    3.329</td> <td> 0.004</td> <td>    2.384</td> <td>   10.540</td>\n",
       "</tr>\n",
       "<tr>\n",
       "  <th>x1</th>    <td>    2.8967</td> <td>    0.175</td> <td>   16.584</td> <td> 0.000</td> <td>    2.530</td> <td>    3.264</td>\n",
       "</tr>\n",
       "</table>\n",
       "<table class=\"simpletable\">\n",
       "<tr>\n",
       "  <th>Omnibus:</th>       <td> 1.150</td> <th>  Durbin-Watson:     </th> <td>   1.551</td>\n",
       "</tr>\n",
       "<tr>\n",
       "  <th>Prob(Omnibus):</th> <td> 0.563</td> <th>  Jarque-Bera (JB):  </th> <td>   0.967</td>\n",
       "</tr>\n",
       "<tr>\n",
       "  <th>Skew:</th>          <td> 0.488</td> <th>  Prob(JB):          </th> <td>   0.617</td>\n",
       "</tr>\n",
       "<tr>\n",
       "  <th>Kurtosis:</th>      <td> 2.544</td> <th>  Cond. No.          </th> <td>    21.5</td>\n",
       "</tr>\n",
       "</table><br/><br/>Notes:<br/>[1] Standard Errors assume that the covariance matrix of the errors is correctly specified."
      ],
      "text/latex": [
       "\\begin{center}\n",
       "\\begin{tabular}{lclc}\n",
       "\\toprule\n",
       "\\textbf{Dep. Variable:}    &        y         & \\textbf{  R-squared:         } &     0.939   \\\\\n",
       "\\textbf{Model:}            &       OLS        & \\textbf{  Adj. R-squared:    } &     0.935   \\\\\n",
       "\\textbf{Method:}           &  Least Squares   & \\textbf{  F-statistic:       } &     275.0   \\\\\n",
       "\\textbf{Date:}             & Wed, 23 Jul 2025 & \\textbf{  Prob (F-statistic):} &  2.38e-12   \\\\\n",
       "\\textbf{Time:}             &     10:20:03     & \\textbf{  Log-Likelihood:    } &   -57.425   \\\\\n",
       "\\textbf{No. Observations:} &          20      & \\textbf{  AIC:               } &     118.9   \\\\\n",
       "\\textbf{Df Residuals:}     &          18      & \\textbf{  BIC:               } &     120.8   \\\\\n",
       "\\textbf{Df Model:}         &           1      & \\textbf{                     } &             \\\\\n",
       "\\textbf{Covariance Type:}  &    nonrobust     & \\textbf{                     } &             \\\\\n",
       "\\bottomrule\n",
       "\\end{tabular}\n",
       "\\begin{tabular}{lcccccc}\n",
       "               & \\textbf{coef} & \\textbf{std err} & \\textbf{t} & \\textbf{P$> |$t$|$} & \\textbf{[0.025} & \\textbf{0.975]}  \\\\\n",
       "\\midrule\n",
       "\\textbf{const} &       6.4621  &        1.941     &     3.329  &         0.004        &        2.384    &       10.540     \\\\\n",
       "\\textbf{x1}    &       2.8967  &        0.175     &    16.584  &         0.000        &        2.530    &        3.264     \\\\\n",
       "\\bottomrule\n",
       "\\end{tabular}\n",
       "\\begin{tabular}{lclc}\n",
       "\\textbf{Omnibus:}       &  1.150 & \\textbf{  Durbin-Watson:     } &    1.551  \\\\\n",
       "\\textbf{Prob(Omnibus):} &  0.563 & \\textbf{  Jarque-Bera (JB):  } &    0.967  \\\\\n",
       "\\textbf{Skew:}          &  0.488 & \\textbf{  Prob(JB):          } &    0.617  \\\\\n",
       "\\textbf{Kurtosis:}      &  2.544 & \\textbf{  Cond. No.          } &     21.5  \\\\\n",
       "\\bottomrule\n",
       "\\end{tabular}\n",
       "%\\caption{OLS Regression Results}\n",
       "\\end{center}\n",
       "\n",
       "Notes: \\newline\n",
       " [1] Standard Errors assume that the covariance matrix of the errors is correctly specified."
      ],
      "text/plain": [
       "<class 'statsmodels.iolib.summary.Summary'>\n",
       "\"\"\"\n",
       "                            OLS Regression Results                            \n",
       "==============================================================================\n",
       "Dep. Variable:                      y   R-squared:                       0.939\n",
       "Model:                            OLS   Adj. R-squared:                  0.935\n",
       "Method:                 Least Squares   F-statistic:                     275.0\n",
       "Date:                Wed, 23 Jul 2025   Prob (F-statistic):           2.38e-12\n",
       "Time:                        10:20:03   Log-Likelihood:                -57.425\n",
       "No. Observations:                  20   AIC:                             118.9\n",
       "Df Residuals:                      18   BIC:                             120.8\n",
       "Df Model:                           1                                         \n",
       "Covariance Type:            nonrobust                                         \n",
       "==============================================================================\n",
       "                 coef    std err          t      P>|t|      [0.025      0.975]\n",
       "------------------------------------------------------------------------------\n",
       "const          6.4621      1.941      3.329      0.004       2.384      10.540\n",
       "x1             2.8967      0.175     16.584      0.000       2.530       3.264\n",
       "==============================================================================\n",
       "Omnibus:                        1.150   Durbin-Watson:                   1.551\n",
       "Prob(Omnibus):                  0.563   Jarque-Bera (JB):                0.967\n",
       "Skew:                           0.488   Prob(JB):                        0.617\n",
       "Kurtosis:                       2.544   Cond. No.                         21.5\n",
       "==============================================================================\n",
       "\n",
       "Notes:\n",
       "[1] Standard Errors assume that the covariance matrix of the errors is correctly specified.\n",
       "\"\"\""
      ]
     },
     "execution_count": 137,
     "metadata": {},
     "output_type": "execute_result"
    }
   ],
   "source": [
    "#model with a constant\n",
    "#model = sm.OLS(y,x_1).fit() \n",
    "# you can use . model = sm.formula.ols(formula='y~x', data=df2).fit()\n",
    "\n",
    "model3 = sm.OLS(endog = y, exog = x_1).fit()\n",
    "#model3 = sm.OLS(y, x_1).fit()\n",
    "model3.summary()"
   ]
  },
  {
   "cell_type": "markdown",
   "metadata": {
    "id": "cBrry6Qsnc8n"
   },
   "source": [
    "The `.summary()` method contains lots of helpful information about the model."
   ]
  },
  {
   "cell_type": "code",
   "execution_count": 29,
   "metadata": {
    "colab": {
     "base_uri": "https://localhost:8080/",
     "height": 445
    },
    "id": "t8-ChI8onX1M",
    "outputId": "7f1dcd25-f80f-413b-ffb4-7a247bb5bb58"
   },
   "outputs": [],
   "source": [
    "#Model summary\n",
    "#model.summary()"
   ]
  },
  {
   "cell_type": "markdown",
   "metadata": {
    "id": "tUf-PXnhnvNp"
   },
   "source": [
    "[Regression playground](https://www.desmos.com/calculator/jwquvmikhr)"
   ]
  },
  {
   "cell_type": "markdown",
   "metadata": {
    "id": "bcBEb_TtnwYd"
   },
   "source": [
    "What are all these statistics!? Let's say a word about them."
   ]
  },
  {
   "cell_type": "markdown",
   "metadata": {
    "id": "NckdYmQwn1j2"
   },
   "source": [
    "## Coefficient of Determination"
   ]
  },
  {
   "cell_type": "markdown",
   "metadata": {
    "id": "n6J21SrMn5De"
   },
   "source": [
    "Very often a data scientist will calculate $R^2$, the *coefficient of determination*, as a measure of how well the model fits the data.\n",
    "\n",
    "$R^2$ for a model is ultimately a _relational_ notion. It's a measure of goodness of fit _relative_ to a (bad) baseline model. This bad baseline model is simply the horizontal line $y = \\mu_Y$, for dependent variable $Y$.\n",
    "\n",
    "The actual calculation of $R^2$ is: <br/> $\\Large R^2\\equiv 1-\\frac{\\Sigma_i(y_i - \\hat{y}_i)^2}{\\Sigma_i(y_i - \\bar{y})^2}$.\n",
    "\n",
    "$R^2$ is a measure of how much variation in the dependent variable your model explains."
   ]
  },
  {
   "cell_type": "markdown",
   "metadata": {
    "id": "9zToQm32n-Oa"
   },
   "source": [
    "- **F-statistic**: The F-test measures the significance of your model relative to a model in which all coefficients are 0, i.e. relative to a model that says there is no correlation whatever between the predictors and the target. <br/><br/>\n",
    "- **Log-Likelihood**: The probability in question is the probability of seeing these data points, *given* the model parameter values. The higher this is, the more our data conform to our model and so the better our fit. AIC and BIC are related to the log-likelihood; we'll talk about those later. <br/><br/>\n",
    "- **coef**: These are the betas as calculated by the least-squares regression. We also have p-values and 95%-confidence intervals. <br/><br/>\n",
    "- **Omnibus**: This is a test for error normality. The probability is the chance that the errors are normally distributed. <br/><br/>\n",
    "- **Durbin-Watson**: This is a test for autocorrelation. We'll return to this topic in a future lecture. <br/><br/>\n",
    "- **Jarque-Bera**: This is another test for error normality. <br/><br/>\n",
    "- **Cond. No.**: The condition number tests for independence of the predictors. Lower scores are better. When the predictors are *not* independent, we can run into problems of multicollinearity. For more on the condition number, see [here](https://stats.stackexchange.com/questions/168259/how-do-you-interpret-the-condition-number-of-a-correlation-matrix)."
   ]
  },
  {
   "cell_type": "markdown",
   "metadata": {
    "id": "-txIvUFHoGy2"
   },
   "source": [
    "# Assumptions of Linear Regression\n",
    "\n",
    "Linear regression models make the following assumptions about the data and the process that generated them.\n",
    "\n",
    "[Here](https://www.statisticssolutions.com/assumptions-of-linear-regression/) is a helpful resource on the assumptions of linear regression."
   ]
  },
  {
   "cell_type": "markdown",
   "metadata": {
    "id": "qi4VsESqoOZH"
   },
   "source": [
    "## Linearity\n",
    "The relationship between the target and predictor is linear. Check this by drawing a scatter plot of your predictor and your target, and see if there is evidence that the relationship might not follow a straight line."
   ]
  },
  {
   "cell_type": "markdown",
   "metadata": {
    "id": "zgsl13Q1oTfX"
   },
   "source": [
    "## Independence\n",
    "**The errors are independent**. In other words: Knowing the error for one point doesn't tell you anything about the error for another.\n",
    "\n",
    "**How can I check for this?**\n",
    "- Make a scatter plot of the residuals and target values and look for patterns\n",
    "- Check the Durbin-Watson score"
   ]
  },
  {
   "cell_type": "markdown",
   "metadata": {
    "id": "G6DGi2OToZRR"
   },
   "source": [
    "## Normality\n",
    "**The errors are normally distributed.** That is, smaller errors are more probable than larger errors, according to the familiar bell curve.\n",
    "\n",
    "**How can I check for this?**\n",
    "- Make a histogram of the residuals\n",
    "- Build a QQ-Plot\n",
    "- Check the Jarque-Bera or Omnibus p-value (from `statsmodels` output)"
   ]
  },
  {
   "cell_type": "markdown",
   "metadata": {
    "id": "TuCWedXToeFe"
   },
   "source": [
    "## Homoskedasticity\n",
    "\n",
    "**The errors are homoskedastic.** That is, the errors have the same variance.\n",
    "\n",
    "(The Greek word $\\sigma\\kappa\\epsilon\\delta\\acute{\\alpha}\\nu\\nu\\upsilon\\mu\\iota$ means \"to scatter\".)\n",
    "\n",
    "**How can I check for this?**\n",
    "- Make a scatter plot of the residuals and target values and look to see if they are more or less spread out at different places\n",
    "- Conduct a formal test (e.g. Goldfeld-Quandt)"
   ]
  },
  {
   "cell_type": "markdown",
   "metadata": {
    "id": "0CvW8Ejdoj_3"
   },
   "source": [
    "## Violations of Assumptions\n",
    "\n",
    "No model is perfect, and your assumptions will never hold perfectly. If the violations of assumptions are severe, you can try adjusting the data so the assumptions will hold, such as by...\n",
    "\n",
    "- Transforming your data with a non-linear function (e.g. log)\n",
    "- Only modeling a subset of your data\n",
    "- Dropping outliers"
   ]
  },
  {
   "cell_type": "markdown",
   "metadata": {
    "id": "SpemqnfoqP1K"
   },
   "source": [
    "## Using ScikitLearn"
   ]
  },
  {
   "cell_type": "code",
   "execution_count": null,
   "metadata": {
    "id": "-cqgvRHfo3p-"
   },
   "outputs": [],
   "source": [
    "#load the daste\n",
    "#data = pd.read_csv(\"teams.csv\")"
   ]
  },
  {
   "cell_type": "code",
   "execution_count": 30,
   "metadata": {
    "colab": {
     "base_uri": "https://localhost:8080/",
     "height": 206
    },
    "id": "1bJSGJiEo6aX",
    "outputId": "9bfc0cbd-526c-428f-cad4-aab6ca3d31e6"
   },
   "outputs": [],
   "source": [
    "#check top 5 rows\n",
    "#data.head()"
   ]
  },
  {
   "cell_type": "code",
   "execution_count": 31,
   "metadata": {
    "colab": {
     "base_uri": "https://localhost:8080/"
    },
    "id": "2Nyfr0K3o9bn",
    "outputId": "091ce93e-1667-4c4b-e9ba-fb59bbce33a3"
   },
   "outputs": [],
   "source": [
    "#checking the number of models won\n",
    "#data[\"medals\"].value_counts()"
   ]
  },
  {
   "cell_type": "code",
   "execution_count": null,
   "metadata": {
    "id": "ZPDo-6vppGOv"
   },
   "outputs": [],
   "source": [
    "# divide data into x(feature) and y(label/target)\n",
    "#X = data[[\"athletes\"]]\n",
    "#y = data[[\"medals\"]]"
   ]
  },
  {
   "cell_type": "code",
   "execution_count": 32,
   "metadata": {
    "id": "zkovt6w-qR_X"
   },
   "outputs": [],
   "source": [
    "#import the linear regression model\n",
    "#from sklearn.linear_model import LinearRegression\n",
    "\n",
    "#call the model\n",
    "#model = LinearRegression()"
   ]
  },
  {
   "cell_type": "code",
   "execution_count": 33,
   "metadata": {
    "colab": {
     "base_uri": "https://localhost:8080/",
     "height": 74
    },
    "id": "wBn7XJY0qW0I",
    "outputId": "160868f7-8a76-46ee-928a-eb426fc22396"
   },
   "outputs": [],
   "source": [
    "#Train the model\n",
    "#model.fit(X,y)"
   ]
  },
  {
   "cell_type": "code",
   "execution_count": 35,
   "metadata": {
    "colab": {
     "base_uri": "https://localhost:8080/"
    },
    "id": "oRZTkOqQqsgP",
    "outputId": "1f689042-bcc3-4175-a3e2-f0ad8803d428"
   },
   "outputs": [],
   "source": [
    "#check intercept\n",
    "#model.intercept_"
   ]
  },
  {
   "cell_type": "code",
   "execution_count": 34,
   "metadata": {
    "colab": {
     "base_uri": "https://localhost:8080/"
    },
    "id": "5mk39-Zfq2HG",
    "outputId": "f0ccf0fd-e297-4060-96d4-17f83ba925af"
   },
   "outputs": [],
   "source": [
    "#check coefficeince\n",
    "#model.coef_"
   ]
  },
  {
   "cell_type": "code",
   "execution_count": 36,
   "metadata": {
    "colab": {
     "base_uri": "https://localhost:8080/"
    },
    "id": "_69xGqhZqgWH",
    "outputId": "63a903c4-96bf-40cd-e192-31c6689a9c2c"
   },
   "outputs": [],
   "source": [
    "#check prediction\n",
    "#model.predict(X)"
   ]
  },
  {
   "cell_type": "code",
   "execution_count": 37,
   "metadata": {
    "colab": {
     "base_uri": "https://localhost:8080/"
    },
    "id": "xKGbQy9drsAv",
    "outputId": "df7f9d66-10d4-4872-e11c-ae0cd59a157f"
   },
   "outputs": [],
   "source": [
    "#Get the accuracy\n",
    "#model.score(X,y)"
   ]
  },
  {
   "cell_type": "markdown",
   "metadata": {
    "id": "9eNyqdhKVqhZ"
   },
   "source": [
    "### Assignment\n",
    "\n",
    "Using the same teams dataset. use age instead of athletes feature to predict the number of medals. use both OLS and sklearn approach."
   ]
  },
  {
   "cell_type": "code",
   "execution_count": 12,
   "metadata": {
    "id": "zTjpopCmWEBe"
   },
   "outputs": [],
   "source": [
    "#start using this code\n",
    "#data2 = pd.read_csv(\"teams.csv\")"
   ]
  },
  {
   "cell_type": "code",
   "execution_count": 38,
   "metadata": {},
   "outputs": [],
   "source": [
    "#data2.head()"
   ]
  },
  {
   "cell_type": "code",
   "execution_count": null,
   "metadata": {},
   "outputs": [],
   "source": []
  }
 ],
 "metadata": {
  "colab": {
   "provenance": []
  },
  "kernelspec": {
   "display_name": "Python 3 (ipykernel)",
   "language": "python",
   "name": "python3"
  },
  "language_info": {
   "codemirror_mode": {
    "name": "ipython",
    "version": 3
   },
   "file_extension": ".py",
   "mimetype": "text/x-python",
   "name": "python",
   "nbconvert_exporter": "python",
   "pygments_lexer": "ipython3",
   "version": "3.8.5"
  },
  "toc": {
   "base_numbering": 1,
   "nav_menu": {},
   "number_sections": true,
   "sideBar": true,
   "skip_h1_title": false,
   "title_cell": "Table of Contents",
   "title_sidebar": "Contents",
   "toc_cell": false,
   "toc_position": {},
   "toc_section_display": true,
   "toc_window_display": false
  }
 },
 "nbformat": 4,
 "nbformat_minor": 1
}
