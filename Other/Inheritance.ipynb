{
 "cells": [
  {
   "cell_type": "markdown",
   "id": "371b61f5",
   "metadata": {},
   "source": [
    "This is a demonstration on inheritance using Python.\n",
    "\n",
    "We will focus on automobiles and how certain attributes can be inherited\n",
    "\n",
    "**Assumptions made:**\n",
    "\n",
    "- The companies listed below only produced one car.\n",
    "- The car comes in only one trim level."
   ]
  },
  {
   "cell_type": "code",
   "execution_count": 1,
   "id": "c3ff3a28",
   "metadata": {},
   "outputs": [],
   "source": [
    "# Abstract class\n",
    "class Automobile:\n",
    "    def __init__(self, make, model):\n",
    "        self.make = make.title()\n",
    "        self.model = model.title()\n",
    "        self.wheels = 4\n",
    "        self.engine_cc = 0\n",
    "        self.transmission = \"automatic\"\n",
    "        self.origin = \"Japan\"\n",
    "        self.yom = 1900\n",
    "        \n",
    "    def slogan(self):\n",
    "        if self.make == \"Toyota\":\n",
    "            return \"Let's go places\"\n",
    "        elif self.make == \"Bmw\":\n",
    "            return \"The Ultimate Driving Machine\"\n",
    "        elif self.make == \"Mercedes Benz\":\n",
    "            return \"The Best or Nothing\"\n",
    "        elif self.make == \"Nissan\":\n",
    "            return \"Driving Innovation to Enrich People's Lives\"\n",
    "        elif self.make == \"Lexus\":\n",
    "            return \"The Relentless Pursuit of Perfection\"\n",
    "        elif self.make == \"Audi\":\n",
    "            return \"Vorsprung Durch Technik/ Progress Through Technology\"\n",
    "        elif self.make == \"Volkswagen\":\n",
    "            return \"Das Auto/ The Car\"\n",
    "        elif self.make == \"Honda\":\n",
    "            return \"The Power of Dreams\"\n",
    "        else:\n",
    "            return \"Error 404\""
   ]
  },
  {
   "cell_type": "code",
   "execution_count": 2,
   "id": "d9587a70",
   "metadata": {},
   "outputs": [],
   "source": [
    "# Toyota\n",
    "class Toyota(Automobile):\n",
    "    def __init__(self, make, model):\n",
    "        super().__init__(make, model)\n",
    "        self.yom = 2003\n",
    "        self.engine_cc = 1500\n",
    "        self.transmission = \"4-speed-automatic\"\n",
    "        self.origin = \"Japan\""
   ]
  },
  {
   "cell_type": "code",
   "execution_count": 3,
   "id": "2cb86db8",
   "metadata": {},
   "outputs": [],
   "source": [
    "# Mercedes Benz 190E\n",
    "class Merc(Automobile):\n",
    "    def __init__(self, make, model):\n",
    "        super().__init__(make, model)\n",
    "        self.yom = 1986\n",
    "        self.engine_cc = 2300\n",
    "        self.transmission = \"4-speed-automatic\"\n",
    "        self.origin = \"Germany\""
   ]
  },
  {
   "cell_type": "code",
   "execution_count": 4,
   "id": "fa46b39f",
   "metadata": {},
   "outputs": [],
   "source": [
    "# Honda Civic Type-R\n",
    "class Honda(Automobile):\n",
    "    def __init__(self, make, model):\n",
    "        super().__init__(make, model)\n",
    "        self.yom = 2018\n",
    "        self_engine_cc = 2000\n",
    "        self.transmission = \"6-speed manual\"\n",
    "        self.origin = \"Japan\""
   ]
  },
  {
   "cell_type": "code",
   "execution_count": 5,
   "id": "551e39f4",
   "metadata": {},
   "outputs": [],
   "source": [
    "# Volvo FH16 780\n",
    "class Volvo(Automobile):\n",
    "    def __init__(self, make, model):\n",
    "        super().__init__(make, model)\n",
    "        self.yom = 2025\n",
    "        self.engine_cc = 17300\n",
    "        self.transmission = \"12-speed i-Shift\"\n",
    "        self.origin = \"Sweden\"\n",
    "        self.wheels = 10"
   ]
  },
  {
   "cell_type": "code",
   "execution_count": 6,
   "id": "56dcfd48",
   "metadata": {},
   "outputs": [],
   "source": [
    "# Isuzu NQR\n",
    "class Isuzu(Automobile):\n",
    "    def __init__(self, make, model):\n",
    "        super().__init__(make, model)\n",
    "        self.yom = 2020\n",
    "        self.engine_cc = 5000\n",
    "        self.transmission = \"6-speed manual\"\n",
    "        self.origin = \"Japan\"\n",
    "        self.wheels = 6"
   ]
  },
  {
   "cell_type": "code",
   "execution_count": 7,
   "id": "b0c2282e",
   "metadata": {},
   "outputs": [],
   "source": [
    "# Lexus LX570\n",
    "class Lexus(Automobile):\n",
    "    def __init__(self, make, model):\n",
    "        super().__init__(make, model)\n",
    "        self.yom = 2021\n",
    "        self_engine_cc = 5700\n",
    "        self.transmission = \"8-speed automatic\"\n",
    "        self.origin = \"Japan\""
   ]
  },
  {
   "cell_type": "code",
   "execution_count": 8,
   "id": "903ce063",
   "metadata": {},
   "outputs": [],
   "source": [
    "corolla = Toyota(\"Toyota\",\"Corolla\")\n",
    "e190 = Merc(\"Mercedes Benz\",\"190E\")\n",
    "civic = Honda(\"Honda\", \"Civic Type-R\")\n",
    "fh16 = Volvo(\"Volvo\", \"FH16 780\")\n",
    "nqr = Isuzu(\"Isuzu\", \"NQR\")\n",
    "lx570 = Lexus(\"Lexus\", \"LX570\")\n",
    "\n",
    "cars = [corolla, e190, civic, fh16, nqr, lx570]"
   ]
  },
  {
   "cell_type": "code",
   "execution_count": 9,
   "id": "580bf65b",
   "metadata": {},
   "outputs": [
    {
     "name": "stdout",
     "output_type": "stream",
     "text": [
      "Car: Toyota Corolla, Slogan: Let's go places\n",
      "Car: Mercedes Benz 190E, Slogan: The Best or Nothing\n",
      "Car: Honda Civic Type-R, Slogan: The Power of Dreams\n",
      "Car: Volvo Fh16 780, Slogan: Error 404\n",
      "Car: Isuzu Nqr, Slogan: Error 404\n",
      "Car: Lexus Lx570, Slogan: The Relentless Pursuit of Perfection\n"
     ]
    }
   ],
   "source": [
    "for car in cars:\n",
    "    print(f\"Car: {car.make} {car.model}, Slogan: {car.slogan()}\")"
   ]
  }
 ],
 "metadata": {
  "kernelspec": {
   "display_name": "Python (learn-env)",
   "language": "python",
   "name": "learn-env"
  },
  "language_info": {
   "codemirror_mode": {
    "name": "ipython",
    "version": 3
   },
   "file_extension": ".py",
   "mimetype": "text/x-python",
   "name": "python",
   "nbconvert_exporter": "python",
   "pygments_lexer": "ipython3",
   "version": "3.8.5"
  }
 },
 "nbformat": 4,
 "nbformat_minor": 5
}
