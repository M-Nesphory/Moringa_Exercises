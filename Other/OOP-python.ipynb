{
 "cells": [
  {
   "cell_type": "markdown",
   "id": "9d72c621",
   "metadata": {},
   "source": [
    "###  Introduction: What is Object-Oriented Programming (OOP)?\n",
    "\n",
    "Object-Oriented Programming (OOP) is a programming paradigm that organizes code around **objects**—real-world or abstract entities that combine **data** (attributes) and **behavior** (methods). Instead of writing functions and variables separately, OOP bundles them into reusable, modular building blocks.\n",
    "\n",
    "At its core, OOP is about modeling the world with **classes** (blueprints) and **objects** (instances of those blueprints).\n",
    "\n",
    "#### Why OOP Matters in Python (and in Data Science!)\n",
    "\n",
    "Python is a multi-paradigm language, but it shines with OOP thanks to its clean syntax and flexibility. In data science and machine learning, OOP helps you:\n",
    "\n",
    "* Organize code into reusable components (like `DataLoader`, `Model`, `Evaluator`)\n",
    "* Build modular ML pipelines\n",
    "* Create custom objects that behave like native Python data types\n",
    "* Improve readability, scalability, and testing\n",
    "\n",
    "####  Key Concepts of OOP:\n",
    "\n",
    "We'll explore the four pillars of OOP, also known as the \"Big Four\":\n",
    "\n",
    "1. **Encapsulation** – Hiding internal state and requiring all interaction to be performed through an object’s methods.\n",
    "2. **Abstraction** – Focusing on essential qualities rather than specific characteristics.\n",
    "3. **Inheritance** – Reusing code by creating a hierarchy of classes.\n",
    "4. **Polymorphism** – Using a unified interface to operate on different types.\n",
    "\n",
    "> 💡 In this notebook, we’ll walk through these concepts step-by-step, using simple examples and gradually moving toward ML-friendly patterns.\n",
    "\n",
    "---"
   ]
  },
  {
   "cell_type": "markdown",
   "id": "d8716e2d",
   "metadata": {},
   "source": [
    "\n",
    "\n",
    "### Section 1: Classes and Objects\n",
    "\n",
    "In Python, **everything is an object**—integers, strings, lists, functions, and even classes themselves! When writing object-oriented code, we define our own **custom objects** using *classes* as blueprints.\n",
    "\n",
    "---\n",
    "\n",
    "#### 🔨 Class vs Object\n",
    "\n",
    "* **Class**: A blueprint or template that defines what an object will look like and how it will behave.\n",
    "* **Object**: An instance of a class—a concrete version of that blueprint, with real data.\n",
    "\n",
    ">  Think of a class like a recipe, and an object as the actual dish you cook using that recipe.\n",
    "\n",
    "---\n",
    "\n",
    "#### Why This Matters\n",
    "\n",
    "Classes and objects allow us to bundle **data** (attributes) with **behavior** (methods) in a neat, modular way.\n",
    "This is powerful when structuring programs for things like:\n",
    "\n",
    "* Data pipelines\n",
    "* Custom machine learning models\n",
    "* API wrappers\n",
    "* Game entities\n",
    "* and more...\n",
    "\n",
    "They help keep code organized, reusable, and easier to reason about.\n",
    "\n"
   ]
  },
  {
   "cell_type": "markdown",
   "id": "7ebc30b7",
   "metadata": {},
   "source": [
    "### Everything in python is an object"
   ]
  },
  {
   "cell_type": "code",
   "execution_count": 18,
   "id": "933e8695",
   "metadata": {},
   "outputs": [
    {
     "name": "stdout",
     "output_type": "stream",
     "text": [
      "<class 'str'>\n",
      "<class 'int'>\n",
      "<class 'list'>\n"
     ]
    }
   ],
   "source": [
    "# Run this cell without change\n",
    "\n",
    "name = \"Jack\"\n",
    "age = 29\n",
    "list = [1,3,4,5,6]\n",
    "\n",
    "print(type(name))  # <class 'str'>\n",
    "print(type(age))   # <class 'int'>\n",
    "print(type(list))"
   ]
  },
  {
   "cell_type": "markdown",
   "id": "749a35a9",
   "metadata": {},
   "source": [
    "---\n",
    "Here’s what’s happening:\n",
    "\n",
    "* `\"Jack\"` is a **string object**, created from the built-in `str` class.\n",
    "* `29` is an **integer object**, created from the built-in `int` class.\n",
    "\n",
    "Even though you didn't explicitly create these with a custom class, Python is still creating objects under the hood!\n",
    "\n",
    "---\n",
    "\n",
    "Every object in Python knows **what class it came from**—and that determines:\n",
    "\n",
    "* What **attributes** it has (data it holds)\n",
    "* What **methods** it can use (like `.upper()` for strings)\n",
    "\n",
    "For example:\n",
    "\n",
    "```python\n",
    "print(name.upper())  # Output: JACK\n",
    "```\n",
    "\n",
    "* `.upper()` is a method defined in the `str` class.\n",
    "* You won't find that method on an `int`—because different objects have different behaviors depending on their class.\n",
    "\n",
    "---\n"
   ]
  },
  {
   "cell_type": "code",
   "execution_count": 2,
   "id": "56559c08",
   "metadata": {},
   "outputs": [
    {
     "name": "stdout",
     "output_type": "stream",
     "text": [
      "JACK\n"
     ]
    }
   ],
   "source": [
    "print(name.upper())"
   ]
  },
  {
   "cell_type": "markdown",
   "id": "3d6e3857",
   "metadata": {},
   "source": [
    "## 1. What is a Class?\n",
    "\n",
    "A class is a blueprint or template for creating objects. It defines:\n",
    "\n",
    "- Attributes (data/state)\n",
    "\n",
    "- Methods (behavior)\n",
    "\n"
   ]
  },
  {
   "cell_type": "markdown",
   "id": "b7efade4",
   "metadata": {},
   "source": [
    "## 2. What is an Object?\n",
    "\n",
    "An object (also called an instance) is a concrete \"thing\" built from a class. It holds real values and can use the methods defined in its class."
   ]
  },
  {
   "cell_type": "code",
   "execution_count": null,
   "id": "d1db292d",
   "metadata": {},
   "outputs": [
    {
     "name": "stdout",
     "output_type": "stream",
     "text": [
      "Whoof whoof\n"
     ]
    }
   ],
   "source": [
    "class Dog:\n",
    "    def bark(self):  # method (a function defined inside a class)\n",
    "        print(\"Whoof whoof\")\n",
    "    pass\n",
    "\n",
    "dog_1 = Dog()        # instance (or object) of the class Dog\n",
    "\n",
    "dog_1.bark()         # method call\n",
    "\n"
   ]
  },
  {
   "cell_type": "code",
   "execution_count": 21,
   "id": "c0f4ed4b",
   "metadata": {},
   "outputs": [
    {
     "name": "stdout",
     "output_type": "stream",
     "text": [
      "<__main__.Cat object at 0x1219579d0>\n",
      "cat sound!\n"
     ]
    }
   ],
   "source": [
    "class Cat:\n",
    "    def mewoo(self):\n",
    "        print(\"cat sound!\")\n",
    "\n",
    "c1 = Cat()\n",
    "print(c1)\n",
    "\n",
    "c1.mewoo()"
   ]
  },
  {
   "cell_type": "markdown",
   "id": "4b055678",
   "metadata": {},
   "source": [
    "## Example: Classes Containing Other Classes (Composition)\n",
    "\n",
    "In Python, **composition** is when one class contains an instance of another class as an attribute.\n",
    "This models a **\"HAS-A\" relationship** — for example, a `Dog` **has an** `Owner`.\n",
    "\n",
    "---\n",
    "\n",
    "###  Code Example\n",
    "\n",
    "```python\n",
    "class Dog:\n",
    "    def __init__(self, name, breed, owner):\n",
    "        self.name = name       # String attribute\n",
    "        self.breed = breed     # String attribute\n",
    "        self.owner = owner     # Owner object (composition)\n",
    "\n",
    "    def bark(self):\n",
    "        print(\"whoof!!\")\n",
    "\n",
    "\n",
    "class Owner:\n",
    "    def __init__(self, name, address, contact):\n",
    "        self.name = name\n",
    "        self.address = address\n",
    "        self.contact = contact\n",
    "\n",
    "\n",
    "# Create an Owner object\n",
    "owner1 = Owner(\"George\", \"88 Uduyurewh\", \"03020234304\")\n",
    "\n",
    "# Create a Dog object with the Owner object passed in\n",
    "dog_2 = Dog(\"Bosco\", \"Mutina\", owner1)\n",
    "\n",
    "# Method call\n",
    "dog_2.bark()                      # Output: whoof!!\n",
    "\n",
    "# Direct attribute access\n",
    "print(dog_2.name)                 # Output: Bosco\n",
    "print(dog_2.breed)                # Output: Mutina\n",
    "\n",
    "# Accessing an attribute of the Owner object via the Dog object\n",
    "print(dog_2.owner.address)        # Output: 88 Uduyurewh\n",
    "```\n",
    "\n",
    "---\n",
    "\n",
    "###  How It Works\n",
    "\n",
    "1. **Two Classes Defined**:\n",
    "\n",
    "   * `Dog` → has `name`, `breed`, and `owner`.\n",
    "   * `Owner` → has `name`, `address`, and `contact`.\n",
    "\n",
    "2. **Composition**:\n",
    "\n",
    "   * Instead of just storing strings, the `Dog` class stores an **Owner object** inside the `owner` attribute.\n",
    "   * This allows `Dog` objects to use all the data and behavior of the `Owner` class.\n",
    "\n",
    "3. **Object Creation**:\n",
    "\n",
    "   * `owner1` is an **Owner object**.\n",
    "   * `dog_2` is a **Dog object**, but its `owner` attribute points to the `owner1` object.\n",
    "\n",
    "4. **Dot Notation for Access**:\n",
    "\n",
    "   * `dog_2.name` → gets the dog's name.\n",
    "   * `dog_2.owner.address` → follows the chain:\n",
    "     `dog_2` → `owner` attribute → `address` of that owner.\n",
    "\n",
    "---\n",
    "\n",
    "###  HAS-A Relationship Diagram\n",
    "\n",
    "```\n",
    "Dog Object (dog_2)\n",
    " ├── name: \"Bosco\"\n",
    " ├── breed: \"Mutina\"\n",
    " └── owner → Owner Object (owner1)\n",
    "       ├── name: \"George\"\n",
    "       ├── address: \"88 Uduyurewh\"\n",
    "       └── contact: \"03020234304\"\n",
    "```\n",
    "\n",
    "---\n",
    "\n",
    "###  Why This Is Useful\n",
    "\n",
    "* Models real-world relationships naturally.\n",
    "* Keeps code **modular** — `Owner` and `Dog` can evolve independently.\n",
    "* Allows **reusability** — the same `Owner` object could be linked to multiple `Dog` objects.\n",
    "\n",
    "---\n"
   ]
  },
  {
   "cell_type": "code",
   "execution_count": 4,
   "id": "92a3f9af",
   "metadata": {},
   "outputs": [
    {
     "name": "stdout",
     "output_type": "stream",
     "text": [
      "whoof!!\n",
      "Bosco\n",
      "Mutina\n",
      "88 uduyurewh\n"
     ]
    }
   ],
   "source": [
    "class Dog:\n",
    "    def __init__(self, name, breed, owner):\n",
    "        self.name = name # Attributes\n",
    "        self.breed = breed\n",
    "        self.owner = owner\n",
    "        \n",
    "    def bark(self):\n",
    "        print(\"whoof!!\")\n",
    "        \n",
    "\n",
    "class Owner:\n",
    "    def __init__(self, name, address, contact):\n",
    "        self.name = name\n",
    "        self.address = address\n",
    "        self.contact = contact\n",
    "\n",
    "\n",
    "owner1 = Owner(\"george\", \"88 uduyurewh\", \"03020234304\")\n",
    "      \n",
    "dog_2 = Dog(\"Bosco\", \"Mutina\", owner1)\n",
    "dog_2.bark()\n",
    "print(dog_2.name)\n",
    "print(dog_2.breed)\n",
    "print(dog_2.owner.address)"
   ]
  },
  {
   "cell_type": "code",
   "execution_count": 29,
   "id": "8d99fa7c",
   "metadata": {},
   "outputs": [
    {
     "name": "stdout",
     "output_type": "stream",
     "text": [
      "george\n"
     ]
    }
   ],
   "source": [
    "class Car:\n",
    "    def __init__(self, brand, model, year, owner):\n",
    "        self.brand = brand\n",
    "        self.model = model\n",
    "        self.year = year\n",
    "        self.owner = owner\n",
    "    \n",
    "    def ignite(self):\n",
    "        print(\"vruuuuuummm!\")\n",
    "\n",
    "class Owner:\n",
    "    def __init__(self, name, address, contact):\n",
    "        self.name = name\n",
    "        self.address = address\n",
    "        self.contact = contact\n",
    "        \n",
    "\n",
    "owner = Owner(\"george\", \"88 uduyurewh\", \"03020234304\")   \n",
    "        \n",
    "car1 = Car(\"Toyota\", \"70 series\", 2016, owner)\n",
    "\n",
    "print(car1.owner.name)\n",
    "\n",
    "        "
   ]
  },
  {
   "cell_type": "markdown",
   "id": "1c1a4927",
   "metadata": {},
   "source": [
    " ---\n",
    "\n",
    "##  What is `self` in Python Classes?\n",
    "\n",
    "`self` is **a reference to the current instance of the class**.\n",
    "It’s how Python makes sure each object keeps track of **its own data**.\n",
    "\n",
    "---\n",
    "\n",
    "### Why Do We Need It?\n",
    "\n",
    "When you create multiple objects from the same class, each object should **remember**:\n",
    "\n",
    "* its own values for attributes\n",
    "* and be able to call methods that work on *its* data\n",
    "\n",
    "`self` is how methods know **which object** they’re talking about.\n",
    "\n",
    "---\n",
    "\n",
    "### Example\n",
    "\n",
    "```python\n",
    "class Dog:\n",
    "    def __init__(self, name, breed):\n",
    "        self.name = name   # store the value on THIS object\n",
    "        self.breed = breed\n",
    "\n",
    "    def bark(self):\n",
    "        print(f\"{self.name} says: Whoof whoof!\")\n",
    "\n",
    "dog1 = Dog(\"Buddy\", \"Beagle\")\n",
    "dog2 = Dog(\"Luna\", \"Labrador\")\n",
    "\n",
    "dog1.bark()  # Buddy says: Whoof whoof!\n",
    "dog2.bark()  # Luna says: Whoof whoof!\n",
    "```\n",
    "\n",
    "---\n",
    "\n",
    "###  What’s Happening?\n",
    "\n",
    "1. When you run:\n",
    "\n",
    "   ```python\n",
    "   dog1 = Dog(\"Buddy\", \"Beagle\")\n",
    "   ```\n",
    "\n",
    "   * `Dog.__init__` is called with `self` pointing to `dog1`\n",
    "   * `self.name = name` means `dog1.name = \"Buddy\"`\n",
    "\n",
    "2. When you run:\n",
    "\n",
    "   ```python\n",
    "   dog2 = Dog(\"Luna\", \"Labrador\")\n",
    "   ```\n",
    "\n",
    "   * `self` now points to `dog2`\n",
    "   * `dog2.name = \"Luna\"`\n",
    "\n",
    "3. In `dog1.bark()`,\n",
    "\n",
    "   * Python sends `dog1` as the `self` parameter\n",
    "   * So `self.name` = `\"Buddy\"`\n",
    "\n",
    "---\n",
    "\n",
    "###  Key Rules About `self`\n",
    "\n",
    "* It’s **not a keyword** in Python — you could call it anything (`this`, `banana`, etc.), but **`self` is the convention**.\n",
    "* It **must** be the first parameter of any instance method (including `__init__`).\n",
    "* It **refers to the object itself**, letting you store and access attributes.\n",
    "\n",
    "---\n",
    "\n",
    "###  Diagram\n",
    "\n",
    "```\n",
    "dog1 (instance of Dog)\n",
    " ├── name: \"Buddy\"\n",
    " └── breed: \"Beagle\"\n",
    "\n",
    "dog2 (instance of Dog)\n",
    " ├── name: \"Luna\"\n",
    " └── breed: \"Labrador\"\n",
    "```\n",
    "\n",
    "When calling `dog1.bark()`,\n",
    "`self` → `dog1`\n",
    "When calling `dog2.bark()`,\n",
    "`self` → `dog2`\n",
    "\n",
    "---\n",
    "\n",
    "###  Analogy\n",
    "\n",
    "Think of a class as a recipe and each object as a different dish made from it.\n",
    "`self` is like **\"this dish right here\"** — so when you add toppings or serve it, you know which plate you’re working on.\n",
    "\n",
    "---"
   ]
  },
  {
   "cell_type": "markdown",
   "id": "914a89bd",
   "metadata": {},
   "source": [
    "##  Challenge: Bank Account Manager\n",
    "\n",
    "Create a `BankAccount` class that:\n",
    "\n",
    "1. Stores:\n",
    "\n",
    "   * `account_holder` (string)\n",
    "   * `balance` (float, default is `0.0`)\n",
    "2. Has methods:\n",
    "\n",
    "   * `deposit(amount)` → adds `amount` to the balance.\n",
    "   * `withdraw(amount)` → subtracts `amount` from the balance if there’s enough money; otherwise, prints `\"Insufficient funds\"`.\n",
    "   * `get_balance()` → returns the current balance.\n",
    "\n",
    "---\n"
   ]
  },
  {
   "cell_type": "code",
   "execution_count": null,
   "id": "4a70d95c",
   "metadata": {},
   "outputs": [],
   "source": []
  },
  {
   "cell_type": "code",
   "execution_count": 30,
   "id": "c8fbe96e",
   "metadata": {},
   "outputs": [
    {
     "name": "stdout",
     "output_type": "stream",
     "text": [
      "300.0\n"
     ]
    }
   ],
   "source": [
    "class BankAccount:\n",
    "    def __init__(self, account_holder, balance=0.0):\n",
    "        self.account_holder = account_holder\n",
    "        self.balance = balance\n",
    "        \n",
    "    def deposit(self,amount):\n",
    "        if amount > 0:\n",
    "            self.balance += amount\n",
    "        else:\n",
    "            print(\"Invalid Deposit\")\n",
    "    \n",
    "    def withdraw(self, amount):\n",
    "        if amount < self.balance:\n",
    "            self.balance -= amount\n",
    "        else:\n",
    "            print(\"Insufficient funds\")\n",
    "    def get_balance(self):\n",
    "        return self.balance\n",
    "\n",
    "\n",
    "\n",
    "\n",
    "account = BankAccount(\"Alice\")\n",
    "account.deposit(500)\n",
    "account.withdraw(200)\n",
    "print(account.get_balance())  # 300.0"
   ]
  },
  {
   "cell_type": "code",
   "execution_count": 31,
   "id": "4c52bf98",
   "metadata": {},
   "outputs": [
    {
     "name": "stdout",
     "output_type": "stream",
     "text": [
      "Insufficient funds\n",
      "All tests passed!\n"
     ]
    }
   ],
   "source": [
    "acc1 = BankAccount(\"John\")\n",
    "assert acc1.account_holder == \"John\"\n",
    "assert acc1.balance == 0.0\n",
    "\n",
    "# Test 2: Deposit\n",
    "acc1.deposit(100)\n",
    "assert acc1.balance == 100.0\n",
    "\n",
    "# Test 3: Withdraw\n",
    "acc1.withdraw(50)\n",
    "assert acc1.balance == 50.0\n",
    "\n",
    "# Test 4: Withdraw more than balance\n",
    "acc1.withdraw(100)  # should print \"Insufficient funds\"\n",
    "assert acc1.balance == 50.0  # balance unchanged\n",
    "\n",
    "# Test 5: Multiple accounts are independent\n",
    "acc2 = BankAccount(\"Mary\", 200)\n",
    "assert acc2.get_balance() == 200.0\n",
    "assert acc1.get_balance() == 50.0\n",
    "\n",
    "print(\"All tests passed!\")"
   ]
  },
  {
   "cell_type": "markdown",
   "id": "6f522907",
   "metadata": {},
   "source": [
    " ---\n",
    "\n",
    "##  Challenge: **Library & Book Management**\n",
    "\n",
    "### **Task**\n",
    "\n",
    "Create two classes:\n",
    "\n",
    "1. **`Book`**\n",
    "\n",
    "   * Attributes:\n",
    "\n",
    "     * `title` (string)\n",
    "     * `author` (string)\n",
    "     * `available` (boolean, default is `True`)\n",
    "   * Methods:\n",
    "\n",
    "     * `borrow()` → marks the book as unavailable if it’s available, otherwise prints `\"Book already borrowed\"`.\n",
    "     * `return_book()` → marks the book as available again.\n",
    "\n",
    "2. **`Library`**\n",
    "\n",
    "   * Attributes:\n",
    "\n",
    "     * `name` (string)\n",
    "     * `books` (list of `Book` objects, default empty)\n",
    "   * Methods:\n",
    "\n",
    "     * `add_book(book)` → adds a `Book` object to the library.\n",
    "     * `list_available_books()` → prints titles of all books where `available` is `True`.\n",
    "\n",
    "---\n",
    " In solving this, you’ll get more comfortable with:\n",
    "\n",
    "* **Multiple classes**\n",
    "* **Composition** (`Library` HAS `Book` objects)\n",
    "* Method interactions between classes\n",
    "\n",
    "---\n",
    "\n",
    "<details>\n",
    "<summary> Reveal Solution</summary>\n",
    "\n",
    "```python\n",
    "class Book:\n",
    "    def __init__(self, title, author, available=True):\n",
    "        self.title = title\n",
    "        self.author = author\n",
    "        self.available = available\n",
    "    \n",
    "    def borrow(self):\n",
    "        if self.available:\n",
    "            self.available = False\n",
    "        else:\n",
    "            print(\"Book already borrowed\")\n",
    "    \n",
    "    def return_book(self):\n",
    "        self.available = True\n",
    "\n",
    "\n",
    "class Library:\n",
    "    def __init__(self, name, books=None):\n",
    "        self.name = name\n",
    "        self.books = books if books is not None else []\n",
    "    \n",
    "    def add_book(self, book):\n",
    "        self.books.append(book)\n",
    "    \n",
    "    def list_available_books(self):\n",
    "        for book in self.books:\n",
    "            if book.available:\n",
    "                print(book.title)\n",
    "\n",
    "\n",
    "# Usage:\n",
    "book1 = Book(\"1984\", \"George Orwell\")\n",
    "book2 = Book(\"The Hobbit\", \"J.R.R. Tolkien\")\n",
    "\n",
    "library = Library(\"City Library\")\n",
    "library.add_book(book1)\n",
    "library.add_book(book2)\n",
    "\n",
    "library.list_available_books()\n",
    "book1.borrow()\n",
    "library.list_available_books()\n",
    "```\n",
    "\n",
    "</details>\n",
    "\n",
    "---"
   ]
  },
  {
   "cell_type": "code",
   "execution_count": 7,
   "id": "3247bc45",
   "metadata": {},
   "outputs": [
    {
     "ename": "TypeError",
     "evalue": "Book.__init__() takes 1 positional argument but 3 were given",
     "output_type": "error",
     "traceback": [
      "\u001b[31m---------------------------------------------------------------------------\u001b[39m",
      "\u001b[31mTypeError\u001b[39m                                 Traceback (most recent call last)",
      "\u001b[36mCell\u001b[39m\u001b[36m \u001b[39m\u001b[32mIn[7]\u001b[39m\u001b[32m, line 16\u001b[39m\n\u001b[32m     10\u001b[39m     \u001b[38;5;28;01mdef\u001b[39;00m\u001b[38;5;250m \u001b[39m\u001b[34m__init__\u001b[39m(\u001b[38;5;28mself\u001b[39m):\n\u001b[32m     11\u001b[39m         \u001b[38;5;28;01mpass\u001b[39;00m\n\u001b[32m---> \u001b[39m\u001b[32m16\u001b[39m book1 = \u001b[43mBook\u001b[49m\u001b[43m(\u001b[49m\u001b[33;43m\"\u001b[39;49m\u001b[33;43m1984\u001b[39;49m\u001b[33;43m\"\u001b[39;49m\u001b[43m,\u001b[49m\u001b[43m \u001b[49m\u001b[33;43m\"\u001b[39;49m\u001b[33;43mGeorge Orwell\u001b[39;49m\u001b[33;43m\"\u001b[39;49m\u001b[43m)\u001b[49m\n\u001b[32m     17\u001b[39m book2 = Book(\u001b[33m\"\u001b[39m\u001b[33mThe Hobbit\u001b[39m\u001b[33m\"\u001b[39m, \u001b[33m\"\u001b[39m\u001b[33mJ.R.R. Tolkien\u001b[39m\u001b[33m\"\u001b[39m)\n\u001b[32m     19\u001b[39m library = Library(\u001b[33m\"\u001b[39m\u001b[33mCity Library\u001b[39m\u001b[33m\"\u001b[39m)\n",
      "\u001b[31mTypeError\u001b[39m: Book.__init__() takes 1 positional argument but 3 were given"
     ]
    }
   ],
   "source": [
    "class Book:\n",
    "    #solution\n",
    "    def __init__(self):\n",
    "       pass\n",
    "\n",
    "\n",
    "\n",
    "class Library:\n",
    "    #solution\n",
    "    def __init__(self):\n",
    "        pass\n",
    "        \n",
    "\n",
    "\n",
    "\n",
    "book1 = Book(\"1984\", \"George Orwell\")\n",
    "book2 = Book(\"The Hobbit\", \"J.R.R. Tolkien\")\n",
    "\n",
    "library = Library(\"City Library\")\n",
    "library.add_book(book1)\n",
    "library.add_book(book2)\n",
    "\n",
    "library.list_available_books()\n",
    "book1.borrow()\n",
    "library.list_available_books()\n"
   ]
  },
  {
   "cell_type": "code",
   "execution_count": null,
   "id": "82cb88e8",
   "metadata": {},
   "outputs": [],
   "source": [
    "###  Assert Tests\n",
    "\n",
    "\n",
    "# Create books\n",
    "b1 = Book(\"Python 101\", \"John Doe\")\n",
    "b2 = Book(\"Deep Learning\", \"Jane Smith\")\n",
    "\n",
    "# Create library and add books\n",
    "lib = Library(\"Tech Library\")\n",
    "lib.add_book(b1)\n",
    "lib.add_book(b2)\n",
    "\n",
    "# Test borrowing\n",
    "b1.borrow()\n",
    "assert b1.available == False\n",
    "b1.borrow()  # should print \"Book already borrowed\"\n",
    "\n",
    "# Test returning\n",
    "b1.return_book()\n",
    "assert b1.available == True\n",
    "\n",
    "# Test listing available books\n",
    "available_titles = [book.title for book in lib.books if book.available]\n",
    "assert \"Python 101\" in available_titles\n",
    "assert \"Deep Learning\" in available_titles\n",
    "\n",
    "print(\" All tests passed!\")"
   ]
  },
  {
   "cell_type": "markdown",
   "id": "41b6fee3",
   "metadata": {},
   "source": [
    "## Accessing and Modifying Object Data in Python OOP"
   ]
  },
  {
   "cell_type": "code",
   "execution_count": 32,
   "id": "d7074ba7",
   "metadata": {},
   "outputs": [],
   "source": [
    "#Defining the class and Attributes \n",
    "\n",
    "class User:\n",
    "    def __init__(self, username, email, password):\n",
    "        self.username = username\n",
    "        self.email = email\n",
    "        self.password = password\n",
    "    \n",
    "    def say_hi_to_user(self, user):\n",
    "        print(f\"Sending message to {user.username}: Hi {user.username}, it's {self.username}\")\n",
    "\n",
    "\n"
   ]
  },
  {
   "cell_type": "markdown",
   "id": "5b6ed904",
   "metadata": {},
   "source": [
    "The `__init__` method is a constructor that runs automatically when we create an object.\n",
    "It sets up attributes for each user instance based on the values passed.\n",
    "\n",
    "\n",
    "\n",
    "Here, `say_hi_to_user` is a method where one user sends a message to another user.\n",
    "The first self refers to this user object calling the method.\n",
    "The user parameter is another user instance passed in — letting us access their username."
   ]
  },
  {
   "cell_type": "code",
   "execution_count": 33,
   "id": "d2a32c44",
   "metadata": {},
   "outputs": [],
   "source": [
    "#creating user objects\n",
    "user1 = User(\"lolly\", \"lolly@gmail.com\", \"445456\")\n",
    "user2 = User(\"batman\", \"batman@yahoo.com\", \"999974\")"
   ]
  },
  {
   "cell_type": "code",
   "execution_count": 34,
   "id": "5c0c25bf",
   "metadata": {},
   "outputs": [
    {
     "name": "stdout",
     "output_type": "stream",
     "text": [
      "Sending message to batman: Hi batman, it's lolly\n"
     ]
    }
   ],
   "source": [
    "user1.say_hi_to_user(user2)"
   ]
  },
  {
   "cell_type": "markdown",
   "id": "443c3d24",
   "metadata": {},
   "source": [
    "Here `user1` calls the `say_hi_to_user` method and passes `user2` as the argument.\n",
    "The output shows `user1` greeting `user2` by their username."
   ]
  },
  {
   "cell_type": "markdown",
   "id": "8c3a5935",
   "metadata": {},
   "source": [
    " ---\n",
    "\n",
    "###  Accessing and Modifying Attributes Directly\n",
    "\n",
    "In Python, you can **directly access and modify attributes** on an object.\n",
    "For example:\n",
    "\n",
    "```python\n",
    "user1.email = \"hacked_email@fake.com\"\n",
    "```\n",
    "\n",
    "While this works, in **real-world applications** (like an authentication system) this is **not ideal**:\n",
    "\n",
    "* You wouldn’t want users to freely change their details.\n",
    "* You also wouldn’t want them to sign up with invalid or weird emails.\n",
    "\n",
    "---\n",
    "\n",
    "### Why is this a problem?\n",
    "\n",
    "Because **direct attribute access gives no validation or control**.\n",
    "Imagine a user directly changing their password to `\"123\"` or their email to `\"notanemail\"`.\n",
    "\n",
    "---\n",
    "\n",
    "### How Python Handles This\n",
    "\n",
    "Python provides **two main approaches** to address this:\n",
    "\n",
    "1. **Traditional getters and setters**\n",
    "\n",
    "   * Popular in languages like **Java**.\n",
    "   * You write explicit methods like `get_email()` and `set_email(new_email)`.\n",
    "   * Gives full control but can feel a bit verbose.\n",
    "\n",
    "2. **The Pythonic way: `@property` decorators**\n",
    "\n",
    "   * Cleaner and more natural syntax.\n",
    "   * Lets you use attribute-like access (`user.email`) while still running validation logic under the hood.\n",
    "   * Also popular in **C#**.\n",
    "\n",
    "---\n",
    "\n",
    "### A Note on “Private” Attributes in Python \n",
    "\n",
    "Unlike some languages, Python does not enforce private attributes.\n",
    "\n",
    "* A leading underscore (e.g. `_email`) is a **convention** to mean *“this is for internal use — don’t touch it”*.\n",
    "* The philosophy is: **“We are all consenting adults here.”**\n",
    "* As developers, we *should not* access protected attributes directly, even though we technically can.\n",
    "\n",
    "---\n",
    "\n",
    "In the following examples, we’ll look at all three styles:\n",
    "\n",
    "* **Direct access**\n",
    "* **Traditional getters and setters**\n",
    "* **Pythonic `@property` approach**\n",
    "\n",
    "---\n"
   ]
  },
  {
   "cell_type": "markdown",
   "id": "e4e15e20",
   "metadata": {},
   "source": [
    "#### 1.) Direct Access"
   ]
  },
  {
   "cell_type": "code",
   "execution_count": 11,
   "id": "2073aee5",
   "metadata": {},
   "outputs": [
    {
     "data": {
      "text/plain": [
       "'lollymolly@outlook.com'"
      ]
     },
     "execution_count": 11,
     "metadata": {},
     "output_type": "execute_result"
    }
   ],
   "source": [
    "\n",
    "\"\"\"\n",
    "initially we had set the atributes as shown: user1 = User(\"lolly\", \"lolly@gmail.com\", \"445456\")\n",
    "we can directly change the email attribute as shown\n",
    "\"\"\"\n",
    "\n",
    "user1.email = \"lollymolly@outlook.com\"\n",
    "\n",
    "user1.email\n",
    "\n"
   ]
  },
  {
   "cell_type": "markdown",
   "id": "4aba3b64",
   "metadata": {},
   "source": [
    "#### 2.) Setters and Getters: Controlled Access"
   ]
  },
  {
   "cell_type": "code",
   "execution_count": null,
   "id": "232ebaf0",
   "metadata": {},
   "outputs": [
    {
     "name": "stdout",
     "output_type": "stream",
     "text": [
      "Invalid email\n",
      "Email accessed at 2025-08-20 21:52:03.845481\n",
      "New email is william@gamil.com\n"
     ]
    }
   ],
   "source": [
    "from datetime import datetime\n",
    "\n",
    "class User:\n",
    "    def __init__(self, username, email, password):\n",
    "        self.username = username\n",
    "        self._email = email # the underscore prefix means privatish\n",
    "        self.password = password\n",
    "    \n",
    "    def get_email(self):\n",
    "        print(f\"Email accessed at {datetime.now()}\")\n",
    "        return self._email\n",
    "    \n",
    "    def set_email(self, new_email):\n",
    "        if \"@\" in new_email:\n",
    "            self._email = new_email\n",
    "        else:\n",
    "            print(\"Invalid email\")\n",
    "            \n",
    "#Creating a new instnace\n",
    "user3 = User(\"William\", \"william@gamil.com\", \"7867893\")\n",
    "#new mail\n",
    "user3.set_email(\"arasirwa@gmail.com\")\n",
    "print(\"New email is\", user3.get_email())\n",
    "\n",
    "\n",
    "\n"
   ]
  },
  {
   "cell_type": "markdown",
   "id": "0441d189",
   "metadata": {},
   "source": [
    "#### 3.) Pythonic way with `@property`:"
   ]
  },
  {
   "cell_type": "code",
   "execution_count": 36,
   "id": "d6ba4fb1",
   "metadata": {},
   "outputs": [
    {
     "name": "stdout",
     "output_type": "stream",
     "text": [
      "Password Accessed at 2025-08-20 21:53:13.908410\n",
      "password\n",
      "Password length should be 8 characters long\n"
     ]
    }
   ],
   "source": [
    "class User:\n",
    "    def __init__(self, username, email, password):\n",
    "        self.username = username\n",
    "        self.email = email\n",
    "        self._password = password\n",
    "    \n",
    "    #getter property or decorator\n",
    "    @property\n",
    "    def password(self):\n",
    "        print(f\"Password Accessed at {datetime.now()}\")\n",
    "        return self._password\n",
    "        \n",
    "        \n",
    "    #setter property\n",
    "    @password.setter\n",
    "    def password(self, new_password):\n",
    "        if len(new_password) > 8:\n",
    "            self._password = new_password\n",
    "        else:\n",
    "            print(\"Password length should be 8 characters long\")\n",
    "            \n",
    "\n",
    "user4 = User(\"james\", \"james@outlook.com\", \"password\")   \n",
    "\n",
    "print(user4.password)\n",
    "\n",
    "#with python decorators you can access the data directly synatx wise though the logic is embedded on the code.\n",
    "\n",
    "user4.password = 'iidsh' # setting this as the password you will get a message on the console that you cant change the password\n",
    "    "
   ]
  },
  {
   "cell_type": "markdown",
   "id": "149932f2",
   "metadata": {},
   "source": [
    "##  Instance Attributes\n",
    "\n",
    "These are tied to an object (instance) of a class.\n",
    "\n",
    "- Defined usually inside `__init__`.\n",
    "\n",
    "- Every instance gets its own copy of the attribute.\n",
    "\n",
    "- If you change it on one object, it doesn’t affect the others."
   ]
  },
  {
   "cell_type": "code",
   "execution_count": 5,
   "id": "655fa8b6",
   "metadata": {},
   "outputs": [
    {
     "name": "stdout",
     "output_type": "stream",
     "text": [
      "1\n",
      "0\n"
     ]
    }
   ],
   "source": [
    "#Example\n",
    "\n",
    "class Player:\n",
    "    def __init__(self, name, score=0):\n",
    "        self.name = name #instance attribute\n",
    "        self.score = score #instance attribute\n",
    "        \n",
    "p1 = Player(\"Alice\")\n",
    "p2 = Player(\"Rose\")\n",
    "\n",
    "p1.score = 1\n",
    "\n",
    "print(p1.score)\n",
    "print(p2.score)\n"
   ]
  },
  {
   "cell_type": "markdown",
   "id": "643fc4d1",
   "metadata": {},
   "source": [
    ">We use instance attributes when the data belongs uniquely to each object (e.g., a player’s score, a student’s ID, a bank account balance)"
   ]
  },
  {
   "cell_type": "markdown",
   "id": "f264d7dd",
   "metadata": {},
   "source": [
    "## Static (Class) Attributes\n",
    "\n",
    "These belong to the class itself, not any single instance.\n",
    "\n",
    "- Defined directly in the class body (outside `__init__`).\n",
    "\n",
    "- Shared across all instances of the class.\n",
    "\n",
    "- If you change it via the class, it affects all instances (unless overridden locally)."
   ]
  },
  {
   "cell_type": "code",
   "execution_count": 17,
   "id": "2cec5004",
   "metadata": {},
   "outputs": [
    {
     "name": "stdout",
     "output_type": "stream",
     "text": [
      "Kogalo FC\n",
      "Kogalo FC\n",
      "Ingwe FC\n",
      "Ingwe FC\n"
     ]
    }
   ],
   "source": [
    "class Player:\n",
    "    \n",
    "    team = \"Kogalo FC\"\n",
    "    \n",
    "    def __init__(self, name):\n",
    "        self.name = name #instance attribute\n",
    "        \n",
    "p1 = Player(\"Alice\")\n",
    "p2 = Player(\"Rose\")\n",
    "\n",
    "print(p1.team)\n",
    "print(p2.team)\n",
    "\n",
    "#we can change the class attribute\n",
    "\n",
    "Player.team = \"Ingwe FC\"\n",
    "\n",
    "\n",
    "print(p1.team)\n",
    "print(p2.team)\n"
   ]
  },
  {
   "cell_type": "code",
   "execution_count": null,
   "id": "ea74ae15",
   "metadata": {},
   "outputs": [],
   "source": [
    "#when you do this , something changes, naturally we expect a class attribute should not be edited via the instance\n",
    "\n",
    "p1.team = \"Chelsea\""
   ]
  },
  {
   "cell_type": "markdown",
   "id": "5527c820",
   "metadata": {},
   "source": [
    "---\n",
    "\n",
    "###  First: what `__init__` really does\n",
    "\n",
    "When you write:\n",
    "\n",
    "```python\n",
    "def __init__(self, name):\n",
    "    self.name = name\n",
    "```\n",
    "\n",
    "You’re just saying: *“When I create a new object, immediately attach a `name` attribute to it.”*\n",
    "\n",
    "It doesn’t “lock in” what attributes that object can have forever. In Python, instances are **dynamic dictionaries** under the hood (`obj.__dict__`). That means you can attach new attributes at any time, whether `__init__` defines them or not.\n",
    "\n",
    "---\n",
    "\n",
    "###  What happens when you do `p1.team = \"Chelsea\"`?\n",
    "\n",
    "This does **not** rewrite the constructor.\n",
    "It simply adds a new key-value pair to `p1.__dict__`:\n",
    "\n",
    "```python\n",
    "p1.__dict__ = {\n",
    "    \"name\": \"Alice\",\n",
    "    \"team\": \"Chelsea\"   # <— new!\n",
    "}\n",
    "```\n",
    "\n",
    "Meanwhile, `p2.__dict__` is still:\n",
    "\n",
    "```python\n",
    "{\n",
    "    \"name\": \"Rose\"\n",
    "}\n",
    "```\n",
    "\n",
    "And the class `Player.__dict__` still has:\n",
    "\n",
    "```python\n",
    "{\n",
    "    \"team\": \"Ingwe FC\"\n",
    "}\n",
    "```\n",
    "\n",
    "So Python’s attribute lookup rules kick in:\n",
    "\n",
    "1. Check `p1.__dict__` → finds `\"Chelsea\"`, done.\n",
    "2. Check `p2.__dict__` → no `\"team\"`, so fallback to `Player.team`.\n",
    "\n",
    "---\n",
    "\n",
    "###  Why it feels like `__init__` changed\n",
    "\n",
    "Because the *effect* of giving `p1` its own `team` is the same as if you had written:\n",
    "\n",
    "```python\n",
    "def __init__(self, name, team=\"Ingwe FC\"):\n",
    "    self.name = name\n",
    "    self.team = team\n",
    "```\n",
    "\n",
    "…**but only for that one instance** (`p1`).\n",
    "So your brain is spot on—it *feels* like the constructor was rewritten just for `p1`.\n",
    "But technically, it wasn’t; Python just allowed `p1` to grow its own new attribute dynamically.\n",
    "\n",
    "---\n",
    "\n",
    "###  Why Python does this (and why it’s not a “flaw”)\n",
    "\n",
    "Python is designed to be **flexible and dynamic**. Unlike Java or C++, it doesn’t force objects to have a rigid set of attributes. That’s why you can do this on the fly:\n",
    "\n",
    "```python\n",
    "p1.new_stat = 99\n",
    "```\n",
    "\n",
    "and Python just shrugs and adds it.\n",
    "\n",
    "This flexibility is super powerful for things like:\n",
    "\n",
    "* Prototyping quickly\n",
    "* Dynamic attributes (e.g., parsing JSON into objects)\n",
    "* Frameworks like Django/Flask where objects get attributes injected dynamically\n",
    "\n",
    "But yes—it can also be confusing if you’re expecting strict, C++/Java-style OOP.\n",
    "\n",
    "---\n",
    "\n",
    "### Key takeaway\n",
    "\n",
    "* `__init__` is just a **convenience initializer**, not a strict schema.\n",
    "* Objects in Python are like **bags of attributes (dicts)** that you can add to anytime.\n",
    "* When you write `p1.team = \"Chelsea\"`, you’re **not editing the class or constructor**.\n",
    "  You’re just tossing `\"team\": \"Chelsea\"` into `p1.__dict__`.\n",
    "\n",
    "That’s why it feels weird—it’s not rewriting the function signature, it’s just dynamically giving `p1` its own version of `team`.\n",
    "\n",
    "---\n"
   ]
  },
  {
   "cell_type": "markdown",
   "id": "b3d7a5d2",
   "metadata": {},
   "source": [
    "## Static Methods\n",
    "\n",
    "**Declared with @staticmethod decorator.**\n",
    "\n",
    "- No self parameter.\n",
    "\n",
    "- Behaves like a normal function, but is grouped under a class for organizational purposes.\n",
    "\n",
    "- Cannot access instance (self) or class (cls) attributes unless explicitly passed in.\n",
    "  \n",
    "### When to use static methods\n",
    "\n",
    "Utility/helper functions that logically belong to the class but don’t need access to the object or class state.\n",
    "\n",
    "Example: validation, formatting, calculations."
   ]
  },
  {
   "cell_type": "code",
   "execution_count": 43,
   "id": "78fe45a7",
   "metadata": {},
   "outputs": [
    {
     "name": "stdout",
     "output_type": "stream",
     "text": [
      "0\n"
     ]
    }
   ],
   "source": [
    "class Player:\n",
    "    def __init__(self, name, score=0):\n",
    "        \n",
    "        if not Player.validate_name(name):\n",
    "            raise ValueError(\"Invalid Player name\")\n",
    "        \n",
    "        self.name = name\n",
    "        self.score = score\n",
    "    \n",
    "    def update_score(self, points):\n",
    "        self.score += points\n",
    "        \n",
    "    #we can build a static method to validate the name within the constructor befor assigning self.name\n",
    "    \n",
    "    @staticmethod\n",
    "    def validate_name(name):\n",
    "        return isinstance(name, str) and len(name) > 0 \n",
    "    \n",
    "pl1 = Player(\"messi\")\n",
    "\n",
    "print(pl1.score)"
   ]
  },
  {
   "cell_type": "markdown",
   "id": "b51040da",
   "metadata": {},
   "source": [
    "The static method is now actually enforcing business rules inside your class.\n",
    "It’s not floating around randomly — it’s part of the class, because validating names is related to Player.\n",
    "You can also reuse it outside the class if you want, e.g., when checking a name before even creating a player: as shown below"
   ]
  },
  {
   "cell_type": "code",
   "execution_count": 44,
   "id": "db38e8f0",
   "metadata": {},
   "outputs": [],
   "source": [
    "if Player.validate_name(\"Messi\"):\n",
    "    p3 = Player(\"Messi\")\n"
   ]
  },
  {
   "cell_type": "markdown",
   "id": "78a802f7",
   "metadata": {},
   "source": [
    "## Private & Protected in Python\n",
    "\n",
    "Unlike Java or C++, Python doesn’t truly enforce access control. Instead, it follows a convention-based system:\n",
    "\n",
    "- Single underscore _name → protected (meant for internal use, but not strictly private).\n",
    "\n",
    "- Double underscore __name → private (Python “name-mangles” it to make it harder to access accidentally).\n",
    "\n",
    "It’s the “we’re all adults here” philosophy → you can access them, but you’re discouraged from doing so."
   ]
  },
  {
   "cell_type": "markdown",
   "id": "4286a18f",
   "metadata": {},
   "source": []
  }
 ],
 "metadata": {
  "kernelspec": {
   "display_name": "Python (learn-env)",
   "language": "python",
   "name": "learn-env"
  },
  "language_info": {
   "codemirror_mode": {
    "name": "ipython",
    "version": 3
   },
   "file_extension": ".py",
   "mimetype": "text/x-python",
   "name": "python",
   "nbconvert_exporter": "python",
   "pygments_lexer": "ipython3",
   "version": "3.8.5"
  }
 },
 "nbformat": 4,
 "nbformat_minor": 5
}
