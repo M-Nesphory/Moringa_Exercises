{
 "cells": [
  {
   "cell_type": "code",
   "execution_count": 3,
   "id": "e320bc84-22e8-4573-bb48-fa7038756c35",
   "metadata": {},
   "outputs": [
    {
     "name": "stdout",
     "output_type": "stream",
     "text": [
      "['A', 'B', 'D', 'D', 'C', 'B', 'D', 'B', 'A', 'D', 'B', 'A', 'C']\n"
     ]
    }
   ],
   "source": [
    "marks = [87,54,16,9,45,50,11,67,75,-75,72,100,27]\n",
    "# 75+(A), 50+(B), 25+(C), -25(D)\n",
    "grades = []\n",
    "for mark in marks:\n",
    "    if mark >= 75:\n",
    "        grades.append('A')\n",
    "    elif mark >= 50:\n",
    "        grades.append('B')\n",
    "    elif mark >= 25:\n",
    "        grades.append('C')\n",
    "    else:\n",
    "        grades.append('D')\n",
    "print(grades)"
   ]
  },
  {
   "cell_type": "code",
   "execution_count": 6,
   "id": "aa1681ef-3a9f-4b08-bbd3-b25618e8c766",
   "metadata": {},
   "outputs": [
    {
     "data": {
      "text/plain": [
       "13"
      ]
     },
     "execution_count": 6,
     "metadata": {},
     "output_type": "execute_result"
    }
   ],
   "source": [
    "len(marks)"
   ]
  },
  {
   "cell_type": "code",
   "execution_count": 7,
   "id": "716631fd-e67c-4259-98e0-52784cd7aed2",
   "metadata": {},
   "outputs": [
    {
     "name": "stdout",
     "output_type": "stream",
     "text": [
      "56\n",
      "52\n",
      "108\n",
      "27.0\n",
      "26\n",
      "1\n",
      "2916\n"
     ]
    }
   ],
   "source": [
    "# Operators - (),*,/,-,+,//,%,**\n",
    "print(54+2) # Addition\n",
    "print(54-2) # Subtraction\n",
    "print(54*2) # Multiplication\n",
    "print(54/2) # Division\n",
    "print(53//2) # Floor - Returns the quotient\n",
    "print(53%2) # Modulus - Returns the remainder\n",
    "print(54**2) # 54 power 2 (54 squared)"
   ]
  },
  {
   "cell_type": "code",
   "execution_count": 10,
   "id": "66fc3423-ab04-420e-980d-e39c07ab7105",
   "metadata": {},
   "outputs": [
    {
     "data": {
      "text/plain": [
       "True"
      ]
     },
     "execution_count": 10,
     "metadata": {},
     "output_type": "execute_result"
    }
   ],
   "source": [
    "'e' in 'data science'"
   ]
  },
  {
   "cell_type": "code",
   "execution_count": null,
   "id": "882b71ce-e933-4cea-840d-06574441a631",
   "metadata": {},
   "outputs": [],
   "source": []
  }
 ],
 "metadata": {
  "kernelspec": {
   "display_name": "Python 3 (ipykernel)",
   "language": "python",
   "name": "python3"
  },
  "language_info": {
   "codemirror_mode": {
    "name": "ipython",
    "version": 3
   },
   "file_extension": ".py",
   "mimetype": "text/x-python",
   "name": "python",
   "nbconvert_exporter": "python",
   "pygments_lexer": "ipython3",
   "version": "3.11.7"
  }
 },
 "nbformat": 4,
 "nbformat_minor": 5
}
