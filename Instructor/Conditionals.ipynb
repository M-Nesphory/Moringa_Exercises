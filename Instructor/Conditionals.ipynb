{
 "cells": [
  {
   "cell_type": "markdown",
   "id": "c98ae6a0-fdf7-4ff0-a8ec-cc1cc4c474cd",
   "metadata": {},
   "source": [
    "Loops help in simplication of complex problems. They also help in code reusability and cleanliness,\n",
    "\n",
    "They also provide easy traversal of collections\n",
    "\n"
   ]
  },
  {
   "cell_type": "code",
   "execution_count": 3,
   "id": "b5cc64dc-128c-4bd8-b850-6e8050958a56",
   "metadata": {},
   "outputs": [
    {
     "name": "stdin",
     "output_type": "stream",
     "text": [
      "Put a random word nigga: Nesphory\n"
     ]
    },
    {
     "name": "stdout",
     "output_type": "stream",
     "text": [
      "N\n",
      "e\n",
      "s\n",
      "p\n",
      "h\n",
      "o\n",
      "r\n",
      "y\n"
     ]
    }
   ],
   "source": [
    "\n",
    "word = input(\"Put a random word nigga:\")\n",
    "for letter in word:\n",
    "    print(letter)"
   ]
  },
  {
   "cell_type": "markdown",
   "id": "76296072-7559-4f9a-9b9f-d3b8b70fa440",
   "metadata": {},
   "source": [
    "The break statement is used to halt the loop before it goes through all the elements in the list\n",
    "\n",
    "The continue statement is used to skip a certain element and go to the next element"
   ]
  },
  {
   "cell_type": "code",
   "execution_count": 31,
   "id": "407e2f47-b733-402e-9690-5ad741fe4d36",
   "metadata": {},
   "outputs": [
    {
     "name": "stdout",
     "output_type": "stream",
     "text": [
      "mango\n",
      "orange\n"
     ]
    }
   ],
   "source": [
    "fruits = ['mango', 'orange', 'banana', 'tangerine', 'apple']\n",
    "for fruit in fruits:\n",
    "    if fruit == 'banana':\n",
    "        break\n",
    "    print(fruit)"
   ]
  },
  {
   "cell_type": "code",
   "execution_count": 9,
   "id": "3dd530c3-391f-4a12-8390-76a9950dce96",
   "metadata": {},
   "outputs": [
    {
     "name": "stdout",
     "output_type": "stream",
     "text": [
      "mango\n",
      "oranges\n",
      "tangerine\n",
      "apple\n"
     ]
    }
   ],
   "source": [
    "for fruit in fruits:\n",
    "    if fruit == 'banana':\n",
    "        continue\n",
    "    print(fruit)"
   ]
  },
  {
   "cell_type": "code",
   "execution_count": 27,
   "id": "7db4c002-f1c4-489d-a1f1-c481acc2e1f0",
   "metadata": {},
   "outputs": [
    {
     "name": "stdout",
     "output_type": "stream",
     "text": [
      "Ungradable marks [233, 105]\n",
      "Gradable marks [24, 54, 62, 90, 87, 22, 1, 94]\n"
     ]
    }
   ],
   "source": [
    "marks = [233,24,54,62,90,87,22,1,105,94]\n",
    "ungradable = []\n",
    "gradable = []\n",
    "for num in numbers:\n",
    "    if num >= 100:\n",
    "        ungradable.append(num)\n",
    "    else:\n",
    "        gradable.append(num)\n",
    "print('Ungradable marks ' + str(ungradable))\n",
    "print('Gradable marks ' + str(gradable))"
   ]
  },
  {
   "cell_type": "code",
   "execution_count": 25,
   "id": "0425c7c2-31ed-4413-8093-d4258e42154f",
   "metadata": {},
   "outputs": [
    {
     "name": "stdout",
     "output_type": "stream",
     "text": [
      "make : Samsung\n",
      "model : Note 9\n",
      "RAM : 8GB\n",
      "storage : 128GB\n",
      "status : Dying\n"
     ]
    }
   ],
   "source": [
    "my_phone = {\n",
    "    'make':'Samsung',\n",
    "    'model':'Note 9',\n",
    "    'RAM': '8GB',\n",
    "    'storage':'128GB',\n",
    "    'status':'Dying'\n",
    "}\n",
    "for i,j in my_phone.items():\n",
    "    print(i,':',j)"
   ]
  },
  {
   "cell_type": "code",
   "execution_count": 32,
   "id": "78eaef7e-c943-4a80-87ab-90a85a52b1ef",
   "metadata": {},
   "outputs": [
    {
     "name": "stdout",
     "output_type": "stream",
     "text": [
      "Goat\n",
      "Beef\n"
     ]
    }
   ],
   "source": [
    "programmers = [{\"Name\": \"Luffy\", \"favourite_food\": [\"Goat\", \"Beef\"]}]\n",
    "\n",
    "for programmer in programmers:\n",
    "  for food in programmer [\"favourite_food\"]:\n",
    "    print (food)"
   ]
  },
  {
   "cell_type": "code",
   "execution_count": null,
   "id": "2f210dd7-b428-4ad3-a477-75327f76d3b2",
   "metadata": {},
   "outputs": [],
   "source": []
  }
 ],
 "metadata": {
  "kernelspec": {
   "display_name": "Python 3 (ipykernel)",
   "language": "python",
   "name": "python3"
  },
  "language_info": {
   "codemirror_mode": {
    "name": "ipython",
    "version": 3
   },
   "file_extension": ".py",
   "mimetype": "text/x-python",
   "name": "python",
   "nbconvert_exporter": "python",
   "pygments_lexer": "ipython3",
   "version": "3.11.7"
  }
 },
 "nbformat": 4,
 "nbformat_minor": 5
}
