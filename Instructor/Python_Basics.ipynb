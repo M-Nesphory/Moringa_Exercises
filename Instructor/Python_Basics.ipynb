{
 "cells": [
  {
   "cell_type": "code",
   "execution_count": 1,
   "id": "021158c8-6699-4457-add3-0b112e227163",
   "metadata": {},
   "outputs": [
    {
     "name": "stdout",
     "output_type": "stream",
     "text": [
      "Hello! Coding World\n"
     ]
    }
   ],
   "source": [
    "print(\"Hello! Coding World\")"
   ]
  },
  {
   "cell_type": "code",
   "execution_count": 5,
   "id": "6bfa6b6b-dc5f-4194-81f9-aaeabbcef0ab",
   "metadata": {},
   "outputs": [
    {
     "name": "stdin",
     "output_type": "stream",
     "text": [
      "Name:  Nesphory\n",
      "Age:  25\n"
     ]
    },
    {
     "name": "stdout",
     "output_type": "stream",
     "text": [
      "Nesphory is 25 years old\n"
     ]
    }
   ],
   "source": [
    "name = input(\"Name: \")\n",
    "age = input(\"Age: \")\n",
    "print(name, 'is', age, \"years old\")"
   ]
  },
  {
   "cell_type": "code",
   "execution_count": 6,
   "id": "39be8d6c-d7c8-4a47-b803-07d4e2e2e259",
   "metadata": {},
   "outputs": [
    {
     "name": "stdout",
     "output_type": "stream",
     "text": [
      "Nesphory is 25 years old\n"
     ]
    }
   ],
   "source": [
    "print(name + ' is ' + age + ' years old')"
   ]
  },
  {
   "cell_type": "code",
   "execution_count": 20,
   "id": "cbedc190-1a33-4b8e-b381-92a36b8ae8d2",
   "metadata": {},
   "outputs": [
    {
     "name": "stdin",
     "output_type": "stream",
     "text": [
      "What is your age?  51\n"
     ]
    },
    {
     "name": "stdout",
     "output_type": "stream",
     "text": [
      "You can vote but please remember, Ruto must go\n"
     ]
    }
   ],
   "source": [
    "age = int(input(\"What is your age? \"))\n",
    "if age < 18:\n",
    "    print(\"You are too young\")\n",
    "elif age >= 18 and age <= 50:\n",
    "    print(\"You can vote\")\n",
    "else:\n",
    "    print(\"You can vote but please remember, Ruto must go\")"
   ]
  },
  {
   "cell_type": "markdown",
   "id": "2669afd4-ab1d-4a95-9016-71be723553ce",
   "metadata": {},
   "source": [
    "prints('\\n') - New line"
   ]
  },
  {
   "cell_type": "code",
   "execution_count": 21,
   "id": "93a64e7a-6e4f-42f3-9d3e-47930387a60e",
   "metadata": {},
   "outputs": [
    {
     "name": "stdout",
     "output_type": "stream",
     "text": [
      "Noun\n",
      "\n",
      "Proverb\n"
     ]
    }
   ],
   "source": [
    "print(\"Noun\\n\")\n",
    "print(\"Proverb\")"
   ]
  },
  {
   "cell_type": "code",
   "execution_count": 22,
   "id": "d951d0e5-e6cd-4c0b-8801-0088a9cc09d9",
   "metadata": {},
   "outputs": [],
   "source": [
    "import pandas as pd\n",
    "import numpy as np"
   ]
  },
  {
   "cell_type": "code",
   "execution_count": 59,
   "id": "082c6702-21dc-47de-9960-d8a26d21ee63",
   "metadata": {},
   "outputs": [
    {
     "name": "stdout",
     "output_type": "stream",
     "text": [
      "Watu bure ni watu wanapenda Man United\n",
      "Unfortunately, Liverpool won the league\n"
     ]
    }
   ],
   "source": [
    "pl_clubs = ['Liverpool', 'Arsenal', 'Man City', 'Nottingham Forest', 'Newcastle', 'Chelsea','Man United',]\n",
    "worst_team = pl_clubs[-1]\n",
    "print(\"Watu bure ni watu wanapenda \" + worst_team)\n",
    "champions = pl_clubs[0]\n",
    "print(\"Unfortunately, \" + champions + \" won the league\")"
   ]
  },
  {
   "cell_type": "code",
   "execution_count": 60,
   "id": "2815064e-32f5-4db6-93fb-b0faa135fc65",
   "metadata": {},
   "outputs": [
    {
     "name": "stdout",
     "output_type": "stream",
     "text": [
      "['Liverpool', 'Arsenal', 'Man City', 'Nottingham Forest', 'Newcastle', 'Chelsea', 'Man United', 'Crystal Palace']\n"
     ]
    }
   ],
   "source": [
    "pl_clubs.append(\"Crystal Palace\")\n",
    "print(pl_clubs)"
   ]
  },
  {
   "cell_type": "code",
   "execution_count": 61,
   "id": "7347ad4d-8548-4aec-8703-6148110597f1",
   "metadata": {},
   "outputs": [
    {
     "name": "stdout",
     "output_type": "stream",
     "text": [
      "['Liverpool', 'Arsenal', 'Man City', 'Nottingham Forest', 'Newcastle', 'Chelsea', 'Man United', 'Southampton']\n"
     ]
    }
   ],
   "source": [
    "pl_clubs[-1] = 'Southampton'\n",
    "print(pl_clubs)"
   ]
  },
  {
   "cell_type": "code",
   "execution_count": 62,
   "id": "8524f31c-1477-49ce-9e83-488d62be11b5",
   "metadata": {},
   "outputs": [
    {
     "data": {
      "text/plain": [
       "8"
      ]
     },
     "execution_count": 62,
     "metadata": {},
     "output_type": "execute_result"
    }
   ],
   "source": [
    "len(pl_clubs)"
   ]
  },
  {
   "cell_type": "code",
   "execution_count": 63,
   "id": "e21af310-efb2-4a00-9ef8-2142bd7b39c4",
   "metadata": {},
   "outputs": [
    {
     "data": {
      "text/plain": [
       "['Liverpool', 'Arsenal', 'Man City', 'Nottingham Forest']"
      ]
     },
     "execution_count": 63,
     "metadata": {},
     "output_type": "execute_result"
    }
   ],
   "source": [
    "pl_clubs[0:4]\n",
    "# Slicing"
   ]
  },
  {
   "cell_type": "code",
   "execution_count": 64,
   "id": "42aec600-dd46-4091-a8b0-4cfd21e14f82",
   "metadata": {},
   "outputs": [
    {
     "name": "stdout",
     "output_type": "stream",
     "text": [
      "['Liverpool', 'Arsenal', 'Man City', 'Nottingham Forest', 'Newcastle', 'Chelsea', 'Man United']\n",
      "7\n"
     ]
    }
   ],
   "source": [
    "# Deleting from a list\n",
    "# pop() - Removes the last element in the list (LIFO)\n",
    "# .remove(\"element\") - Removes a specific element from the list\n",
    "# del keyword - removes using the index\n",
    "pl_clubs.pop()\n",
    "print(pl_clubs)\n",
    "print(len(pl_clubs))"
   ]
  },
  {
   "cell_type": "code",
   "execution_count": 65,
   "id": "dddfecd6-c2a9-47a0-9822-ec30ad42a799",
   "metadata": {},
   "outputs": [
    {
     "name": "stdout",
     "output_type": "stream",
     "text": [
      "['Liverpool', 'Arsenal', 'Man City', 'Newcastle', 'Chelsea', 'Man United']\n"
     ]
    }
   ],
   "source": [
    "pl_clubs.remove(\"Nottingham Forest\")\n",
    "print(pl_clubs)"
   ]
  },
  {
   "cell_type": "code",
   "execution_count": 66,
   "id": "9cc16769-4f56-4497-b413-379cd35bcb6d",
   "metadata": {},
   "outputs": [
    {
     "data": {
      "text/plain": [
       "6"
      ]
     },
     "execution_count": 66,
     "metadata": {},
     "output_type": "execute_result"
    }
   ],
   "source": [
    "len(pl_clubs)"
   ]
  },
  {
   "cell_type": "code",
   "execution_count": 68,
   "id": "1d2e0ac7-193f-49b1-bed1-d18261cc4f09",
   "metadata": {},
   "outputs": [
    {
     "name": "stdout",
     "output_type": "stream",
     "text": [
      "['Liverpool', 'Arsenal', 'Man City', 'Chelsea', 'Man United']\n",
      "5\n"
     ]
    }
   ],
   "source": [
    "del pl_clubs[3]\n",
    "print(pl_clubs)\n",
    "print(len(pl_clubs))"
   ]
  },
  {
   "cell_type": "markdown",
   "id": "a5591afd-d6c7-46ff-ad9f-e1d3e906fed9",
   "metadata": {},
   "source": [
    "Tuples and lists are similar. Only that, tuples are immutable and computationally cheap compared to a list. Both are heterogeneous and can contain different data types"
   ]
  },
  {
   "cell_type": "code",
   "execution_count": 69,
   "id": "3efcb84c-d38a-4af5-b28f-f2c8827453f9",
   "metadata": {},
   "outputs": [
    {
     "data": {
      "text/plain": [
       "tuple"
      ]
     },
     "execution_count": 69,
     "metadata": {},
     "output_type": "execute_result"
    }
   ],
   "source": [
    "cars = ('Toyota','Nissan','Mitsubishi','Subaru','Mazda')\n",
    "type(cars)"
   ]
  },
  {
   "cell_type": "markdown",
   "id": "2da1597a-65b2-4a7e-b9eb-276cb2a3ec35",
   "metadata": {},
   "source": [
    "Sets unlike lists cannot have duplicate values as they are unindexed. They are also unordered and unchangeable"
   ]
  },
  {
   "cell_type": "code",
   "execution_count": 72,
   "id": "2356f9b2-deac-4011-adb7-45699befca1d",
   "metadata": {},
   "outputs": [
    {
     "name": "stdout",
     "output_type": "stream",
     "text": [
      "<class 'set'>\n"
     ]
    }
   ],
   "source": [
    "subject_set = {'Maths','English','Kiswahili','Science', 'Social Studies','PE'}\n",
    "subject_set\n",
    "print(type(subject_set))"
   ]
  },
  {
   "cell_type": "markdown",
   "id": "7db6f2ca-5dd2-4e47-8290-c72b9f131a3e",
   "metadata": {},
   "source": [
    "Dictionary - Stores data in key-value pairs like a traditional dictionary.\n",
    "Written in curly braces"
   ]
  },
  {
   "cell_type": "code",
   "execution_count": 75,
   "id": "91758ad5-199d-4a80-8d56-b16bb8336ace",
   "metadata": {},
   "outputs": [
    {
     "name": "stdout",
     "output_type": "stream",
     "text": [
      "{'first_name': 'Nesphory', 'last_name': 'Mwadime', 'age': 25, 'dob': 'dd/mm/yyyy'}\n"
     ]
    }
   ],
   "source": [
    "me = {\n",
    "    'first_name':'Nesphory',\n",
    "    'last_name':'Mwadime',\n",
    "    'age': 25,\n",
    "    'dob': 'dd/mm/yyyy'\n",
    "}\n",
    "print(me)"
   ]
  },
  {
   "cell_type": "code",
   "execution_count": 101,
   "id": "76938847-6a57-4ea9-83af-b6ed160f3109",
   "metadata": {},
   "outputs": [
    {
     "data": {
      "text/plain": [
       "{'primary1': 'Unity Day',\n",
       " 'primary2': 'Notre Dame School',\n",
       " 'primary3': 'Mt Sinai',\n",
       " 'primary4': 'Werus Academy',\n",
       " 'secondary': \"Mang'u High School\",\n",
       " 'tertiary': 'JKUAT'}"
      ]
     },
     "execution_count": 101,
     "metadata": {},
     "output_type": "execute_result"
    }
   ],
   "source": [
    "schools= {\n",
    "    'primary1':'Unity Day',\n",
    "    'primary2':'Notre Dame School',\n",
    "    'primary3':'Mt Sinai',\n",
    "    'primary4':'Werus Academy',\n",
    "    'secondary':\"Mang'u High School\",\n",
    "    'tertiary':'JKUAT'\n",
    "}\n",
    "schools"
   ]
  },
  {
   "cell_type": "code",
   "execution_count": 102,
   "id": "e86dca8a-fc3e-44fa-af00-ebbfdf74ae37",
   "metadata": {},
   "outputs": [
    {
     "data": {
      "text/plain": [
       "{'primary1': 'Unity Day',\n",
       " 'primary2': 'Notre Dame School',\n",
       " 'primary3': 'Mt Sinai',\n",
       " 'primary4': 'Werus Academy',\n",
       " 'secondary': \"Mang'u High School\",\n",
       " 'tertiary': 'JKUAT',\n",
       " 'others': 'Moringa'}"
      ]
     },
     "execution_count": 102,
     "metadata": {},
     "output_type": "execute_result"
    }
   ],
   "source": [
    "schools['others'] = 'Moringa'\n",
    "# Adding another key-value pair to a dictionary\n",
    "schools"
   ]
  },
  {
   "cell_type": "code",
   "execution_count": 103,
   "id": "94a99f77-4636-45c5-ba56-69d550367da7",
   "metadata": {},
   "outputs": [
    {
     "data": {
      "text/plain": [
       "\"Mang'u High School\""
      ]
     },
     "execution_count": 103,
     "metadata": {},
     "output_type": "execute_result"
    }
   ],
   "source": [
    "high_school = schools['secondary']\n",
    "high_school\n",
    "# Accessing items in the dictionary"
   ]
  },
  {
   "cell_type": "code",
   "execution_count": 104,
   "id": "7c84d96b-c530-4a52-a196-290f08105b43",
   "metadata": {},
   "outputs": [
    {
     "data": {
      "text/plain": [
       "\"Mang'u High School\""
      ]
     },
     "execution_count": 104,
     "metadata": {},
     "output_type": "execute_result"
    }
   ],
   "source": [
    "hs = schools.get('secondary')\n",
    "hs\n",
    "#Alternative way to get items"
   ]
  },
  {
   "cell_type": "code",
   "execution_count": 105,
   "id": "3fd830a0-399a-4b93-9a03-584a08651ab8",
   "metadata": {},
   "outputs": [
    {
     "data": {
      "text/plain": [
       "\"Mang'u High School\""
      ]
     },
     "execution_count": 105,
     "metadata": {},
     "output_type": "execute_result"
    }
   ],
   "source": [
    "schools.pop('secondary')"
   ]
  },
  {
   "cell_type": "code",
   "execution_count": 106,
   "id": "6f4f0776-190b-4da0-964f-d1d633d9b998",
   "metadata": {},
   "outputs": [
    {
     "data": {
      "text/plain": [
       "{'primary1': 'Unity Day',\n",
       " 'primary2': 'Notre Dame School',\n",
       " 'primary3': 'Mt Sinai',\n",
       " 'primary4': 'Werus Academy',\n",
       " 'tertiary': 'JKUAT',\n",
       " 'others': 'Moringa'}"
      ]
     },
     "execution_count": 106,
     "metadata": {},
     "output_type": "execute_result"
    }
   ],
   "source": [
    "schools"
   ]
  },
  {
   "cell_type": "code",
   "execution_count": 107,
   "id": "12727449-131b-47d8-8475-b43da12d74ac",
   "metadata": {},
   "outputs": [],
   "source": [
    "schools.clear()"
   ]
  },
  {
   "cell_type": "code",
   "execution_count": 108,
   "id": "ea85a228-40a1-444b-b99a-20df1fbcf854",
   "metadata": {},
   "outputs": [
    {
     "data": {
      "text/plain": [
       "{}"
      ]
     },
     "execution_count": 108,
     "metadata": {},
     "output_type": "execute_result"
    }
   ],
   "source": [
    "schools"
   ]
  },
  {
   "cell_type": "code",
   "execution_count": null,
   "id": "6270348b-10ca-4e95-8de0-9d6a8ebce70d",
   "metadata": {},
   "outputs": [],
   "source": []
  },
  {
   "cell_type": "code",
   "execution_count": 4,
   "id": "23022c48-ec31-4c95-ba26-dc5e9f15fcaa",
   "metadata": {},
   "outputs": [
    {
     "name": "stdin",
     "output_type": "stream",
     "text": [
      "What is your name?  Nesphory\n",
      "Where do you live?  Siakago\n"
     ]
    },
    {
     "name": "stdout",
     "output_type": "stream",
     "text": [
      "My name is Nesphory and I live in Siakago\n",
      "My name is Nesphory and I live in Siakago\n"
     ]
    }
   ],
   "source": [
    "# String concatenation using numbers\n",
    "name = input(\"What is your name? \")\n",
    "home = input(\"Where do you live? \")\n",
    "print(\"My name is\", name, \"and I live in\", home)\n",
    "# The commas automatically add spaces in the print output\n",
    "print('My name is ' +name+ \" and I live in \" + home)\n",
    "# When you use the + operator, you have to add the spaces manually\n",
    "# Either way, the output is the same"
   ]
  },
  {
   "cell_type": "code",
   "execution_count": null,
   "id": "6de0baec-4557-4e01-a087-55e0d0e8a475",
   "metadata": {},
   "outputs": [],
   "source": []
  }
 ],
 "metadata": {
  "kernelspec": {
   "display_name": "Python 3 (ipykernel)",
   "language": "python",
   "name": "python3"
  },
  "language_info": {
   "codemirror_mode": {
    "name": "ipython",
    "version": 3
   },
   "file_extension": ".py",
   "mimetype": "text/x-python",
   "name": "python",
   "nbconvert_exporter": "python",
   "pygments_lexer": "ipython3",
   "version": "3.11.7"
  }
 },
 "nbformat": 4,
 "nbformat_minor": 5
}
