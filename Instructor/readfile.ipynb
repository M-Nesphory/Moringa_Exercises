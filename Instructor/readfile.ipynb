{
 "cells": [
  {
   "cell_type": "markdown",
   "metadata": {},
   "source": [
    "# Reading and writing the file"
   ]
  },
  {
   "cell_type": "markdown",
   "metadata": {},
   "source": [
    "## 1. Reading the file"
   ]
  },
  {
   "cell_type": "code",
   "execution_count": 14,
   "metadata": {},
   "outputs": [
    {
     "name": "stdout",
     "output_type": "stream",
     "text": [
      "Hey! My name is Nesphory Mwakale\n",
      "\n",
      "Currently studying in Moringa\n",
      "Data Science to be exact.\n",
      "So far? So good.\n",
      "I can't complain\n"
     ]
    }
   ],
   "source": [
    "#Reading a file\n",
    "#We can open the file as below\n",
    "f = open(\"mine.txt\")\n",
    "print(f.read())\n",
    "f.close()\n",
    "#always ensure to close the file otherwise other users won't be able to modify it untill it's closed."
   ]
  },
  {
   "cell_type": "code",
   "execution_count": 25,
   "metadata": {},
   "outputs": [
    {
     "name": "stdout",
     "output_type": "stream",
     "text": [
      "Hey! My name is Nesphory Mwakale\n",
      "\n",
      "Currently studying in Moringa\n",
      "Data Science to be exact.\n",
      "So far? So good.\n",
      "I can't complain\n"
     ]
    }
   ],
   "source": [
    "\n",
    "#However the above is not recommended in python, thus we use context manager \n",
    "# \"with open\" where there is no need to close the file\"\n",
    "\n",
    "with open(\"mine.txt\", \"r\") as f:\n",
    "#    for i in f:\n",
    "#        print(i, end ='')\n",
    "    print(f.read())"
   ]
  },
  {
   "cell_type": "code",
   "execution_count": 24,
   "metadata": {},
   "outputs": [
    {
     "name": "stdout",
     "output_type": "stream",
     "text": [
      "['Hey! My name is Nesphory Mwakale\\n', '\\n', 'Currently studying in Moringa\\n', 'Data Science to be exact.\\n', 'So far? So good.\\n', \"I can't complain\"]\n"
     ]
    }
   ],
   "source": [
    "with open(\"mine.txt\", \"r\") as f:\n",
    "    print(f.readlines())\n",
    "        # writes all the lines one by one and save in different memories.\n",
    "        "
   ]
  },
  {
   "cell_type": "code",
   "execution_count": 26,
   "metadata": {},
   "outputs": [
    {
     "name": "stdout",
     "output_type": "stream",
     "text": [
      "\n",
      "Currently studying in Moringa\n",
      "Data Science to be exact.\n",
      "So far? So good.\n",
      "I can't complain\n"
     ]
    }
   ],
   "source": [
    "with open(\"mine.txt\", \"r\") as f:\n",
    "    for i in f:\n",
    "        print(f.read()) \n",
    "        # read everything all together and save in one place"
   ]
  },
  {
   "cell_type": "code",
   "execution_count": 29,
   "metadata": {},
   "outputs": [
    {
     "name": "stdout",
     "output_type": "stream",
     "text": [
      "Hey! My name is Nesphory Mwakale\n",
      "\n",
      "\n",
      "\n",
      "Currently studying in Moringa\n",
      "\n"
     ]
    }
   ],
   "source": [
    "with open(\"mine.txt\", \"r\") as f:\n",
    "        print(f.readline())# just read one line\n",
    "        print(f.readline())\n",
    "        print(f.readline())"
   ]
  },
  {
   "cell_type": "code",
   "execution_count": 16,
   "metadata": {},
   "outputs": [
    {
     "name": "stdout",
     "output_type": "stream",
     "text": [
      "what do yo\n",
      "I believe \n",
      "amazing st\n",
      "i would lo\n",
      "\n"
     ]
    }
   ],
   "source": [
    "with open(\"mine.txt\", \"r\") as f:\n",
    "    for i in f:\n",
    "        print(f.read(10))# limiting the output, here it will return only 1st ten words"
   ]
  },
  {
   "cell_type": "markdown",
   "metadata": {},
   "source": [
    "## 2. Writing the file"
   ]
  },
  {
   "cell_type": "code",
   "execution_count": 8,
   "metadata": {},
   "outputs": [],
   "source": [
    "#Writing data into a file\n",
    "with open('text.txt', 'w') as f:\n",
    "    f.write('this is a dummy file') \n",
    "    # this create a text.txt file with the content \"this is a dummy file\""
   ]
  },
  {
   "cell_type": "code",
   "execution_count": 9,
   "metadata": {},
   "outputs": [],
   "source": [
    "#if you add anything in write(w) mode then the new data will override the old content\n",
    "with open('text.txt', 'w') as f:\n",
    "    f.write('my wish') \n",
    "    # check the content of text.txt file now"
   ]
  },
  {
   "cell_type": "code",
   "execution_count": 10,
   "metadata": {},
   "outputs": [],
   "source": [
    "# we can add data to file by using append mode\n",
    "with open('text.txt', 'a') as f:\n",
    "    f.write('\\n this is apending some values') \n",
    "    # append(a) mode will retain the previous content and add more info to the file."
   ]
  },
  {
   "cell_type": "code",
   "execution_count": 20,
   "metadata": {},
   "outputs": [],
   "source": [
    "#write a program to get the capital cities from capital_city.txt file and should be saved in a new file called answer.txt\n",
    "with open('capital_city.txt', 'r') as readFile:\n",
    "    for city in readFile:\n",
    "        if city.startswith('Answer') is True:\n",
    "            with open('answer.txt', 'a') as appendFile:\n",
    "                appendFile.write(city)"
   ]
  },
  {
   "cell_type": "code",
   "execution_count": 11,
   "metadata": {},
   "outputs": [
    {
     "name": "stdout",
     "output_type": "stream",
     "text": [
      "C:\\Users\\nrmmw\\Moringa Practice\\Instructor\n"
     ]
    }
   ],
   "source": [
    "#Accessng file from any location\n",
    "#checking the current working directory, run this code to see your current directory. it is similar to using pwd in gitbash or termianal\n",
    "import os\n",
    "print(os.getcwd())"
   ]
  },
  {
   "cell_type": "markdown",
   "metadata": {},
   "source": [
    "## 3. conneting a file from your local machine to the notebook "
   ]
  },
  {
   "cell_type": "code",
   "execution_count": null,
   "metadata": {},
   "outputs": [],
   "source": [
    "#1. Using absolute path\n",
    "with open('C:/Users/DELL/OneDrive/Desktop/code/datasets/ames.csv') as f:\n",
    "    for i in f:\n",
    "        print(i, end =' ') # example ames.csv file is located on my pc in the datasets folder and this is the path"
   ]
  },
  {
   "cell_type": "code",
   "execution_count": 37,
   "metadata": {},
   "outputs": [],
   "source": [
    "#2. relative path\n",
    "import os\n",
    "if os.path.exists('../ames.csv'):\n",
    "    with open('../ames.csv', 'r') as f:\n",
    "        for i in f:\n",
    "            print(i, end =' ')\n"
   ]
  },
  {
   "cell_type": "code",
   "execution_count": null,
   "metadata": {},
   "outputs": [],
   "source": [
    "#I can also change directory. this happens when you get notebook but your dataset is in different directory\n",
    "import os\n",
    "os.chdir('C:/Users/DELL/OneDrive/Desktop/code/datasets')\n",
    "\n",
    "with open('ames.csv') as f:\n",
    "    for i in f:\n",
    "        print(i, end =' ')"
   ]
  }
 ],
 "metadata": {
  "kernelspec": {
   "display_name": "Python 3 (ipykernel)",
   "language": "python",
   "name": "python3"
  },
  "language_info": {
   "codemirror_mode": {
    "name": "ipython",
    "version": 3
   },
   "file_extension": ".py",
   "mimetype": "text/x-python",
   "name": "python",
   "nbconvert_exporter": "python",
   "pygments_lexer": "ipython3",
   "version": "3.8.5"
  },
  "toc": {
   "base_numbering": 1,
   "nav_menu": {},
   "number_sections": true,
   "sideBar": true,
   "skip_h1_title": false,
   "title_cell": "Table of Contents",
   "title_sidebar": "Contents",
   "toc_cell": false,
   "toc_position": {},
   "toc_section_display": true,
   "toc_window_display": false
  }
 },
 "nbformat": 4,
 "nbformat_minor": 2
}
