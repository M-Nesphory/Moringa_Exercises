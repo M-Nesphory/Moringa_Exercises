{
 "cells": [
  {
   "cell_type": "markdown",
   "id": "8ac9375d-f9d6-4bba-b8f5-194b70de8aef",
   "metadata": {},
   "source": [
    "List [] - ordered, mutable, heterogeneous, duplicates allowed\n",
    "\n",
    "tuple () - ordered, immutable, heterogeneous, duplicates allowed\n",
    "\n",
    "set {} - mutable, unique"
   ]
  },
  {
   "cell_type": "markdown",
   "id": "0550b0ea-6880-4f28-965c-d9634eb81e0e",
   "metadata": {},
   "source": [
    "**List**"
   ]
  },
  {
   "cell_type": "code",
   "execution_count": 2,
   "id": "5f767318-32d1-4279-aee9-4a7d542c0238",
   "metadata": {},
   "outputs": [
    {
     "name": "stdout",
     "output_type": "stream",
     "text": [
      "['sitting room', 'kitchen', 'dining room', 'bathroom']\n"
     ]
    }
   ],
   "source": [
    "rooms = ['sitting room','kitchen','dining room','bathroom']\n",
    "print(rooms)"
   ]
  },
  {
   "cell_type": "code",
   "execution_count": 3,
   "id": "b545e26c-6409-41a8-a6ff-2763e1e43046",
   "metadata": {},
   "outputs": [
    {
     "name": "stdout",
     "output_type": "stream",
     "text": [
      "list = ['guava', 'apple', 'pear', 'pineapple', 'banana', 'mango']\n"
     ]
    }
   ],
   "source": [
    "fruits = ['guava','apple',\"pear\",'pineapple',\"banana\",'mango']\n",
    "print('list =', fruits)"
   ]
  },
  {
   "cell_type": "code",
   "execution_count": 4,
   "id": "8896b59d-d8c5-4db8-9d7d-30ed483bc765",
   "metadata": {},
   "outputs": [
    {
     "name": "stdout",
     "output_type": "stream",
     "text": [
      "['guava', 'apple', 'pear', 'pineapple', 'banana', 'mango', ['orange', 'strawberry']]\n"
     ]
    }
   ],
   "source": [
    "fruits.append(['orange','strawberry'])\n",
    "print(fruits)"
   ]
  },
  {
   "cell_type": "code",
   "execution_count": 8,
   "id": "39ae73a6-73c1-4078-969a-770bb6248464",
   "metadata": {},
   "outputs": [
    {
     "name": "stdout",
     "output_type": "stream",
     "text": [
      "strawberry\n"
     ]
    }
   ],
   "source": [
    "print(fruits[-1][1])"
   ]
  },
  {
   "cell_type": "code",
   "execution_count": 10,
   "id": "a852e01a-0ae8-4e8d-8d3d-07aa71c4af27",
   "metadata": {},
   "outputs": [],
   "source": [
    "fruits.remove(['orange','strawberry'])"
   ]
  },
  {
   "cell_type": "code",
   "execution_count": 11,
   "id": "b97a0f0c-3756-44e6-af0b-e7b1c334d7b1",
   "metadata": {},
   "outputs": [
    {
     "data": {
      "text/plain": [
       "['guava', 'apple', 'pear', 'pineapple', 'banana', 'mango']"
      ]
     },
     "execution_count": 11,
     "metadata": {},
     "output_type": "execute_result"
    }
   ],
   "source": [
    "fruits"
   ]
  },
  {
   "cell_type": "code",
   "execution_count": 12,
   "id": "54ed5ce1-7651-4621-8e73-ff803edf441b",
   "metadata": {},
   "outputs": [],
   "source": [
    "fruits.append('avocado')"
   ]
  },
  {
   "cell_type": "code",
   "execution_count": 13,
   "id": "6a07dc2a-0d19-4859-988f-ef3f8efa1d45",
   "metadata": {},
   "outputs": [
    {
     "data": {
      "text/plain": [
       "['guava', 'apple', 'pear', 'pineapple', 'banana', 'mango', 'avocado']"
      ]
     },
     "execution_count": 13,
     "metadata": {},
     "output_type": "execute_result"
    }
   ],
   "source": [
    "fruits"
   ]
  },
  {
   "cell_type": "code",
   "execution_count": 14,
   "id": "5babc355-a5c4-4bb5-a11a-b0906f2653cd",
   "metadata": {},
   "outputs": [],
   "source": [
    "fruits[0] = 'orange'"
   ]
  },
  {
   "cell_type": "code",
   "execution_count": 15,
   "id": "3025c8a8-c423-4bef-8e10-711e7097ca86",
   "metadata": {},
   "outputs": [
    {
     "data": {
      "text/plain": [
       "['orange', 'apple', 'pear', 'pineapple', 'banana', 'mango', 'avocado']"
      ]
     },
     "execution_count": 15,
     "metadata": {},
     "output_type": "execute_result"
    }
   ],
   "source": [
    "fruits"
   ]
  },
  {
   "cell_type": "code",
   "execution_count": 16,
   "id": "46bd4894-0b26-4202-847c-04f07428768a",
   "metadata": {},
   "outputs": [
    {
     "data": {
      "text/plain": [
       "['orange',\n",
       " 'apple',\n",
       " 'pear',\n",
       " 'pineapple',\n",
       " 'banana',\n",
       " 'mango',\n",
       " 'avocado',\n",
       " 'strawberry',\n",
       " 'raspberry']"
      ]
     },
     "execution_count": 16,
     "metadata": {},
     "output_type": "execute_result"
    }
   ],
   "source": [
    "fruits.extend(['strawberry','raspberry'])\n",
    "fruits"
   ]
  },
  {
   "cell_type": "code",
   "execution_count": 17,
   "id": "48e529b9-76c4-4103-9f7c-fd3cb36408c9",
   "metadata": {},
   "outputs": [
    {
     "data": {
      "text/plain": [
       "9"
      ]
     },
     "execution_count": 17,
     "metadata": {},
     "output_type": "execute_result"
    }
   ],
   "source": [
    "len(fruits)"
   ]
  },
  {
   "cell_type": "code",
   "execution_count": 18,
   "id": "720fc571-39ec-4fa6-a0b7-d18ebb03571e",
   "metadata": {},
   "outputs": [
    {
     "data": {
      "text/plain": [
       "'raspberry'"
      ]
     },
     "execution_count": 18,
     "metadata": {},
     "output_type": "execute_result"
    }
   ],
   "source": [
    "fruits[-1]"
   ]
  },
  {
   "cell_type": "code",
   "execution_count": 19,
   "id": "188fd039-a2a2-4f1f-a618-7fc36567e15f",
   "metadata": {},
   "outputs": [],
   "source": [
    "fruits.append('orange')"
   ]
  },
  {
   "cell_type": "code",
   "execution_count": 20,
   "id": "1cdf6891-5cc1-4d7a-933e-aecf676a424f",
   "metadata": {},
   "outputs": [
    {
     "name": "stdout",
     "output_type": "stream",
     "text": [
      "{'apple', 'pineapple', 'avocado', 'banana', 'strawberry', 'orange', 'mango', 'pear', 'raspberry'}\n"
     ]
    }
   ],
   "source": [
    "fruits2 = set(fruits)\n",
    "print(fruits2)"
   ]
  },
  {
   "cell_type": "code",
   "execution_count": 21,
   "id": "7b91efab-1efe-416f-837d-6bb762279f83",
   "metadata": {},
   "outputs": [
    {
     "data": {
      "text/plain": [
       "9"
      ]
     },
     "execution_count": 21,
     "metadata": {},
     "output_type": "execute_result"
    }
   ],
   "source": [
    "len(fruits2)"
   ]
  },
  {
   "cell_type": "code",
   "execution_count": 22,
   "id": "4a8df15a-69fe-4e97-a071-7658133c5123",
   "metadata": {},
   "outputs": [
    {
     "data": {
      "text/plain": [
       "10"
      ]
     },
     "execution_count": 22,
     "metadata": {},
     "output_type": "execute_result"
    }
   ],
   "source": [
    "len(fruits)"
   ]
  },
  {
   "cell_type": "code",
   "execution_count": 23,
   "id": "e5f53e49-d7f1-4c0e-b6df-fa634f5a5844",
   "metadata": {},
   "outputs": [],
   "source": [
    "fruits3 = list(fruits2)"
   ]
  },
  {
   "cell_type": "code",
   "execution_count": 24,
   "id": "942aba7e-56e1-4dc1-9d1f-da026e2aff97",
   "metadata": {},
   "outputs": [
    {
     "data": {
      "text/plain": [
       "['apple',\n",
       " 'pineapple',\n",
       " 'avocado',\n",
       " 'banana',\n",
       " 'strawberry',\n",
       " 'orange',\n",
       " 'mango',\n",
       " 'pear',\n",
       " 'raspberry']"
      ]
     },
     "execution_count": 24,
     "metadata": {},
     "output_type": "execute_result"
    }
   ],
   "source": [
    "fruits3"
   ]
  },
  {
   "cell_type": "code",
   "execution_count": 25,
   "id": "937f78d5-c2da-4ea3-8ffe-514f9ded0d9c",
   "metadata": {},
   "outputs": [
    {
     "data": {
      "text/plain": [
       "9"
      ]
     },
     "execution_count": 25,
     "metadata": {},
     "output_type": "execute_result"
    }
   ],
   "source": [
    "len(fruits3)"
   ]
  },
  {
   "cell_type": "markdown",
   "id": "9e6035ea-e126-4d63-864e-ebaf404434e3",
   "metadata": {},
   "source": [
    "**Dictionaries**"
   ]
  },
  {
   "cell_type": "markdown",
   "id": "dfc6f2ca-5d1c-4b0f-9698-a56eafe0c9ae",
   "metadata": {},
   "source": [
    "It is an unordered, changeable and indexed collection that is written in curly braces. They are arranged in key-value pairs"
   ]
  },
  {
   "cell_type": "markdown",
   "id": "28555fee-0150-42ed-bb01-7d13e2724d54",
   "metadata": {},
   "source": [
    "Syntax:\n",
    "\n",
    "dict_name{\n",
    "\n",
    "    key:value,\n",
    "    \n",
    "    key:value,\n",
    "    \n",
    "    key:value,\n",
    "    \n",
    "    key:value,\n",
    "    \n",
    "}"
   ]
  },
  {
   "cell_type": "code",
   "execution_count": 3,
   "id": "4eabf06f-8a85-4218-9afa-bc8314f490f1",
   "metadata": {},
   "outputs": [],
   "source": [
    "inventory_dict = {\n",
    "    \"fruits\": ['guava','apple',\"pear\",'pineapple','mango'],\n",
    "    \"sodas\": ['sprite', 'coke','fanta','krest','stoney']}"
   ]
  },
  {
   "cell_type": "code",
   "execution_count": 4,
   "id": "26acb865-d2b0-4f52-b3f1-9c52391ba461",
   "metadata": {},
   "outputs": [
    {
     "data": {
      "text/plain": [
       "{'fruits': ['guava', 'apple', 'pear', 'pineapple', 'mango'],\n",
       " 'sodas': ['sprite', 'coke', 'fanta', 'krest', 'stoney']}"
      ]
     },
     "execution_count": 4,
     "metadata": {},
     "output_type": "execute_result"
    }
   ],
   "source": [
    "inventory_dict"
   ]
  },
  {
   "cell_type": "code",
   "execution_count": 5,
   "id": "6cb73452-3208-47d4-a7bb-c9cebedf5910",
   "metadata": {},
   "outputs": [
    {
     "data": {
      "text/plain": [
       "'sprite'"
      ]
     },
     "execution_count": 5,
     "metadata": {},
     "output_type": "execute_result"
    }
   ],
   "source": [
    "inventory_dict['sodas'][0]"
   ]
  },
  {
   "cell_type": "code",
   "execution_count": 6,
   "id": "f921bc27-5065-4e31-bcff-bd0e70b46ef6",
   "metadata": {},
   "outputs": [],
   "source": [
    "inventory_dict['flour'] = {'maize':['jogoo','hostess','kavagara'],\n",
    "                           'wheat':['ajab','exe','pembe']}"
   ]
  },
  {
   "cell_type": "code",
   "execution_count": 7,
   "id": "0c7b664d-7d98-4641-8df1-65aa942918a2",
   "metadata": {},
   "outputs": [
    {
     "data": {
      "text/plain": [
       "{'fruits': ['guava', 'apple', 'pear', 'pineapple', 'mango'],\n",
       " 'sodas': ['sprite', 'coke', 'fanta', 'krest', 'stoney'],\n",
       " 'flour': {'maize': ['jogoo', 'hostess', 'kavagara'],\n",
       "  'wheat': ['ajab', 'exe', 'pembe']}}"
      ]
     },
     "execution_count": 7,
     "metadata": {},
     "output_type": "execute_result"
    }
   ],
   "source": [
    "inventory_dict"
   ]
  },
  {
   "cell_type": "code",
   "execution_count": null,
   "id": "099732f1-014b-4206-8f66-7d1906f6fcd9",
   "metadata": {},
   "outputs": [],
   "source": [
    "inventory_dict['flour']["
   ]
  }
 ],
 "metadata": {
  "kernelspec": {
   "display_name": "Python 3 (ipykernel)",
   "language": "python",
   "name": "python3"
  },
  "language_info": {
   "codemirror_mode": {
    "name": "ipython",
    "version": 3
   },
   "file_extension": ".py",
   "mimetype": "text/x-python",
   "name": "python",
   "nbconvert_exporter": "python",
   "pygments_lexer": "ipython3",
   "version": "3.11.7"
  }
 },
 "nbformat": 4,
 "nbformat_minor": 5
}
