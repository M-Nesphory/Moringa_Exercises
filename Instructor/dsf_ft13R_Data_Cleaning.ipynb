{
 "cells": [
  {
   "cell_type": "markdown",
   "metadata": {
    "id": "on8n-Vwhj-MC"
   },
   "source": [
    "# Data Cleaning/Cleansing/Wrangling"
   ]
  },
  {
   "cell_type": "markdown",
   "metadata": {
    "id": "6V23ikWSiUSP"
   },
   "source": [
    "## Data cleaning will cover the following\n",
    "1. Checking the columns and changing mispelled to correct names\n",
    "2. checking missing values\n",
    "3. checking for duplicates\n",
    "4. checking for outliers"
   ]
  },
  {
   "cell_type": "code",
   "execution_count": 66,
   "metadata": {
    "id": "I3i8rUPHhj4Y"
   },
   "outputs": [],
   "source": [
    "#Import the required libraries\n",
    "import pandas as pd\n",
    "import numpy as np\n",
    "import matplotlib.pyplot as plt\n",
    "import seaborn as sns"
   ]
  },
  {
   "cell_type": "code",
   "execution_count": 67,
   "metadata": {},
   "outputs": [
    {
     "name": "stdout",
     "output_type": "stream",
     "text": [
      "['anagrams', 'anscombe', 'attention', 'brain_networks', 'car_crashes', 'diamonds', 'dots', 'dowjones', 'exercise', 'flights', 'fmri', 'geyser', 'glue', 'healthexp', 'iris', 'mpg', 'penguins', 'planets', 'seaice', 'taxis', 'tips', 'titanic'] "
     ]
    }
   ],
   "source": [
    "print(sns.get_dataset_names(), end =\" \")"
   ]
  },
  {
   "cell_type": "markdown",
   "metadata": {
    "id": "JEEvPQBdndve"
   },
   "source": [
    "### 1. Loading the dataset and getting information"
   ]
  },
  {
   "cell_type": "code",
   "execution_count": 68,
   "metadata": {
    "id": "wkICkYCYjLki"
   },
   "outputs": [],
   "source": [
    "#Reading the file: load diabetes.csv\n",
    "df = pd.read_csv(\"diabetes.csv\")"
   ]
  },
  {
   "cell_type": "code",
   "execution_count": 69,
   "metadata": {
    "id": "faLxkQ_tkvJc"
   },
   "outputs": [
    {
     "data": {
      "text/html": [
       "<div>\n",
       "<style scoped>\n",
       "    .dataframe tbody tr th:only-of-type {\n",
       "        vertical-align: middle;\n",
       "    }\n",
       "\n",
       "    .dataframe tbody tr th {\n",
       "        vertical-align: top;\n",
       "    }\n",
       "\n",
       "    .dataframe thead th {\n",
       "        text-align: right;\n",
       "    }\n",
       "</style>\n",
       "<table border=\"1\" class=\"dataframe\">\n",
       "  <thead>\n",
       "    <tr style=\"text-align: right;\">\n",
       "      <th></th>\n",
       "      <th>ID</th>\n",
       "      <th>No_Pation</th>\n",
       "      <th>Gender</th>\n",
       "      <th>AGE</th>\n",
       "      <th>Urea</th>\n",
       "      <th>Cr</th>\n",
       "      <th>HbA1c</th>\n",
       "      <th>Chol</th>\n",
       "      <th>TG</th>\n",
       "      <th>HDL</th>\n",
       "      <th>LDL</th>\n",
       "      <th>VLDL</th>\n",
       "      <th>BMI</th>\n",
       "      <th>CLASS</th>\n",
       "    </tr>\n",
       "  </thead>\n",
       "  <tbody>\n",
       "    <tr>\n",
       "      <th>0</th>\n",
       "      <td>502</td>\n",
       "      <td>17975</td>\n",
       "      <td>F</td>\n",
       "      <td>50.0</td>\n",
       "      <td>4.7</td>\n",
       "      <td>46.0</td>\n",
       "      <td>4.9</td>\n",
       "      <td>4.2</td>\n",
       "      <td>0.9</td>\n",
       "      <td>2.4</td>\n",
       "      <td>1.4</td>\n",
       "      <td>0.5</td>\n",
       "      <td>24.0</td>\n",
       "      <td>N</td>\n",
       "    </tr>\n",
       "    <tr>\n",
       "      <th>1</th>\n",
       "      <td>735</td>\n",
       "      <td>34221</td>\n",
       "      <td>M</td>\n",
       "      <td>26.0</td>\n",
       "      <td>4.5</td>\n",
       "      <td>62.0</td>\n",
       "      <td>4.9</td>\n",
       "      <td>3.7</td>\n",
       "      <td>1.4</td>\n",
       "      <td>1.1</td>\n",
       "      <td>2.1</td>\n",
       "      <td>0.6</td>\n",
       "      <td>23.0</td>\n",
       "      <td>N</td>\n",
       "    </tr>\n",
       "    <tr>\n",
       "      <th>2</th>\n",
       "      <td>420</td>\n",
       "      <td>47975</td>\n",
       "      <td>F</td>\n",
       "      <td>50.0</td>\n",
       "      <td>4.7</td>\n",
       "      <td>46.0</td>\n",
       "      <td>4.9</td>\n",
       "      <td>4.2</td>\n",
       "      <td>0.9</td>\n",
       "      <td>2.4</td>\n",
       "      <td>1.4</td>\n",
       "      <td>0.5</td>\n",
       "      <td>24.0</td>\n",
       "      <td>N</td>\n",
       "    </tr>\n",
       "    <tr>\n",
       "      <th>3</th>\n",
       "      <td>680</td>\n",
       "      <td>87656</td>\n",
       "      <td>F</td>\n",
       "      <td>50.0</td>\n",
       "      <td>4.7</td>\n",
       "      <td>46.0</td>\n",
       "      <td>4.9</td>\n",
       "      <td>4.2</td>\n",
       "      <td>0.9</td>\n",
       "      <td>2.4</td>\n",
       "      <td>1.4</td>\n",
       "      <td>0.5</td>\n",
       "      <td>24.0</td>\n",
       "      <td>N</td>\n",
       "    </tr>\n",
       "    <tr>\n",
       "      <th>4</th>\n",
       "      <td>504</td>\n",
       "      <td>34223</td>\n",
       "      <td>M</td>\n",
       "      <td>33.0</td>\n",
       "      <td>7.1</td>\n",
       "      <td>46.0</td>\n",
       "      <td>4.9</td>\n",
       "      <td>4.9</td>\n",
       "      <td>1.0</td>\n",
       "      <td>0.8</td>\n",
       "      <td>2.0</td>\n",
       "      <td>0.4</td>\n",
       "      <td>21.0</td>\n",
       "      <td>N</td>\n",
       "    </tr>\n",
       "  </tbody>\n",
       "</table>\n",
       "</div>"
      ],
      "text/plain": [
       "    ID  No_Pation Gender   AGE  Urea    Cr  HbA1c  Chol   TG  HDL  LDL  VLDL  \\\n",
       "0  502      17975      F  50.0   4.7  46.0    4.9   4.2  0.9  2.4  1.4   0.5   \n",
       "1  735      34221      M  26.0   4.5  62.0    4.9   3.7  1.4  1.1  2.1   0.6   \n",
       "2  420      47975      F  50.0   4.7  46.0    4.9   4.2  0.9  2.4  1.4   0.5   \n",
       "3  680      87656      F  50.0   4.7  46.0    4.9   4.2  0.9  2.4  1.4   0.5   \n",
       "4  504      34223      M  33.0   7.1  46.0    4.9   4.9  1.0  0.8  2.0   0.4   \n",
       "\n",
       "    BMI CLASS  \n",
       "0  24.0     N  \n",
       "1  23.0     N  \n",
       "2  24.0     N  \n",
       "3  24.0     N  \n",
       "4  21.0     N  "
      ]
     },
     "execution_count": 69,
     "metadata": {},
     "output_type": "execute_result"
    }
   ],
   "source": [
    "# Checking top 5 rows\n",
    "df.head()"
   ]
  },
  {
   "cell_type": "code",
   "execution_count": 70,
   "metadata": {
    "id": "JFV67_CLk3TM"
   },
   "outputs": [
    {
     "data": {
      "text/html": [
       "<div>\n",
       "<style scoped>\n",
       "    .dataframe tbody tr th:only-of-type {\n",
       "        vertical-align: middle;\n",
       "    }\n",
       "\n",
       "    .dataframe tbody tr th {\n",
       "        vertical-align: top;\n",
       "    }\n",
       "\n",
       "    .dataframe thead th {\n",
       "        text-align: right;\n",
       "    }\n",
       "</style>\n",
       "<table border=\"1\" class=\"dataframe\">\n",
       "  <thead>\n",
       "    <tr style=\"text-align: right;\">\n",
       "      <th></th>\n",
       "      <th>ID</th>\n",
       "      <th>No_Pation</th>\n",
       "      <th>Gender</th>\n",
       "      <th>AGE</th>\n",
       "      <th>Urea</th>\n",
       "      <th>Cr</th>\n",
       "      <th>HbA1c</th>\n",
       "      <th>Chol</th>\n",
       "      <th>TG</th>\n",
       "      <th>HDL</th>\n",
       "      <th>LDL</th>\n",
       "      <th>VLDL</th>\n",
       "      <th>BMI</th>\n",
       "      <th>CLASS</th>\n",
       "    </tr>\n",
       "  </thead>\n",
       "  <tbody>\n",
       "    <tr>\n",
       "      <th>1004</th>\n",
       "      <td>191</td>\n",
       "      <td>454316</td>\n",
       "      <td>M</td>\n",
       "      <td>55.0</td>\n",
       "      <td>NaN</td>\n",
       "      <td>62.0</td>\n",
       "      <td>6.8</td>\n",
       "      <td>5.3</td>\n",
       "      <td>2.0</td>\n",
       "      <td>1.0</td>\n",
       "      <td>3.5</td>\n",
       "      <td>0.9</td>\n",
       "      <td>30.1</td>\n",
       "      <td>Y</td>\n",
       "    </tr>\n",
       "    <tr>\n",
       "      <th>1005</th>\n",
       "      <td>192</td>\n",
       "      <td>454316</td>\n",
       "      <td>M</td>\n",
       "      <td>55.0</td>\n",
       "      <td>4.8</td>\n",
       "      <td>88.0</td>\n",
       "      <td>NaN</td>\n",
       "      <td>5.7</td>\n",
       "      <td>4.0</td>\n",
       "      <td>0.9</td>\n",
       "      <td>3.3</td>\n",
       "      <td>1.8</td>\n",
       "      <td>30.0</td>\n",
       "      <td>Y</td>\n",
       "    </tr>\n",
       "    <tr>\n",
       "      <th>1006</th>\n",
       "      <td>193</td>\n",
       "      <td>454316</td>\n",
       "      <td>M</td>\n",
       "      <td>62.0</td>\n",
       "      <td>6.3</td>\n",
       "      <td>82.0</td>\n",
       "      <td>6.7</td>\n",
       "      <td>5.3</td>\n",
       "      <td>2.0</td>\n",
       "      <td>1.0</td>\n",
       "      <td>3.5</td>\n",
       "      <td>NaN</td>\n",
       "      <td>30.1</td>\n",
       "      <td>Y</td>\n",
       "    </tr>\n",
       "    <tr>\n",
       "      <th>1007</th>\n",
       "      <td>194</td>\n",
       "      <td>454316</td>\n",
       "      <td>F</td>\n",
       "      <td>57.0</td>\n",
       "      <td>4.1</td>\n",
       "      <td>70.0</td>\n",
       "      <td>9.3</td>\n",
       "      <td>5.3</td>\n",
       "      <td>3.3</td>\n",
       "      <td>1.0</td>\n",
       "      <td>1.4</td>\n",
       "      <td>1.3</td>\n",
       "      <td>29.0</td>\n",
       "      <td>Y</td>\n",
       "    </tr>\n",
       "    <tr>\n",
       "      <th>1008</th>\n",
       "      <td>195</td>\n",
       "      <td>4543</td>\n",
       "      <td>f</td>\n",
       "      <td>55.0</td>\n",
       "      <td>4.1</td>\n",
       "      <td>34.0</td>\n",
       "      <td>13.9</td>\n",
       "      <td>5.4</td>\n",
       "      <td>1.6</td>\n",
       "      <td>1.6</td>\n",
       "      <td>3.1</td>\n",
       "      <td>0.7</td>\n",
       "      <td>33.0</td>\n",
       "      <td>Y</td>\n",
       "    </tr>\n",
       "  </tbody>\n",
       "</table>\n",
       "</div>"
      ],
      "text/plain": [
       "       ID  No_Pation Gender   AGE  Urea    Cr  HbA1c  Chol   TG  HDL  LDL  \\\n",
       "1004  191     454316      M  55.0   NaN  62.0    6.8   5.3  2.0  1.0  3.5   \n",
       "1005  192     454316      M  55.0   4.8  88.0    NaN   5.7  4.0  0.9  3.3   \n",
       "1006  193     454316      M  62.0   6.3  82.0    6.7   5.3  2.0  1.0  3.5   \n",
       "1007  194     454316      F  57.0   4.1  70.0    9.3   5.3  3.3  1.0  1.4   \n",
       "1008  195       4543      f  55.0   4.1  34.0   13.9   5.4  1.6  1.6  3.1   \n",
       "\n",
       "      VLDL   BMI CLASS  \n",
       "1004   0.9  30.1    Y   \n",
       "1005   1.8  30.0    Y   \n",
       "1006   NaN  30.1    Y   \n",
       "1007   1.3  29.0    Y   \n",
       "1008   0.7  33.0    Y   "
      ]
     },
     "execution_count": 70,
     "metadata": {},
     "output_type": "execute_result"
    }
   ],
   "source": [
    "#checking the last 5 columns\n",
    "df.tail()"
   ]
  },
  {
   "cell_type": "code",
   "execution_count": 71,
   "metadata": {
    "id": "K_50KUNplQez"
   },
   "outputs": [
    {
     "data": {
      "text/plain": [
       "(1009, 14)"
      ]
     },
     "execution_count": 71,
     "metadata": {},
     "output_type": "execute_result"
    }
   ],
   "source": [
    "#checking the dataframe shape\n",
    "df.shape"
   ]
  },
  {
   "cell_type": "code",
   "execution_count": 72,
   "metadata": {
    "id": "FcnpTHMrld__"
   },
   "outputs": [
    {
     "name": "stdout",
     "output_type": "stream",
     "text": [
      "<class 'pandas.core.frame.DataFrame'>\n",
      "RangeIndex: 1009 entries, 0 to 1008\n",
      "Data columns (total 14 columns):\n",
      " #   Column     Non-Null Count  Dtype  \n",
      "---  ------     --------------  -----  \n",
      " 0   ID         1009 non-null   int64  \n",
      " 1   No_Pation  1009 non-null   int64  \n",
      " 2   Gender     1009 non-null   object \n",
      " 3   AGE        1008 non-null   float64\n",
      " 4   Urea       1008 non-null   float64\n",
      " 5   Cr         1007 non-null   float64\n",
      " 6   HbA1c      1006 non-null   float64\n",
      " 7   Chol       1007 non-null   float64\n",
      " 8   TG         1007 non-null   float64\n",
      " 9   HDL        1008 non-null   float64\n",
      " 10  LDL        1007 non-null   float64\n",
      " 11  VLDL       1008 non-null   float64\n",
      " 12  BMI        1009 non-null   float64\n",
      " 13  CLASS      1009 non-null   object \n",
      "dtypes: float64(10), int64(2), object(2)\n",
      "memory usage: 110.5+ KB\n"
     ]
    }
   ],
   "source": [
    "#checking the dataset information\n",
    "df.info()"
   ]
  },
  {
   "cell_type": "code",
   "execution_count": 73,
   "metadata": {
    "id": "ZJTAsX99lmFA"
   },
   "outputs": [
    {
     "name": "stdout",
     "output_type": "stream",
     "text": [
      "<class 'pandas.core.frame.DataFrame'>\n",
      "RangeIndex: 1009 entries, 0 to 1008\n",
      "Columns: 14 entries, ID to CLASS\n",
      "dtypes: float64(10), int64(2), object(2)\n",
      "memory usage: 110.5+ KB\n"
     ]
    }
   ],
   "source": [
    "#checking the info 2\n",
    "# Excludes data columns\n",
    "df.info(verbose = False)"
   ]
  },
  {
   "cell_type": "code",
   "execution_count": 74,
   "metadata": {
    "id": "o-IQQKFDmjU0"
   },
   "outputs": [
    {
     "data": {
      "text/html": [
       "<div>\n",
       "<style scoped>\n",
       "    .dataframe tbody tr th:only-of-type {\n",
       "        vertical-align: middle;\n",
       "    }\n",
       "\n",
       "    .dataframe tbody tr th {\n",
       "        vertical-align: top;\n",
       "    }\n",
       "\n",
       "    .dataframe thead th {\n",
       "        text-align: right;\n",
       "    }\n",
       "</style>\n",
       "<table border=\"1\" class=\"dataframe\">\n",
       "  <thead>\n",
       "    <tr style=\"text-align: right;\">\n",
       "      <th></th>\n",
       "      <th>count</th>\n",
       "      <th>mean</th>\n",
       "      <th>std</th>\n",
       "      <th>min</th>\n",
       "      <th>25%</th>\n",
       "      <th>50%</th>\n",
       "      <th>75%</th>\n",
       "      <th>max</th>\n",
       "    </tr>\n",
       "  </thead>\n",
       "  <tbody>\n",
       "    <tr>\n",
       "      <th>ID</th>\n",
       "      <td>1009.0</td>\n",
       "      <td>339.161546</td>\n",
       "      <td>2.397382e+02</td>\n",
       "      <td>1.0</td>\n",
       "      <td>127.0</td>\n",
       "      <td>296.0</td>\n",
       "      <td>548.0</td>\n",
       "      <td>800.00</td>\n",
       "    </tr>\n",
       "    <tr>\n",
       "      <th>No_Pation</th>\n",
       "      <td>1009.0</td>\n",
       "      <td>271744.776016</td>\n",
       "      <td>3.365681e+06</td>\n",
       "      <td>123.0</td>\n",
       "      <td>24065.0</td>\n",
       "      <td>34399.0</td>\n",
       "      <td>45390.0</td>\n",
       "      <td>75435657.00</td>\n",
       "    </tr>\n",
       "    <tr>\n",
       "      <th>AGE</th>\n",
       "      <td>1008.0</td>\n",
       "      <td>53.620040</td>\n",
       "      <td>8.740975e+00</td>\n",
       "      <td>25.0</td>\n",
       "      <td>51.0</td>\n",
       "      <td>55.0</td>\n",
       "      <td>59.0</td>\n",
       "      <td>79.00</td>\n",
       "    </tr>\n",
       "    <tr>\n",
       "      <th>Urea</th>\n",
       "      <td>1008.0</td>\n",
       "      <td>5.131094</td>\n",
       "      <td>2.931136e+00</td>\n",
       "      <td>0.5</td>\n",
       "      <td>3.7</td>\n",
       "      <td>4.6</td>\n",
       "      <td>5.7</td>\n",
       "      <td>38.90</td>\n",
       "    </tr>\n",
       "    <tr>\n",
       "      <th>Cr</th>\n",
       "      <td>1007.0</td>\n",
       "      <td>68.973188</td>\n",
       "      <td>5.981330e+01</td>\n",
       "      <td>6.0</td>\n",
       "      <td>48.0</td>\n",
       "      <td>60.0</td>\n",
       "      <td>73.0</td>\n",
       "      <td>800.00</td>\n",
       "    </tr>\n",
       "    <tr>\n",
       "      <th>HbA1c</th>\n",
       "      <td>1006.0</td>\n",
       "      <td>8.284155</td>\n",
       "      <td>2.533576e+00</td>\n",
       "      <td>0.9</td>\n",
       "      <td>6.5</td>\n",
       "      <td>8.0</td>\n",
       "      <td>10.2</td>\n",
       "      <td>16.00</td>\n",
       "    </tr>\n",
       "    <tr>\n",
       "      <th>Chol</th>\n",
       "      <td>1007.0</td>\n",
       "      <td>4.863873</td>\n",
       "      <td>1.297326e+00</td>\n",
       "      <td>0.0</td>\n",
       "      <td>4.0</td>\n",
       "      <td>4.8</td>\n",
       "      <td>5.6</td>\n",
       "      <td>10.30</td>\n",
       "    </tr>\n",
       "    <tr>\n",
       "      <th>TG</th>\n",
       "      <td>1007.0</td>\n",
       "      <td>2.348769</td>\n",
       "      <td>1.397487e+00</td>\n",
       "      <td>0.3</td>\n",
       "      <td>1.5</td>\n",
       "      <td>2.0</td>\n",
       "      <td>2.9</td>\n",
       "      <td>13.80</td>\n",
       "    </tr>\n",
       "    <tr>\n",
       "      <th>HDL</th>\n",
       "      <td>1008.0</td>\n",
       "      <td>1.204216</td>\n",
       "      <td>6.581583e-01</td>\n",
       "      <td>0.2</td>\n",
       "      <td>0.9</td>\n",
       "      <td>1.1</td>\n",
       "      <td>1.3</td>\n",
       "      <td>9.90</td>\n",
       "    </tr>\n",
       "    <tr>\n",
       "      <th>LDL</th>\n",
       "      <td>1007.0</td>\n",
       "      <td>2.610119</td>\n",
       "      <td>1.116095e+00</td>\n",
       "      <td>0.3</td>\n",
       "      <td>1.8</td>\n",
       "      <td>2.5</td>\n",
       "      <td>3.3</td>\n",
       "      <td>9.90</td>\n",
       "    </tr>\n",
       "    <tr>\n",
       "      <th>VLDL</th>\n",
       "      <td>1008.0</td>\n",
       "      <td>1.850595</td>\n",
       "      <td>3.649859e+00</td>\n",
       "      <td>0.1</td>\n",
       "      <td>0.7</td>\n",
       "      <td>0.9</td>\n",
       "      <td>1.5</td>\n",
       "      <td>35.00</td>\n",
       "    </tr>\n",
       "    <tr>\n",
       "      <th>BMI</th>\n",
       "      <td>1009.0</td>\n",
       "      <td>29.589911</td>\n",
       "      <td>4.946246e+00</td>\n",
       "      <td>19.0</td>\n",
       "      <td>26.0</td>\n",
       "      <td>30.0</td>\n",
       "      <td>33.0</td>\n",
       "      <td>47.75</td>\n",
       "    </tr>\n",
       "  </tbody>\n",
       "</table>\n",
       "</div>"
      ],
      "text/plain": [
       "            count           mean           std    min      25%      50%  \\\n",
       "ID         1009.0     339.161546  2.397382e+02    1.0    127.0    296.0   \n",
       "No_Pation  1009.0  271744.776016  3.365681e+06  123.0  24065.0  34399.0   \n",
       "AGE        1008.0      53.620040  8.740975e+00   25.0     51.0     55.0   \n",
       "Urea       1008.0       5.131094  2.931136e+00    0.5      3.7      4.6   \n",
       "Cr         1007.0      68.973188  5.981330e+01    6.0     48.0     60.0   \n",
       "HbA1c      1006.0       8.284155  2.533576e+00    0.9      6.5      8.0   \n",
       "Chol       1007.0       4.863873  1.297326e+00    0.0      4.0      4.8   \n",
       "TG         1007.0       2.348769  1.397487e+00    0.3      1.5      2.0   \n",
       "HDL        1008.0       1.204216  6.581583e-01    0.2      0.9      1.1   \n",
       "LDL        1007.0       2.610119  1.116095e+00    0.3      1.8      2.5   \n",
       "VLDL       1008.0       1.850595  3.649859e+00    0.1      0.7      0.9   \n",
       "BMI        1009.0      29.589911  4.946246e+00   19.0     26.0     30.0   \n",
       "\n",
       "               75%          max  \n",
       "ID           548.0       800.00  \n",
       "No_Pation  45390.0  75435657.00  \n",
       "AGE           59.0        79.00  \n",
       "Urea           5.7        38.90  \n",
       "Cr            73.0       800.00  \n",
       "HbA1c         10.2        16.00  \n",
       "Chol           5.6        10.30  \n",
       "TG             2.9        13.80  \n",
       "HDL            1.3         9.90  \n",
       "LDL            3.3         9.90  \n",
       "VLDL           1.5        35.00  \n",
       "BMI           33.0        47.75  "
      ]
     },
     "execution_count": 74,
     "metadata": {},
     "output_type": "execute_result"
    }
   ],
   "source": [
    "#concise summary statistics\n",
    "df.describe().T"
   ]
  },
  {
   "cell_type": "code",
   "execution_count": 75,
   "metadata": {
    "id": "s4yjxJSctzK0"
   },
   "outputs": [
    {
     "data": {
      "text/html": [
       "<div>\n",
       "<style scoped>\n",
       "    .dataframe tbody tr th:only-of-type {\n",
       "        vertical-align: middle;\n",
       "    }\n",
       "\n",
       "    .dataframe tbody tr th {\n",
       "        vertical-align: top;\n",
       "    }\n",
       "\n",
       "    .dataframe thead th {\n",
       "        text-align: right;\n",
       "    }\n",
       "</style>\n",
       "<table border=\"1\" class=\"dataframe\">\n",
       "  <thead>\n",
       "    <tr style=\"text-align: right;\">\n",
       "      <th></th>\n",
       "      <th>count</th>\n",
       "      <th>unique</th>\n",
       "      <th>top</th>\n",
       "      <th>freq</th>\n",
       "    </tr>\n",
       "  </thead>\n",
       "  <tbody>\n",
       "    <tr>\n",
       "      <th>Gender</th>\n",
       "      <td>1009</td>\n",
       "      <td>3</td>\n",
       "      <td>M</td>\n",
       "      <td>570</td>\n",
       "    </tr>\n",
       "    <tr>\n",
       "      <th>CLASS</th>\n",
       "      <td>1009</td>\n",
       "      <td>5</td>\n",
       "      <td>Y</td>\n",
       "      <td>840</td>\n",
       "    </tr>\n",
       "  </tbody>\n",
       "</table>\n",
       "</div>"
      ],
      "text/plain": [
       "       count unique top freq\n",
       "Gender  1009      3   M  570\n",
       "CLASS   1009      5   Y  840"
      ]
     },
     "execution_count": 75,
     "metadata": {},
     "output_type": "execute_result"
    }
   ],
   "source": [
    "#Describe categorical features\n",
    "df.describe(include=\"O\").T"
   ]
  },
  {
   "cell_type": "code",
   "execution_count": 76,
   "metadata": {
    "id": "buf0_wiAoEm7"
   },
   "outputs": [
    {
     "data": {
      "text/html": [
       "<div>\n",
       "<style scoped>\n",
       "    .dataframe tbody tr th:only-of-type {\n",
       "        vertical-align: middle;\n",
       "    }\n",
       "\n",
       "    .dataframe tbody tr th {\n",
       "        vertical-align: top;\n",
       "    }\n",
       "\n",
       "    .dataframe thead th {\n",
       "        text-align: right;\n",
       "    }\n",
       "</style>\n",
       "<table border=\"1\" class=\"dataframe\">\n",
       "  <thead>\n",
       "    <tr style=\"text-align: right;\">\n",
       "      <th></th>\n",
       "      <th>ID</th>\n",
       "      <th>No_Pation</th>\n",
       "      <th>Gender</th>\n",
       "      <th>AGE</th>\n",
       "      <th>Urea</th>\n",
       "      <th>Cr</th>\n",
       "      <th>HbA1c</th>\n",
       "      <th>Chol</th>\n",
       "      <th>TG</th>\n",
       "      <th>HDL</th>\n",
       "      <th>LDL</th>\n",
       "      <th>VLDL</th>\n",
       "      <th>BMI</th>\n",
       "      <th>CLASS</th>\n",
       "    </tr>\n",
       "  </thead>\n",
       "  <tbody>\n",
       "    <tr>\n",
       "      <th>516</th>\n",
       "      <td>369</td>\n",
       "      <td>34411</td>\n",
       "      <td>M</td>\n",
       "      <td>57.0</td>\n",
       "      <td>8.9</td>\n",
       "      <td>120.0</td>\n",
       "      <td>6.3</td>\n",
       "      <td>4.2</td>\n",
       "      <td>3.9</td>\n",
       "      <td>1.4</td>\n",
       "      <td>1.3</td>\n",
       "      <td>1.5</td>\n",
       "      <td>29.0</td>\n",
       "      <td>Y</td>\n",
       "    </tr>\n",
       "    <tr>\n",
       "      <th>781</th>\n",
       "      <td>548</td>\n",
       "      <td>14389</td>\n",
       "      <td>F</td>\n",
       "      <td>60.0</td>\n",
       "      <td>4.1</td>\n",
       "      <td>56.0</td>\n",
       "      <td>13.1</td>\n",
       "      <td>4.4</td>\n",
       "      <td>2.0</td>\n",
       "      <td>1.0</td>\n",
       "      <td>2.5</td>\n",
       "      <td>0.9</td>\n",
       "      <td>29.0</td>\n",
       "      <td>Y</td>\n",
       "    </tr>\n",
       "    <tr>\n",
       "      <th>430</th>\n",
       "      <td>156</td>\n",
       "      <td>25368</td>\n",
       "      <td>F</td>\n",
       "      <td>60.0</td>\n",
       "      <td>4.5</td>\n",
       "      <td>39.0</td>\n",
       "      <td>8.7</td>\n",
       "      <td>5.2</td>\n",
       "      <td>2.1</td>\n",
       "      <td>0.8</td>\n",
       "      <td>3.6</td>\n",
       "      <td>0.9</td>\n",
       "      <td>27.0</td>\n",
       "      <td>Y</td>\n",
       "    </tr>\n",
       "    <tr>\n",
       "      <th>360</th>\n",
       "      <td>362</td>\n",
       "      <td>24092</td>\n",
       "      <td>F</td>\n",
       "      <td>56.0</td>\n",
       "      <td>2.3</td>\n",
       "      <td>36.0</td>\n",
       "      <td>10.2</td>\n",
       "      <td>4.8</td>\n",
       "      <td>1.0</td>\n",
       "      <td>1.4</td>\n",
       "      <td>2.9</td>\n",
       "      <td>0.4</td>\n",
       "      <td>30.0</td>\n",
       "      <td>Y</td>\n",
       "    </tr>\n",
       "    <tr>\n",
       "      <th>814</th>\n",
       "      <td>691</td>\n",
       "      <td>34560</td>\n",
       "      <td>F</td>\n",
       "      <td>56.0</td>\n",
       "      <td>3.6</td>\n",
       "      <td>48.0</td>\n",
       "      <td>15.0</td>\n",
       "      <td>7.7</td>\n",
       "      <td>4.7</td>\n",
       "      <td>5.0</td>\n",
       "      <td>2.1</td>\n",
       "      <td>2.0</td>\n",
       "      <td>28.0</td>\n",
       "      <td>Y</td>\n",
       "    </tr>\n",
       "  </tbody>\n",
       "</table>\n",
       "</div>"
      ],
      "text/plain": [
       "      ID  No_Pation Gender   AGE  Urea     Cr  HbA1c  Chol   TG  HDL  LDL  \\\n",
       "516  369      34411      M  57.0   8.9  120.0    6.3   4.2  3.9  1.4  1.3   \n",
       "781  548      14389      F  60.0   4.1   56.0   13.1   4.4  2.0  1.0  2.5   \n",
       "430  156      25368      F  60.0   4.5   39.0    8.7   5.2  2.1  0.8  3.6   \n",
       "360  362      24092      F  56.0   2.3   36.0   10.2   4.8  1.0  1.4  2.9   \n",
       "814  691      34560      F  56.0   3.6   48.0   15.0   7.7  4.7  5.0  2.1   \n",
       "\n",
       "     VLDL   BMI CLASS  \n",
       "516   1.5  29.0     Y  \n",
       "781   0.9  29.0     Y  \n",
       "430   0.9  27.0     Y  \n",
       "360   0.4  30.0     Y  \n",
       "814   2.0  28.0     Y  "
      ]
     },
     "execution_count": 76,
     "metadata": {},
     "output_type": "execute_result"
    }
   ],
   "source": [
    "#Create a dataframe copy to be used in data cleaning using \n",
    "# copy() method\n",
    "# deep = True: makes a complete copy of the DataFrame\n",
    "df1 = df.copy(deep = True)\n",
    "df1.sample(5)"
   ]
  },
  {
   "cell_type": "code",
   "execution_count": 77,
   "metadata": {
    "id": "gCSBeifhppUa"
   },
   "outputs": [
    {
     "name": "stdout",
     "output_type": "stream",
     "text": [
      "['F' 'M' 'f']\n",
      "M    570\n",
      "F    437\n",
      "f      2\n",
      "Name: Gender, dtype: int64\n"
     ]
    }
   ],
   "source": [
    "#check unique value for one column (Gender)\n",
    "print(df1['Gender'].unique())\n",
    "#  Counts the unique values in the column\n",
    "print(df1['Gender'].value_counts())"
   ]
  },
  {
   "cell_type": "code",
   "execution_count": 78,
   "metadata": {
    "scrolled": true
   },
   "outputs": [
    {
     "name": "stdout",
     "output_type": "stream",
     "text": [
      "['F' 'M']\n",
      "M    570\n",
      "F    439\n",
      "Name: Gender, dtype: int64\n"
     ]
    }
   ],
   "source": [
    "# Replaces \"f\" with \"F\"\n",
    "df1[\"Gender\"] = df1[\"Gender\"].replace('f',\"F\")\n",
    "# Checks unique values in Gender Column\n",
    "print(df1['Gender'].unique())\n",
    "#  Counts the unique values in the column\n",
    "print(df1['Gender'].value_counts())"
   ]
  },
  {
   "cell_type": "code",
   "execution_count": 79,
   "metadata": {
    "id": "tGQaA-Gh5A3F",
    "scrolled": true
   },
   "outputs": [
    {
     "name": "stdout",
     "output_type": "stream",
     "text": [
      "ID\n",
      " [502 735 420 680 504 634 721 421 670 759 636 788  82 132 402 566 596 676\n",
      " 729 742  64  97 126 390 458 470 494 564 696 106 138 315 650 678 699 703\n",
      " 708 719 740 741 746 794 219 255 450 626 664 704 799 210 237 318 620 640\n",
      " 668 701 174 276 345 482 630 789 348   7   9  10  42  47  71  72  83  88\n",
      "  89  96  98  99 102 134 137 139 141 143 144 145 147 149 150 153 154 157\n",
      " 161 165 166 171 180 181 182 186 190 197 435 472  85 710 429 702   4 189\n",
      " 201 285 393 468 492 496 498 684 700 716 366 399 490 500 672 690 718 264\n",
      " 464 466 686 688  16 705 709  19 123 476 682 706 754  68 342 712 715  12\n",
      "  20  41  60  79  81 133 135 146 152 178  18  24 675  39 474 648  48 656\n",
      "  57 658  69 662 714  87 231 505 654  61 127 228 674 744  58 108 198 357\n",
      " 588 666 698 753 110 113 119 122 452 652 660 673 162 168 580 694 790 140\n",
      " 375 426 453 534 612 692 717 725 777  67 109 351 552 685 750  31 129 173\n",
      " 176 179 183 185 195 316 646 187 188 191 194 200 203 411 520 622 758 206\n",
      " 600  76  86 209 212 215 218 221 224 227 438 456 510 602 772 230 233 236\n",
      " 239 242 252 312 614 647 739   1 243 245 251 254 257 258 260 263 266 306\n",
      " 536 577 655 734  37 159 269 272 462  15 275 278 281 282 405 463   3  36\n",
      "  46  59  91 120 284 287 290 293 296 299 302 305 308 475 484 528 723 730\n",
      "  21 160 184 273 311 314 317 320 323 326 329 332 423 427 503 546 597 778\n",
      "   6  65  73 177 222 297 335 338 341 344 347 350 353 356 488 508 616 100\n",
      " 163 359 362 365 368 509 521 270 354 371 374 377 380 383 386 430 526 642\n",
      "  55  56  75 118 307 339 372 389 392 395 398 401 404 407 410 413 416 419\n",
      " 483 516 530 563 615 422 425 428 628 635 783 431 432 434 437 440 443 486\n",
      " 707 787  62 444 446 449 511 598 651  63 478 601  33  74  92 156 549 578\n",
      " 417 445 467 738  49 238 594 608 771 158 587 653  22 220 234 241 593 196\n",
      " 300 396 447 495 629 748 769  51 111 202 657 112 151 757 261 265 336 355\n",
      " 542 613 683  30 244 406 408 793 798  13  17  45 192 346 384 460   5  54\n",
      " 387 761 763 262 397 681 749 321 381 727  27 175 286 512 555  94 249 295\n",
      " 394 638 737  14 105 333 369 385 649 677 784  38  84 557 604 439 493 606\n",
      " 376 617 216 477 775  32 232 480 487 767   2 279 618  52 409 609 469  28\n",
      " 103 104 378 481 522 776 267 280 382 544 559 624 762  29 117 155  80 499\n",
      " 773 268 271 288 403 679 755 766 142 330 720  70 538 556 695 774  53 136\n",
      " 363 501 540 592 603 167 289 550 558 584  66  95 661 667  78 517 561 585\n",
      " 116  90 164 518 259 747  23 204 448 687 298 352 451 541 553 565 582 590\n",
      " 752 121 170 309 532 610 659 724 782   8  11 246 736  34  93 240 128 358\n",
      " 539 570 589 791 796 310 327 337 360 361 631 441 554 562 581 591 623 291\n",
      " 514 586 507 574 235 334 465 513 595 575 751 213 506 573 473 560 459 643\n",
      " 663 214 324 731 223 303 567 576 641 722 568 599 697 531 644 364 373 388\n",
      " 732 745  25 328 607 665 107 524 792 797 131  43 294 768 779  77 645 412\n",
      " 572 125 569 621 172 340 632 217 292 711 130 349 537 795 800 101 391 527\n",
      " 633  44 579  26 571 433 454 199 639 229 400 713 728 193 274 442 455 457\n",
      " 619 627 765 551 124 331 343 535 756 786 283 471 479 545 253 148 548 250\n",
      " 379 414 583 225 726 370 114 489 529 547 764 780 525 226 523 115 256 743\n",
      " 319 424 485 689 770  50 301 367 304 785 207 637 691 533 625 733  40  35\n",
      " 205 247 169 497 313 605 611 211 693 277 461 322 208 760 325 543 436 519\n",
      " 418 491 415 515 781 671 669 248]\n",
      "\n",
      "No_Pation\n",
      " [   17975    34221    47975    87656    34223    34224    34225    34227\n",
      "    34229    34230    34231    34232    46815    34234    34235    34236\n",
      "    34237    87654    34238    34239    34240    12744    34302    34282\n",
      "    34242    46675    45566    34309    87664    34245    34246    34294\n",
      " 75435657    87655    34290    34248    34249    34298    34250    34251\n",
      "    34299    34285    48759    34293     6402    34254    78554    34255\n",
      "    34517    34257    34258    34259    34260    34261    34262    34295\n",
      "    34264    34271    34273    34274    34275    34277    34281    21354\n",
      "    85922   568412     1168   789566    85764    86745   741741    21747\n",
      "     4172    42585     8572    78585    57252    45396    45367    45388\n",
      "    45399    45389    45374    45410    45377    45390    45365    45381\n",
      "    45382    45391    45369    45392    45406    45412    45383    45434\n",
      "   454316    34241      463    46300    87671    48036    87667    34301\n",
      "    30383    45573    47069    47496      298    13281    56826   488496\n",
      "    87658    87666    87674    11826    47513    48969    23513    34247\n",
      "    87661    87675    44433     1111    26665    87659    87660    20321\n",
      "    87668    87670    26925    34263     7402    87657    87669    34296\n",
      "    29008    41281    87672    87673      685    19112     1655   546543\n",
      "      252     7414    45366    45397    45368    45378    45384    23975\n",
      "    23977    23979 33656789    23984    67036   745326    23987   768585\n",
      "    23990    97643    23994    12543    34268    24000    14389    23044\n",
      "   233457    34278    34279    24005     9860    34280    34283    34284\n",
      "    34286    34270    24007    34287    34288    73566    34243    66456\n",
      "    87665    34291    34292    24009    24011    24012    34253   780087\n",
      "   875444 66467878    24016     8644    34228    34297    87663    34300\n",
      "    24018    24019    24020    24025    34226    41044    48112    34305\n",
      "    34267    87662    34306    34307    34269    34222    46638    34266\n",
      "    34308    34310    34244    34252    34311    24029    24030    24031\n",
      "    24032    34312    24033    34313    39963    34314    34315    47586\n",
      "    24034    24035    24036    24037    24038    24039    34316    34317\n",
      "     9423    34318    24040    34319     9903    34320    24041    24042\n",
      "    24043    24044    24045    24046    24047    13713    34321     5432\n",
      "    34322    24048    24049    24050    24051    24052    17922    44518\n",
      "    34323    75433    34324    34325    23974    48806    24053    24055\n",
      "    24056    24057    34326    24058    24059    24060     5474    34327\n",
      "    34328    34329    34330    34233    12779    24061    24062    34331\n",
      "    23976    24063    24064    24065    34332    47552    41420    23972\n",
      "    23983    27988    46374    34333    24066    24067    24068    24069\n",
      "    24070    24071    24072    24073    24074    34334     3451    34335\n",
      "    34336    34337    23978    34338    45431    34339    24075    24076\n",
      "    24077    24078    24079    24080    24081    24082      825    34340\n",
      "    34341    34342     3275    34343    23973    46123     9575    34344\n",
      "    34345    34346    24083    24084    24085    24086    24087    24088\n",
      "    24089    24090     5609     6578    34347    23985     8109    34348\n",
      "    24091    24092    24093    24094    34349     9896    34350    34351\n",
      "    47295    24095    24096    24097    24098    24099    24100    34352\n",
      "     5677  8432454    34353    39550    23996    23268    34354     5980\n",
      "    34355    24101    24102    24103    24104    24105    24106    24107\n",
      "    24108    24109    24110    24111     4567     7898    33450    34356\n",
      "   905146    24112    24113    24114     8554   754338    34357    34358\n",
      "    24115    34359    24116    24117    24118    24119     2341    34360\n",
      "    34361    46059    24120    24121    34362     8971    34363    23992\n",
      "     4356     2345    23982    34364    34365    24017    25368    34366\n",
      "      632    34367    34368    34369    34370    46203   344454     6632\n",
      "    66624    23998    34371    24024    34372    34373    34374    34375\n",
      "    23456    34376    34377    48609    34378    34379    34380    34381\n",
      "    34382    34383    34384    23988    24008    34265    34385    34386\n",
      "    40468    34387    49040    34388    34389    41096    34390    98023\n",
      "    94345    34391    23981    34392    34393    47555    34394    34516\n",
      "    34395    34396    23986    34397    41079    47478    34398    35150\n",
      "    23989     6093    17416    34399    34400    47889    47514    34401\n",
      "    34402    34403    32336    34404    23980    46202    45520    34405\n",
      "    20098    34406    34407     4369    48822    39576    34408   744467\n",
      "    34409    43261    24006    34410    34411    34412    34413    34414\n",
      "    34415    45824    23999    45219    34416    34417   876543    34418\n",
      "    34419    54324    34420    47415    64348    34421    34422    34423\n",
      "    45752    34424     7687    34425    34426    44835     2143    23457\n",
      "     2850    23995    34427    34428    34429    23991    34430    34431\n",
      "    24003     1859    34432    34433    34434     2567    34435    49036\n",
      "    34436    34437    34438    18645    34439   356355    34440     4035\n",
      "    34256    24023    34441    34442    34220    11868    48885    34443\n",
      "     7363    34444    34445    34446    34447    34448    34449    34450\n",
      "    34451      654    34452    34453    34454     7747    34455    34456\n",
      "     2570     8876    34457    24027    23610      123     3525      234\n",
      "    23993    46377    34458    34459    23997    24022    34460    34461\n",
      "    34462    24010    24001    24021    24026     2348    43494    34463\n",
      "    26062    42329     5237     1645    34464    47157    34465    35706\n",
      "    34466    34467      244      743      567     7845    34468    34469\n",
      "    48925    24028    34272     3592    85653    34470    34471    34472\n",
      "    45703    45702    48817    34473    34474    24002   345454    24014\n",
      "    47768    34475    14560     5325      355    34476    34514    47177\n",
      "    43671    34477     1218    34478    34479    11590    98776    34480\n",
      "      345      574      886    34481    34482    32625    43604     3247\n",
      "      856    42564     4509     1289    34483    22261    34484    34485\n",
      "    34486    34487    34488    34303    34304    34489    34490    35256\n",
      "    48353    34491    34492    27458     2094    34276    23350    47175\n",
      "     7324    86422    34493      532    34494    34495    34496   853224\n",
      "    15475    47337    34497    34498    34499    42448    34500    34501\n",
      "    34502    42927    23356    34503    34515    24015    27010    34289\n",
      "    34504    34505    34506    34507    10969      987    24013    34508\n",
      "    98564    34509    34510    56743    21761    34511    34512    32171\n",
      "    39807     2407    34513    34518    42211    34519    34520    34521\n",
      "    12662     3034    34522    48613    34523    48786    34524    34525\n",
      "    34526    48088    48567    47994    34527    48312    34528   755889\n",
      "    34529    34530    48938    43539    34531     9625    34532    34533\n",
      "    47065    34534    34535    34536    34537    34538    34539    34540\n",
      "     3856    34541    34542    48773    34543    20794    48926    44836\n",
      "    34544     1495    87562    34545    34546    34547    34548    34549\n",
      "    34550    48858    34551    45370    34552    34553    34554    34555\n",
      "    34556    47150    34557    34558    34559    48704   985322    34560\n",
      "    34561    45511    34562    34563     4084    40725    34564    34565\n",
      "    45440    34566    34567    34568    34569    48707    34570    48362\n",
      "     1334    34571    34572    34573    34574    34575    34576    48032\n",
      "    34577    48511    34578    48086    34579    34580    41248    18642\n",
      "    51477    45308    79133   749215      466    51567    65455    51573\n",
      "    46545    14191    51623     7523    51625    71255    49220    51646\n",
      "    78151    51677     5415     6546     8851   878451    35645   458451\n",
      "      451      215    12154     2256     2156    21654   216544     8451\n",
      "     6451     9963    45215  1036556   789451  4515131     4534     5653\n",
      "    67564    43534     6544     6734   745654    65456    45466     3456\n",
      "    65645      356   456456     2335    34677    87876   786745    65632\n",
      "     2435     8978     4564     5727     3858    71741     7147    41741\n",
      "  8785782     7175     5525   247255   415787    85282   858725      785\n",
      "    58587    75275    45645   345456    46546     5645     5464    24345\n",
      "   233243    56345    45646    54656    45643    67547  7565435   865754\n",
      "    77657    56567   565474    65756     5676    75634   543453    45447\n",
      "    45385    45416    45386    45387    45373    45427    45413    45375\n",
      "    45380    45448    45376    45451    45398    45446    45393    45450\n",
      "    45394    45449    45371    45452    45395    45372    45441    45411\n",
      "    45414    45445    45364   834578     4543   454317   876534    24004\n",
      "    24054]\n",
      "\n",
      "Gender\n",
      " ['F' 'M']\n",
      "\n",
      "AGE\n",
      " [50. 26. 33. 45. 48. 43. 32. 31. 30. 49. 42. 39. 41. 44. 47. 36. 38. 46.\n",
      " 35. 40. 59. 51. 57. 63. 25. 60. 77. 54. 34. 55. 28. 56. 52. 69. 73. 61.\n",
      " 58. 53. 66. 68. 62. 64. 67. 70. 79. 76. 65. 75. nan 71.]\n",
      "\n",
      "Urea\n",
      " [ 4.7    4.5    7.1    2.3    2.     2.6    3.6    4.4    3.3    3.\n",
      "  4.6    3.5    5.5    5.9    2.2    3.8   13.5    5.     5.3    4.\n",
      "  3.2    4.8    4.2    4.3    7.5    5.6    6.     3.4    4.1    2.7\n",
      "  5.7    3.7    3.1    2.4    5.4    2.1    3.9    2.8    7.6    6.8\n",
      "  5.2    6.3    6.6    5.8   10.     9.6    7.3   22.     6.1   17.1\n",
      "  7.7    1.8    5.1    9.1    8.5    6.5    4.16   8.7   20.8    1.2\n",
      "  2.9   14.1    9.9    9.3   11.7    7.8    4.9    8.    20.     4.66\n",
      " 14.     6.2    5.66   6.66   3.66  10.5    7.     6.4   10.4    1.9\n",
      "  3.33   8.6    2.5   14.5    8.9    6.7   11.3   11.     0.5   13.2\n",
      " 24.    10.3    7.4    6.833 11.1   13.3    7.9    7.2    1.1    9.\n",
      " 14.9    4.33   9.2   11.2   38.9    6.9   26.4    8.1    8.2    8.8\n",
      "    nan]\n",
      "\n",
      "Cr\n",
      " [ 46.  62.  24.  50.  47.  67.  28.  55.  53.  42.  54.  39.  74. 175.\n",
      "  73.  45.  80.  99.  49.  82.  70.  20.  48.  31.  44.  60.  57.  40.\n",
      "  69.  52.  32.  38.  85.  64.  63.   6.  56.  58.  88.  61.  97. 106.\n",
      "  35. 123.  79. 203. 132. 159.  83.  81.  87.  59.  75.  37. 344.  77.\n",
      "  65.  76.  72.  96.  91. 370.  68.  23.  92.  71.  93.  78. 800.  25.\n",
      "  34.  33. 146.  30. 136. 315.  66.  36.  95. 111.  41.  84.  86. 243.\n",
      " 179. 120.  51. 130. 145.  26.  89.  98. 401. 112.  43. 139.  22. 107.\n",
      " 230.  90.  27.  29. 126. 327. 101. 198. 228. 168. 114. 194.  nan 150.\n",
      " 113. 185.]\n",
      "\n",
      "HbA1c\n",
      " [ 4.9   4.    4.2   4.1   5.1   5.    5.4   4.5   5.3   5.5   4.3   4.8\n",
      "  4.7   3.7   5.6   0.9   6.    5.7   5.8   6.2   6.1   6.4   5.9   6.3\n",
      " 12.3   6.7  10.2  11.2   6.5   6.9   7.7   7.2  13.7   5.2   4.6   9.7\n",
      "  7.    7.5   8.9   7.4   6.8  10.4   7.8   9.9   7.3   8.1   8.    9.\n",
      " 11.8   9.1  10.7   7.6  10.3   7.9   8.5  12.1   9.8   9.2  10.1   8.7\n",
      "  9.3   8.8  11.   10.5   9.6  10.6  11.5   7.1   9.5  10.9   8.2  11.4\n",
      " 11.7  12.    9.4   8.3   8.6  11.3  10.   13.1  10.8   6.6  12.8   2.\n",
      " 14.7  11.9  12.4  12.2  12.9  12.6  11.6   8.4  13.   12.5  12.7  11.1\n",
      " 13.6  13.8  14.6   3.   14.5  13.9  13.2  15.9  14.8  14.4  15.   14.1\n",
      " 16.   13.3   9.96   nan]\n",
      "\n",
      "Chol\n",
      " [ 4.2   3.7   4.9   2.9   3.6   3.8   4.    5.3   5.    4.4   0.5   6.2\n",
      "  4.8   4.6   5.5   2.8   5.6   3.2   6.5   3.    9.5   4.7   5.2   4.3\n",
      "  4.1   3.9   3.1   3.4   7.6   6.3   4.5   2.    0.    5.9   5.4   2.1\n",
      "  6.1   5.7   5.1   6.    6.7   6.8   2.5   2.4   5.8   7.    7.1   6.6\n",
      "  7.2   3.5   2.7   2.6   0.6   8.5   2.3   3.3   8.8   7.3   6.4   6.9\n",
      "  9.9   9.8   9.3   7.9  10.3   9.7   9.1   1.2   6.12  8.4   7.7   9.2\n",
      "  8.1   8.    7.4    nan  8.6   7.5 ]\n",
      "\n",
      "TG\n",
      " [ 0.9   1.4   1.    1.3   0.8   2.    0.7   1.1   1.7   1.5   1.9   1.8\n",
      "  2.9   0.6   1.2   1.6   2.1   2.3   2.8   5.9   2.5   4.5   2.7   3.5\n",
      "  5.3   3.9   3.7   3.    2.2   2.4   3.8   6.    3.1   3.2   4.4   4.6\n",
      "  4.2   5.1   3.3   3.4   6.8   2.6   2.03  1.19  1.91  4.1   4.3   3.6\n",
      "  4.9   0.3   5.4   5.8   6.7   5.    7.    4.   13.8   7.2   6.3   7.7\n",
      "  5.5   0.5  12.7   4.7   8.7   8.5   4.8  11.6    nan  5.7 ]\n",
      "\n",
      "HDL\n",
      " [2.4  1.1  0.8  1.   0.9  1.7  1.2  1.3  1.4  1.6  0.6  0.7  2.3  2.1\n",
      " 2.   0.5  4.   1.5  1.8  2.5  0.75 1.9  3.9  2.8  3.1  1.95 6.6  1.08\n",
      " 6.3  0.95 3.2  1.45 1.75 0.4  1.05 3.6  1.35 2.6  1.03 3.8  0.2  3.4\n",
      " 1.85 1.73 9.9  5.   9.   2.2   nan]\n",
      "\n",
      "LDL\n",
      " [1.4  2.1  2.   1.5  1.6  3.7  3.8  2.7  3.2  2.2  4.1  3.3  1.3  2.8\n",
      " 4.6  2.3  3.6  3.   3.5  2.4  0.9  4.2  1.9  4.9  2.6  2.5  0.3  1.7\n",
      " 1.2  1.8  4.3  3.4  1.1  3.1  1.   1.35 3.9  0.8  2.9  4.5  4.7  0.6\n",
      " 0.7  1.95 9.9  4.4  5.   4.8  5.5  5.6  4.   0.75 0.95 0.96 7.5  7.9\n",
      " 6.4  2.04 0.5  5.9  1.04 5.1  1.45 7.    nan 5.3 ]\n",
      "\n",
      "VLDL\n",
      " [ 0.5  0.6  0.4  1.   0.3  0.8  0.7  1.3  4.1  5.  14.5  0.2  1.2  1.1\n",
      "  1.4  0.9  1.8  2.4  1.7  1.6 15.4  8.1  9.5 10.4 12.7  7.2 14.  13.1\n",
      " 12.2 10.   1.5 31.8  3.1 22.2  1.9  0.1  2.2 22.7 35.  31.   2.  11.3\n",
      " 16.3 33.6  2.6  2.1 19.5 18.1  6.3  7.   2.8 24.5  3.5 27.2  2.5  5.8\n",
      "  3.4  9.   3.   5.2  nan]\n",
      "\n",
      "BMI\n",
      " [24.   23.   21.   22.   19.   20.   23.5  24.5  22.5  24.6  25.   30.\n",
      " 31.   32.   29.   28.   19.5  27.   37.2  27.4  34.3  29.5  34.6  27.3\n",
      " 31.2  40.5  47.   21.17 40.   28.3  31.5  37.   35.   33.   39.   38.\n",
      " 26.   33.9  31.4  36.   34.   36.6  30.1  29.36 32.9  43.25 39.18 34.5\n",
      " 33.6  34.05 27.75 35.2  36.11 38.62 30.2  29.63 28.36 47.75 37.62 35.16\n",
      " 27.33 27.17 32.65 25.6 ]\n",
      "\n",
      "CLASS\n",
      " ['N' 'N ' 'P' 'Y' 'Y ']\n",
      "\n"
     ]
    }
   ],
   "source": [
    "# check for unique values in each column at once using for loop\n",
    "for coln in df1:\n",
    "    coln_value = df1[coln].unique()\n",
    "    print(f\"{coln}\\n {coln_value}\\n\")"
   ]
  },
  {
   "cell_type": "markdown",
   "metadata": {
    "id": "XO8BxGV1nLbH"
   },
   "source": [
    "### 2. Data Cleaning\n",
    "\n",
    "\n",
    "#### 2.1. Checking the colunms and dealing with mispelled columns"
   ]
  },
  {
   "cell_type": "code",
   "execution_count": 80,
   "metadata": {
    "id": "fjlITZC4nHut"
   },
   "outputs": [
    {
     "data": {
      "text/plain": [
       "Index(['ID', 'No_Pation', 'Gender', 'AGE', 'Urea', 'Cr', 'HbA1c', 'Chol', 'TG',\n",
       "       'HDL', 'LDL', 'VLDL', 'BMI', 'CLASS'],\n",
       "      dtype='object')"
      ]
     },
     "execution_count": 80,
     "metadata": {},
     "output_type": "execute_result"
    }
   ],
   "source": [
    "#check the colunms use columns attribute\n",
    "df1.columns"
   ]
  },
  {
   "cell_type": "code",
   "execution_count": 81,
   "metadata": {
    "id": "mGoqDJI1odKq"
   },
   "outputs": [
    {
     "data": {
      "text/plain": [
       "Index(['ID', 'Patient No', 'Gender', 'AGE', 'Urea', 'Cr', 'HbA1c', 'Chol',\n",
       "       'TG', 'HDL', 'LDL', 'VLDL', 'BMI', 'CLASS'],\n",
       "      dtype='object')"
      ]
     },
     "execution_count": 81,
     "metadata": {},
     "output_type": "execute_result"
    }
   ],
   "source": [
    "#changing no_pation column, use rename method \n",
    "#df.rename(columns = {'old col name': 'new coln name'}, inplace = True)\n",
    "#inplace = True: replaces the column_name permanently\n",
    "df1.rename(columns = {\"No_Pation\": \"Patient No\"}, inplace = True)\n",
    "df1.columns"
   ]
  },
  {
   "cell_type": "code",
   "execution_count": 82,
   "metadata": {
    "id": "9w6GPWdvpk-6"
   },
   "outputs": [
    {
     "data": {
      "text/plain": [
       "Index(['id', 'patient no', 'gender', 'age', 'urea', 'cr', 'hba1c', 'chol',\n",
       "       'tg', 'hdl', 'ldl', 'vldl', 'bmi', 'class'],\n",
       "      dtype='object')"
      ]
     },
     "execution_count": 82,
     "metadata": {},
     "output_type": "execute_result"
    }
   ],
   "source": [
    "#Change columns name to lower case for unifromity\n",
    "# use .lower(): df.columns = df.columns.str.lower()\n",
    "df1.columns = df1.columns.str.lower()\n",
    "df1.columns"
   ]
  },
  {
   "cell_type": "code",
   "execution_count": 83,
   "metadata": {
    "id": "cd3NCKs_rINg"
   },
   "outputs": [
    {
     "data": {
      "text/plain": [
       "Index(['id', 'patient_no', 'gender', 'age', 'urea', 'cr', 'hba1c', 'chol',\n",
       "       'tg', 'hdl', 'ldl', 'vldl', 'bmi', 'class'],\n",
       "      dtype='object')"
      ]
     },
     "execution_count": 83,
     "metadata": {},
     "output_type": "execute_result"
    }
   ],
   "source": [
    "#Removing the white space if any, \n",
    "#use .replace() e.g df.columns = df.columns.str.replace(' ', '')\n",
    "df1.columns = df1.columns.str.replace(\" \", \"_\")\n",
    "df1.columns"
   ]
  },
  {
   "cell_type": "code",
   "execution_count": 84,
   "metadata": {
    "id": "dfpRIWGfqrC1"
   },
   "outputs": [
    {
     "data": {
      "text/plain": [
       "Index(['id', 'patient_no', 'gender', 'age', 'urea', 'cr', 'hba1c', 'chol',\n",
       "       'tg', 'hdl', 'ldl', 'vldl', 'bmi', 'class'],\n",
       "      dtype='object')"
      ]
     },
     "execution_count": 84,
     "metadata": {},
     "output_type": "execute_result"
    }
   ],
   "source": [
    "#we can combine the 2 argument into one code\n",
    "#df1.columns = df1.columns.str.lower().replace(' ', '_')\n",
    "# Method chaining\n",
    "df1.columns = df1.columns.str.lower().str.replace(\" \", \"_\")\n",
    "df1.columns"
   ]
  },
  {
   "cell_type": "code",
   "execution_count": 119,
   "metadata": {
    "id": "X83vlh2I-W_b",
    "scrolled": true
   },
   "outputs": [
    {
     "ename": "KeyError",
     "evalue": "\"['id'] not found in axis\"",
     "output_type": "error",
     "traceback": [
      "\u001b[1;31m---------------------------------------------------------------------------\u001b[0m",
      "\u001b[1;31mKeyError\u001b[0m                                  Traceback (most recent call last)",
      "Cell \u001b[1;32mIn[119], line 5\u001b[0m\n\u001b[0;32m      1\u001b[0m \u001b[38;5;66;03m#Drop unnessary columns\u001b[39;00m\n\u001b[0;32m      2\u001b[0m \u001b[38;5;66;03m#a. del df['col name'] # you can also used drop method: \u001b[39;00m\n\u001b[0;32m      3\u001b[0m \u001b[38;5;66;03m#Syntax: df.drop(columns = 'col_name', axis=1, inplace=True)\u001b[39;00m\n\u001b[1;32m----> 5\u001b[0m \u001b[43mdf1\u001b[49m\u001b[38;5;241;43m.\u001b[39;49m\u001b[43mdrop\u001b[49m\u001b[43m(\u001b[49m\u001b[43mcolumns\u001b[49m\u001b[43m \u001b[49m\u001b[38;5;241;43m=\u001b[39;49m\u001b[43m \u001b[49m\u001b[38;5;124;43m\"\u001b[39;49m\u001b[38;5;124;43mid\u001b[39;49m\u001b[38;5;124;43m\"\u001b[39;49m\u001b[43m,\u001b[49m\u001b[43maxis\u001b[49m\u001b[43m \u001b[49m\u001b[38;5;241;43m=\u001b[39;49m\u001b[43m \u001b[49m\u001b[38;5;241;43m1\u001b[39;49m\u001b[43m,\u001b[49m\u001b[43m \u001b[49m\u001b[43minplace\u001b[49m\u001b[43m \u001b[49m\u001b[38;5;241;43m=\u001b[39;49m\u001b[43m \u001b[49m\u001b[38;5;28;43;01mTrue\u001b[39;49;00m\u001b[43m)\u001b[49m\n",
      "File \u001b[1;32m~\\anaconda3\\envs\\learn-env\\lib\\site-packages\\pandas\\util\\_decorators.py:311\u001b[0m, in \u001b[0;36mdeprecate_nonkeyword_arguments.<locals>.decorate.<locals>.wrapper\u001b[1;34m(*args, **kwargs)\u001b[0m\n\u001b[0;32m    305\u001b[0m \u001b[38;5;28;01mif\u001b[39;00m \u001b[38;5;28mlen\u001b[39m(args) \u001b[38;5;241m>\u001b[39m num_allow_args:\n\u001b[0;32m    306\u001b[0m     warnings\u001b[38;5;241m.\u001b[39mwarn(\n\u001b[0;32m    307\u001b[0m         msg\u001b[38;5;241m.\u001b[39mformat(arguments\u001b[38;5;241m=\u001b[39marguments),\n\u001b[0;32m    308\u001b[0m         \u001b[38;5;167;01mFutureWarning\u001b[39;00m,\n\u001b[0;32m    309\u001b[0m         stacklevel\u001b[38;5;241m=\u001b[39mstacklevel,\n\u001b[0;32m    310\u001b[0m     )\n\u001b[1;32m--> 311\u001b[0m \u001b[38;5;28;01mreturn\u001b[39;00m \u001b[43mfunc\u001b[49m\u001b[43m(\u001b[49m\u001b[38;5;241;43m*\u001b[39;49m\u001b[43margs\u001b[49m\u001b[43m,\u001b[49m\u001b[43m \u001b[49m\u001b[38;5;241;43m*\u001b[39;49m\u001b[38;5;241;43m*\u001b[39;49m\u001b[43mkwargs\u001b[49m\u001b[43m)\u001b[49m\n",
      "File \u001b[1;32m~\\anaconda3\\envs\\learn-env\\lib\\site-packages\\pandas\\core\\frame.py:4957\u001b[0m, in \u001b[0;36mDataFrame.drop\u001b[1;34m(self, labels, axis, index, columns, level, inplace, errors)\u001b[0m\n\u001b[0;32m   4809\u001b[0m \u001b[38;5;129m@deprecate_nonkeyword_arguments\u001b[39m(version\u001b[38;5;241m=\u001b[39m\u001b[38;5;28;01mNone\u001b[39;00m, allowed_args\u001b[38;5;241m=\u001b[39m[\u001b[38;5;124m\"\u001b[39m\u001b[38;5;124mself\u001b[39m\u001b[38;5;124m\"\u001b[39m, \u001b[38;5;124m\"\u001b[39m\u001b[38;5;124mlabels\u001b[39m\u001b[38;5;124m\"\u001b[39m])\n\u001b[0;32m   4810\u001b[0m \u001b[38;5;28;01mdef\u001b[39;00m \u001b[38;5;21mdrop\u001b[39m(\n\u001b[0;32m   4811\u001b[0m     \u001b[38;5;28mself\u001b[39m,\n\u001b[1;32m   (...)\u001b[0m\n\u001b[0;32m   4818\u001b[0m     errors: \u001b[38;5;28mstr\u001b[39m \u001b[38;5;241m=\u001b[39m \u001b[38;5;124m\"\u001b[39m\u001b[38;5;124mraise\u001b[39m\u001b[38;5;124m\"\u001b[39m,\n\u001b[0;32m   4819\u001b[0m ):\n\u001b[0;32m   4820\u001b[0m \u001b[38;5;250m    \u001b[39m\u001b[38;5;124;03m\"\"\"\u001b[39;00m\n\u001b[0;32m   4821\u001b[0m \u001b[38;5;124;03m    Drop specified labels from rows or columns.\u001b[39;00m\n\u001b[0;32m   4822\u001b[0m \n\u001b[1;32m   (...)\u001b[0m\n\u001b[0;32m   4955\u001b[0m \u001b[38;5;124;03m            weight  1.0     0.8\u001b[39;00m\n\u001b[0;32m   4956\u001b[0m \u001b[38;5;124;03m    \"\"\"\u001b[39;00m\n\u001b[1;32m-> 4957\u001b[0m     \u001b[38;5;28;01mreturn\u001b[39;00m \u001b[38;5;28;43msuper\u001b[39;49m\u001b[43m(\u001b[49m\u001b[43m)\u001b[49m\u001b[38;5;241;43m.\u001b[39;49m\u001b[43mdrop\u001b[49m\u001b[43m(\u001b[49m\n\u001b[0;32m   4958\u001b[0m \u001b[43m        \u001b[49m\u001b[43mlabels\u001b[49m\u001b[38;5;241;43m=\u001b[39;49m\u001b[43mlabels\u001b[49m\u001b[43m,\u001b[49m\n\u001b[0;32m   4959\u001b[0m \u001b[43m        \u001b[49m\u001b[43maxis\u001b[49m\u001b[38;5;241;43m=\u001b[39;49m\u001b[43maxis\u001b[49m\u001b[43m,\u001b[49m\n\u001b[0;32m   4960\u001b[0m \u001b[43m        \u001b[49m\u001b[43mindex\u001b[49m\u001b[38;5;241;43m=\u001b[39;49m\u001b[43mindex\u001b[49m\u001b[43m,\u001b[49m\n\u001b[0;32m   4961\u001b[0m \u001b[43m        \u001b[49m\u001b[43mcolumns\u001b[49m\u001b[38;5;241;43m=\u001b[39;49m\u001b[43mcolumns\u001b[49m\u001b[43m,\u001b[49m\n\u001b[0;32m   4962\u001b[0m \u001b[43m        \u001b[49m\u001b[43mlevel\u001b[49m\u001b[38;5;241;43m=\u001b[39;49m\u001b[43mlevel\u001b[49m\u001b[43m,\u001b[49m\n\u001b[0;32m   4963\u001b[0m \u001b[43m        \u001b[49m\u001b[43minplace\u001b[49m\u001b[38;5;241;43m=\u001b[39;49m\u001b[43minplace\u001b[49m\u001b[43m,\u001b[49m\n\u001b[0;32m   4964\u001b[0m \u001b[43m        \u001b[49m\u001b[43merrors\u001b[49m\u001b[38;5;241;43m=\u001b[39;49m\u001b[43merrors\u001b[49m\u001b[43m,\u001b[49m\n\u001b[0;32m   4965\u001b[0m \u001b[43m    \u001b[49m\u001b[43m)\u001b[49m\n",
      "File \u001b[1;32m~\\anaconda3\\envs\\learn-env\\lib\\site-packages\\pandas\\core\\generic.py:4267\u001b[0m, in \u001b[0;36mNDFrame.drop\u001b[1;34m(self, labels, axis, index, columns, level, inplace, errors)\u001b[0m\n\u001b[0;32m   4265\u001b[0m \u001b[38;5;28;01mfor\u001b[39;00m axis, labels \u001b[38;5;129;01min\u001b[39;00m axes\u001b[38;5;241m.\u001b[39mitems():\n\u001b[0;32m   4266\u001b[0m     \u001b[38;5;28;01mif\u001b[39;00m labels \u001b[38;5;129;01mis\u001b[39;00m \u001b[38;5;129;01mnot\u001b[39;00m \u001b[38;5;28;01mNone\u001b[39;00m:\n\u001b[1;32m-> 4267\u001b[0m         obj \u001b[38;5;241m=\u001b[39m \u001b[43mobj\u001b[49m\u001b[38;5;241;43m.\u001b[39;49m\u001b[43m_drop_axis\u001b[49m\u001b[43m(\u001b[49m\u001b[43mlabels\u001b[49m\u001b[43m,\u001b[49m\u001b[43m \u001b[49m\u001b[43maxis\u001b[49m\u001b[43m,\u001b[49m\u001b[43m \u001b[49m\u001b[43mlevel\u001b[49m\u001b[38;5;241;43m=\u001b[39;49m\u001b[43mlevel\u001b[49m\u001b[43m,\u001b[49m\u001b[43m \u001b[49m\u001b[43merrors\u001b[49m\u001b[38;5;241;43m=\u001b[39;49m\u001b[43merrors\u001b[49m\u001b[43m)\u001b[49m\n\u001b[0;32m   4269\u001b[0m \u001b[38;5;28;01mif\u001b[39;00m inplace:\n\u001b[0;32m   4270\u001b[0m     \u001b[38;5;28mself\u001b[39m\u001b[38;5;241m.\u001b[39m_update_inplace(obj)\n",
      "File \u001b[1;32m~\\anaconda3\\envs\\learn-env\\lib\\site-packages\\pandas\\core\\generic.py:4311\u001b[0m, in \u001b[0;36mNDFrame._drop_axis\u001b[1;34m(self, labels, axis, level, errors, consolidate, only_slice)\u001b[0m\n\u001b[0;32m   4309\u001b[0m         new_axis \u001b[38;5;241m=\u001b[39m axis\u001b[38;5;241m.\u001b[39mdrop(labels, level\u001b[38;5;241m=\u001b[39mlevel, errors\u001b[38;5;241m=\u001b[39merrors)\n\u001b[0;32m   4310\u001b[0m     \u001b[38;5;28;01melse\u001b[39;00m:\n\u001b[1;32m-> 4311\u001b[0m         new_axis \u001b[38;5;241m=\u001b[39m \u001b[43maxis\u001b[49m\u001b[38;5;241;43m.\u001b[39;49m\u001b[43mdrop\u001b[49m\u001b[43m(\u001b[49m\u001b[43mlabels\u001b[49m\u001b[43m,\u001b[49m\u001b[43m \u001b[49m\u001b[43merrors\u001b[49m\u001b[38;5;241;43m=\u001b[39;49m\u001b[43merrors\u001b[49m\u001b[43m)\u001b[49m\n\u001b[0;32m   4312\u001b[0m     indexer \u001b[38;5;241m=\u001b[39m axis\u001b[38;5;241m.\u001b[39mget_indexer(new_axis)\n\u001b[0;32m   4314\u001b[0m \u001b[38;5;66;03m# Case for non-unique axis\u001b[39;00m\n\u001b[0;32m   4315\u001b[0m \u001b[38;5;28;01melse\u001b[39;00m:\n",
      "File \u001b[1;32m~\\anaconda3\\envs\\learn-env\\lib\\site-packages\\pandas\\core\\indexes\\base.py:6661\u001b[0m, in \u001b[0;36mIndex.drop\u001b[1;34m(self, labels, errors)\u001b[0m\n\u001b[0;32m   6659\u001b[0m \u001b[38;5;28;01mif\u001b[39;00m mask\u001b[38;5;241m.\u001b[39many():\n\u001b[0;32m   6660\u001b[0m     \u001b[38;5;28;01mif\u001b[39;00m errors \u001b[38;5;241m!=\u001b[39m \u001b[38;5;124m\"\u001b[39m\u001b[38;5;124mignore\u001b[39m\u001b[38;5;124m\"\u001b[39m:\n\u001b[1;32m-> 6661\u001b[0m         \u001b[38;5;28;01mraise\u001b[39;00m \u001b[38;5;167;01mKeyError\u001b[39;00m(\u001b[38;5;124mf\u001b[39m\u001b[38;5;124m\"\u001b[39m\u001b[38;5;132;01m{\u001b[39;00m\u001b[38;5;28mlist\u001b[39m(labels[mask])\u001b[38;5;132;01m}\u001b[39;00m\u001b[38;5;124m not found in axis\u001b[39m\u001b[38;5;124m\"\u001b[39m)\n\u001b[0;32m   6662\u001b[0m     indexer \u001b[38;5;241m=\u001b[39m indexer[\u001b[38;5;241m~\u001b[39mmask]\n\u001b[0;32m   6663\u001b[0m \u001b[38;5;28;01mreturn\u001b[39;00m \u001b[38;5;28mself\u001b[39m\u001b[38;5;241m.\u001b[39mdelete(indexer)\n",
      "\u001b[1;31mKeyError\u001b[0m: \"['id'] not found in axis\""
     ]
    }
   ],
   "source": [
    "#Drop unnessary columns\n",
    "#a. del df['col name'] # you can also used drop method: \n",
    "#Syntax: df.drop(columns = 'col_name', axis=1, inplace=True)\n",
    "\n",
    "df1.drop(columns = \"id\",axis = 1, inplace = True)"
   ]
  },
  {
   "cell_type": "code",
   "execution_count": 120,
   "metadata": {},
   "outputs": [
    {
     "data": {
      "text/html": [
       "<div>\n",
       "<style scoped>\n",
       "    .dataframe tbody tr th:only-of-type {\n",
       "        vertical-align: middle;\n",
       "    }\n",
       "\n",
       "    .dataframe tbody tr th {\n",
       "        vertical-align: top;\n",
       "    }\n",
       "\n",
       "    .dataframe thead th {\n",
       "        text-align: right;\n",
       "    }\n",
       "</style>\n",
       "<table border=\"1\" class=\"dataframe\">\n",
       "  <thead>\n",
       "    <tr style=\"text-align: right;\">\n",
       "      <th></th>\n",
       "      <th>patient_no</th>\n",
       "      <th>gender</th>\n",
       "      <th>age</th>\n",
       "      <th>urea</th>\n",
       "      <th>cr</th>\n",
       "      <th>hba1c</th>\n",
       "      <th>chol</th>\n",
       "      <th>tg</th>\n",
       "      <th>hdl</th>\n",
       "      <th>ldl</th>\n",
       "      <th>vldl</th>\n",
       "      <th>bmi</th>\n",
       "      <th>class</th>\n",
       "    </tr>\n",
       "  </thead>\n",
       "  <tbody>\n",
       "    <tr>\n",
       "      <th>0</th>\n",
       "      <td>17975</td>\n",
       "      <td>F</td>\n",
       "      <td>50.0</td>\n",
       "      <td>4.7</td>\n",
       "      <td>46.0</td>\n",
       "      <td>4.9</td>\n",
       "      <td>4.2</td>\n",
       "      <td>0.9</td>\n",
       "      <td>2.4</td>\n",
       "      <td>1.4</td>\n",
       "      <td>0.5</td>\n",
       "      <td>24.0</td>\n",
       "      <td>N</td>\n",
       "    </tr>\n",
       "    <tr>\n",
       "      <th>1</th>\n",
       "      <td>34221</td>\n",
       "      <td>M</td>\n",
       "      <td>26.0</td>\n",
       "      <td>4.5</td>\n",
       "      <td>62.0</td>\n",
       "      <td>4.9</td>\n",
       "      <td>3.7</td>\n",
       "      <td>1.4</td>\n",
       "      <td>1.1</td>\n",
       "      <td>2.1</td>\n",
       "      <td>0.6</td>\n",
       "      <td>23.0</td>\n",
       "      <td>N</td>\n",
       "    </tr>\n",
       "    <tr>\n",
       "      <th>2</th>\n",
       "      <td>47975</td>\n",
       "      <td>F</td>\n",
       "      <td>50.0</td>\n",
       "      <td>4.7</td>\n",
       "      <td>46.0</td>\n",
       "      <td>4.9</td>\n",
       "      <td>4.2</td>\n",
       "      <td>0.9</td>\n",
       "      <td>2.4</td>\n",
       "      <td>1.4</td>\n",
       "      <td>0.5</td>\n",
       "      <td>24.0</td>\n",
       "      <td>N</td>\n",
       "    </tr>\n",
       "    <tr>\n",
       "      <th>3</th>\n",
       "      <td>87656</td>\n",
       "      <td>F</td>\n",
       "      <td>50.0</td>\n",
       "      <td>4.7</td>\n",
       "      <td>46.0</td>\n",
       "      <td>4.9</td>\n",
       "      <td>4.2</td>\n",
       "      <td>0.9</td>\n",
       "      <td>2.4</td>\n",
       "      <td>1.4</td>\n",
       "      <td>0.5</td>\n",
       "      <td>24.0</td>\n",
       "      <td>N</td>\n",
       "    </tr>\n",
       "    <tr>\n",
       "      <th>4</th>\n",
       "      <td>34223</td>\n",
       "      <td>M</td>\n",
       "      <td>33.0</td>\n",
       "      <td>7.1</td>\n",
       "      <td>46.0</td>\n",
       "      <td>4.9</td>\n",
       "      <td>4.9</td>\n",
       "      <td>1.0</td>\n",
       "      <td>0.8</td>\n",
       "      <td>2.0</td>\n",
       "      <td>0.4</td>\n",
       "      <td>21.0</td>\n",
       "      <td>N</td>\n",
       "    </tr>\n",
       "    <tr>\n",
       "      <th>...</th>\n",
       "      <td>...</td>\n",
       "      <td>...</td>\n",
       "      <td>...</td>\n",
       "      <td>...</td>\n",
       "      <td>...</td>\n",
       "      <td>...</td>\n",
       "      <td>...</td>\n",
       "      <td>...</td>\n",
       "      <td>...</td>\n",
       "      <td>...</td>\n",
       "      <td>...</td>\n",
       "      <td>...</td>\n",
       "      <td>...</td>\n",
       "    </tr>\n",
       "    <tr>\n",
       "      <th>1004</th>\n",
       "      <td>454316</td>\n",
       "      <td>M</td>\n",
       "      <td>55.0</td>\n",
       "      <td>NaN</td>\n",
       "      <td>62.0</td>\n",
       "      <td>6.8</td>\n",
       "      <td>5.3</td>\n",
       "      <td>2.0</td>\n",
       "      <td>1.0</td>\n",
       "      <td>3.5</td>\n",
       "      <td>0.9</td>\n",
       "      <td>30.1</td>\n",
       "      <td>Y</td>\n",
       "    </tr>\n",
       "    <tr>\n",
       "      <th>1005</th>\n",
       "      <td>454316</td>\n",
       "      <td>M</td>\n",
       "      <td>55.0</td>\n",
       "      <td>4.8</td>\n",
       "      <td>88.0</td>\n",
       "      <td>NaN</td>\n",
       "      <td>5.7</td>\n",
       "      <td>4.0</td>\n",
       "      <td>0.9</td>\n",
       "      <td>3.3</td>\n",
       "      <td>1.8</td>\n",
       "      <td>30.0</td>\n",
       "      <td>Y</td>\n",
       "    </tr>\n",
       "    <tr>\n",
       "      <th>1006</th>\n",
       "      <td>454316</td>\n",
       "      <td>M</td>\n",
       "      <td>62.0</td>\n",
       "      <td>6.3</td>\n",
       "      <td>82.0</td>\n",
       "      <td>6.7</td>\n",
       "      <td>5.3</td>\n",
       "      <td>2.0</td>\n",
       "      <td>1.0</td>\n",
       "      <td>3.5</td>\n",
       "      <td>NaN</td>\n",
       "      <td>30.1</td>\n",
       "      <td>Y</td>\n",
       "    </tr>\n",
       "    <tr>\n",
       "      <th>1007</th>\n",
       "      <td>454316</td>\n",
       "      <td>F</td>\n",
       "      <td>57.0</td>\n",
       "      <td>4.1</td>\n",
       "      <td>70.0</td>\n",
       "      <td>9.3</td>\n",
       "      <td>5.3</td>\n",
       "      <td>3.3</td>\n",
       "      <td>1.0</td>\n",
       "      <td>1.4</td>\n",
       "      <td>1.3</td>\n",
       "      <td>29.0</td>\n",
       "      <td>Y</td>\n",
       "    </tr>\n",
       "    <tr>\n",
       "      <th>1008</th>\n",
       "      <td>4543</td>\n",
       "      <td>F</td>\n",
       "      <td>55.0</td>\n",
       "      <td>4.1</td>\n",
       "      <td>34.0</td>\n",
       "      <td>13.9</td>\n",
       "      <td>5.4</td>\n",
       "      <td>1.6</td>\n",
       "      <td>1.6</td>\n",
       "      <td>3.1</td>\n",
       "      <td>0.7</td>\n",
       "      <td>33.0</td>\n",
       "      <td>Y</td>\n",
       "    </tr>\n",
       "  </tbody>\n",
       "</table>\n",
       "<p>1009 rows × 13 columns</p>\n",
       "</div>"
      ],
      "text/plain": [
       "      patient_no gender   age  urea    cr  hba1c  chol   tg  hdl  ldl  vldl  \\\n",
       "0          17975      F  50.0   4.7  46.0    4.9   4.2  0.9  2.4  1.4   0.5   \n",
       "1          34221      M  26.0   4.5  62.0    4.9   3.7  1.4  1.1  2.1   0.6   \n",
       "2          47975      F  50.0   4.7  46.0    4.9   4.2  0.9  2.4  1.4   0.5   \n",
       "3          87656      F  50.0   4.7  46.0    4.9   4.2  0.9  2.4  1.4   0.5   \n",
       "4          34223      M  33.0   7.1  46.0    4.9   4.9  1.0  0.8  2.0   0.4   \n",
       "...          ...    ...   ...   ...   ...    ...   ...  ...  ...  ...   ...   \n",
       "1004      454316      M  55.0   NaN  62.0    6.8   5.3  2.0  1.0  3.5   0.9   \n",
       "1005      454316      M  55.0   4.8  88.0    NaN   5.7  4.0  0.9  3.3   1.8   \n",
       "1006      454316      M  62.0   6.3  82.0    6.7   5.3  2.0  1.0  3.5   NaN   \n",
       "1007      454316      F  57.0   4.1  70.0    9.3   5.3  3.3  1.0  1.4   1.3   \n",
       "1008        4543      F  55.0   4.1  34.0   13.9   5.4  1.6  1.6  3.1   0.7   \n",
       "\n",
       "       bmi class  \n",
       "0     24.0     N  \n",
       "1     23.0     N  \n",
       "2     24.0     N  \n",
       "3     24.0     N  \n",
       "4     21.0     N  \n",
       "...    ...   ...  \n",
       "1004  30.1    Y   \n",
       "1005  30.0    Y   \n",
       "1006  30.1    Y   \n",
       "1007  29.0    Y   \n",
       "1008  33.0    Y   \n",
       "\n",
       "[1009 rows x 13 columns]"
      ]
     },
     "execution_count": 120,
     "metadata": {},
     "output_type": "execute_result"
    }
   ],
   "source": [
    "df1"
   ]
  },
  {
   "cell_type": "markdown",
   "metadata": {
    "id": "o6cLORoDu_3x"
   },
   "source": [
    "### 2.2 Checking the missing values and dealing with them"
   ]
  },
  {
   "cell_type": "code",
   "execution_count": 86,
   "metadata": {
    "id": "fhf8Ui0StG3H"
   },
   "outputs": [],
   "source": [
    "#check the missing values, you can either use isna or isnull()\n"
   ]
  },
  {
   "cell_type": "code",
   "execution_count": 87,
   "metadata": {
    "id": "m1I1VgVrvpxC"
   },
   "outputs": [],
   "source": [
    "#a. imputing \"hba1c \" variable using the mean\n",
    "#Get the mean  e.g mean_values = df.coln.mean()\n",
    "\n",
    "\n",
    "#fill up the missing value, use fillna e.g df['col'].fillna(mean_values, inplace=True)\n"
   ]
  },
  {
   "cell_type": "code",
   "execution_count": 88,
   "metadata": {
    "id": "z38Xnpfxwwdx"
   },
   "outputs": [],
   "source": [
    "#b another way of doing the same thing as a bove e.g df['col'].fillna(df['col'].mean(), inplace=True)\n"
   ]
  },
  {
   "cell_type": "code",
   "execution_count": 89,
   "metadata": {
    "id": "ke-GhyLL1kzw"
   },
   "outputs": [],
   "source": [
    "#c Imputing using the median\" replace mean with median\n"
   ]
  },
  {
   "cell_type": "code",
   "execution_count": 90,
   "metadata": {
    "id": "ESt62mBzyzKo"
   },
   "outputs": [],
   "source": [
    "#d. how to impute using the mode\n",
    "#coln_mode = df.colname.mode()[0]\n",
    "\n",
    "\n",
    "# impute with the mode\n",
    "#df['col'].fillna(col_mode, inplace=True) # use bfill for backword fill, and ffill for forward fill"
   ]
  },
  {
   "cell_type": "markdown",
   "metadata": {
    "id": "_nR7rOnP2i1l"
   },
   "source": [
    "Observations:\n",
    "\n",
    "The mode of a dataset can have multiple values. When we call `mode()` on a Pandas dataframe, it returns a Series object containing all the modal values. To access the first modal value, we use the `[0]` index.\n",
    "\n",
    "For example, if the mode of the `gender` column in the `df1` dataframe is both `'Female'` and `'Male'`, then `df1.gender.mode()` will return a Series object containing both values. To access the first modal value, which is `'Female'`, we use `df1.gender.mode()[0]`.\n",
    "\n",
    "Using `[0]` ensures that we are only using the first modal value for imputation, rather than all the modal values. This is important because using multiple values for imputation can introduce bias into the data."
   ]
  },
  {
   "cell_type": "code",
   "execution_count": 91,
   "metadata": {
    "id": "qonPAumn09t9"
   },
   "outputs": [],
   "source": [
    "#e. Fill missing values with specific values e.g 0\n",
    "#df['col'].fillna(0, inplace=True)"
   ]
  },
  {
   "cell_type": "code",
   "execution_count": 92,
   "metadata": {
    "id": "EM4VqcaBz7JN"
   },
   "outputs": [],
   "source": [
    "#f.Fill missing values in the categorical columns with specific values\n",
    "#df['col'].fillna('unknown', inplace=True)\n"
   ]
  },
  {
   "cell_type": "code",
   "execution_count": 93,
   "metadata": {
    "id": "vohuc9UGxNVg"
   },
   "outputs": [],
   "source": [
    "#dropping the missing values# we drop when we just have few missing values using dropna\n"
   ]
  },
  {
   "cell_type": "code",
   "execution_count": 94,
   "metadata": {
    "id": "5Xw-yKpVyMxx"
   },
   "outputs": [],
   "source": [
    "#check the null values using isna()\n"
   ]
  },
  {
   "cell_type": "code",
   "execution_count": 95,
   "metadata": {
    "id": "65dvGLT4yol5"
   },
   "outputs": [],
   "source": [
    "#Replacing values in the class column\n",
    "#df.groupby('class')['class'].count()"
   ]
  },
  {
   "cell_type": "code",
   "execution_count": 96,
   "metadata": {
    "id": "RlH0u3586bVF"
   },
   "outputs": [],
   "source": [
    "#check unique in class variable\n"
   ]
  },
  {
   "cell_type": "code",
   "execution_count": 97,
   "metadata": {
    "id": "MfVh5zfg6z2e"
   },
   "outputs": [],
   "source": [
    "#replace values in class, and gender coln df['coln'] = df['coln'].str.replace('N ','N')\n",
    "\n"
   ]
  },
  {
   "cell_type": "code",
   "execution_count": 98,
   "metadata": {
    "id": "YrxGwsdJ1mjx"
   },
   "outputs": [],
   "source": [
    "#check unique again\n"
   ]
  },
  {
   "cell_type": "code",
   "execution_count": 99,
   "metadata": {
    "id": "O978Sc-w1qQk"
   },
   "outputs": [],
   "source": [
    "#check count again  df.groupby('class')['class'].count()"
   ]
  },
  {
   "cell_type": "code",
   "execution_count": 100,
   "metadata": {
    "id": "_89--WWGDPIx"
   },
   "outputs": [],
   "source": [
    "#do the same for gender\n"
   ]
  },
  {
   "cell_type": "code",
   "execution_count": 101,
   "metadata": {
    "id": "hDbp95D9DbAm"
   },
   "outputs": [],
   "source": [
    "#replace values in gender\n"
   ]
  },
  {
   "cell_type": "markdown",
   "metadata": {
    "id": "nZwLemVO8yjb"
   },
   "source": [
    "### 2.3 Checking for duplicate\n"
   ]
  },
  {
   "cell_type": "code",
   "execution_count": 102,
   "metadata": {
    "id": "V697oYCy866v"
   },
   "outputs": [],
   "source": [
    "#check duplicates use duplcated()\n"
   ]
  },
  {
   "cell_type": "code",
   "execution_count": 103,
   "metadata": {
    "id": "xuQT81OZB4kz"
   },
   "outputs": [],
   "source": [
    "#drop the duplicates\n",
    "\n",
    "\n",
    "#checking on whether duplicates were dropped\n"
   ]
  },
  {
   "cell_type": "markdown",
   "metadata": {
    "id": "Rq-fYCkyCRdg"
   },
   "source": [
    "### 2.4 Checking for outliers\n"
   ]
  },
  {
   "cell_type": "code",
   "execution_count": 104,
   "metadata": {
    "id": "YiV0bzTOCEXn"
   },
   "outputs": [],
   "source": [
    "#checking for outlier, use boxplot on cr coln\n"
   ]
  },
  {
   "cell_type": "code",
   "execution_count": 105,
   "metadata": {
    "id": "VdMx07uND4fj"
   },
   "outputs": [],
   "source": [
    "#Remove the outlier using the maximum quantile in cr column\n",
    "\n",
    "#a. Get the max interquantile at 0.995\n"
   ]
  },
  {
   "cell_type": "code",
   "execution_count": 106,
   "metadata": {
    "id": "gL5FbY40FpP6"
   },
   "outputs": [],
   "source": [
    "#check the values under outliers\n",
    "#df[df[\"cr\"] > max_cr]"
   ]
  },
  {
   "cell_type": "code",
   "execution_count": 107,
   "metadata": {
    "id": "tSs4l5FKGUwz"
   },
   "outputs": [],
   "source": [
    "#Remove the outlier by assigning the value to a new DataFrame\n",
    "#dfnew = df[df[\"cr\"] < max_cr]"
   ]
  },
  {
   "cell_type": "code",
   "execution_count": 108,
   "metadata": {
    "id": "1LKqYZboG-Zu"
   },
   "outputs": [],
   "source": [
    "#confirm removal of outlier"
   ]
  },
  {
   "cell_type": "markdown",
   "metadata": {
    "id": "hZQYhZIjHao_"
   },
   "source": [
    "The outlier has been removed"
   ]
  },
  {
   "cell_type": "code",
   "execution_count": 109,
   "metadata": {
    "id": "jBjdy-J1HyXb"
   },
   "outputs": [],
   "source": [
    "#b. similary we can use iqr to remove the outliers\n",
    "\n",
    "# Calculate the interquartile range (IQR)\n",
    "#q1 = df['cr'].quantile(0.25)\n",
    "#q3 = df['cr'].quantile(0.75)\n",
    "#iqr = q3 - q1\n",
    "\n",
    "# Define the lower and upper bounds for outliers\n",
    "#lower_bound = q1 - 1.5 * iqr\n",
    "#upper_bound = q3 + 1.5 * iqr\n",
    "\n",
    "# Filter the data to remove outliers\n",
    "#f2 = df1[(df['cr'] >= lower_bound) & (df['cr'] <= upper_bound)]\n",
    "\n",
    "# Check the boxplot again\n"
   ]
  }
 ],
 "metadata": {
  "colab": {
   "cell_execution_strategy": "setup",
   "provenance": []
  },
  "kernelspec": {
   "display_name": "Python (learn-env)",
   "language": "python",
   "name": "learn-env"
  },
  "language_info": {
   "codemirror_mode": {
    "name": "ipython",
    "version": 3
   },
   "file_extension": ".py",
   "mimetype": "text/x-python",
   "name": "python",
   "nbconvert_exporter": "python",
   "pygments_lexer": "ipython3",
   "version": "3.8.5"
  }
 },
 "nbformat": 4,
 "nbformat_minor": 1
}
