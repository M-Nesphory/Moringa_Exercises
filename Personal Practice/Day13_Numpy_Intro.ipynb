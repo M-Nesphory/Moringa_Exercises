{
 "cells": [
  {
   "cell_type": "markdown",
   "id": "e957c8a6-8e03-4dbc-9560-218ba13c441b",
   "metadata": {},
   "source": [
    "When importing to local machine/IDE, you first need to install it into your machine using *pip3 install numpy* and alias it as np"
   ]
  },
  {
   "cell_type": "code",
   "execution_count": 3,
   "id": "99af8341-1da1-4b5b-8a11-7858c75d481c",
   "metadata": {},
   "outputs": [],
   "source": [
    "import numpy as np\n",
    "# To make numpy functions available"
   ]
  },
  {
   "cell_type": "code",
   "execution_count": 7,
   "id": "79cf9e62-5dc3-4146-bf03-bd9821b3c507",
   "metadata": {},
   "outputs": [
    {
     "name": "stdout",
     "output_type": "stream",
     "text": [
      "This is your array: [ 2  4  5  6  8 10]\n",
      "<class 'numpy.ndarray'>\n"
     ]
    }
   ],
   "source": [
    "array1 = np.array([2,4,5,6,8,10]) # Initializing a numpy array\n",
    "print(f\"This is your array: {array1}\")\n",
    "print(type(array1))"
   ]
  },
  {
   "cell_type": "code",
   "execution_count": 12,
   "id": "f9600eba-3827-4338-9581-298cb8a524d6",
   "metadata": {},
   "outputs": [
    {
     "name": "stdout",
     "output_type": "stream",
     "text": [
      "[189 278 392 403 395 402 450]\n",
      "<class 'numpy.ndarray'>\n"
     ]
    }
   ],
   "source": [
    "mark_list = [189,278,392,403,395,402, 450]\n",
    "mark_array = np.array(mark_list) # Converting a list to a numpy array\n",
    "print(mark_array)\n",
    "print(type(mark_array))"
   ]
  },
  {
   "cell_type": "markdown",
   "id": "bb5fc60a-8f44-4ee3-b086-0282f625c506",
   "metadata": {},
   "source": [
    "Numpy can also handle multi-dimensional arrays"
   ]
  },
  {
   "cell_type": "code",
   "execution_count": 58,
   "id": "ce3bdc04-8cf6-4a37-aa68-c891e0ac26d3",
   "metadata": {},
   "outputs": [
    {
     "name": "stdout",
     "output_type": "stream",
     "text": [
      "[[1 2 3 4]\n",
      " [5 6 7 8]]\n"
     ]
    },
    {
     "data": {
      "text/plain": [
       "2"
      ]
     },
     "execution_count": 58,
     "metadata": {},
     "output_type": "execute_result"
    }
   ],
   "source": [
    "numpy_arr = np.array([[1,2,3,4],\n",
    "                      [5,6,7,8]])\n",
    "print(numpy_arr)\n",
    "numpy_arr.ndim"
   ]
  },
  {
   "cell_type": "markdown",
   "id": "91f865ec-8c30-4cf3-989e-492efe3cf61f",
   "metadata": {},
   "source": [
    "Numpys are preferred to a list because Numpy makes it easier to perform array operations on the array and on each element."
   ]
  },
  {
   "cell_type": "code",
   "execution_count": 20,
   "id": "a4d56b5e-daaa-4918-aae8-5fc216ddc947",
   "metadata": {},
   "outputs": [
    {
     "name": "stdout",
     "output_type": "stream",
     "text": [
      "[ 3  4  5  6  7  8  9 10 11 12]\n"
     ]
    }
   ],
   "source": [
    "array_of_ints = np.array([0,1,2,3,4,5,6,7,8,9])\n",
    "print(array_of_ints + 3)\n",
    "# Adding 3 to each element in the array"
   ]
  },
  {
   "cell_type": "code",
   "execution_count": 37,
   "id": "9729f029-25da-4be0-8374-c6a9ff9c8704",
   "metadata": {},
   "outputs": [
    {
     "name": "stdout",
     "output_type": "stream",
     "text": [
      "[300 210 420 475  90]\n"
     ]
    }
   ],
   "source": [
    "# For multiplication, both arrays have to be the same shape/length for it to work\n",
    "# Otherwise, ValueError\n",
    "array_1 = np.array([10,15,20,25,45])\n",
    "array_2 = np.array([30,14,21,19,2])\n",
    "product_array = array_1 * array_2\n",
    "print(product_array)\n",
    "# type(product_array)"
   ]
  },
  {
   "cell_type": "markdown",
   "id": "d0b0401f-e080-4d56-91f0-76846f67b3fb",
   "metadata": {},
   "source": [
    "Now, let's imagine we have a list of temperatures that represent the average high temperatures for each month of the year in NYC. Currently, this list has all the temperatures in Fahrenheit. However, since NYC has such a large international presence and population, it would be great to have these numbers in Celsius as well. Without NumPy, we would have to access each element individually, get its value, convert the value to Celsius, and add the new value to a new array. With NumPy, we can just multiply each element by the factor we need to convert Fahrenheit to Celsius.\n",
    "\n",
    "The formula for converting Fahrenheit to Celsius is below:\n",
    "\n",
    "T(°C) = (T(°F) - 32) × 5/9"
   ]
  },
  {
   "cell_type": "code",
   "execution_count": 41,
   "id": "74d9e9b2-9825-40ec-81cf-397c0be30ccf",
   "metadata": {},
   "outputs": [
    {
     "name": "stdout",
     "output_type": "stream",
     "text": [
      "[ 3.88888889  5.55555556 10.         16.66666667 22.22222222 26.66666667\n",
      " 29.44444444 28.88888889 24.44444444 18.33333333 12.22222222  6.66666667]\n"
     ]
    }
   ],
   "source": [
    "nyc_avg_temps_f = [39, 42, 50, 62, 72, 80, 85, 84, 76, 65, 54, 44]\n",
    "np_nyc_avg_temps_f = np.array(nyc_avg_temps_f)\n",
    "np_nyc_avg_temps_c = (np_nyc_avg_temps_f - 32) * (5/9)\n",
    "print(np_nyc_avg_temps_c)"
   ]
  },
  {
   "cell_type": "code",
   "execution_count": 44,
   "id": "ceb3ee11-b7ad-4e3b-8940-8363c4aa4c67",
   "metadata": {},
   "outputs": [
    {
     "name": "stdout",
     "output_type": "stream",
     "text": [
      "[1, 2, 3, 1, 2, 3, 1, 2, 3]\n",
      "[3 6 9]\n"
     ]
    }
   ],
   "source": [
    "# Difference on list and array behaviour\n",
    "list_1 = [1,2,3]\n",
    "array_1 = np.array(list_1)\n",
    "print(list_1 * 3)\n",
    "print(array_1 * 3)"
   ]
  },
  {
   "cell_type": "markdown",
   "id": "4406a951-58fc-4931-90f4-318ea46c8e66",
   "metadata": {},
   "source": [
    "**Numpy Array**"
   ]
  },
  {
   "cell_type": "code",
   "execution_count": 47,
   "id": "be7b8321-6910-420f-9ef3-5b84639ac1b2",
   "metadata": {},
   "outputs": [],
   "source": [
    "x = np.array([30,45,65])\n",
    "y = np.array([4,5,6])"
   ]
  },
  {
   "cell_type": "code",
   "execution_count": 62,
   "id": "cd69e374-7a42-4670-b05f-e05fbd5deefe",
   "metadata": {},
   "outputs": [
    {
     "data": {
      "text/plain": [
       "array([34, 50, 71])"
      ]
     },
     "execution_count": 62,
     "metadata": {},
     "output_type": "execute_result"
    }
   ],
   "source": [
    "np.add(x,y)\n",
    "# Adds elementwise (30 + 4)(45 + 5)( 65 + 6)"
   ]
  },
  {
   "cell_type": "code",
   "execution_count": 65,
   "id": "05d7bac1-4665-4401-b115-5bd8ce7c323b",
   "metadata": {},
   "outputs": [
    {
     "data": {
      "text/plain": [
       "array([120, 225, 390])"
      ]
     },
     "execution_count": 65,
     "metadata": {},
     "output_type": "execute_result"
    }
   ],
   "source": [
    "np.multiply(x,y)\n",
    "# Multiplies elementwise (30 * 4)(45 * 5)(65 * 6)"
   ]
  },
  {
   "cell_type": "code",
   "execution_count": 68,
   "id": "8ec07b58-8e5c-428c-8716-f6859463e76b",
   "metadata": {},
   "outputs": [
    {
     "data": {
      "text/plain": [
       "array([31, 46, 66])"
      ]
     },
     "execution_count": 68,
     "metadata": {},
     "output_type": "execute_result"
    }
   ],
   "source": [
    "np.add(x,1)\n",
    "# Adds 1 to each element"
   ]
  },
  {
   "cell_type": "markdown",
   "id": "05cb5a3c-b40d-4317-94fc-1bad9ff89f6a",
   "metadata": {},
   "source": [
    "**Multidimensional Arrays**"
   ]
  },
  {
   "cell_type": "code",
   "execution_count": 71,
   "id": "9bac679e-8370-44c9-9428-9e05478723f9",
   "metadata": {},
   "outputs": [
    {
     "name": "stdout",
     "output_type": "stream",
     "text": [
      "<class 'numpy.ndarray'>\n",
      "[[1 2]\n",
      " [3 4]]\n",
      "(2, 2)\n"
     ]
    }
   ],
   "source": [
    "y = np.array([[1, 2], [3, 4]])\n",
    "print(type(y))\n",
    "print(y)\n",
    "print(y.shape)"
   ]
  },
  {
   "cell_type": "markdown",
   "id": "dc038b74-827f-44d1-87d7-1fffb965c16a",
   "metadata": {},
   "source": [
    "The shape atttribute in Numpy is used to define the number of rows and columns in the array.\n",
    "Returns a tuple. A shape of (2,3) shows the array has 2 rows and 3 columns"
   ]
  },
  {
   "cell_type": "code",
   "execution_count": 72,
   "id": "53a42386-47b7-4f29-b9f9-4f33694b96a6",
   "metadata": {},
   "outputs": [
    {
     "name": "stdout",
     "output_type": "stream",
     "text": [
      "(2, 3, 2)\n",
      "[[[1 2]\n",
      "  [3 4]\n",
      "  [5 6]]\n",
      "\n",
      " [[1 2]\n",
      "  [3 4]\n",
      "  [5 6]]]\n"
     ]
    }
   ],
   "source": [
    "y = np.array([[[1, 2],[3, 4],[5, 6]],\n",
    "             [[1, 2],[3, 4],[5, 6]]\n",
    "             ])\n",
    "print(y.shape)\n",
    "print(y)"
   ]
  },
  {
   "cell_type": "code",
   "execution_count": 74,
   "id": "9b601be6-0c33-4029-b4b0-522cd2c18cc1",
   "metadata": {},
   "outputs": [
    {
     "data": {
      "text/plain": [
       "array([0., 0., 0., 0., 0.])"
      ]
     },
     "execution_count": 74,
     "metadata": {},
     "output_type": "execute_result"
    }
   ],
   "source": [
    "np.zeros(5)\n",
    "# Used to create a 1D array of 5 elements"
   ]
  },
  {
   "cell_type": "code",
   "execution_count": 80,
   "id": "605cecbf-5c56-4093-9dea-b83095763f60",
   "metadata": {},
   "outputs": [
    {
     "data": {
      "text/plain": [
       "array([[0., 0.],\n",
       "       [0., 0.]])"
      ]
     },
     "execution_count": 80,
     "metadata": {},
     "output_type": "execute_result"
    }
   ],
   "source": [
    "np.zeros([2,2])\n",
    "# Creating a 2D; 2x2 matrix array of zeroes"
   ]
  },
  {
   "cell_type": "code",
   "execution_count": 81,
   "id": "631f273e-71b9-4c5a-ac40-cb9bdd855cc6",
   "metadata": {},
   "outputs": [
    {
     "data": {
      "text/plain": [
       "array([[0., 0., 0., 0., 0.],\n",
       "       [0., 0., 0., 0., 0.],\n",
       "       [0., 0., 0., 0., 0.]])"
      ]
     },
     "execution_count": 81,
     "metadata": {},
     "output_type": "execute_result"
    }
   ],
   "source": [
    "np.zeros([3,5])\n",
    "# 2D, 3x5 matrix array of zeroes"
   ]
  },
  {
   "cell_type": "code",
   "execution_count": 83,
   "id": "c9c83bed-a6e1-4b85-8a40-534ab342cf1c",
   "metadata": {},
   "outputs": [
    {
     "data": {
      "text/plain": [
       "array([[[0., 0., 0., 0.],\n",
       "        [0., 0., 0., 0.],\n",
       "        [0., 0., 0., 0.]],\n",
       "\n",
       "       [[0., 0., 0., 0.],\n",
       "        [0., 0., 0., 0.],\n",
       "        [0., 0., 0., 0.]]])"
      ]
     },
     "execution_count": 83,
     "metadata": {},
     "output_type": "execute_result"
    }
   ],
   "source": [
    "np.zeros([2,3,4])\n",
    "# 3D, 2x3x4"
   ]
  },
  {
   "cell_type": "code",
   "execution_count": 85,
   "id": "ae0dda04-72c3-4192-8ebd-f669b2120644",
   "metadata": {},
   "outputs": [
    {
     "data": {
      "text/plain": [
       "array([[1., 1.],\n",
       "       [1., 1.]])"
      ]
     },
     "execution_count": 85,
     "metadata": {},
     "output_type": "execute_result"
    }
   ],
   "source": [
    "np.ones([2,2])\n",
    "# 2x2, 2D Array of ones"
   ]
  },
  {
   "cell_type": "code",
   "execution_count": 87,
   "id": "76a97873-eb01-456d-abbd-898e91cda693",
   "metadata": {},
   "outputs": [
    {
     "data": {
      "text/plain": [
       "array([[1., 1., 1., 1.],\n",
       "       [1., 1., 1., 1.],\n",
       "       [1., 1., 1., 1.]])"
      ]
     },
     "execution_count": 87,
     "metadata": {},
     "output_type": "execute_result"
    }
   ],
   "source": [
    "np.ones([3,4])\n",
    "# 3 rows, 4 columns"
   ]
  },
  {
   "cell_type": "markdown",
   "id": "86b38ef5-00bb-4817-9e98-cf7d4a7f09bc",
   "metadata": {},
   "source": [
    "The np.full() method allows you to create an array of arbitrary values"
   ]
  },
  {
   "cell_type": "code",
   "execution_count": 90,
   "id": "a473c167-9396-4930-b5a4-a8503fb685d1",
   "metadata": {},
   "outputs": [
    {
     "data": {
      "text/plain": [
       "array([3, 3, 3, 3, 3])"
      ]
     },
     "execution_count": 90,
     "metadata": {},
     "output_type": "execute_result"
    }
   ],
   "source": [
    "np.full(5,3)\n",
    "# 1D array of 5 elements full of 3s"
   ]
  },
  {
   "cell_type": "code",
   "execution_count": 99,
   "id": "6e4e1357-fe46-4a44-b717-18573a6ea0fd",
   "metadata": {},
   "outputs": [
    {
     "data": {
      "text/plain": [
       "array([[0, 1, 2, 3],\n",
       "       [0, 1, 2, 3]])"
      ]
     },
     "execution_count": 99,
     "metadata": {},
     "output_type": "execute_result"
    }
   ],
   "source": [
    "np.full([2,4], range(4))\n",
    "# Create a 2D, 2x4 array with elements ranging from 0 to 3"
   ]
  },
  {
   "cell_type": "markdown",
   "id": "c5d1f52f-25fc-4a61-98b7-993abde2869c",
   "metadata": {},
   "source": [
    "**Numpy Array Subsetting**\n",
    "\n",
    "Works like slicing lists"
   ]
  },
  {
   "cell_type": "code",
   "execution_count": 101,
   "id": "5ee9bf2c-3df6-4b6b-8604-7d15f88b8528",
   "metadata": {},
   "outputs": [
    {
     "name": "stdout",
     "output_type": "stream",
     "text": [
      "(4, 3)\n",
      "[[ 1  2  3]\n",
      " [ 4  5  6]\n",
      " [ 7  8  9]\n",
      " [10 11 12]]\n"
     ]
    }
   ],
   "source": [
    "x = np.array([[1, 2, 3], [4, 5, 6], [7, 8, 9], [10, 11, 12]])\n",
    "print(x.shape)\n",
    "print(x)"
   ]
  },
  {
   "cell_type": "code",
   "execution_count": 104,
   "id": "c3961c53-c677-4da2-8f61-42349579f21e",
   "metadata": {},
   "outputs": [
    {
     "data": {
      "text/plain": [
       "array([1, 2, 3])"
      ]
     },
     "execution_count": 104,
     "metadata": {},
     "output_type": "execute_result"
    }
   ],
   "source": [
    "x[0]\n",
    "# Retrieving the first row"
   ]
  },
  {
   "cell_type": "code",
   "execution_count": 106,
   "id": "e45adc5e-3797-4dca-a027-82aa446c5659",
   "metadata": {},
   "outputs": [
    {
     "data": {
      "text/plain": [
       "array([[ 4,  5,  6],\n",
       "       [ 7,  8,  9],\n",
       "       [10, 11, 12]])"
      ]
     },
     "execution_count": 106,
     "metadata": {},
     "output_type": "execute_result"
    }
   ],
   "source": [
    "x[1:]\n",
    "# Everything apart from the first row"
   ]
  },
  {
   "cell_type": "code",
   "execution_count": 110,
   "id": "cdd7e0dc-47fd-4541-89cb-f61d57e2fd3e",
   "metadata": {},
   "outputs": [
    {
     "data": {
      "text/plain": [
       "array([ 2,  5,  8, 11])"
      ]
     },
     "execution_count": 110,
     "metadata": {},
     "output_type": "execute_result"
    }
   ],
   "source": [
    "x[:,1]\n",
    "# All rows, col 1"
   ]
  },
  {
   "cell_type": "code",
   "execution_count": 112,
   "id": "df4c89a8-89f6-4b71-925e-ff45ee4b4e2c",
   "metadata": {},
   "outputs": [
    {
     "data": {
      "text/plain": [
       "array([[ 8,  9],\n",
       "       [11, 12]])"
      ]
     },
     "execution_count": 112,
     "metadata": {},
     "output_type": "execute_result"
    }
   ],
   "source": [
    "x[2:4,1:3]\n",
    "# Row 2 to 4, col 1 to 3"
   ]
  },
  {
   "cell_type": "markdown",
   "id": "05db28ec-0a69-4144-b45e-0bc8d72b2338",
   "metadata": {},
   "source": [
    "**3D slicing**"
   ]
  },
  {
   "cell_type": "code",
   "execution_count": 115,
   "id": "de1f7872-c78f-42eb-ac94-81a98ac3f059",
   "metadata": {},
   "outputs": [
    {
     "name": "stdout",
     "output_type": "stream",
     "text": [
      "[[[ 1  2  3]\n",
      "  [ 4  5  6]]\n",
      "\n",
      " [[ 7  8  9]\n",
      "  [10 11 12]]]\n"
     ]
    },
    {
     "data": {
      "text/plain": [
       "(2, 2, 3)"
      ]
     },
     "execution_count": 115,
     "metadata": {},
     "output_type": "execute_result"
    }
   ],
   "source": [
    "x = np.array([\n",
    "              [[1,2,3], [4,5,6]],\n",
    "              [[7,8,9], [10,11,12]]\n",
    "             ])\n",
    "print(x)\n",
    "x.shape"
   ]
  },
  {
   "cell_type": "code",
   "execution_count": 118,
   "id": "d48fc742-fd82-4925-826e-599e59009be2",
   "metadata": {},
   "outputs": [
    {
     "data": {
      "text/plain": [
       "array([[ 3,  6],\n",
       "       [ 9, 12]])"
      ]
     },
     "execution_count": 118,
     "metadata": {},
     "output_type": "execute_result"
    }
   ],
   "source": [
    "x[:,:,-1]"
   ]
  },
  {
   "cell_type": "markdown",
   "id": "f8c0c0d5-8c77-456a-92c1-6764191c3736",
   "metadata": {},
   "source": [
    "**Quiz**"
   ]
  },
  {
   "cell_type": "markdown",
   "id": "9f4e533e-b79a-47a0-9674-97fd3c3af8be",
   "metadata": {},
   "source": [
    "Create a NumPy array for each of the following: \n",
    "\n",
    "1. Using a range\n",
    "2. Using a Python list\n",
    "\n",
    "Below, create a list in Python that has 5 elements (i.e. [0,1,2,3,4]) and assign it to the variable py_list.\n",
    "\n",
    "Next, do the same, but instead of a list, create a range with 5 elements and assign it to the variable, py_range.\n",
    "\n",
    "Finally, use the list and range to create NumPy arrays and assign the array from list to the variable array_from_list, and the array from the range to the variable array_from_range."
   ]
  },
  {
   "cell_type": "code",
   "execution_count": 132,
   "id": "0d8b4aad-680a-4cd1-8872-2d9b3104f019",
   "metadata": {},
   "outputs": [
    {
     "name": "stdout",
     "output_type": "stream",
     "text": [
      "[0, 1, 2, 3, 4]\n",
      "[0, 1, 2, 3, 4]\n",
      "[0 1 2 3 4]\n",
      "[0 1 2 3 4]\n"
     ]
    }
   ],
   "source": [
    "py_list = [0,1,2,3,4]\n",
    "py_range = list(range(5))\n",
    "# Creating a list from a range\n",
    "array_from_list = np.array(py_list)\n",
    "array_from_range = np.arange(5)\n",
    "# Creating an array using arange() method\n",
    "\n",
    "print(py_list)\n",
    "print(py_range)\n",
    "print(array_from_list)\n",
    "print(array_from_range)"
   ]
  },
  {
   "cell_type": "markdown",
   "id": "86201efc-e8a0-4a1f-bd8a-8454db7abfc8",
   "metadata": {},
   "source": [
    "Next, we have a list of heights and weights and we'd like to use them to create a collection of BMIs. However, they are both in inches and pounds (imperial system), respectively.\n",
    "\n",
    "Let's use what we know to create NumPy arrays with the metric equivalent values (height in meters & weight in kg).\n",
    "\n",
    "Remember: NumPy can make these calculations a lot easier and with less code than a list!\n",
    "\n",
    "1.0 inch = 0.0254 meters\n",
    "\n",
    "2.2046 lbs = 1 kilogram"
   ]
  },
  {
   "cell_type": "code",
   "execution_count": 136,
   "id": "75a6261c-8e0f-4a5e-9a59-d41b5d0efab3",
   "metadata": {},
   "outputs": [
    {
     "data": {
      "text/plain": [
       "array([1.651 , 1.7272, 1.8542, 1.905 , 1.9812])"
      ]
     },
     "execution_count": 136,
     "metadata": {},
     "output_type": "execute_result"
    }
   ],
   "source": [
    "# Use the conversion rate for turning height in inches to meters\n",
    "list_height_inches = [65, 68, 73, 75, 78]\n",
    "\n",
    "np_height_inches = np.array(list_height_inches)\n",
    "np_height_meters = np_height_inches * 0.0254\n",
    "np_height_meters"
   ]
  },
  {
   "cell_type": "code",
   "execution_count": 139,
   "id": "3eecb0c9-4889-425f-9f91-572485f69b90",
   "metadata": {},
   "outputs": [
    {
     "data": {
      "text/plain": [
       "array([330.69 , 308.644, 485.012, 451.943, 584.219])"
      ]
     },
     "execution_count": 139,
     "metadata": {},
     "output_type": "execute_result"
    }
   ],
   "source": [
    "# Use the conversion rate for turning weight in pounds to kilograms\n",
    "list_weight_pounds = [150, 140, 220, 205, 265]\n",
    "\n",
    "np_weight_pounds = np.array(list_weight_pounds)\n",
    "np_weight_kg = np_weight_pounds * 2.2046\n",
    "np_weight_kg"
   ]
  },
  {
   "cell_type": "markdown",
   "id": "031483de-0457-4924-84df-4445a5b24926",
   "metadata": {},
   "source": [
    "The metric formula for calculating BMI is as follows:\n",
    "\n",
    "BMI = weight (kg) / height^2 (m^2)\n",
    "\n",
    "So, to get BMI we divide weight by the squared value of height. For example, if I weighed 130kg and was 1.9 meters tall, the calculation would look like:\n",
    "\n",
    "BMI = 130 / (1.9*1.9)\n",
    "\n",
    "Use the BMI calculation to create a NumPy array of BMIs"
   ]
  },
  {
   "cell_type": "code",
   "execution_count": 146,
   "id": "1168f7c3-949a-4ca4-ab93-fa6eda29a8cd",
   "metadata": {},
   "outputs": [
    {
     "data": {
      "text/plain": [
       "array([121.31846749, 103.46002526, 141.07151502, 124.53565352,\n",
       "       148.8397865 ])"
      ]
     },
     "execution_count": 146,
     "metadata": {},
     "output_type": "execute_result"
    }
   ],
   "source": [
    "np_bmi = np_weight_kg/np.power(np_height_meters,2)\n",
    "np_bmi"
   ]
  },
  {
   "cell_type": "markdown",
   "id": "d62e5c8f-8a05-499e-95ed-f12da19e8ce0",
   "metadata": {},
   "source": [
    "Create a vector of ones the same size as your BMI vector using np.ones()"
   ]
  },
  {
   "cell_type": "code",
   "execution_count": 148,
   "id": "5d4ef736-96af-44d5-a881-53c8821155b0",
   "metadata": {},
   "outputs": [
    {
     "data": {
      "text/plain": [
       "array([1., 1., 1., 1., 1.])"
      ]
     },
     "execution_count": 148,
     "metadata": {},
     "output_type": "execute_result"
    }
   ],
   "source": [
    "identity = np.ones(5)\n",
    "identity"
   ]
  },
  {
   "cell_type": "markdown",
   "id": "80009c5f-b60c-4ac7-bd5e-b2142c015e2c",
   "metadata": {},
   "source": [
    "Multiply the BMI_array by your vector of ones\r\n",
    "The resulting product should have the same values as your original BMI numpy array."
   ]
  },
  {
   "cell_type": "code",
   "execution_count": 149,
   "id": "6e80c834-ab1a-4a5c-a89a-265f45ef3ad8",
   "metadata": {},
   "outputs": [
    {
     "data": {
      "text/plain": [
       "array([121.31846749, 103.46002526, 141.07151502, 124.53565352,\n",
       "       148.8397865 ])"
      ]
     },
     "execution_count": 149,
     "metadata": {},
     "output_type": "execute_result"
    }
   ],
   "source": [
    "np_bmi * identity"
   ]
  },
  {
   "cell_type": "markdown",
   "id": "cf840e13-71ae-4304-906d-c76f8b65fed3",
   "metadata": {},
   "source": [
    "Level Up: Using NumPy to Parse a File\n",
    "\r\n",
    "The Pandas library that we've been using is built on top of NumPy; all columns/series in a Pandas DataFrame are built using NumPy arrays. To get a better idea of a how a built-in method like pd.read_csv() works, we'll try and recreate that here\n",
    "\n",
    "Ignore below!."
   ]
  },
  {
   "cell_type": "code",
   "execution_count": null,
   "id": "a1b0ccf2-71cd-4e88-b3a4-071c8198e33f",
   "metadata": {},
   "outputs": [],
   "source": [
    "# Open a text file (csv files are just plaintext separated by commas)\n",
    "f = open('bp.txt')\n",
    "n_rows = len(f.readlines())\n",
    "# Print number of lines in the file\n",
    "print('The file has {} lines.'.format(n_rows))\n",
    "# After using readlines, we must reopen the file\n",
    "f = open('bp.txt')\n",
    "# The file has values separated by tabs; we read the first line and check it's length\n",
    "n_cols = (len(f.readline().split('\\t')))\n",
    "f = open('bp.txt')\n",
    "\n",
    "#1) Create a matrix of zeros that is the same size of the file\n",
    "np.zeros([n_rows,n_cols])\n",
    "#2) Iterate through the file: \"for line in f:\" \n",
    "# Hint: using enumerate will also be required\n",
    "for index, line in enumerate(f):\n",
    "    #3) Update each row of the matrix with the new stream of data\n",
    "    #Hint: skip the first row (it's just column names, not the data.)\n",
    "    if line == 0:\n",
    "        continue\n",
    "    elif\n",
    "#4) Preview your results; you should now have a NumPy matrix with the data from the file\n",
    "\n"
   ]
  },
  {
   "cell_type": "markdown",
   "id": "35df17da-2149-40ba-b2c1-a29720194634",
   "metadata": {},
   "source": [
    "**Let's try this one more time**"
   ]
  },
  {
   "cell_type": "code",
   "execution_count": 4,
   "id": "879a1c62-7320-4700-a22b-f40bebf3f938",
   "metadata": {},
   "outputs": [],
   "source": [
    "import numpy as np\n",
    "# Loading numpy into your environment"
   ]
  },
  {
   "cell_type": "code",
   "execution_count": 5,
   "id": "81759d90-473e-4642-98bd-ad40cbadec07",
   "metadata": {},
   "outputs": [
    {
     "name": "stdout",
     "output_type": "stream",
     "text": [
      "[1 2 3]\n"
     ]
    }
   ],
   "source": [
    "a_np = np.array([1,2,3])\n",
    "print(a_np)"
   ]
  },
  {
   "cell_type": "code",
   "execution_count": 10,
   "id": "09b3b8eb-0cd5-46c4-9e11-35ae8f163447",
   "metadata": {},
   "outputs": [
    {
     "data": {
      "text/plain": [
       "array([[8.5, 6.2, 9.7],\n",
       "       [2.2, 9.1, 6.4]])"
      ]
     },
     "execution_count": 10,
     "metadata": {},
     "output_type": "execute_result"
    }
   ],
   "source": [
    "b_np = np.array([[8.5,6.2,9.7],[2.2,9.1,6.4]])\n",
    "b_np\n",
    "# Creating a 2D array"
   ]
  },
  {
   "cell_type": "code",
   "execution_count": 14,
   "id": "de1e2cb0-b399-4ecb-b670-5ed55c84bbdd",
   "metadata": {},
   "outputs": [
    {
     "name": "stdout",
     "output_type": "stream",
     "text": [
      "2\n",
      "1\n"
     ]
    }
   ],
   "source": [
    "# Get dimension of the array\n",
    "print(b_np.ndim)\n",
    "print(a_np.ndim)"
   ]
  },
  {
   "cell_type": "code",
   "execution_count": 18,
   "id": "595bd0b4-c4a6-4c2f-8659-59909bb4863c",
   "metadata": {},
   "outputs": [
    {
     "name": "stdout",
     "output_type": "stream",
     "text": [
      "(2, 3)\n",
      "(3,)\n"
     ]
    }
   ],
   "source": [
    "# Get Shape (rows, cols)\n",
    "print(b_np.shape)\n",
    "print(a_np.shape) # 1D so only shows the cols"
   ]
  },
  {
   "cell_type": "code",
   "execution_count": 20,
   "id": "2aff975f-8318-4ac0-87b9-d836ce694fee",
   "metadata": {},
   "outputs": [
    {
     "data": {
      "text/plain": [
       "dtype('float64')"
      ]
     },
     "execution_count": 20,
     "metadata": {},
     "output_type": "execute_result"
    }
   ],
   "source": [
    "# Get datatype in the array\n",
    "b_np.dtype"
   ]
  },
  {
   "cell_type": "code",
   "execution_count": 26,
   "id": "e17d8ff1-3f08-4675-adc0-6e9b9746c5c7",
   "metadata": {},
   "outputs": [
    {
     "data": {
      "text/plain": [
       "48"
      ]
     },
     "execution_count": 26,
     "metadata": {},
     "output_type": "execute_result"
    }
   ],
   "source": [
    "# Total memory occupied\n",
    "b_np.nbytes"
   ]
  },
  {
   "cell_type": "code",
   "execution_count": 27,
   "id": "c8adefd5-1fa8-4932-bcf8-7c2cfd81eada",
   "metadata": {},
   "outputs": [
    {
     "data": {
      "text/plain": [
       "6"
      ]
     },
     "execution_count": 27,
     "metadata": {},
     "output_type": "execute_result"
    }
   ],
   "source": [
    "# Number of elements inside\n",
    "b_np.size"
   ]
  },
  {
   "cell_type": "markdown",
   "id": "929c13a7-8978-402c-8c2f-6da2ff1453c1",
   "metadata": {},
   "source": [
    "**Accessing/Changing Specific Elements in Numpy**"
   ]
  },
  {
   "cell_type": "code",
   "execution_count": 36,
   "id": "ea8a1669-e683-4991-b039-f6b45ada1f9f",
   "metadata": {},
   "outputs": [
    {
     "data": {
      "text/plain": [
       "array([[ 1,  2,  3,  4,  5,  6,  7,  8,  9, 10],\n",
       "       [11, 12, 13, 14, 15, 16, 17, 18, 19, 20]])"
      ]
     },
     "execution_count": 36,
     "metadata": {},
     "output_type": "execute_result"
    }
   ],
   "source": [
    "c_np = np.array([[1,2,3,4,5,6,7,8,9,10],[11,12,13,14,15,16,17,18,19,20]])\n",
    "c_np"
   ]
  }
 ],
 "metadata": {
  "kernelspec": {
   "display_name": "Python [conda env:base] *",
   "language": "python",
   "name": "conda-base-py"
  },
  "language_info": {
   "codemirror_mode": {
    "name": "ipython",
    "version": 3
   },
   "file_extension": ".py",
   "mimetype": "text/x-python",
   "name": "python",
   "nbconvert_exporter": "python",
   "pygments_lexer": "ipython3",
   "version": "3.11.7"
  }
 },
 "nbformat": 4,
 "nbformat_minor": 5
}
