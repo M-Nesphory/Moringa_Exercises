{
 "cells": [
  {
   "cell_type": "markdown",
   "id": "dd2e874b-aa38-4481-a50d-ff200debf5f7",
   "metadata": {},
   "source": [
    "**Seaborn**"
   ]
  },
  {
   "cell_type": "code",
   "execution_count": 42,
   "id": "31d893c8-ac22-4dd4-9b03-71dbc2e1be70",
   "metadata": {},
   "outputs": [],
   "source": [
    "import numpy as np\n",
    "import seaborn as sns\n",
    "%matplotlib inline"
   ]
  },
  {
   "cell_type": "code",
   "execution_count": 40,
   "id": "9c317c60-eef3-4478-9ed3-7e7fb3fc2d04",
   "metadata": {},
   "outputs": [],
   "source": [
    "# Creating a sample dataset\n",
    "data = np.random.normal(size=(20,10)) + np.arange(10) / 2"
   ]
  },
  {
   "cell_type": "code",
   "execution_count": 41,
   "id": "0b8a5a94-c7ae-4ea4-8a16-7a99ded600c2",
   "metadata": {},
   "outputs": [
    {
     "ename": "TypeError",
     "evalue": "'numpy.ndarray' object is not callable",
     "output_type": "error",
     "traceback": [
      "\u001b[1;31m------------------------------------------------------------------------\u001b[0m",
      "\u001b[1;31mTypeError\u001b[0m                              Traceback (most recent call last)",
      "Cell \u001b[1;32mIn[41], line 1\u001b[0m\n\u001b[1;32m----> 1\u001b[0m boxplot \u001b[38;5;241m=\u001b[39m sns\u001b[38;5;241m.\u001b[39mboxplot(data \u001b[38;5;241m=\u001b[39m data)\n",
      "\u001b[1;31mTypeError\u001b[0m: 'numpy.ndarray' object is not callable"
     ]
    }
   ],
   "source": [
    "boxplot = sns.boxplot(data = data)"
   ]
  }
 ],
 "metadata": {
  "kernelspec": {
   "display_name": "Python [conda env:base] *",
   "language": "python",
   "name": "conda-base-py"
  },
  "language_info": {
   "codemirror_mode": {
    "name": "ipython",
    "version": 3
   },
   "file_extension": ".py",
   "mimetype": "text/x-python",
   "name": "python",
   "nbconvert_exporter": "python",
   "pygments_lexer": "ipython3",
   "version": "3.11.7"
  }
 },
 "nbformat": 4,
 "nbformat_minor": 5
}
