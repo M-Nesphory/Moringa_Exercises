{
 "cells": [
  {
   "cell_type": "markdown",
   "metadata": {},
   "source": [
    "## List Comprehension"
   ]
  },
  {
   "cell_type": "markdown",
   "metadata": {},
   "source": [
    "Handy way of creating nw list from existing iterables"
   ]
  },
  {
   "cell_type": "code",
   "execution_count": 9,
   "metadata": {},
   "outputs": [],
   "source": [
    "primes = [2,3,5,7,11,13,17,19]"
   ]
  },
  {
   "cell_type": "code",
   "execution_count": 10,
   "metadata": {},
   "outputs": [
    {
     "data": {
      "text/plain": [
       "[4, 6, 10, 14, 22, 26, 34, 38]"
      ]
     },
     "execution_count": 10,
     "metadata": {},
     "output_type": "execute_result"
    }
   ],
   "source": [
    "prime_doubles = [prime*2 for prime in primes]\n",
    "prime_doubles"
   ]
  },
  {
   "cell_type": "code",
   "execution_count": 11,
   "metadata": {},
   "outputs": [
    {
     "data": {
      "text/plain": [
       "[6, 9, 15, 21, 33, 39, 51, 57]"
      ]
     },
     "execution_count": 11,
     "metadata": {},
     "output_type": "execute_result"
    }
   ],
   "source": [
    "prime_triples = [prime*3 for prime in primes]\n",
    "prime_triples"
   ]
  },
  {
   "cell_type": "code",
   "execution_count": 12,
   "metadata": {},
   "outputs": [
    {
     "data": {
      "text/plain": [
       "[4, 9, 25, 49, 121, 169, 289, 361]"
      ]
     },
     "execution_count": 12,
     "metadata": {},
     "output_type": "execute_result"
    }
   ],
   "source": [
    "prime_squares = [prime**2 for prime in primes]\n",
    "prime_squares"
   ]
  },
  {
   "cell_type": "markdown",
   "metadata": {},
   "source": [
    "**Exercise (List Comprehension)**"
   ]
  },
  {
   "cell_type": "markdown",
   "metadata": {},
   "source": [
    "1. Use a list comprehension to extract the odd numbers from this set"
   ]
  },
  {
   "cell_type": "code",
   "execution_count": 39,
   "metadata": {},
   "outputs": [
    {
     "name": "stdout",
     "output_type": "stream",
     "text": [
      "[1, 3, 5, 7, 9, 11, 13, 15, 17, 19, 21, 23, 25, 27, 29, 31, 33, 35, 37, 39, 41, 43, 45, 47, 49, 51, 53, 55, 57, 59, 61, 63, 65, 67, 69, 71, 73, 75, 77, 79, 81, 83, 85, 87, 89, 91, 93, 95, 97, 99, 101, 103, 105, 107, 109, 111, 113, 115, 117, 119, 121, 123, 125, 127, 129, 131, 133, 135, 137, 139, 141, 143, 145, 147, 149, 151, 153, 155, 157, 159, 161, 163, 165, 167, 169, 171, 173, 175, 177, 179, 181, 183, 185, 187, 189, 191, 193, 195, 197, 199, 201, 203, 205, 207, 209, 211, 213, 215, 217, 219, 221, 223, 225, 227, 229, 231, 233, 235, 237, 239, 241, 243, 245, 247, 249, 251, 253, 255, 257, 259, 261, 263, 265, 267, 269, 271, 273, 275, 277, 279, 281, 283, 285, 287, 289, 291, 293, 295, 297, 299, 301, 303, 305, 307, 309, 311, 313, 315, 317, 319, 321, 323, 325, 327, 329, 331, 333, 335, 337, 339, 341, 343, 345, 347, 349, 351, 353, 355, 357, 359, 361, 363, 365, 367, 369, 371, 373, 375, 377, 379, 381, 383, 385, 387, 389, 391, 393, 395, 397, 399, 401, 403, 405, 407, 409, 411, 413, 415, 417, 419, 421, 423, 425, 427, 429, 431, 433, 435, 437, 439, 441, 443, 445, 447, 449, 451, 453, 455, 457, 459, 461, 463, 465, 467, 469, 471, 473, 475, 477, 479, 481, 483, 485, 487, 489, 491, 493, 495, 497, 499, 501, 503, 505, 507, 509, 511, 513, 515, 517, 519, 521, 523, 525, 527, 529, 531, 533, 535, 537, 539, 541, 543, 545, 547, 549, 551, 553, 555, 557, 559, 561, 563, 565, 567, 569, 571, 573, 575, 577, 579, 581, 583, 585, 587, 589, 591, 593, 595, 597, 599, 601, 603, 605, 607, 609, 611, 613, 615, 617, 619, 621, 623, 625, 627, 629, 631, 633, 635, 637, 639, 641, 643, 645, 647, 649, 651, 653, 655, 657, 659, 661, 663, 665, 667, 669, 671, 673, 675, 677, 679, 681, 683, 685, 687, 689, 691, 693, 695, 697, 699, 701, 703, 705, 707, 709, 711, 713, 715, 717, 719, 721, 723, 725, 727, 729, 731, 733, 735, 737, 739, 741, 743, 745, 747, 749, 751, 753, 755, 757, 759, 761, 763, 765, 767, 769, 771, 773, 775, 777, 779, 781, 783, 785, 787, 789, 791, 793, 795, 797, 799, 801, 803, 805, 807, 809, 811, 813, 815, 817, 819, 821, 823, 825, 827, 829, 831, 833, 835, 837, 839, 841, 843, 845, 847, 849, 851, 853, 855, 857, 859, 861, 863, 865, 867, 869, 871, 873, 875, 877, 879, 881, 883, 885, 887, 889, 891, 893, 895, 897, 899, 901, 903, 905, 907, 909, 911, 913, 915, 917, 919, 921, 923, 925, 927, 929, 931, 933, 935, 937, 939, 941, 943, 945, 947, 949, 951, 953, 955, 957, 959, 961, 963, 965, 967, 969, 971, 973, 975, 977, 979, 981, 983, 985, 987, 989, 991, 993, 995, 997, 999]\n"
     ]
    }
   ],
   "source": [
    "num_pool = set(range(1000))\n",
    "num_odd = [num for num in num_pool if num % 2 != 0 ]\n",
    "print(num_odd)"
   ]
  },
  {
   "cell_type": "markdown",
   "metadata": {},
   "source": [
    "2. Use a list comprehension to take the first character of each string from the following list of words"
   ]
  },
  {
   "cell_type": "code",
   "execution_count": 16,
   "metadata": {},
   "outputs": [
    {
     "data": {
      "text/plain": [
       "['C', 'O', 'M', 'P', 'R', 'E', 'H', 'E', 'N', 'S', 'I', 'O', 'N']"
      ]
     },
     "execution_count": 16,
     "metadata": {},
     "output_type": "execute_result"
    }
   ],
   "source": [
    "words = ['Carbon','Osmium', 'Mercury','Potassium','Rhenium','Einsteinium','Hydrogen','Erbium','Nitrogen','Sulfur','Iodine','Oxygen','Niobium']\n",
    "first_letter = [word[0] for word in words]\n",
    "first_letter"
   ]
  },
  {
   "cell_type": "markdown",
   "metadata": {},
   "source": [
    "3. Use a list comprehension to build a list of all the names that start with 'R' from the following list. Add a '?' to the end of each name"
   ]
  },
  {
   "cell_type": "code",
   "execution_count": 22,
   "metadata": {},
   "outputs": [
    {
     "data": {
      "text/plain": [
       "['Randy?', 'Robert?', 'Ranjit?', 'Richard?', 'Ravdeep?']"
      ]
     },
     "execution_count": 22,
     "metadata": {},
     "output_type": "execute_result"
    }
   ],
   "source": [
    "names = ['Randy','Robert','Alex','Ranjit','Charlie','Richard','Ravdeep','Vimal','Wu','Nelson']\n",
    "r_names = [f'{name}?' for name in names if name[0] == 'R']\n",
    "r_names"
   ]
  },
  {
   "cell_type": "markdown",
   "metadata": {},
   "source": [
    "## Dictionary Comprehension\n",
    "\n",
    "- .keys() - dict keys\n",
    "- .values() - dict values\n",
    "- .items() - both keys and values"
   ]
  },
  {
   "cell_type": "code",
   "execution_count": 23,
   "metadata": {},
   "outputs": [
    {
     "data": {
      "text/plain": [
       "{'who': 'Flatiron School',\n",
       " 'what': 'Data Science',\n",
       " 'when': 'now',\n",
       " 'where': 'here',\n",
       " 'why': 'mulla',\n",
       " 'how': 'python'}"
      ]
     },
     "execution_count": 23,
     "metadata": {},
     "output_type": "execute_result"
    }
   ],
   "source": [
    "my_dict = {'who': 'Flatiron School',\n",
    "          'what': 'Data Science',\n",
    "          'when': 'now',\n",
    "          'where':'here',\n",
    "          'why': 'mulla',\n",
    "          'how': 'python'}\n",
    "my_dict"
   ]
  },
  {
   "cell_type": "code",
   "execution_count": 41,
   "metadata": {},
   "outputs": [
    {
     "data": {
      "text/plain": [
       "{'who': 'Flatiron School!!',\n",
       " 'what': 'Data Science!!',\n",
       " 'when': 'now!!',\n",
       " 'where': 'here!!',\n",
       " 'why': 'mulla!!'}"
      ]
     },
     "execution_count": 41,
     "metadata": {},
     "output_type": "execute_result"
    }
   ],
   "source": [
    "# Normally\n",
    "new_dict = {}\n",
    "for key, value in my_dict.items():\n",
    "    if key.startswith('w'):\n",
    "        new_dict[key] = value + '!'\n",
    "# new_dict\n",
    "# Dictionary Comprehension\n",
    "{key:value + '!' for key,value in my_dict.items() if key.startswith('w')}"
   ]
  },
  {
   "cell_type": "markdown",
   "metadata": {},
   "source": [
    "*zip is a handy way of pairing up two or more iterables*"
   ]
  },
  {
   "cell_type": "code",
   "execution_count": 56,
   "metadata": {},
   "outputs": [
    {
     "data": {
      "text/plain": [
       "{0: 'apple', 1: 'banana', 2: 'cherry', 3: 'peach', 4: 'mango'}"
      ]
     },
     "execution_count": 56,
     "metadata": {},
     "output_type": "execute_result"
    }
   ],
   "source": [
    "dict(zip(range(5), ['apple','banana','cherry','peach','mango']))"
   ]
  },
  {
   "cell_type": "code",
   "execution_count": 61,
   "metadata": {},
   "outputs": [
    {
     "data": {
      "text/plain": [
       "{'model1': 0.858, 'model2': 0.873, 'model3': 0.868}"
      ]
     },
     "execution_count": 61,
     "metadata": {},
     "output_type": "execute_result"
    }
   ],
   "source": [
    "scores = [0.858, 0.873, 0.868]\n",
    "{'model' + str(score+1): scores[score] for score in range(3)}"
   ]
  },
  {
   "cell_type": "markdown",
   "metadata": {},
   "source": [
    "**Exercise (Dictionary Comprehension)**"
   ]
  },
  {
   "cell_type": "markdown",
   "metadata": {},
   "source": [
    "1. Use a dictionary comprehension to pair up the countries in the first list with their corresponding capitals in the second list"
   ]
  },
  {
   "cell_type": "code",
   "execution_count": 88,
   "metadata": {},
   "outputs": [
    {
     "data": {
      "text/plain": [
       "{'USA': 'Washington DC',\n",
       " 'France': 'Paris',\n",
       " 'Canada': 'Ottawa',\n",
       " 'Thailand': 'Bangkok'}"
      ]
     },
     "execution_count": 88,
     "metadata": {},
     "output_type": "execute_result"
    }
   ],
   "source": [
    "countries = ['USA', 'France', 'Canada', 'Thailand']\n",
    "capitals = ['Washington DC', 'Paris', 'Ottawa', 'Bangkok']\n",
    "dict(zip(countries, capitals))\n",
    "# OR\n",
    "{country:capital for country,capital in zip (countries,capitals)}"
   ]
  },
  {
   "cell_type": "markdown",
   "metadata": {},
   "source": [
    "2. Use a dictionary comprehension to make each of thecharacters in the following list a key with the value 'fictional character'"
   ]
  },
  {
   "cell_type": "code",
   "execution_count": 89,
   "metadata": {},
   "outputs": [
    {
     "data": {
      "text/plain": [
       "{'Pinocchio': 'Fictional character',\n",
       " 'Gilgamesh': 'Fictional character',\n",
       " ' Kumar Patel': 'Fictional character',\n",
       " 'Toby Flenderson': 'Fictional character'}"
      ]
     },
     "execution_count": 89,
     "metadata": {},
     "output_type": "execute_result"
    }
   ],
   "source": [
    "chars = ['Pinocchio', 'Gilgamesh',' Kumar Patel', 'Toby Flenderson']\n",
    "{char: 'Fictional character' for char in chars}"
   ]
  },
  {
   "cell_type": "markdown",
   "metadata": {},
   "source": [
    "## Nested Comprehension"
   ]
  },
  {
   "cell_type": "code",
   "execution_count": 90,
   "metadata": {},
   "outputs": [],
   "source": [
    "lists = [['morning', 'afternoon', 'night'],['read', 'code', 'sleep']]"
   ]
  },
  {
   "cell_type": "code",
   "execution_count": 93,
   "metadata": {},
   "outputs": [
    {
     "data": {
      "text/plain": [
       "[['m', 'a', 'n'], ['r', 'c', 's']]"
      ]
     },
     "execution_count": 93,
     "metadata": {},
     "output_type": "execute_result"
    }
   ],
   "source": [
    "[[item[0] for item in small_list] for small_list in lists]\n",
    "# inner for loop first then outer for loop"
   ]
  },
  {
   "cell_type": "markdown",
   "metadata": {},
   "source": [
    "**Exercise**\n"
   ]
  },
  {
   "cell_type": "markdown",
   "metadata": {},
   "source": [
    "1. From the dictionary below, extract \"I am a Bunny\""
   ]
  },
  {
   "cell_type": "code",
   "execution_count": 97,
   "metadata": {},
   "outputs": [],
   "source": [
    "customers = {\n",
    "    'bill': {'purchases': {\n",
    "                'movies': ['Terminator', 'Elf'],\n",
    "                'books': []},\n",
    "            'id': 1},\n",
    "    'dolph': {\n",
    "        'purchases': {\n",
    "            'movies': ['It Happened One Night'],\n",
    "            'books': ['The Far Side Gallery']},\n",
    "        'id': 2},\n",
    "    'pat': {'purchases': {\n",
    "                'movies': [],\n",
    "                'books': ['Seinfeld and Philosophy', 'I Am a Bunny']},\n",
    "            'id': 3}\n",
    "}"
   ]
  },
  {
   "cell_type": "code",
   "execution_count": 98,
   "metadata": {},
   "outputs": [
    {
     "data": {
      "text/plain": [
       "'I Am a Bunny'"
      ]
     },
     "execution_count": 98,
     "metadata": {},
     "output_type": "execute_result"
    }
   ],
   "source": [
    "customers['pat']['purchases']['books'][1]"
   ]
  },
  {
   "cell_type": "markdown",
   "metadata": {},
   "source": [
    "2. From the list below, make a list of dictionaries where the key is the person's name and the value is the person's home phone number"
   ]
  },
  {
   "cell_type": "code",
   "execution_count": 127,
   "metadata": {},
   "outputs": [
    {
     "data": {
      "text/plain": [
       "[{'name': 'greg', 'nums': {'home': 1234567, 'work': 7654321}},\n",
       " {'name': 'max', 'nums': {'home': 9876543, 'work': 1010001}},\n",
       " {'name': 'erin', 'nums': {'home': 3333333, 'work': 4444444}},\n",
       " {'name': 'joél', 'nums': {'home': 2222222, 'work': 5555555}},\n",
       " {'name': 'sean', 'nums': {'home': 9999999, 'work': 8888888}}]"
      ]
     },
     "execution_count": 127,
     "metadata": {},
     "output_type": "execute_result"
    }
   ],
   "source": [
    "phone_nos = [\n",
    "    {'name': 'greg', 'nums': {'home': 1234567, 'work': 7654321}},\n",
    "    {'name': 'max', 'nums': {'home': 9876543, 'work': 1010001}},\n",
    "    {'name': 'erin', 'nums': {'home': 3333333, 'work': 4444444}},\n",
    "    {'name': 'joél', 'nums': {'home': 2222222, 'work': 5555555}},\n",
    "    {'name': 'sean', 'nums': {'home': 9999999, 'work': 8888888}}\n",
    "]"
   ]
  },
  {
   "cell_type": "code",
   "execution_count": 128,
   "metadata": {},
   "outputs": [
    {
     "data": {
      "text/plain": [
       "{'greg': 1234567,\n",
       " 'max': 9876543,\n",
       " 'erin': 3333333,\n",
       " 'joél': 2222222,\n",
       " 'sean': 9999999}"
      ]
     },
     "execution_count": 128,
     "metadata": {},
     "output_type": "execute_result"
    }
   ],
   "source": [
    "{entry['name']: entry['nums']['home'] for entry in phone_nos}"
   ]
  },
  {
   "cell_type": "markdown",
   "metadata": {},
   "source": [
    "3. From the dictionary below,build a dictionary where the customer's names are the keys and the movies theyv'e bought are the values"
   ]
  },
  {
   "cell_type": "code",
   "execution_count": 129,
   "metadata": {},
   "outputs": [],
   "source": [
    "customers = {\n",
    "    'bill': {'purchases': {\n",
    "                'movies': ['Terminator', 'Elf'],\n",
    "                'books': []},\n",
    "            'id': 1},\n",
    "    'dolph': {\n",
    "        'purchases': {\n",
    "            'movies': ['It Happened One Night'],\n",
    "            'books': ['The Far Side Gallery']},\n",
    "        'id': 2},\n",
    "    'pat': {'purchases': {\n",
    "                'movies': [],\n",
    "                'books': ['Seinfeld and Philosophy', 'I Am a Bunny']},\n",
    "            'id': 3}\n",
    "}\n"
   ]
  },
  {
   "cell_type": "code",
   "execution_count": 144,
   "metadata": {},
   "outputs": [
    {
     "data": {
      "text/plain": [
       "{'bill': ['Terminator', 'Elf'], 'dolph': ['It Happened One Night'], 'pat': []}"
      ]
     },
     "execution_count": 144,
     "metadata": {},
     "output_type": "execute_result"
    }
   ],
   "source": [
    "{name: data['purchases']['movies'] for  name,data in customers.items()}"
   ]
  },
  {
   "cell_type": "markdown",
   "metadata": {},
   "source": [
    "## Functions"
   ]
  },
  {
   "cell_type": "markdown",
   "metadata": {},
   "source": [
    "Try building a function that will automate the task of finding how many times a given number can be evenly divided by two"
   ]
  },
  {
   "cell_type": "code",
   "execution_count": 170,
   "metadata": {},
   "outputs": [
    {
     "name": "stdout",
     "output_type": "stream",
     "text": [
      "What number are you curious about?8\n",
      "The number 8 is divisible only 3 times\n"
     ]
    }
   ],
   "source": [
    "def divisible_by_two(num):\n",
    "    count = 0\n",
    "    while num % 2 == 0:\n",
    "        num /= 2\n",
    "        count += 1\n",
    "    return count\n",
    "\n",
    "number = int(input(\"What number are you curious about?\"))\n",
    "print(f\"The number {number} is divisible only {divisible_by_two(number)} times\")"
   ]
  },
  {
   "cell_type": "markdown",
   "metadata": {},
   "source": [
    "**Default Argument Values**"
   ]
  },
  {
   "cell_type": "code",
   "execution_count": 177,
   "metadata": {},
   "outputs": [
    {
     "name": "stdout",
     "output_type": "stream",
     "text": [
      "Dear John Doe, Welcome to Moringa!\n",
      "Dear Nesphory Mwakale, Welcome to Moringa!\n",
      "Dear Bigman Bazuu, Welcome to Moringa!\n"
     ]
    }
   ],
   "source": [
    "def greeting(fname = \"John\", lname = \"Doe\"):\n",
    "    return f\"Dear {fname} {lname}, Welcome to Moringa!\"\n",
    "\n",
    "#Without parameters\n",
    "print(greeting())\n",
    "#With parameters\n",
    "print(greeting(\"Nesphory\",\"Mwakale\"))\n",
    "print(greeting(\"Bigman\", \"Bazuu\"))"
   ]
  },
  {
   "cell_type": "markdown",
   "metadata": {},
   "source": [
    "**Exercise(Functions)**"
   ]
  },
  {
   "cell_type": "markdown",
   "metadata": {},
   "source": [
    "1. Build a function that will return 2^n for an input n"
   ]
  },
  {
   "cell_type": "code",
   "execution_count": 182,
   "metadata": {},
   "outputs": [
    {
     "data": {
      "text/plain": [
       "256"
      ]
     },
     "execution_count": 182,
     "metadata": {},
     "output_type": "execute_result"
    }
   ],
   "source": [
    "def power(pow):\n",
    "    return 2 ** pow\n",
    "power(8)"
   ]
  },
  {
   "cell_type": "markdown",
   "metadata": {},
   "source": [
    "2. Build a function that will take a list of phone numbers as a string and return the same as integers, removing any parenthesis(), hyphens and spaces"
   ]
  },
  {
   "cell_type": "code",
   "execution_count": 195,
   "metadata": {},
   "outputs": [
    {
     "data": {
      "text/plain": [
       "[708403640, 254708403640, 708403640]"
      ]
     },
     "execution_count": 195,
     "metadata": {},
     "output_type": "execute_result"
    }
   ],
   "source": [
    "phone_nums = (['0708403640', '254-708-403-640', '0 708 403 640'])\n",
    "def num_converter(list_nums):\n",
    "    new_phone_nums = []\n",
    "    for phone_num in list_nums:\n",
    "        phone_num = phone_num.replace('-', '')\n",
    "        phone_num = phone_num.replace(' ', '')\n",
    "        phone_num = int(phone_num)\n",
    "        new_phone_nums.append(phone_num)\n",
    "    return new_phone_nums\n",
    "\n",
    "num_converter(phone_nums)"
   ]
  },
  {
   "cell_type": "markdown",
   "metadata": {},
   "source": [
    "3. Build a function that returns the mode of a list of numbers"
   ]
  },
  {
   "cell_type": "code",
   "execution_count": 204,
   "metadata": {},
   "outputs": [
    {
     "name": "stdout",
     "output_type": "stream",
     "text": [
      "[2]\n"
     ]
    },
    {
     "name": "stderr",
     "output_type": "stream",
     "text": [
      "C:\\Users\\nrmmw\\AppData\\Local\\Temp\\ipykernel_4200\\2024088607.py:3: FutureWarning: Unlike other reduction functions (e.g. `skew`, `kurtosis`), the default behavior of `mode` typically preserves the axis it acts along. In SciPy 1.11.0, this behavior will change: the default value of `keepdims` will become False, the `axis` over which the statistic is taken will be eliminated, and the value None will no longer be accepted. Set `keepdims` to True or False to avoid this warning.\n",
      "  return st.mode(list_num)[0]\n"
     ]
    }
   ],
   "source": [
    "from scipy import stats as st\n",
    "def mode(list_num):\n",
    "    return st.mode(list_num)[0]\n",
    "\n",
    "list1 = [2,3,4,5,6,7,8,9,10,2,4,2,5]\n",
    "print(mode(list1))"
   ]
  }
 ],
 "metadata": {
  "kernelspec": {
   "display_name": "Python (learn-env)",
   "language": "python",
   "name": "learn-env"
  },
  "language_info": {
   "codemirror_mode": {
    "name": "ipython",
    "version": 3
   },
   "file_extension": ".py",
   "mimetype": "text/x-python",
   "name": "python",
   "nbconvert_exporter": "python",
   "pygments_lexer": "ipython3",
   "version": "3.8.5"
  }
 },
 "nbformat": 4,
 "nbformat_minor": 4
}
