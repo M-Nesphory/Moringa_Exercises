{
 "cells": [
  {
   "cell_type": "code",
   "execution_count": 1,
   "id": "cef45d5e",
   "metadata": {},
   "outputs": [
    {
     "name": "stdout",
     "output_type": "stream",
     "text": [
      "What the actual fuck is going on?\n"
     ]
    }
   ],
   "source": [
    "print(\"What the actual fuck is going on?\")"
   ]
  },
  {
   "cell_type": "code",
   "execution_count": 9,
   "id": "8f4ff654",
   "metadata": {},
   "outputs": [
    {
     "name": "stdout",
     "output_type": "stream",
     "text": [
      "Object `lower()` not found.\n"
     ]
    }
   ],
   "source": [
    "# def function_name(x):\n",
    "#     return x.get('url')\n",
    "# lambda x:x.get('url')"
   ]
  },
  {
   "cell_type": "code",
   "execution_count": null,
   "id": "a78dc26a",
   "metadata": {},
   "outputs": [],
   "source": [
    "# def add(x, y):\n",
    "#     return x+y\n",
    "# lambda x,y:x+y"
   ]
  }
 ],
 "metadata": {
  "kernelspec": {
   "display_name": "Python (learn-env)",
   "language": "python",
   "name": "learn-env"
  },
  "language_info": {
   "codemirror_mode": {
    "name": "ipython",
    "version": 3
   },
   "file_extension": ".py",
   "mimetype": "text/x-python",
   "name": "python",
   "nbconvert_exporter": "python",
   "pygments_lexer": "ipython3",
   "version": "3.8.5"
  }
 },
 "nbformat": 4,
 "nbformat_minor": 5
}
