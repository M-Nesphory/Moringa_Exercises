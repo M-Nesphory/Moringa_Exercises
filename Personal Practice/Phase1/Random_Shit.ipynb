{
 "cells": [
  {
   "cell_type": "code",
   "execution_count": 1,
   "id": "cef45d5e",
   "metadata": {},
   "outputs": [
    {
     "name": "stdout",
     "output_type": "stream",
     "text": [
      "What the actual fuck is going on?\n"
     ]
    }
   ],
   "source": [
    "print(\"What the actual fuck is going on?\")"
   ]
  },
  {
   "cell_type": "code",
   "execution_count": 9,
   "id": "8f4ff654",
   "metadata": {},
   "outputs": [
    {
     "name": "stdout",
     "output_type": "stream",
     "text": [
      "Object `lower()` not found.\n"
     ]
    }
   ],
   "source": [
    "# def function_name(x):\n",
    "#     return x.get('url')\n",
    "# lambda x:x.get('url')"
   ]
  },
  {
   "cell_type": "code",
   "execution_count": 1,
   "id": "a78dc26a",
   "metadata": {},
   "outputs": [],
   "source": [
    "# def add(x, y):\n",
    "#     return x+y\n",
    "# lambda x,y:x+y"
   ]
  },
  {
   "cell_type": "markdown",
   "id": "2b28a8d7",
   "metadata": {},
   "source": [
    "DataFrame.rename(mapper=None, index=None, columns=None, axis=0, copy=True, inplace=False, level=None, errors='ignore')"
   ]
  },
  {
   "cell_type": "markdown",
   "id": "87c71dbe",
   "metadata": {},
   "source": [
    "mapper: A dictionary or function to rename labels (used if axis is specified).\n",
    "\n",
    "index: Dictionary or function to rename row index labels.\n",
    "\n",
    "columns: Dictionary or function to rename column labels.\n",
    "\n",
    "axis: Specifies whether to rename index (0 or 'index') or columns (1 or 'columns'). Default is 0.\n",
    "\n",
    "copy: If True (default), returns a new DataFrame; if False, modifies the original (only if inplace=False).\n",
    "\n",
    "inplace: If True, modifies the DataFrame in place and returns None; if False (default), returns\n",
    "level: For MultiIndex, specifies which level to rename.\n",
    "\n",
    "errors: 'ignore' (default) ignores errors if a key is missing; 'raise' raises an error."
   ]
  },
  {
   "cell_type": "markdown",
   "id": "3eb02ee2",
   "metadata": {},
   "source": [
    "# Comprehension"
   ]
  },
  {
   "cell_type": "code",
   "execution_count": 2,
   "id": "ba80034b",
   "metadata": {},
   "outputs": [
    {
     "data": {
      "text/plain": [
       "[78, 94, 15, 109]"
      ]
     },
     "execution_count": 2,
     "metadata": {},
     "output_type": "execute_result"
    }
   ],
   "source": [
    "list1 = [1,5,78,94,3,5,15,8,109]\n",
    "\n",
    "greater_than_10 = []\n",
    "\n",
    "for item in list1:\n",
    "    if item > 10:\n",
    "        greater_than_10.append(item)\n",
    "        \n",
    "greater_than_10"
   ]
  },
  {
   "cell_type": "code",
   "execution_count": 5,
   "id": "78e64eef",
   "metadata": {},
   "outputs": [
    {
     "data": {
      "text/plain": [
       "[1, 5, 78, 94, 3, 5, 15, 8, 109]"
      ]
     },
     "execution_count": 5,
     "metadata": {},
     "output_type": "execute_result"
    }
   ],
   "source": [
    "greater_than_10 = [item for item in list1 if item > 10]\n",
    "greater_than_10"
   ]
  },
  {
   "cell_type": "code",
   "execution_count": 7,
   "id": "879997f9",
   "metadata": {},
   "outputs": [
    {
     "data": {
      "text/plain": [
       "{1: 1, 3: 9, 5: 25, 7: 121, 11: 169, 13: 189, 17: 361}"
      ]
     },
     "execution_count": 7,
     "metadata": {},
     "output_type": "execute_result"
    }
   ],
   "source": [
    "nums = [1,3,5,7,11,13,17,19]\n",
    "squares = [1,9,25,121,169,189,361]\n",
    "squares_zip = list(zip(nums, squares))\n",
    "prime_squares = {key: value for key, value in squares_zip}\n",
    "prime_squares"
   ]
  },
  {
   "cell_type": "code",
   "execution_count": null,
   "id": "e7b96254",
   "metadata": {},
   "outputs": [],
   "source": []
  }
 ],
 "metadata": {
  "kernelspec": {
   "display_name": "Python (learn-env)",
   "language": "python",
   "name": "learn-env"
  },
  "language_info": {
   "codemirror_mode": {
    "name": "ipython",
    "version": 3
   },
   "file_extension": ".py",
   "mimetype": "text/x-python",
   "name": "python",
   "nbconvert_exporter": "python",
   "pygments_lexer": "ipython3",
   "version": "3.8.5"
  }
 },
 "nbformat": 4,
 "nbformat_minor": 5
}
