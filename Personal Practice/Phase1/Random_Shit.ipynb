{
 "cells": [
  {
   "cell_type": "code",
   "execution_count": 1,
   "id": "cef45d5e",
   "metadata": {},
   "outputs": [
    {
     "name": "stdout",
     "output_type": "stream",
     "text": [
      "What the actual fuck is going on?\n"
     ]
    }
   ],
   "source": [
    "print(\"What the actual fuck is going on?\")"
   ]
  },
  {
   "cell_type": "code",
   "execution_count": 9,
   "id": "8f4ff654",
   "metadata": {},
   "outputs": [
    {
     "name": "stdout",
     "output_type": "stream",
     "text": [
      "Object `lower()` not found.\n"
     ]
    }
   ],
   "source": [
    "# def function_name(x):\n",
    "#     return x.get('url')\n",
    "# lambda x:x.get('url')"
   ]
  },
  {
   "cell_type": "code",
   "execution_count": 1,
   "id": "a78dc26a",
   "metadata": {},
   "outputs": [],
   "source": [
    "# def add(x, y):\n",
    "#     return x+y\n",
    "# lambda x,y:x+y"
   ]
  },
  {
   "cell_type": "markdown",
   "id": "2b28a8d7",
   "metadata": {},
   "source": [
    "DataFrame.rename(mapper=None, index=None, columns=None, axis=0, copy=True, inplace=False, level=None, errors='ignore')"
   ]
  },
  {
   "cell_type": "markdown",
   "id": "87c71dbe",
   "metadata": {},
   "source": [
    "mapper: A dictionary or function to rename labels (used if axis is specified).\n",
    "\n",
    "index: Dictionary or function to rename row index labels.\n",
    "\n",
    "columns: Dictionary or function to rename column labels.\n",
    "\n",
    "axis: Specifies whether to rename index (0 or 'index') or columns (1 or 'columns'). Default is 0.\n",
    "\n",
    "copy: If True (default), returns a new DataFrame; if False, modifies the original (only if inplace=False).\n",
    "\n",
    "inplace: If True, modifies the DataFrame in place and returns None; if False (default), returns\n",
    "level: For MultiIndex, specifies which level to rename.\n",
    "\n",
    "errors: 'ignore' (default) ignores errors if a key is missing; 'raise' raises an error."
   ]
  },
  {
   "cell_type": "code",
   "execution_count": null,
   "id": "c6dc54ec",
   "metadata": {},
   "outputs": [],
   "source": []
  }
 ],
 "metadata": {
  "kernelspec": {
   "display_name": "Python (learn-env)",
   "language": "python",
   "name": "learn-env"
  },
  "language_info": {
   "codemirror_mode": {
    "name": "ipython",
    "version": 3
   },
   "file_extension": ".py",
   "mimetype": "text/x-python",
   "name": "python",
   "nbconvert_exporter": "python",
   "pygments_lexer": "ipython3",
   "version": "3.8.5"
  }
 },
 "nbformat": 4,
 "nbformat_minor": 5
}
