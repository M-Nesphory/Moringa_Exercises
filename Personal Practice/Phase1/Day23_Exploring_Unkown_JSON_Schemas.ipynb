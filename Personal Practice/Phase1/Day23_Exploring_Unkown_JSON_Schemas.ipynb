{
 "cells": [
  {
   "cell_type": "markdown",
   "id": "0e894d97",
   "metadata": {},
   "source": [
    "# Exploring and Transforming JSON Schemas\n",
    "\n",
    "Here, we will learn how to navigate through a JSON file whose schema is unkown to us"
   ]
  },
  {
   "cell_type": "code",
   "execution_count": 165,
   "id": "42d98bfa",
   "metadata": {},
   "outputs": [],
   "source": [
    "# Import and load\n",
    "import json\n",
    "with open(r\"C:\\Users\\nrmmw\\Documents\\Flatiron\\dsc-exploring-and-transforming-json-schemas\\output.json\") as f:\n",
    "    data = json.load(f)"
   ]
  },
  {
   "cell_type": "code",
   "execution_count": 166,
   "id": "1c8c5b84",
   "metadata": {},
   "outputs": [
    {
     "data": {
      "text/plain": [
       "dict"
      ]
     },
     "execution_count": 166,
     "metadata": {},
     "output_type": "execute_result"
    }
   ],
   "source": [
    "# Get data type at Level 1\n",
    "type(data)"
   ]
  },
  {
   "cell_type": "code",
   "execution_count": 167,
   "id": "506c1817",
   "metadata": {},
   "outputs": [
    {
     "data": {
      "text/plain": [
       "dict_keys(['albums'])"
      ]
     },
     "execution_count": 167,
     "metadata": {},
     "output_type": "execute_result"
    }
   ],
   "source": [
    "# Exploring Level 2\n",
    "data.keys()"
   ]
  },
  {
   "cell_type": "code",
   "execution_count": 168,
   "id": "27c2301e",
   "metadata": {},
   "outputs": [
    {
     "data": {
      "text/plain": [
       "dict"
      ]
     },
     "execution_count": 168,
     "metadata": {},
     "output_type": "execute_result"
    }
   ],
   "source": [
    "# Data type for Level 2\n",
    "type(data['albums'])"
   ]
  },
  {
   "cell_type": "code",
   "execution_count": 169,
   "id": "90fb6f25",
   "metadata": {},
   "outputs": [
    {
     "data": {
      "text/plain": [
       "dict_keys(['href', 'items', 'limit', 'next', 'offset', 'previous', 'total'])"
      ]
     },
     "execution_count": 169,
     "metadata": {},
     "output_type": "execute_result"
    }
   ],
   "source": [
    "# Exploring Level 3\n",
    "data['albums'].keys()"
   ]
  },
  {
   "cell_type": "code",
   "execution_count": 170,
   "id": "debb8f46",
   "metadata": {},
   "outputs": [
    {
     "name": "stdout",
     "output_type": "stream",
     "text": [
      "href <class 'str'>\n",
      "items <class 'list'>\n",
      "limit <class 'int'>\n",
      "next <class 'str'>\n",
      "offset <class 'int'>\n",
      "previous <class 'NoneType'>\n",
      "total <class 'int'>\n"
     ]
    }
   ],
   "source": [
    "# Getting datatypes for Level 3\n",
    "for key in data['albums'].keys():\n",
    "    print(key, type(data['albums'][key]))"
   ]
  },
  {
   "cell_type": "code",
   "execution_count": 171,
   "id": "f3be9253",
   "metadata": {},
   "outputs": [
    {
     "name": "stdout",
     "output_type": "stream",
     "text": [
      "<class 'list'>\n",
      "2\n"
     ]
    }
   ],
   "source": [
    "# Lets get into the items-list. The others are in their final\n",
    "print(type(data['albums']['items']))\n",
    "print(len(data['albums']['items']))"
   ]
  },
  {
   "cell_type": "code",
   "execution_count": 172,
   "id": "a025401a",
   "metadata": {},
   "outputs": [
    {
     "data": {
      "text/plain": [
       "dict"
      ]
     },
     "execution_count": 172,
     "metadata": {},
     "output_type": "execute_result"
    }
   ],
   "source": [
    "# The list items goes further into a dictionary\n",
    "type(data['albums']['items'][0])"
   ]
  },
  {
   "cell_type": "code",
   "execution_count": 173,
   "id": "085d1c72",
   "metadata": {},
   "outputs": [
    {
     "data": {
      "text/plain": [
       "dict_keys(['album_type', 'artists', 'available_markets', 'external_urls', 'href', 'id', 'images', 'name', 'type', 'uri'])"
      ]
     },
     "execution_count": 173,
     "metadata": {},
     "output_type": "execute_result"
    }
   ],
   "source": [
    "# Keys of the dictionary in the list called items\n",
    "data['albums']['items'][0].keys()"
   ]
  },
  {
   "cell_type": "markdown",
   "id": "1ad55a8d",
   "metadata": {},
   "source": [
    "**Converting JSON to Pandas**"
   ]
  },
  {
   "cell_type": "code",
   "execution_count": 174,
   "id": "9d8e2d14",
   "metadata": {},
   "outputs": [
    {
     "data": {
      "text/html": [
       "<div>\n",
       "<style scoped>\n",
       "    .dataframe tbody tr th:only-of-type {\n",
       "        vertical-align: middle;\n",
       "    }\n",
       "\n",
       "    .dataframe tbody tr th {\n",
       "        vertical-align: top;\n",
       "    }\n",
       "\n",
       "    .dataframe thead th {\n",
       "        text-align: right;\n",
       "    }\n",
       "</style>\n",
       "<table border=\"1\" class=\"dataframe\">\n",
       "  <thead>\n",
       "    <tr style=\"text-align: right;\">\n",
       "      <th></th>\n",
       "      <th>album_type</th>\n",
       "      <th>artists</th>\n",
       "      <th>available_markets</th>\n",
       "      <th>external_urls</th>\n",
       "      <th>href</th>\n",
       "      <th>id</th>\n",
       "      <th>images</th>\n",
       "      <th>name</th>\n",
       "      <th>type</th>\n",
       "      <th>uri</th>\n",
       "    </tr>\n",
       "  </thead>\n",
       "  <tbody>\n",
       "    <tr>\n",
       "      <th>0</th>\n",
       "      <td>single</td>\n",
       "      <td>[{'external_urls': {'spotify': 'https://open.s...</td>\n",
       "      <td>[AD, AR, AT, AU, BE, BG, BO, BR, CA, CH, CL, C...</td>\n",
       "      <td>{'spotify': 'https://open.spotify.com/album/5Z...</td>\n",
       "      <td>https://api.spotify.com/v1/albums/5ZX4m5aVSmWQ...</td>\n",
       "      <td>5ZX4m5aVSmWQ5iHAPQpT71</td>\n",
       "      <td>[{'height': 640, 'url': 'https://i.scdn.co/ima...</td>\n",
       "      <td>Runnin'</td>\n",
       "      <td>album</td>\n",
       "      <td>spotify:album:5ZX4m5aVSmWQ5iHAPQpT71</td>\n",
       "    </tr>\n",
       "    <tr>\n",
       "      <th>1</th>\n",
       "      <td>single</td>\n",
       "      <td>[{'external_urls': {'spotify': 'https://open.s...</td>\n",
       "      <td>[AD, AR, AT, AU, BE, BG, BO, BR, CH, CL, CO, C...</td>\n",
       "      <td>{'spotify': 'https://open.spotify.com/album/0g...</td>\n",
       "      <td>https://api.spotify.com/v1/albums/0geTzdk2Inlq...</td>\n",
       "      <td>0geTzdk2InlqIoB16fW9Nd</td>\n",
       "      <td>[{'height': 640, 'url': 'https://i.scdn.co/ima...</td>\n",
       "      <td>Sneakin’</td>\n",
       "      <td>album</td>\n",
       "      <td>spotify:album:0geTzdk2InlqIoB16fW9Nd</td>\n",
       "    </tr>\n",
       "  </tbody>\n",
       "</table>\n",
       "</div>"
      ],
      "text/plain": [
       "  album_type                                            artists  \\\n",
       "0     single  [{'external_urls': {'spotify': 'https://open.s...   \n",
       "1     single  [{'external_urls': {'spotify': 'https://open.s...   \n",
       "\n",
       "                                   available_markets  \\\n",
       "0  [AD, AR, AT, AU, BE, BG, BO, BR, CA, CH, CL, C...   \n",
       "1  [AD, AR, AT, AU, BE, BG, BO, BR, CH, CL, CO, C...   \n",
       "\n",
       "                                       external_urls  \\\n",
       "0  {'spotify': 'https://open.spotify.com/album/5Z...   \n",
       "1  {'spotify': 'https://open.spotify.com/album/0g...   \n",
       "\n",
       "                                                href                      id  \\\n",
       "0  https://api.spotify.com/v1/albums/5ZX4m5aVSmWQ...  5ZX4m5aVSmWQ5iHAPQpT71   \n",
       "1  https://api.spotify.com/v1/albums/0geTzdk2Inlq...  0geTzdk2InlqIoB16fW9Nd   \n",
       "\n",
       "                                              images      name   type  \\\n",
       "0  [{'height': 640, 'url': 'https://i.scdn.co/ima...   Runnin'  album   \n",
       "1  [{'height': 640, 'url': 'https://i.scdn.co/ima...  Sneakin’  album   \n",
       "\n",
       "                                    uri  \n",
       "0  spotify:album:5ZX4m5aVSmWQ5iHAPQpT71  \n",
       "1  spotify:album:0geTzdk2InlqIoB16fW9Nd  "
      ]
     },
     "execution_count": 174,
     "metadata": {},
     "output_type": "execute_result"
    }
   ],
   "source": [
    "import pandas as pd\n",
    "df = pd.DataFrame(data['albums']['items'])\n",
    "df\n",
    "#This won't help much here as it works better with fairly flat tabular data"
   ]
  },
  {
   "cell_type": "markdown",
   "id": "7a608dac",
   "metadata": {},
   "source": [
    "**Extracting Data**\n",
    "\n",
    "Now that we have some sense of what is in our dataset, we can extract some information that might be useful as part of a larger analysis."
   ]
  },
  {
   "cell_type": "markdown",
   "id": "8abf93c5",
   "metadata": {},
   "source": [
    "#### What are the artist names?"
   ]
  },
  {
   "cell_type": "code",
   "execution_count": 175,
   "id": "732386d7",
   "metadata": {},
   "outputs": [
    {
     "data": {
      "text/plain": [
       "[{'external_urls': {'spotify': 'https://open.spotify.com/artist/2RdwBSPQiwcmiDo9kixcl8'},\n",
       "  'href': 'https://api.spotify.com/v1/artists/2RdwBSPQiwcmiDo9kixcl8',\n",
       "  'id': '2RdwBSPQiwcmiDo9kixcl8',\n",
       "  'name': 'Pharrell Williams',\n",
       "  'type': 'artist',\n",
       "  'uri': 'spotify:artist:2RdwBSPQiwcmiDo9kixcl8'}]"
      ]
     },
     "execution_count": 175,
     "metadata": {},
     "output_type": "execute_result"
    }
   ],
   "source": [
    "#Get artist names:\n",
    "first_album = data['albums']['items'][0]\n",
    "\n",
    "first_album['artists']\n",
    "# This is a list of dictionaries"
   ]
  },
  {
   "cell_type": "code",
   "execution_count": 176,
   "id": "36042f7a",
   "metadata": {},
   "outputs": [
    {
     "data": {
      "text/plain": [
       "['Pharrell Williams']"
      ]
     },
     "execution_count": 176,
     "metadata": {},
     "output_type": "execute_result"
    }
   ],
   "source": [
    "#Let's convert it into a list of strings\n",
    "first_album_artists = [artist['name'] for artist in first_album['artists']]\n",
    "first_album_artists"
   ]
  },
  {
   "cell_type": "code",
   "execution_count": 177,
   "id": "cb9aa93f",
   "metadata": {},
   "outputs": [
    {
     "data": {
      "text/plain": [
       "['Pharrell Williams', 'Drake']"
      ]
     },
     "execution_count": 177,
     "metadata": {},
     "output_type": "execute_result"
    }
   ],
   "source": [
    "# 3 Let us get for all album items\n",
    "artist_names = []\n",
    "album_artists = []\n",
    "for album in data['albums']['items']:\n",
    "    for artist in album[\"artists\"]:\n",
    "        artist_names.append(artist['name'])\n",
    "        \n",
    "artist_names"
   ]
  },
  {
   "cell_type": "code",
   "execution_count": 178,
   "id": "8c9c612d",
   "metadata": {},
   "outputs": [
    {
     "data": {
      "text/plain": [
       "0    [Pharrell Williams]\n",
       "1                [Drake]\n",
       "Name: artists, dtype: object"
      ]
     },
     "execution_count": 178,
     "metadata": {},
     "output_type": "execute_result"
    }
   ],
   "source": [
    "#Using pandas\n",
    "df['artists'].apply(lambda artists: [artist['name'] for artist in artists])"
   ]
  },
  {
   "cell_type": "markdown",
   "id": "571c1373",
   "metadata": {},
   "source": [
    "#### How many available markets are there per album?"
   ]
  },
  {
   "cell_type": "code",
   "execution_count": 179,
   "id": "0fdeef2b",
   "metadata": {},
   "outputs": [
    {
     "data": {
      "text/plain": [
       "0    60\n",
       "1    57\n",
       "Name: available_markets, dtype: int64"
      ]
     },
     "execution_count": 179,
     "metadata": {},
     "output_type": "execute_result"
    }
   ],
   "source": [
    "df['available_markets'].apply(len)"
   ]
  },
  {
   "cell_type": "markdown",
   "id": "537e3ceb",
   "metadata": {},
   "source": [
    "#### What is the medium-sized image associated with each album?\n",
    "\n",
    "Let's use IPython to display the image with 'height' 300 for each album."
   ]
  },
  {
   "cell_type": "code",
   "execution_count": 180,
   "id": "e2592834",
   "metadata": {},
   "outputs": [
    {
     "data": {
      "text/html": [
       "<img src=\"https://i.scdn.co/image/92ae5b0fe64870c09004dd2e745a4fb1bf7de39d\"/>"
      ],
      "text/plain": [
       "<IPython.core.display.Image object>"
      ]
     },
     "metadata": {},
     "output_type": "display_data"
    },
    {
     "data": {
      "text/html": [
       "<img src=\"https://i.scdn.co/image/dff06a3375f6d9b32ecb081eb9a60bbafecb5731\"/>"
      ],
      "text/plain": [
       "<IPython.core.display.Image object>"
      ]
     },
     "metadata": {},
     "output_type": "display_data"
    }
   ],
   "source": [
    "# Using Loops\n",
    "from IPython.display import Image\n",
    "\n",
    "for album in data['albums']['items']:\n",
    "    for image in album['images']:\n",
    "        if image['height'] == 300:\n",
    "            loaded_image = Image(url=image['url'])\n",
    "            display(loaded_image)"
   ]
  },
  {
   "cell_type": "code",
   "execution_count": 181,
   "id": "7e1206c0",
   "metadata": {},
   "outputs": [
    {
     "data": {
      "text/html": [
       "<img src=\"https://i.scdn.co/image/92ae5b0fe64870c09004dd2e745a4fb1bf7de39d\"/>"
      ],
      "text/plain": [
       "<IPython.core.display.Image object>"
      ]
     },
     "metadata": {},
     "output_type": "display_data"
    },
    {
     "data": {
      "text/html": [
       "<img src=\"https://i.scdn.co/image/dff06a3375f6d9b32ecb081eb9a60bbafecb5731\"/>"
      ],
      "text/plain": [
       "<IPython.core.display.Image object>"
      ]
     },
     "metadata": {},
     "output_type": "display_data"
    }
   ],
   "source": [
    "#Using Pandas\n",
    "def extract_medium_images(record):\n",
    "    images = pd.DataFrame(record)\n",
    "    medium_image = images[images[\"height\"] == 300][\"url\"].values[0]\n",
    "    return medium_image\n",
    "    \n",
    "def display_image(record):\n",
    "    loaded_image = Image(url=record)\n",
    "    display(loaded_image)\n",
    "    \n",
    "df[\"images\"].apply(extract_medium_images).apply(display_image);"
   ]
  },
  {
   "cell_type": "markdown",
   "id": "7200a0b8",
   "metadata": {},
   "source": [
    "# Exploring Unknown JSON Schemas Lab"
   ]
  },
  {
   "cell_type": "markdown",
   "id": "97f58b5f",
   "metadata": {},
   "source": [
    "**Your Task: Create a Bar Graph of the Top 10 States with the Highest Asthma Rates for Adults Age 18+**\n",
    "\n",
    "The information you need to create this graph is located in `disease_data.json`. It contains both data and metadata.\n",
    "\n",
    "You are given the following codebook/data dictionary:\n",
    "\n",
    "- The actual data values are associated with the key 'DataValue'\n",
    "- The state names are associated with the key 'LocationDesc'\n",
    "- To filter to the appropriate records, make sure:\n",
    "    - The 'Question' is 'Current asthma prevalence among adults aged >= 18 years'\n",
    "    - The 'StratificationCategoryID1' is 'OVERALL'\n",
    "    - The 'DataValueTypeID' is 'CRDPREV'\n",
    "    - The 'LocationDesc' is not 'United States'\n",
    "    \n",
    "    \n",
    "The provided JSON file contains both data and metadata, and you will need to parse the metadata in order to understand the meanings of the values in the data.\n",
    "\n",
    "No further information about the structure of this file is provided."
   ]
  },
  {
   "cell_type": "code",
   "execution_count": 182,
   "id": "f5d2d127",
   "metadata": {},
   "outputs": [],
   "source": [
    "# Load the data from the file disease_data.json \n",
    "# into a variable data.\n",
    "import json\n",
    "\n",
    "with open(r\"C:\\Users\\nrmmw\\Documents\\Flatiron\\dsc-exploring-and-transforming-json-schemas-lab\\disease_data.json\", \"r\") as f:\n",
    "    data = json.load(f)\n"
   ]
  },
  {
   "cell_type": "code",
   "execution_count": 183,
   "id": "4213ca80",
   "metadata": {},
   "outputs": [
    {
     "data": {
      "text/plain": [
       "dict"
      ]
     },
     "execution_count": 183,
     "metadata": {},
     "output_type": "execute_result"
    }
   ],
   "source": [
    "# What is the overall data type of data?\n",
    "type(data)"
   ]
  },
  {
   "cell_type": "code",
   "execution_count": 184,
   "id": "a0c01198",
   "metadata": {},
   "outputs": [
    {
     "data": {
      "text/plain": [
       "dict_keys(['meta', 'data'])"
      ]
     },
     "execution_count": 184,
     "metadata": {},
     "output_type": "execute_result"
    }
   ],
   "source": [
    "# What are the keys?\n",
    "data.keys()"
   ]
  },
  {
   "cell_type": "code",
   "execution_count": 185,
   "id": "51bf1e47",
   "metadata": {},
   "outputs": [
    {
     "name": "stdout",
     "output_type": "stream",
     "text": [
      "<class 'dict'>\n",
      "<class 'list'>\n"
     ]
    }
   ],
   "source": [
    "# What are the keys for Level 1?\n",
    "print(type(data['meta']))\n",
    "print(type(data['data']))"
   ]
  },
  {
   "cell_type": "code",
   "execution_count": 186,
   "id": "961e5803",
   "metadata": {},
   "outputs": [
    {
     "name": "stdout",
     "output_type": "stream",
     "text": [
      "dict_keys(['view']) \n",
      "\n"
     ]
    }
   ],
   "source": [
    "# Level 2 for data -> meta\n",
    "print(data['meta'].keys(),\"\\n\")"
   ]
  },
  {
   "cell_type": "code",
   "execution_count": 187,
   "id": "4b52c86c",
   "metadata": {},
   "outputs": [
    {
     "name": "stdout",
     "output_type": "stream",
     "text": [
      "<class 'dict'>\n"
     ]
    }
   ],
   "source": [
    "# Level 3 for data - meta - view\n",
    "print(type(data['meta']['view']))"
   ]
  },
  {
   "cell_type": "code",
   "execution_count": 188,
   "id": "bc93bcd0",
   "metadata": {},
   "outputs": [
    {
     "name": "stdout",
     "output_type": "stream",
     "text": [
      "dict_keys(['id', 'name', 'attribution', 'attributionLink', 'averageRating', 'category', 'createdAt', 'description', 'displayType', 'downloadCount', 'hideFromCatalog', 'hideFromDataJson', 'indexUpdatedAt', 'licenseId', 'newBackend', 'numberOfComments', 'oid', 'provenance', 'publicationAppendEnabled', 'publicationDate', 'publicationGroup', 'publicationStage', 'rowClass', 'rowsUpdatedAt', 'rowsUpdatedBy', 'tableId', 'totalTimesRated', 'viewCount', 'viewLastModified', 'viewType', 'columns', 'grants', 'license', 'metadata', 'owner', 'query', 'rights', 'tableAuthor', 'tags', 'flags'])\n"
     ]
    }
   ],
   "source": [
    "# Explore Level 3\n",
    "print(data[\"meta\"]['view'].keys())"
   ]
  },
  {
   "cell_type": "code",
   "execution_count": 189,
   "id": "25889533",
   "metadata": {},
   "outputs": [
    {
     "name": "stdout",
     "output_type": "stream",
     "text": [
      "id <class 'str'>\n",
      "name <class 'str'>\n",
      "attribution <class 'str'>\n",
      "attributionLink <class 'str'>\n",
      "averageRating <class 'int'>\n",
      "category <class 'str'>\n",
      "createdAt <class 'int'>\n",
      "description <class 'str'>\n",
      "displayType <class 'str'>\n",
      "downloadCount <class 'int'>\n",
      "hideFromCatalog <class 'bool'>\n",
      "hideFromDataJson <class 'bool'>\n",
      "indexUpdatedAt <class 'int'>\n",
      "licenseId <class 'str'>\n",
      "newBackend <class 'bool'>\n",
      "numberOfComments <class 'int'>\n",
      "oid <class 'int'>\n",
      "provenance <class 'str'>\n",
      "publicationAppendEnabled <class 'bool'>\n",
      "publicationDate <class 'int'>\n",
      "publicationGroup <class 'int'>\n",
      "publicationStage <class 'str'>\n",
      "rowClass <class 'str'>\n",
      "rowsUpdatedAt <class 'int'>\n",
      "rowsUpdatedBy <class 'str'>\n",
      "tableId <class 'int'>\n",
      "totalTimesRated <class 'int'>\n",
      "viewCount <class 'int'>\n",
      "viewLastModified <class 'int'>\n",
      "viewType <class 'str'>\n",
      "columns <class 'list'>\n",
      "grants <class 'list'>\n",
      "license <class 'dict'>\n",
      "metadata <class 'dict'>\n",
      "owner <class 'dict'>\n",
      "query <class 'dict'>\n",
      "rights <class 'list'>\n",
      "tableAuthor <class 'dict'>\n",
      "tags <class 'list'>\n",
      "flags <class 'list'>\n"
     ]
    }
   ],
   "source": [
    "for key,value in data[\"meta\"]['view'].items():\n",
    "    print(key, type(value))"
   ]
  },
  {
   "cell_type": "code",
   "execution_count": 190,
   "id": "7598f245",
   "metadata": {},
   "outputs": [
    {
     "name": "stdout",
     "output_type": "stream",
     "text": [
      "<class 'list'>\n",
      "60266\n"
     ]
    },
    {
     "data": {
      "text/plain": [
       "[1,\n",
       " 'FF49C41F-CE8D-46C4-9164-653B1227CF6F',\n",
       " 1,\n",
       " 1527194521,\n",
       " '959778',\n",
       " 1527194521,\n",
       " '959778',\n",
       " None,\n",
       " '2016',\n",
       " '2016',\n",
       " 'US',\n",
       " 'United States',\n",
       " 'BRFSS',\n",
       " 'Alcohol',\n",
       " 'Binge drinking prevalence among adults aged >= 18 years',\n",
       " None,\n",
       " '%',\n",
       " 'Crude Prevalence',\n",
       " '16.9',\n",
       " '16.9',\n",
       " '*',\n",
       " '50 States + DC: US Median',\n",
       " '16',\n",
       " '18',\n",
       " 'Overall',\n",
       " 'Overall',\n",
       " None,\n",
       " None,\n",
       " None,\n",
       " None,\n",
       " [None, None, None, None, None],\n",
       " None,\n",
       " '59',\n",
       " 'ALC',\n",
       " 'ALC2_2',\n",
       " 'CRDPREV',\n",
       " 'OVERALL',\n",
       " 'OVR',\n",
       " None,\n",
       " None,\n",
       " None,\n",
       " None]"
      ]
     },
     "execution_count": 190,
     "metadata": {},
     "output_type": "execute_result"
    }
   ],
   "source": [
    "# Explore Level 2 of data - data\n",
    "print(type(data['data']))\n",
    "\n",
    "# Length - 60266 records\n",
    "print(len(data['data']))\n",
    "\n",
    "# First Element\n",
    "data['data'][0]"
   ]
  },
  {
   "cell_type": "markdown",
   "id": "b5e76f86",
   "metadata": {},
   "source": [
    "Time to identify the column names\n",
    "\n",
    "Look through the metadata to find the *names* of the columns, and assign that variable to `column_names`. This should be a list of strings. (If you just get the values associated with the `'columns'` key, you will have a list of dictionaries, not a list of strings.)"
   ]
  },
  {
   "cell_type": "code",
   "execution_count": 191,
   "id": "68cb2245",
   "metadata": {},
   "outputs": [
    {
     "data": {
      "text/plain": [
       "['sid',\n",
       " 'id',\n",
       " 'position',\n",
       " 'created_at',\n",
       " 'created_meta',\n",
       " 'updated_at',\n",
       " 'updated_meta',\n",
       " 'meta',\n",
       " 'YearStart',\n",
       " 'YearEnd',\n",
       " 'LocationAbbr',\n",
       " 'LocationDesc',\n",
       " 'DataSource',\n",
       " 'Topic',\n",
       " 'Question',\n",
       " 'Response',\n",
       " 'DataValueUnit',\n",
       " 'DataValueType',\n",
       " 'DataValue',\n",
       " 'DataValueAlt',\n",
       " 'DataValueFootnoteSymbol',\n",
       " 'DatavalueFootnote',\n",
       " 'LowConfidenceLimit',\n",
       " 'HighConfidenceLimit',\n",
       " 'StratificationCategory1',\n",
       " 'Stratification1',\n",
       " 'StratificationCategory2',\n",
       " 'Stratification2',\n",
       " 'StratificationCategory3',\n",
       " 'Stratification3',\n",
       " 'GeoLocation',\n",
       " 'ResponseID',\n",
       " 'LocationID',\n",
       " 'TopicID',\n",
       " 'QuestionID',\n",
       " 'DataValueTypeID',\n",
       " 'StratificationCategoryID1',\n",
       " 'StratificationID1',\n",
       " 'StratificationCategoryID2',\n",
       " 'StratificationID2',\n",
       " 'StratificationCategoryID3',\n",
       " 'StratificationID3']"
      ]
     },
     "execution_count": 191,
     "metadata": {},
     "output_type": "execute_result"
    }
   ],
   "source": [
    "column_names = [col['name'] for col in data[\"meta\"]['view']['columns']]\n",
    "column_names"
   ]
  },
  {
   "cell_type": "code",
   "execution_count": 192,
   "id": "8e4aebe0",
   "metadata": {},
   "outputs": [],
   "source": [
    "# Run this cell without changes\n",
    "\n",
    "# 42 total columns\n",
    "assert len(column_names) == 42\n",
    "\n",
    "# Each name should be a string, not a dict\n",
    "assert type(column_names[0]) == str and type(column_names[-1]) == str\n",
    "\n",
    "# Check that we have some specific strings\n",
    "assert \"DataValue\" in column_names\n",
    "assert \"LocationDesc\" in column_names\n",
    "assert \"Question\" in column_names\n",
    "assert \"StratificationCategoryID1\" in column_names\n",
    "assert \"DataValueTypeID\" in column_names"
   ]
  },
  {
   "cell_type": "markdown",
   "id": "b0751cdb",
   "metadata": {},
   "source": [
    "## Filter Rows Based on Columns\n",
    "\n",
    "Recall that we only want to include records where:\n",
    "\n",
    "- The 'Question' is 'Current asthma prevalence among adults aged >= 18 years'\n",
    "- The 'StratificationCategoryID1' is 'OVERALL'\n",
    "- The 'DataValueTypeID' is 'CRDPREV'\n",
    "- The 'LocationDesc' is not 'United States'\n",
    "Combining knowledge of the data and metadata, filter out the rows of data that are not relevant."
   ]
  },
  {
   "cell_type": "code",
   "execution_count": 193,
   "id": "367165d3",
   "metadata": {},
   "outputs": [
    {
     "data": {
      "text/html": [
       "<div>\n",
       "<style scoped>\n",
       "    .dataframe tbody tr th:only-of-type {\n",
       "        vertical-align: middle;\n",
       "    }\n",
       "\n",
       "    .dataframe tbody tr th {\n",
       "        vertical-align: top;\n",
       "    }\n",
       "\n",
       "    .dataframe thead th {\n",
       "        text-align: right;\n",
       "    }\n",
       "</style>\n",
       "<table border=\"1\" class=\"dataframe\">\n",
       "  <thead>\n",
       "    <tr style=\"text-align: right;\">\n",
       "      <th></th>\n",
       "      <th>sid</th>\n",
       "      <th>id</th>\n",
       "      <th>position</th>\n",
       "      <th>created_at</th>\n",
       "      <th>created_meta</th>\n",
       "      <th>updated_at</th>\n",
       "      <th>updated_meta</th>\n",
       "      <th>meta</th>\n",
       "      <th>YearStart</th>\n",
       "      <th>YearEnd</th>\n",
       "      <th>LocationAbbr</th>\n",
       "      <th>LocationDesc</th>\n",
       "      <th>DataSource</th>\n",
       "      <th>Topic</th>\n",
       "      <th>Question</th>\n",
       "      <th>Response</th>\n",
       "      <th>DataValueUnit</th>\n",
       "      <th>DataValueType</th>\n",
       "      <th>DataValue</th>\n",
       "      <th>DataValueAlt</th>\n",
       "      <th>DataValueFootnoteSymbol</th>\n",
       "      <th>DatavalueFootnote</th>\n",
       "      <th>LowConfidenceLimit</th>\n",
       "      <th>HighConfidenceLimit</th>\n",
       "      <th>StratificationCategory1</th>\n",
       "      <th>Stratification1</th>\n",
       "      <th>StratificationCategory2</th>\n",
       "      <th>Stratification2</th>\n",
       "      <th>StratificationCategory3</th>\n",
       "      <th>Stratification3</th>\n",
       "      <th>GeoLocation</th>\n",
       "      <th>ResponseID</th>\n",
       "      <th>LocationID</th>\n",
       "      <th>TopicID</th>\n",
       "      <th>QuestionID</th>\n",
       "      <th>DataValueTypeID</th>\n",
       "      <th>StratificationCategoryID1</th>\n",
       "      <th>StratificationID1</th>\n",
       "      <th>StratificationCategoryID2</th>\n",
       "      <th>StratificationID2</th>\n",
       "      <th>StratificationCategoryID3</th>\n",
       "      <th>StratificationID3</th>\n",
       "    </tr>\n",
       "  </thead>\n",
       "  <tbody>\n",
       "    <tr>\n",
       "      <th>0</th>\n",
       "      <td>1</td>\n",
       "      <td>FF49C41F-CE8D-46C4-9164-653B1227CF6F</td>\n",
       "      <td>1</td>\n",
       "      <td>1527194521</td>\n",
       "      <td>959778</td>\n",
       "      <td>1527194521</td>\n",
       "      <td>959778</td>\n",
       "      <td>None</td>\n",
       "      <td>2016</td>\n",
       "      <td>2016</td>\n",
       "      <td>US</td>\n",
       "      <td>United States</td>\n",
       "      <td>BRFSS</td>\n",
       "      <td>Alcohol</td>\n",
       "      <td>Binge drinking prevalence among adults aged &gt;=...</td>\n",
       "      <td>None</td>\n",
       "      <td>%</td>\n",
       "      <td>Crude Prevalence</td>\n",
       "      <td>16.9</td>\n",
       "      <td>16.9</td>\n",
       "      <td>*</td>\n",
       "      <td>50 States + DC: US Median</td>\n",
       "      <td>16</td>\n",
       "      <td>18</td>\n",
       "      <td>Overall</td>\n",
       "      <td>Overall</td>\n",
       "      <td>None</td>\n",
       "      <td>None</td>\n",
       "      <td>None</td>\n",
       "      <td>None</td>\n",
       "      <td>[None, None, None, None, None]</td>\n",
       "      <td>None</td>\n",
       "      <td>59</td>\n",
       "      <td>ALC</td>\n",
       "      <td>ALC2_2</td>\n",
       "      <td>CRDPREV</td>\n",
       "      <td>OVERALL</td>\n",
       "      <td>OVR</td>\n",
       "      <td>None</td>\n",
       "      <td>None</td>\n",
       "      <td>None</td>\n",
       "      <td>None</td>\n",
       "    </tr>\n",
       "    <tr>\n",
       "      <th>1</th>\n",
       "      <td>2</td>\n",
       "      <td>F4468C3D-340A-4CD2-84A3-DF554DFF065E</td>\n",
       "      <td>2</td>\n",
       "      <td>1527194521</td>\n",
       "      <td>959778</td>\n",
       "      <td>1527194521</td>\n",
       "      <td>959778</td>\n",
       "      <td>None</td>\n",
       "      <td>2016</td>\n",
       "      <td>2016</td>\n",
       "      <td>AL</td>\n",
       "      <td>Alabama</td>\n",
       "      <td>BRFSS</td>\n",
       "      <td>Alcohol</td>\n",
       "      <td>Binge drinking prevalence among adults aged &gt;=...</td>\n",
       "      <td>None</td>\n",
       "      <td>%</td>\n",
       "      <td>Crude Prevalence</td>\n",
       "      <td>13</td>\n",
       "      <td>13</td>\n",
       "      <td>None</td>\n",
       "      <td>None</td>\n",
       "      <td>11.9</td>\n",
       "      <td>14.1</td>\n",
       "      <td>Overall</td>\n",
       "      <td>Overall</td>\n",
       "      <td>None</td>\n",
       "      <td>None</td>\n",
       "      <td>None</td>\n",
       "      <td>None</td>\n",
       "      <td>[None, 32.84057112200048, -86.63186076199969, ...</td>\n",
       "      <td>None</td>\n",
       "      <td>01</td>\n",
       "      <td>ALC</td>\n",
       "      <td>ALC2_2</td>\n",
       "      <td>CRDPREV</td>\n",
       "      <td>OVERALL</td>\n",
       "      <td>OVR</td>\n",
       "      <td>None</td>\n",
       "      <td>None</td>\n",
       "      <td>None</td>\n",
       "      <td>None</td>\n",
       "    </tr>\n",
       "    <tr>\n",
       "      <th>2</th>\n",
       "      <td>3</td>\n",
       "      <td>65609156-A343-4869-B03F-2BA62E96AC19</td>\n",
       "      <td>3</td>\n",
       "      <td>1527194521</td>\n",
       "      <td>959778</td>\n",
       "      <td>1527194521</td>\n",
       "      <td>959778</td>\n",
       "      <td>None</td>\n",
       "      <td>2016</td>\n",
       "      <td>2016</td>\n",
       "      <td>AK</td>\n",
       "      <td>Alaska</td>\n",
       "      <td>BRFSS</td>\n",
       "      <td>Alcohol</td>\n",
       "      <td>Binge drinking prevalence among adults aged &gt;=...</td>\n",
       "      <td>None</td>\n",
       "      <td>%</td>\n",
       "      <td>Crude Prevalence</td>\n",
       "      <td>18.2</td>\n",
       "      <td>18.2</td>\n",
       "      <td>None</td>\n",
       "      <td>None</td>\n",
       "      <td>16</td>\n",
       "      <td>20.6</td>\n",
       "      <td>Overall</td>\n",
       "      <td>Overall</td>\n",
       "      <td>None</td>\n",
       "      <td>None</td>\n",
       "      <td>None</td>\n",
       "      <td>None</td>\n",
       "      <td>[None, 64.84507995700051, -147.72205903599973,...</td>\n",
       "      <td>None</td>\n",
       "      <td>02</td>\n",
       "      <td>ALC</td>\n",
       "      <td>ALC2_2</td>\n",
       "      <td>CRDPREV</td>\n",
       "      <td>OVERALL</td>\n",
       "      <td>OVR</td>\n",
       "      <td>None</td>\n",
       "      <td>None</td>\n",
       "      <td>None</td>\n",
       "      <td>None</td>\n",
       "    </tr>\n",
       "    <tr>\n",
       "      <th>3</th>\n",
       "      <td>4</td>\n",
       "      <td>0DB09B00-EFEB-4AC0-9467-A7CBD2B57BF3</td>\n",
       "      <td>4</td>\n",
       "      <td>1527194521</td>\n",
       "      <td>959778</td>\n",
       "      <td>1527194521</td>\n",
       "      <td>959778</td>\n",
       "      <td>None</td>\n",
       "      <td>2016</td>\n",
       "      <td>2016</td>\n",
       "      <td>AZ</td>\n",
       "      <td>Arizona</td>\n",
       "      <td>BRFSS</td>\n",
       "      <td>Alcohol</td>\n",
       "      <td>Binge drinking prevalence among adults aged &gt;=...</td>\n",
       "      <td>None</td>\n",
       "      <td>%</td>\n",
       "      <td>Crude Prevalence</td>\n",
       "      <td>15.6</td>\n",
       "      <td>15.6</td>\n",
       "      <td>None</td>\n",
       "      <td>None</td>\n",
       "      <td>14.3</td>\n",
       "      <td>16.9</td>\n",
       "      <td>Overall</td>\n",
       "      <td>Overall</td>\n",
       "      <td>None</td>\n",
       "      <td>None</td>\n",
       "      <td>None</td>\n",
       "      <td>None</td>\n",
       "      <td>[None, 34.865970280000454, -111.76381127699972...</td>\n",
       "      <td>None</td>\n",
       "      <td>04</td>\n",
       "      <td>ALC</td>\n",
       "      <td>ALC2_2</td>\n",
       "      <td>CRDPREV</td>\n",
       "      <td>OVERALL</td>\n",
       "      <td>OVR</td>\n",
       "      <td>None</td>\n",
       "      <td>None</td>\n",
       "      <td>None</td>\n",
       "      <td>None</td>\n",
       "    </tr>\n",
       "    <tr>\n",
       "      <th>4</th>\n",
       "      <td>5</td>\n",
       "      <td>D98DA5BA-6FD6-40F5-A9B1-ABD45E44967B</td>\n",
       "      <td>5</td>\n",
       "      <td>1527194521</td>\n",
       "      <td>959778</td>\n",
       "      <td>1527194521</td>\n",
       "      <td>959778</td>\n",
       "      <td>None</td>\n",
       "      <td>2016</td>\n",
       "      <td>2016</td>\n",
       "      <td>AR</td>\n",
       "      <td>Arkansas</td>\n",
       "      <td>BRFSS</td>\n",
       "      <td>Alcohol</td>\n",
       "      <td>Binge drinking prevalence among adults aged &gt;=...</td>\n",
       "      <td>None</td>\n",
       "      <td>%</td>\n",
       "      <td>Crude Prevalence</td>\n",
       "      <td>15</td>\n",
       "      <td>15</td>\n",
       "      <td>None</td>\n",
       "      <td>None</td>\n",
       "      <td>13</td>\n",
       "      <td>17.2</td>\n",
       "      <td>Overall</td>\n",
       "      <td>Overall</td>\n",
       "      <td>None</td>\n",
       "      <td>None</td>\n",
       "      <td>None</td>\n",
       "      <td>None</td>\n",
       "      <td>[None, 34.74865012400045, -92.27449074299966, ...</td>\n",
       "      <td>None</td>\n",
       "      <td>05</td>\n",
       "      <td>ALC</td>\n",
       "      <td>ALC2_2</td>\n",
       "      <td>CRDPREV</td>\n",
       "      <td>OVERALL</td>\n",
       "      <td>OVR</td>\n",
       "      <td>None</td>\n",
       "      <td>None</td>\n",
       "      <td>None</td>\n",
       "      <td>None</td>\n",
       "    </tr>\n",
       "  </tbody>\n",
       "</table>\n",
       "</div>"
      ],
      "text/plain": [
       "   sid                                    id  position  created_at  \\\n",
       "0    1  FF49C41F-CE8D-46C4-9164-653B1227CF6F         1  1527194521   \n",
       "1    2  F4468C3D-340A-4CD2-84A3-DF554DFF065E         2  1527194521   \n",
       "2    3  65609156-A343-4869-B03F-2BA62E96AC19         3  1527194521   \n",
       "3    4  0DB09B00-EFEB-4AC0-9467-A7CBD2B57BF3         4  1527194521   \n",
       "4    5  D98DA5BA-6FD6-40F5-A9B1-ABD45E44967B         5  1527194521   \n",
       "\n",
       "  created_meta  updated_at updated_meta  meta YearStart YearEnd LocationAbbr  \\\n",
       "0       959778  1527194521       959778  None      2016    2016           US   \n",
       "1       959778  1527194521       959778  None      2016    2016           AL   \n",
       "2       959778  1527194521       959778  None      2016    2016           AK   \n",
       "3       959778  1527194521       959778  None      2016    2016           AZ   \n",
       "4       959778  1527194521       959778  None      2016    2016           AR   \n",
       "\n",
       "    LocationDesc DataSource    Topic  \\\n",
       "0  United States      BRFSS  Alcohol   \n",
       "1        Alabama      BRFSS  Alcohol   \n",
       "2         Alaska      BRFSS  Alcohol   \n",
       "3        Arizona      BRFSS  Alcohol   \n",
       "4       Arkansas      BRFSS  Alcohol   \n",
       "\n",
       "                                            Question Response DataValueUnit  \\\n",
       "0  Binge drinking prevalence among adults aged >=...     None             %   \n",
       "1  Binge drinking prevalence among adults aged >=...     None             %   \n",
       "2  Binge drinking prevalence among adults aged >=...     None             %   \n",
       "3  Binge drinking prevalence among adults aged >=...     None             %   \n",
       "4  Binge drinking prevalence among adults aged >=...     None             %   \n",
       "\n",
       "      DataValueType DataValue DataValueAlt DataValueFootnoteSymbol  \\\n",
       "0  Crude Prevalence      16.9         16.9                       *   \n",
       "1  Crude Prevalence        13           13                    None   \n",
       "2  Crude Prevalence      18.2         18.2                    None   \n",
       "3  Crude Prevalence      15.6         15.6                    None   \n",
       "4  Crude Prevalence        15           15                    None   \n",
       "\n",
       "           DatavalueFootnote LowConfidenceLimit HighConfidenceLimit  \\\n",
       "0  50 States + DC: US Median                 16                  18   \n",
       "1                       None               11.9                14.1   \n",
       "2                       None                 16                20.6   \n",
       "3                       None               14.3                16.9   \n",
       "4                       None                 13                17.2   \n",
       "\n",
       "  StratificationCategory1 Stratification1 StratificationCategory2  \\\n",
       "0                 Overall         Overall                    None   \n",
       "1                 Overall         Overall                    None   \n",
       "2                 Overall         Overall                    None   \n",
       "3                 Overall         Overall                    None   \n",
       "4                 Overall         Overall                    None   \n",
       "\n",
       "  Stratification2 StratificationCategory3 Stratification3  \\\n",
       "0            None                    None            None   \n",
       "1            None                    None            None   \n",
       "2            None                    None            None   \n",
       "3            None                    None            None   \n",
       "4            None                    None            None   \n",
       "\n",
       "                                         GeoLocation ResponseID LocationID  \\\n",
       "0                     [None, None, None, None, None]       None         59   \n",
       "1  [None, 32.84057112200048, -86.63186076199969, ...       None         01   \n",
       "2  [None, 64.84507995700051, -147.72205903599973,...       None         02   \n",
       "3  [None, 34.865970280000454, -111.76381127699972...       None         04   \n",
       "4  [None, 34.74865012400045, -92.27449074299966, ...       None         05   \n",
       "\n",
       "  TopicID QuestionID DataValueTypeID StratificationCategoryID1  \\\n",
       "0     ALC     ALC2_2         CRDPREV                   OVERALL   \n",
       "1     ALC     ALC2_2         CRDPREV                   OVERALL   \n",
       "2     ALC     ALC2_2         CRDPREV                   OVERALL   \n",
       "3     ALC     ALC2_2         CRDPREV                   OVERALL   \n",
       "4     ALC     ALC2_2         CRDPREV                   OVERALL   \n",
       "\n",
       "  StratificationID1 StratificationCategoryID2 StratificationID2  \\\n",
       "0               OVR                      None              None   \n",
       "1               OVR                      None              None   \n",
       "2               OVR                      None              None   \n",
       "3               OVR                      None              None   \n",
       "4               OVR                      None              None   \n",
       "\n",
       "  StratificationCategoryID3 StratificationID3  \n",
       "0                      None              None  \n",
       "1                      None              None  \n",
       "2                      None              None  \n",
       "3                      None              None  \n",
       "4                      None              None  "
      ]
     },
     "execution_count": 193,
     "metadata": {},
     "output_type": "execute_result"
    }
   ],
   "source": [
    "import pandas as pd\n",
    "pd.set_option(\"display.max_columns\", None)\n",
    "df = pd.DataFrame(\n",
    "        data = data['data'],\n",
    "        columns = column_names\n",
    "        )\n",
    "df.head()"
   ]
  },
  {
   "cell_type": "code",
   "execution_count": 194,
   "id": "ab6d2507",
   "metadata": {},
   "outputs": [
    {
     "name": "stdout",
     "output_type": "stream",
     "text": [
      "(870, 42)\n"
     ]
    }
   ],
   "source": [
    "df = df[df['Question'] == 'Current asthma prevalence among adults aged >= 18 years']\n",
    "print(df.shape)"
   ]
  },
  {
   "cell_type": "code",
   "execution_count": 195,
   "id": "8e45df92",
   "metadata": {},
   "outputs": [
    {
     "name": "stdout",
     "output_type": "stream",
     "text": [
      "(110, 42)\n"
     ]
    }
   ],
   "source": [
    "df = df[df['StratificationCategoryID1'] == 'OVERALL']\n",
    "print(df.shape)"
   ]
  },
  {
   "cell_type": "code",
   "execution_count": 196,
   "id": "6fe5bf50",
   "metadata": {},
   "outputs": [
    {
     "name": "stdout",
     "output_type": "stream",
     "text": [
      "(55, 42)\n"
     ]
    }
   ],
   "source": [
    "df = df[df['DataValueTypeID'] == 'CRDPREV']\n",
    "print(df.shape)"
   ]
  },
  {
   "cell_type": "code",
   "execution_count": 197,
   "id": "7b0c2d27",
   "metadata": {},
   "outputs": [
    {
     "name": "stdout",
     "output_type": "stream",
     "text": [
      "(54, 42)\n"
     ]
    }
   ],
   "source": [
    "df = df[df['LocationDesc'] != 'United States']\n",
    "print(df.shape)"
   ]
  },
  {
   "cell_type": "markdown",
   "id": "418fe29b",
   "metadata": {},
   "source": [
    "**Extract the Attributes Required for Plotting**\n",
    "\n",
    "For each record, the only information we actually need for the graph is the `DataValue` and `LocationDesc`. Create a list of records that only contains these two attributes.\n",
    "\n",
    "Also, make sure that the data values are numbers, not strings."
   ]
  },
  {
   "cell_type": "code",
   "execution_count": 198,
   "id": "00d1e176",
   "metadata": {},
   "outputs": [
    {
     "data": {
      "text/html": [
       "<div>\n",
       "<style scoped>\n",
       "    .dataframe tbody tr th:only-of-type {\n",
       "        vertical-align: middle;\n",
       "    }\n",
       "\n",
       "    .dataframe tbody tr th {\n",
       "        vertical-align: top;\n",
       "    }\n",
       "\n",
       "    .dataframe thead th {\n",
       "        text-align: right;\n",
       "    }\n",
       "</style>\n",
       "<table border=\"1\" class=\"dataframe\">\n",
       "  <thead>\n",
       "    <tr style=\"text-align: right;\">\n",
       "      <th></th>\n",
       "      <th>DataValue</th>\n",
       "      <th>LocationDesc</th>\n",
       "    </tr>\n",
       "  </thead>\n",
       "  <tbody>\n",
       "    <tr>\n",
       "      <th>9371</th>\n",
       "      <td>9.7</td>\n",
       "      <td>Alabama</td>\n",
       "    </tr>\n",
       "    <tr>\n",
       "      <th>9372</th>\n",
       "      <td>8.8</td>\n",
       "      <td>Alaska</td>\n",
       "    </tr>\n",
       "    <tr>\n",
       "      <th>9373</th>\n",
       "      <td>9.4</td>\n",
       "      <td>Arizona</td>\n",
       "    </tr>\n",
       "    <tr>\n",
       "      <th>9374</th>\n",
       "      <td>8.5</td>\n",
       "      <td>Arkansas</td>\n",
       "    </tr>\n",
       "    <tr>\n",
       "      <th>9375</th>\n",
       "      <td>7.8</td>\n",
       "      <td>California</td>\n",
       "    </tr>\n",
       "    <tr>\n",
       "      <th>9376</th>\n",
       "      <td>8.8</td>\n",
       "      <td>Colorado</td>\n",
       "    </tr>\n",
       "    <tr>\n",
       "      <th>9377</th>\n",
       "      <td>10.5</td>\n",
       "      <td>Connecticut</td>\n",
       "    </tr>\n",
       "    <tr>\n",
       "      <th>9378</th>\n",
       "      <td>8.5</td>\n",
       "      <td>Delaware</td>\n",
       "    </tr>\n",
       "    <tr>\n",
       "      <th>9379</th>\n",
       "      <td>9.8</td>\n",
       "      <td>District of Columbia</td>\n",
       "    </tr>\n",
       "    <tr>\n",
       "      <th>9380</th>\n",
       "      <td>6.7</td>\n",
       "      <td>Florida</td>\n",
       "    </tr>\n",
       "    <tr>\n",
       "      <th>9381</th>\n",
       "      <td>8.5</td>\n",
       "      <td>Georgia</td>\n",
       "    </tr>\n",
       "    <tr>\n",
       "      <th>9382</th>\n",
       "      <td>10.7</td>\n",
       "      <td>Hawaii</td>\n",
       "    </tr>\n",
       "    <tr>\n",
       "      <th>9383</th>\n",
       "      <td>9.3</td>\n",
       "      <td>Idaho</td>\n",
       "    </tr>\n",
       "    <tr>\n",
       "      <th>9384</th>\n",
       "      <td>8.9</td>\n",
       "      <td>Illinois</td>\n",
       "    </tr>\n",
       "    <tr>\n",
       "      <th>9385</th>\n",
       "      <td>10.2</td>\n",
       "      <td>Indiana</td>\n",
       "    </tr>\n",
       "    <tr>\n",
       "      <th>9386</th>\n",
       "      <td>7.8</td>\n",
       "      <td>Iowa</td>\n",
       "    </tr>\n",
       "    <tr>\n",
       "      <th>9387</th>\n",
       "      <td>8.8</td>\n",
       "      <td>Kansas</td>\n",
       "    </tr>\n",
       "    <tr>\n",
       "      <th>9388</th>\n",
       "      <td>11.6</td>\n",
       "      <td>Kentucky</td>\n",
       "    </tr>\n",
       "    <tr>\n",
       "      <th>9389</th>\n",
       "      <td>8.3</td>\n",
       "      <td>Louisiana</td>\n",
       "    </tr>\n",
       "    <tr>\n",
       "      <th>9390</th>\n",
       "      <td>12.2</td>\n",
       "      <td>Maine</td>\n",
       "    </tr>\n",
       "    <tr>\n",
       "      <th>9391</th>\n",
       "      <td>9.4</td>\n",
       "      <td>Maryland</td>\n",
       "    </tr>\n",
       "    <tr>\n",
       "      <th>9392</th>\n",
       "      <td>10.3</td>\n",
       "      <td>Massachusetts</td>\n",
       "    </tr>\n",
       "    <tr>\n",
       "      <th>9393</th>\n",
       "      <td>10.9</td>\n",
       "      <td>Michigan</td>\n",
       "    </tr>\n",
       "    <tr>\n",
       "      <th>9394</th>\n",
       "      <td>7.6</td>\n",
       "      <td>Minnesota</td>\n",
       "    </tr>\n",
       "    <tr>\n",
       "      <th>9395</th>\n",
       "      <td>8</td>\n",
       "      <td>Mississippi</td>\n",
       "    </tr>\n",
       "    <tr>\n",
       "      <th>9396</th>\n",
       "      <td>9.9</td>\n",
       "      <td>Missouri</td>\n",
       "    </tr>\n",
       "    <tr>\n",
       "      <th>9397</th>\n",
       "      <td>8.5</td>\n",
       "      <td>Montana</td>\n",
       "    </tr>\n",
       "    <tr>\n",
       "      <th>9398</th>\n",
       "      <td>8.3</td>\n",
       "      <td>Nebraska</td>\n",
       "    </tr>\n",
       "    <tr>\n",
       "      <th>9399</th>\n",
       "      <td>7.9</td>\n",
       "      <td>Nevada</td>\n",
       "    </tr>\n",
       "    <tr>\n",
       "      <th>9400</th>\n",
       "      <td>11.4</td>\n",
       "      <td>New Hampshire</td>\n",
       "    </tr>\n",
       "    <tr>\n",
       "      <th>9401</th>\n",
       "      <td>8.2</td>\n",
       "      <td>New Jersey</td>\n",
       "    </tr>\n",
       "    <tr>\n",
       "      <th>9402</th>\n",
       "      <td>11.8</td>\n",
       "      <td>New Mexico</td>\n",
       "    </tr>\n",
       "    <tr>\n",
       "      <th>9403</th>\n",
       "      <td>9.5</td>\n",
       "      <td>New York</td>\n",
       "    </tr>\n",
       "    <tr>\n",
       "      <th>9404</th>\n",
       "      <td>8</td>\n",
       "      <td>North Carolina</td>\n",
       "    </tr>\n",
       "    <tr>\n",
       "      <th>9405</th>\n",
       "      <td>9</td>\n",
       "      <td>North Dakota</td>\n",
       "    </tr>\n",
       "    <tr>\n",
       "      <th>9406</th>\n",
       "      <td>9.7</td>\n",
       "      <td>Ohio</td>\n",
       "    </tr>\n",
       "    <tr>\n",
       "      <th>9407</th>\n",
       "      <td>10</td>\n",
       "      <td>Oklahoma</td>\n",
       "    </tr>\n",
       "    <tr>\n",
       "      <th>9408</th>\n",
       "      <td>10.5</td>\n",
       "      <td>Oregon</td>\n",
       "    </tr>\n",
       "    <tr>\n",
       "      <th>9409</th>\n",
       "      <td>10.6</td>\n",
       "      <td>Pennsylvania</td>\n",
       "    </tr>\n",
       "    <tr>\n",
       "      <th>9410</th>\n",
       "      <td>10.7</td>\n",
       "      <td>Rhode Island</td>\n",
       "    </tr>\n",
       "    <tr>\n",
       "      <th>9411</th>\n",
       "      <td>8.8</td>\n",
       "      <td>South Carolina</td>\n",
       "    </tr>\n",
       "    <tr>\n",
       "      <th>9412</th>\n",
       "      <td>6.2</td>\n",
       "      <td>South Dakota</td>\n",
       "    </tr>\n",
       "    <tr>\n",
       "      <th>9413</th>\n",
       "      <td>10.9</td>\n",
       "      <td>Tennessee</td>\n",
       "    </tr>\n",
       "    <tr>\n",
       "      <th>9414</th>\n",
       "      <td>7.6</td>\n",
       "      <td>Texas</td>\n",
       "    </tr>\n",
       "    <tr>\n",
       "      <th>9415</th>\n",
       "      <td>8.2</td>\n",
       "      <td>Utah</td>\n",
       "    </tr>\n",
       "    <tr>\n",
       "      <th>9416</th>\n",
       "      <td>10.2</td>\n",
       "      <td>Vermont</td>\n",
       "    </tr>\n",
       "    <tr>\n",
       "      <th>9417</th>\n",
       "      <td>8.6</td>\n",
       "      <td>Virginia</td>\n",
       "    </tr>\n",
       "    <tr>\n",
       "      <th>9418</th>\n",
       "      <td>9.6</td>\n",
       "      <td>Washington</td>\n",
       "    </tr>\n",
       "    <tr>\n",
       "      <th>9419</th>\n",
       "      <td>11.8</td>\n",
       "      <td>West Virginia</td>\n",
       "    </tr>\n",
       "    <tr>\n",
       "      <th>9420</th>\n",
       "      <td>8.5</td>\n",
       "      <td>Wisconsin</td>\n",
       "    </tr>\n",
       "    <tr>\n",
       "      <th>9421</th>\n",
       "      <td>9.5</td>\n",
       "      <td>Wyoming</td>\n",
       "    </tr>\n",
       "    <tr>\n",
       "      <th>9422</th>\n",
       "      <td>5.1</td>\n",
       "      <td>Guam</td>\n",
       "    </tr>\n",
       "    <tr>\n",
       "      <th>9423</th>\n",
       "      <td>10.7</td>\n",
       "      <td>Puerto Rico</td>\n",
       "    </tr>\n",
       "    <tr>\n",
       "      <th>9424</th>\n",
       "      <td>6.3</td>\n",
       "      <td>Virgin Islands</td>\n",
       "    </tr>\n",
       "  </tbody>\n",
       "</table>\n",
       "</div>"
      ],
      "text/plain": [
       "     DataValue          LocationDesc\n",
       "9371       9.7               Alabama\n",
       "9372       8.8                Alaska\n",
       "9373       9.4               Arizona\n",
       "9374       8.5              Arkansas\n",
       "9375       7.8            California\n",
       "9376       8.8              Colorado\n",
       "9377      10.5           Connecticut\n",
       "9378       8.5              Delaware\n",
       "9379       9.8  District of Columbia\n",
       "9380       6.7               Florida\n",
       "9381       8.5               Georgia\n",
       "9382      10.7                Hawaii\n",
       "9383       9.3                 Idaho\n",
       "9384       8.9              Illinois\n",
       "9385      10.2               Indiana\n",
       "9386       7.8                  Iowa\n",
       "9387       8.8                Kansas\n",
       "9388      11.6              Kentucky\n",
       "9389       8.3             Louisiana\n",
       "9390      12.2                 Maine\n",
       "9391       9.4              Maryland\n",
       "9392      10.3         Massachusetts\n",
       "9393      10.9              Michigan\n",
       "9394       7.6             Minnesota\n",
       "9395         8           Mississippi\n",
       "9396       9.9              Missouri\n",
       "9397       8.5               Montana\n",
       "9398       8.3              Nebraska\n",
       "9399       7.9                Nevada\n",
       "9400      11.4         New Hampshire\n",
       "9401       8.2            New Jersey\n",
       "9402      11.8            New Mexico\n",
       "9403       9.5              New York\n",
       "9404         8        North Carolina\n",
       "9405         9          North Dakota\n",
       "9406       9.7                  Ohio\n",
       "9407        10              Oklahoma\n",
       "9408      10.5                Oregon\n",
       "9409      10.6          Pennsylvania\n",
       "9410      10.7          Rhode Island\n",
       "9411       8.8        South Carolina\n",
       "9412       6.2          South Dakota\n",
       "9413      10.9             Tennessee\n",
       "9414       7.6                 Texas\n",
       "9415       8.2                  Utah\n",
       "9416      10.2               Vermont\n",
       "9417       8.6              Virginia\n",
       "9418       9.6            Washington\n",
       "9419      11.8         West Virginia\n",
       "9420       8.5             Wisconsin\n",
       "9421       9.5               Wyoming\n",
       "9422       5.1                  Guam\n",
       "9423      10.7           Puerto Rico\n",
       "9424       6.3        Virgin Islands"
      ]
     },
     "execution_count": 198,
     "metadata": {},
     "output_type": "execute_result"
    }
   ],
   "source": [
    "df1 = df[['DataValue', 'LocationDesc']]\n",
    "df1"
   ]
  },
  {
   "cell_type": "code",
   "execution_count": 203,
   "id": "c9289010",
   "metadata": {},
   "outputs": [
    {
     "data": {
      "text/plain": [
       "DataValue       float64\n",
       "LocationDesc     object\n",
       "dtype: object"
      ]
     },
     "execution_count": 203,
     "metadata": {},
     "output_type": "execute_result"
    }
   ],
   "source": [
    "#Converting df1['DataValue'] to float\n",
    "df_sorted = df1[['DataValue', 'LocationDesc']].copy()\n",
    "df_sorted['DataValue'] = df_sorted['DataValue'].astype(float)\n",
    "df_sorted.dtypes"
   ]
  },
  {
   "cell_type": "code",
   "execution_count": 208,
   "id": "d0fbfdb5",
   "metadata": {},
   "outputs": [
    {
     "data": {
      "text/html": [
       "<div>\n",
       "<style scoped>\n",
       "    .dataframe tbody tr th:only-of-type {\n",
       "        vertical-align: middle;\n",
       "    }\n",
       "\n",
       "    .dataframe tbody tr th {\n",
       "        vertical-align: top;\n",
       "    }\n",
       "\n",
       "    .dataframe thead th {\n",
       "        text-align: right;\n",
       "    }\n",
       "</style>\n",
       "<table border=\"1\" class=\"dataframe\">\n",
       "  <thead>\n",
       "    <tr style=\"text-align: right;\">\n",
       "      <th></th>\n",
       "      <th>DataValue</th>\n",
       "      <th>LocationDesc</th>\n",
       "    </tr>\n",
       "  </thead>\n",
       "  <tbody>\n",
       "    <tr>\n",
       "      <th>9390</th>\n",
       "      <td>12.2</td>\n",
       "      <td>Maine</td>\n",
       "    </tr>\n",
       "    <tr>\n",
       "      <th>9402</th>\n",
       "      <td>11.8</td>\n",
       "      <td>New Mexico</td>\n",
       "    </tr>\n",
       "    <tr>\n",
       "      <th>9419</th>\n",
       "      <td>11.8</td>\n",
       "      <td>West Virginia</td>\n",
       "    </tr>\n",
       "    <tr>\n",
       "      <th>9388</th>\n",
       "      <td>11.6</td>\n",
       "      <td>Kentucky</td>\n",
       "    </tr>\n",
       "    <tr>\n",
       "      <th>9400</th>\n",
       "      <td>11.4</td>\n",
       "      <td>New Hampshire</td>\n",
       "    </tr>\n",
       "    <tr>\n",
       "      <th>9413</th>\n",
       "      <td>10.9</td>\n",
       "      <td>Tennessee</td>\n",
       "    </tr>\n",
       "    <tr>\n",
       "      <th>9393</th>\n",
       "      <td>10.9</td>\n",
       "      <td>Michigan</td>\n",
       "    </tr>\n",
       "    <tr>\n",
       "      <th>9382</th>\n",
       "      <td>10.7</td>\n",
       "      <td>Hawaii</td>\n",
       "    </tr>\n",
       "    <tr>\n",
       "      <th>9423</th>\n",
       "      <td>10.7</td>\n",
       "      <td>Puerto Rico</td>\n",
       "    </tr>\n",
       "    <tr>\n",
       "      <th>9410</th>\n",
       "      <td>10.7</td>\n",
       "      <td>Rhode Island</td>\n",
       "    </tr>\n",
       "  </tbody>\n",
       "</table>\n",
       "</div>"
      ],
      "text/plain": [
       "      DataValue   LocationDesc\n",
       "9390       12.2          Maine\n",
       "9402       11.8     New Mexico\n",
       "9419       11.8  West Virginia\n",
       "9388       11.6       Kentucky\n",
       "9400       11.4  New Hampshire\n",
       "9413       10.9      Tennessee\n",
       "9393       10.9       Michigan\n",
       "9382       10.7         Hawaii\n",
       "9423       10.7    Puerto Rico\n",
       "9410       10.7   Rhode Island"
      ]
     },
     "execution_count": 208,
     "metadata": {},
     "output_type": "execute_result"
    }
   ],
   "source": [
    "#Sort by DataVlaue and show the top 10 States\n",
    "df1_sorted = df_sorted.sort_values(by = 'DataValue', ascending = False)\n",
    "df2 = df1_sorted.head(10)\n",
    "df2"
   ]
  },
  {
   "cell_type": "code",
   "execution_count": 209,
   "id": "a97cdb4e",
   "metadata": {},
   "outputs": [
    {
     "data": {
      "image/png": "[encoded data removed]",
      "text/plain": [
       "<Figure size 640x480 with 1 Axes>"
      ]
     },
     "metadata": {},
     "output_type": "display_data"
    }
   ],
   "source": [
    "# Run this cell without changes\n",
    "names = df2['LocationDesc']\n",
    "values = df2['DataValue']\n",
    "import matplotlib.pyplot as plt\n",
    "fig, ax = plt.subplots()\n",
    "\n",
    "ax.barh(names[::-1], values[::-1]) # Values inverted so highest is at top\n",
    "ax.set_title('Adult Asthma Rates by State in 2016')\n",
    "ax.set_xlabel('Percent 18+ with Asthma');"
   ]
  },
  {
   "cell_type": "code",
   "execution_count": null,
   "id": "467ea8aa",
   "metadata": {},
   "outputs": [],
   "source": []
  }
 ],
 "metadata": {
  "kernelspec": {
   "display_name": "Python (learn-env)",
   "language": "python",
   "name": "learn-env"
  },
  "language_info": {
   "codemirror_mode": {
    "name": "ipython",
    "version": 3
   },
   "file_extension": ".py",
   "mimetype": "text/x-python",
   "name": "python",
   "nbconvert_exporter": "python",
   "pygments_lexer": "ipython3",
   "version": "3.8.5"
  }
 },
 "nbformat": 4,
 "nbformat_minor": 5
}
