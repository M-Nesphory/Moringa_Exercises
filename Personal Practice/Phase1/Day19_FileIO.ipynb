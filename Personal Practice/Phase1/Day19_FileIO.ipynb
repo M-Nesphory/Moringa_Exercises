{
 "cells": [
  {
   "cell_type": "markdown",
   "id": "d5b20468",
   "metadata": {},
   "source": [
    "**First Starting with Text Files**"
   ]
  },
  {
   "cell_type": "code",
   "execution_count": 2,
   "id": "2febecc7",
   "metadata": {},
   "outputs": [],
   "source": [
    "# 1. Locating the File\n",
    "filepath =\"C:/Users/nrmmw/Documents/Flatiron/dsc-file-io/zen_of_python.txt\""
   ]
  },
  {
   "cell_type": "code",
   "execution_count": 3,
   "id": "59dce017",
   "metadata": {},
   "outputs": [],
   "source": [
    "# 2. To open the file, we will use the open() function\n",
    "file_obj = open(filepath)"
   ]
  },
  {
   "cell_type": "code",
   "execution_count": 4,
   "id": "8559e526",
   "metadata": {},
   "outputs": [
    {
     "data": {
      "text/plain": [
       "'The Zen of Python, by Tim Peters\\n'"
      ]
     },
     "execution_count": 4,
     "metadata": {},
     "output_type": "execute_result"
    }
   ],
   "source": [
    "# 3. Reading from the file using readlines()\n",
    "file_contents = file_obj.readlines()\n",
    "# file_contents is now a list\n",
    "file_contents[0] # First Line"
   ]
  },
  {
   "cell_type": "code",
   "execution_count": 5,
   "id": "1e4a4ce5",
   "metadata": {},
   "outputs": [
    {
     "name": "stdout",
     "output_type": "stream",
     "text": [
      "The Zen of Python, by Tim Peters\n",
      "\n",
      "Beautiful is better than ugly.\n",
      "Explicit is better than implicit.\n",
      "Simple is better than complex.\n",
      "Complex is better than complicated.\n",
      "Flat is better than nested.\n",
      "Sparse is better than dense.\n",
      "Readability counts.\n",
      "Special cases aren't special enough to break the rules.\n",
      "Although practicality beats purity.\n",
      "Errors should never pass silently.\n",
      "Unless explicitly silenced.\n",
      "In the face of ambiguity, refuse the temptation to guess.\n",
      "There should be one-- and preferably only one --obvious way to do it.\n",
      "Although that way may not be obvious at first unless you're Dutch.\n",
      "Now is better than never.\n",
      "Although never is often better than *right* now.\n",
      "If the implementation is hard to explain, it's a bad idea.\n",
      "If the implementation is easy to explain, it may be a good idea.\n",
      "Namespaces are one honking great idea -- let's do more of those!\n",
      "\n"
     ]
    }
   ],
   "source": [
    "for line in file_contents:\n",
    "    print(line, end = '')\n",
    "# end = \"\" is used to avoid double spacing after '\\n'"
   ]
  },
  {
   "cell_type": "code",
   "execution_count": 6,
   "id": "1918e6d7",
   "metadata": {},
   "outputs": [],
   "source": [
    "# 4. Closing the file\n",
    "# Disconnecting Python from the file object\n",
    "file_obj.close()\n",
    "\n",
    "# Running any code on the file will result in a ValueError\n",
    "# You can however still analyze its contents"
   ]
  },
  {
   "cell_type": "code",
   "execution_count": 7,
   "id": "c94aece6",
   "metadata": {},
   "outputs": [
    {
     "name": "stdout",
     "output_type": "stream",
     "text": [
      "The phrase appears 7 times in The Zen of Python, by Tim Peters\n",
      "\n"
     ]
    }
   ],
   "source": [
    "# To count how many times the line \"is better than\" was used\n",
    "is_better_than_count = 0\n",
    "for line in file_contents:\n",
    "    if \"is better than\" in line:\n",
    "        is_better_than_count += 1\n",
    "print(f\"The phrase appears {is_better_than_count} times in {file_contents[0]}\")"
   ]
  },
  {
   "cell_type": "markdown",
   "id": "42a0d70f",
   "metadata": {},
   "source": [
    "There is a shortened syntax for opening, reading and closing a file using the *with* keyword.\n",
    "\n",
    "From:\n",
    "\n",
    "file_obj = open(file_path)\n",
    "\n",
    "file_contents = file_obj.readlines()\n",
    "\n",
    "file_obj.close()\n",
    "\n",
    "To:\n",
    "\n",
    "with open(file_path) as file_obj:\n",
    "\n",
    "    file_contents = file_obj.readlines()"
   ]
  },
  {
   "cell_type": "markdown",
   "id": "f9765e91",
   "metadata": {},
   "source": [
    "**Other Reading methods**\n",
    "\n",
    "- file.readlines() reads all of the lines into a list of strings\n",
    "- file.read() reads everything into a single string\n",
    "- file.read(100) reads up to 100 characters and display it in a singe string\n",
    "- file.readline() reads only one line of the file into a string "
   ]
  },
  {
   "cell_type": "code",
   "execution_count": 8,
   "id": "f5820b70",
   "metadata": {},
   "outputs": [
    {
     "data": {
      "text/plain": [
       "'The Zen of Python, by Tim Peters\\n'"
      ]
     },
     "execution_count": 8,
     "metadata": {},
     "output_type": "execute_result"
    }
   ],
   "source": [
    "with open(filepath) as file_obj:\n",
    "    file_contents = file_obj.readline()\n",
    "    # Prints only one line\n",
    "file_contents"
   ]
  },
  {
   "cell_type": "code",
   "execution_count": 9,
   "id": "9b1a2228",
   "metadata": {},
   "outputs": [
    {
     "data": {
      "text/plain": [
       "\"The Zen of Python, by Tim Peters\\n\\nBeautiful is better than ugly.\\nExplicit is better than implicit.\\nSimple is better than complex.\\nComplex is better than complicated.\\nFlat is better than nested.\\nSparse is better than dense.\\nReadability counts.\\nSpecial cases aren't special enough to break the rules.\\nAlthough practicality beats purity.\\nErrors should never pass silently.\\nUnless explicitly silenced.\\nIn the face of ambiguity, refuse the temptation to guess.\\nThere should be one-- and preferably only one --obvious way to do it.\\nAlthough that way may not be obvious at first unless you're Dutch.\\nNow is better than never.\\nAlthough never is often better than *right* now.\\nIf the implementation is hard to explain, it's a bad idea.\\nIf the implementation is easy to explain, it may be a good idea.\\nNamespaces are one honking great idea -- let's do more of those!\\n\\n\""
      ]
     },
     "execution_count": 9,
     "metadata": {},
     "output_type": "execute_result"
    }
   ],
   "source": [
    "with open(filepath) as file_obj:\n",
    "    file_contents = file_obj.read()\n",
    "    # Prints all into a string\n",
    "file_contents"
   ]
  },
  {
   "cell_type": "code",
   "execution_count": 10,
   "id": "1ebebdb9",
   "metadata": {},
   "outputs": [
    {
     "data": {
      "text/plain": [
       "'The Zen of Python, by Tim Peters\\n\\nBeautiful is better than ugly.\\nExplicit is better than implicit.\\nS'"
      ]
     },
     "execution_count": 10,
     "metadata": {},
     "output_type": "execute_result"
    }
   ],
   "source": [
    "with open(filepath) as file_obj:\n",
    "    # Prints 100 character\n",
    "    file_contents = file_obj.read(100)\n",
    "    # Prints first 100 characters\n",
    "file_contents"
   ]
  },
  {
   "cell_type": "code",
   "execution_count": 11,
   "id": "8976b4f1",
   "metadata": {},
   "outputs": [
    {
     "data": {
      "text/plain": [
       "['The Zen of Python, by Tim Peters\\n',\n",
       " '\\n',\n",
       " 'Beautiful is better than ugly.\\n',\n",
       " 'Explicit is better than implicit.\\n',\n",
       " 'Simple is better than complex.\\n',\n",
       " 'Complex is better than complicated.\\n',\n",
       " 'Flat is better than nested.\\n',\n",
       " 'Sparse is better than dense.\\n',\n",
       " 'Readability counts.\\n',\n",
       " \"Special cases aren't special enough to break the rules.\\n\",\n",
       " 'Although practicality beats purity.\\n',\n",
       " 'Errors should never pass silently.\\n',\n",
       " 'Unless explicitly silenced.\\n',\n",
       " 'In the face of ambiguity, refuse the temptation to guess.\\n',\n",
       " 'There should be one-- and preferably only one --obvious way to do it.\\n',\n",
       " \"Although that way may not be obvious at first unless you're Dutch.\\n\",\n",
       " 'Now is better than never.\\n',\n",
       " 'Although never is often better than *right* now.\\n',\n",
       " \"If the implementation is hard to explain, it's a bad idea.\\n\",\n",
       " 'If the implementation is easy to explain, it may be a good idea.\\n',\n",
       " \"Namespaces are one honking great idea -- let's do more of those!\\n\",\n",
       " '\\n']"
      ]
     },
     "execution_count": 11,
     "metadata": {},
     "output_type": "execute_result"
    }
   ],
   "source": [
    "with open(filepath) as file_obj:\n",
    "    file_contents = file_obj.readlines()\n",
    "    # prints everything onto a lit\n",
    "file_contents"
   ]
  },
  {
   "cell_type": "code",
   "execution_count": 12,
   "id": "28c1072d",
   "metadata": {},
   "outputs": [
    {
     "data": {
      "text/plain": [
       "['the zen of python by tim peters\\n',\n",
       " '\\n',\n",
       " 'beautiful is better than ugly\\n',\n",
       " 'explicit is better than implicit\\n',\n",
       " 'simple is better than complex\\n',\n",
       " 'complex is better than complicated\\n',\n",
       " 'flat is better than nested\\n',\n",
       " 'sparse is better than dense\\n',\n",
       " 'readability counts\\n',\n",
       " \"special cases aren't special enough to break the rules\\n\",\n",
       " 'although practicality beats purity\\n',\n",
       " 'errors should never pass silently\\n',\n",
       " 'unless explicitly silenced\\n',\n",
       " 'in the face of ambiguity refuse the temptation to guess\\n',\n",
       " 'there should be one and preferably only one obvious way to do it\\n',\n",
       " \"although that way may not be obvious at first unless you're dutch\\n\",\n",
       " 'now is better than never\\n',\n",
       " 'although never is often better than right now\\n',\n",
       " \"if the implementation is hard to explain it's a bad idea\\n\",\n",
       " 'if the implementation is easy to explain it may be a good idea\\n',\n",
       " \"namespaces are one honking great idea  let's do more of those\\n\",\n",
       " '\\n']"
      ]
     },
     "execution_count": 12,
     "metadata": {},
     "output_type": "execute_result"
    }
   ],
   "source": [
    "import string\n",
    "\n",
    "file_contents_cleaned = []\n",
    "for line in file_contents:\n",
    "    words = line.split() # Splits each word according to whitespaces\n",
    "    cleaned_words = [word.strip(string.punctuation).lower() for word in words] \n",
    "    # strips punctuation from each word and changes to lower case\n",
    "    cleaned_line = \" \".join(cleaned_words) + \"\\n\" # joins each word with a space\n",
    "    file_contents_cleaned.append(cleaned_line) # Appends to new list\n",
    "file_contents_cleaned"
   ]
  },
  {
   "cell_type": "code",
   "execution_count": 13,
   "id": "1026c4df",
   "metadata": {},
   "outputs": [],
   "source": [
    "# Let's say we want to store the above file in another file\n",
    "# To open and write into the file, we use \"w\" to mean write\n",
    "\n",
    "output_file_obj = open(\"C:/Users/nrmmw/Documents/Flatiron/dsc-file-io/zen_of_python_cleaned.txt\", mode = \"w\")\n"
   ]
  },
  {
   "cell_type": "code",
   "execution_count": 14,
   "id": "4b6f7370",
   "metadata": {},
   "outputs": [],
   "source": [
    "# Close the file to write it on disk\n",
    "output_file_obj.close()"
   ]
  },
  {
   "cell_type": "markdown",
   "id": "e90329b4",
   "metadata": {},
   "source": [
    "**Comma Separated Values**\n"
   ]
  },
  {
   "cell_type": "code",
   "execution_count": 20,
   "id": "dc1fccd1",
   "metadata": {},
   "outputs": [
    {
     "name": "stdout",
     "output_type": "stream",
     "text": [
      "City,Bread,Burger,Milk,Oranges,Tomatoes\n",
      "\n",
      "ATLANTA,24.5,94.5,73.9,80.1,41.6\n",
      "\n",
      "BALTIMORE,26.5,91.0,67.5,74.6,53.3\n",
      "\n",
      "BOSTON,29.7,100.8,61.4,104.0,59.6\n",
      "\n"
     ]
    }
   ],
   "source": [
    "# If we read it as txt file, the output would be:\n",
    "\n",
    "# Prints each row as a string\n",
    "with open(\"C:/Users/nrmmw/Documents/Flatiron/dsc-file-io/food_prices.csv\") as f:\n",
    "    print(f.readline())\n",
    "    print(f.readline())\n",
    "    print(f.readline())\n",
    "    print(f.readline())"
   ]
  },
  {
   "cell_type": "code",
   "execution_count": 23,
   "id": "d1a13aca",
   "metadata": {},
   "outputs": [
    {
     "name": "stdout",
     "output_type": "stream",
     "text": [
      "{'City': 'ATLANTA', 'Bread': '24.5', 'Burger': '94.5', 'Milk': '73.9', 'Oranges': '80.1', 'Tomatoes': '41.6'}\n",
      "{'City': 'BALTIMORE', 'Bread': '26.5', 'Burger': '91.0', 'Milk': '67.5', 'Oranges': '74.6', 'Tomatoes': '53.3'}\n"
     ]
    }
   ],
   "source": [
    "# It would be better to use the csv module.\n",
    "import csv\n",
    "\n",
    "# This converts the table into a dictionary respresenting each row\n",
    "with open(\"C:/Users/nrmmw/Documents/Flatiron/dsc-file-io/food_prices.csv\") as f:\n",
    "    reader = csv.DictReader(f)\n",
    "    print(next(reader))\n",
    "    print(next(reader))"
   ]
  },
  {
   "cell_type": "markdown",
   "id": "fccc48b1",
   "metadata": {},
   "source": [
    "**Excel**\n",
    "\n",
    "Excel files are binary encoded as bytes and thus cannot be read as a txt file.\n",
    "\n",
    "We will have to call a library called xlrd"
   ]
  },
  {
   "cell_type": "code",
   "execution_count": 28,
   "id": "41e59be7",
   "metadata": {},
   "outputs": [
    {
     "name": "stdout",
     "output_type": "stream",
     "text": [
      "{'City': 'Solta', 'Country': 'Croatia', 'Population': 1700.0, 'Area': 59.0}\n",
      "{'City': 'Greenville', 'Country': 'USA', 'Population': 84554.0, 'Area': 68.0}\n",
      "{'City': 'Buenos Aires', 'Country': 'Argentina', 'Population': 13591863.0, 'Area': 4758.0}\n"
     ]
    }
   ],
   "source": [
    "import xlrd\n",
    "\n",
    "# Noneed to call open/close on this library\n",
    "book = xlrd.open_workbook(r\"C:\\Users\\nrmmw\\Documents\\Flatiron\\dsc-file-io\\cities.xls\")\n",
    "sheet = book.sheet_by_name(\"Sheet1\")\n",
    "cols = [sheet.cell_value(0, col) for col in range(sheet.ncols)]\n",
    "\n",
    "for row in range(1, 4):\n",
    "    row_dict = {}\n",
    "    for col_index, col_value in enumerate(cols):\n",
    "        row_dict[col_value] = sheet.cell_value(row, col_index)\n",
    "    print(row_dict)"
   ]
  },
  {
   "cell_type": "markdown",
   "id": "04ba433f",
   "metadata": {},
   "source": [
    "**JSON**"
   ]
  },
  {
   "cell_type": "code",
   "execution_count": 29,
   "id": "e8a7fe17",
   "metadata": {},
   "outputs": [
    {
     "data": {
      "text/plain": [
       "{'name': 'Leia Organa',\n",
       " 'height': '150',\n",
       " 'mass': '49',\n",
       " 'hair_color': 'brown',\n",
       " 'skin_color': 'light',\n",
       " 'eye_color': 'brown',\n",
       " 'birth_year': '19BBY',\n",
       " 'gender': 'female',\n",
       " 'homeworld': 'http://swapi.dev/api/planets/2/',\n",
       " 'films': ['http://swapi.dev/api/films/1/',\n",
       "  'http://swapi.dev/api/films/2/',\n",
       "  'http://swapi.dev/api/films/3/',\n",
       "  'http://swapi.dev/api/films/6/'],\n",
       " 'species': [],\n",
       " 'vehicles': ['http://swapi.dev/api/vehicles/30/'],\n",
       " 'starships': [],\n",
       " 'created': '2014-12-10T15:20:09.791000Z',\n",
       " 'edited': '2014-12-20T21:17:50.315000Z',\n",
       " 'url': 'http://swapi.dev/api/people/5/'}"
      ]
     },
     "execution_count": 29,
     "metadata": {},
     "output_type": "execute_result"
    }
   ],
   "source": [
    "import json\n",
    "\n",
    "with open(r\"C:\\Users\\nrmmw\\Documents\\Flatiron\\dsc-file-io\\leia.json\") as f:\n",
    "    leia_data = json.load(f)\n",
    "leia_data"
   ]
  },
  {
   "cell_type": "markdown",
   "id": "32715027",
   "metadata": {},
   "source": [
    "**XML**"
   ]
  },
  {
   "cell_type": "code",
   "execution_count": 31,
   "id": "e75f0889",
   "metadata": {},
   "outputs": [
    {
     "name": "stdout",
     "output_type": "stream",
     "text": [
      "Tree: <xml.etree.ElementTree.ElementTree object at 0x000002791C696340>\n",
      "Root: <Element 'person' at 0x000002791C6B77C0>\n",
      "Child nodes:\n",
      "name | Leia Organa\n",
      "height | 150\n",
      "mass | 49\n",
      "hair_color | brown\n",
      "skin_color | light\n",
      "eye_color | brown\n",
      "birth_year | 19BBY\n",
      "gender | female\n",
      "homeworld | http://swapi.dev/api/planets/2/\n",
      "films | [ <Element 'film' at 0x000002791C669680> ... ]\n",
      "vehicles | [ <Element 'vehicle' at 0x000002791C66EEF0> ... ]\n",
      "created | 2014-12-10T15:20:09.791000Z\n",
      "edited | 2014-12-20T21:17:50.315000Z\n",
      "url | http://swapi.dev/api/people/5/\n"
     ]
    }
   ],
   "source": [
    "import xml.etree.ElementTree as ET\n",
    "\n",
    "tree = ET.parse(R\"C:\\Users\\nrmmw\\Documents\\Flatiron\\dsc-file-io\\leia.xml\")\n",
    "root = tree.getroot()\n",
    "print(\"Tree:\", tree)\n",
    "print(\"Root:\", root)\n",
    "print(\"Child nodes:\")\n",
    "\n",
    "for child in root:\n",
    "    if len(list(child)) > 0:\n",
    "        print(child.tag, \"| [\", child[0], \"... ]\")\n",
    "    elif child.text:\n",
    "        print(child.tag, \"|\", child.text)"
   ]
  }
 ],
 "metadata": {
  "kernelspec": {
   "display_name": "Python (learn-env)",
   "language": "python",
   "name": "learn-env"
  },
  "language_info": {
   "codemirror_mode": {
    "name": "ipython",
    "version": 3
   },
   "file_extension": ".py",
   "mimetype": "text/x-python",
   "name": "python",
   "nbconvert_exporter": "python",
   "pygments_lexer": "ipython3",
   "version": "3.8.5"
  }
 },
 "nbformat": 4,
 "nbformat_minor": 5
}
