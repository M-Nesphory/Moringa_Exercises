{
 "cells": [
  {
   "cell_type": "markdown",
   "id": "e987149c-9648-4a83-a134-798514404c85",
   "metadata": {},
   "source": [
    "A function is a piece of reusable code. E.g print(), capitalize().\n",
    "\n",
    "An object is a collection of data and functions.\n",
    "\n",
    "Methods are functions that are bound to an object\n",
    "\n",
    "A variable is a reference to the object and not the object itself\n",
    "\n",
    "Functions are used by writing their name first e.g. print(\"Hello\"). Methods require you take an object and call a method on the object e.g. hello.upper(). Functions are not bound to any data type. They can be called by themselves but they typically require an argument.\n",
    "\n",
    "If you want to see all the built-in methods and functions for a data type, call Python's **dir()** function with a data type in question"
   ]
  },
  {
   "cell_type": "code",
   "execution_count": 1,
   "id": "c19d0f38-38e7-433c-8807-5e7c6a10bab1",
   "metadata": {},
   "outputs": [
    {
     "data": {
      "text/plain": [
       "['__add__',\n",
       " '__class__',\n",
       " '__class_getitem__',\n",
       " '__contains__',\n",
       " '__delattr__',\n",
       " '__delitem__',\n",
       " '__dir__',\n",
       " '__doc__',\n",
       " '__eq__',\n",
       " '__format__',\n",
       " '__ge__',\n",
       " '__getattribute__',\n",
       " '__getitem__',\n",
       " '__getstate__',\n",
       " '__gt__',\n",
       " '__hash__',\n",
       " '__iadd__',\n",
       " '__imul__',\n",
       " '__init__',\n",
       " '__init_subclass__',\n",
       " '__iter__',\n",
       " '__le__',\n",
       " '__len__',\n",
       " '__lt__',\n",
       " '__mul__',\n",
       " '__ne__',\n",
       " '__new__',\n",
       " '__reduce__',\n",
       " '__reduce_ex__',\n",
       " '__repr__',\n",
       " '__reversed__',\n",
       " '__rmul__',\n",
       " '__setattr__',\n",
       " '__setitem__',\n",
       " '__sizeof__',\n",
       " '__str__',\n",
       " '__subclasshook__',\n",
       " 'append',\n",
       " 'clear',\n",
       " 'copy',\n",
       " 'count',\n",
       " 'extend',\n",
       " 'index',\n",
       " 'insert',\n",
       " 'pop',\n",
       " 'remove',\n",
       " 'reverse',\n",
       " 'sort']"
      ]
     },
     "execution_count": 1,
     "metadata": {},
     "output_type": "execute_result"
    }
   ],
   "source": [
    "dir(list)"
   ]
  },
  {
   "cell_type": "markdown",
   "id": "69d24684-c452-4232-8449-73cf9561cc53",
   "metadata": {},
   "source": [
    "**Other Functions**\n",
    "\n",
    "sum() - Returns the sum of all numbers in a list\n",
    "\n",
    "max() - Returns the largest value (str/num) in a list\n",
    "\n",
    "min() - Returns the smallest value (str/num) in a list"
   ]
  },
  {
   "cell_type": "markdown",
   "id": "84712c72-44cb-4405-89a0-396c7f1a3f33",
   "metadata": {},
   "source": [
    "**Python Operators**\n",
    "\n",
    "**Comparison Operators**\n",
    "\n",
    "Used to compare two things/elements\n",
    "\n",
    "== - tests equality between two elements\n",
    "!= - tests inequality between two elements\n",
    "<,>,<=,>= tests the size between two elements\n",
    "\n",
    "All return either True or False.\n",
    "\n",
    "The above also works on strings. Note that capital letters have lower ASCII values. When making comparisons, uppercase letters will always be less than lowercase. **A** has the lowest ASCII while **z** has the highest\n",
    "\n",
    "**Logical Operators**\n",
    "\n",
    "**And** - BOTH have to be True for it to return True/True value. Otherwise, False/False value.\n",
    "\n",
    "**Or** - If ANY is True, True/True value is returned. If both are False, False/False is returned.\n",
    "\n",
    "**Not** - Returns the opposite of whatever the value was. If it were True, NOT makes it False. If it were False, NOT makes it True.\n",
    "\n",
    "**Identity Operators**\n",
    "\n",
    "**is** and **is not**\n",
    "\n",
    "Similar to **==** and **!=** but **is** and **is not** check to see if the elements are the same element, while **==** and **!=** check whether the value of each element is the same.\n",
    "\n",
    "**is** and **is not** check to see if the address of the object is the same as another object.\n",
    "\n",
    "*What the fuck is this honestly? I hope I NEVER use this*\n",
    "\n",
    "And then there are Ternary Operators. Honestly, just forget about it. It has an if statement though."
   ]
  },
  {
   "cell_type": "markdown",
   "id": "fc68ee2a-3545-4a7d-b550-25aa8b9aab01",
   "metadata": {},
   "source": [
    "**Lab to the above**"
   ]
  },
  {
   "cell_type": "code",
   "execution_count": 4,
   "id": "6cecc746-e4a0-462a-94ce-89d35440f36e",
   "metadata": {},
   "outputs": [
    {
     "data": {
      "text/plain": [
       "'HELLO, THERE'"
      ]
     },
     "execution_count": 4,
     "metadata": {},
     "output_type": "execute_result"
    }
   ],
   "source": [
    "# Desired output: \"HELLO, THERE\"\n",
    "yell_hello = \"hello, there\"\n",
    "yell_hello.upper()"
   ]
  },
  {
   "cell_type": "code",
   "execution_count": 5,
   "id": "0721616a-ccfc-46f9-adaf-d07d3d5c7657",
   "metadata": {},
   "outputs": [
    {
     "data": {
      "text/plain": [
       "'psst, hey'"
      ]
     },
     "execution_count": 5,
     "metadata": {},
     "output_type": "execute_result"
    }
   ],
   "source": [
    "# Desired output: \"psst, hey\"\n",
    "whisper_hey = \"PSST, HEY\"\n",
    "whisper_hey.lower()"
   ]
  },
  {
   "cell_type": "code",
   "execution_count": 7,
   "id": "08957257-b3e4-466e-985f-d817ef235919",
   "metadata": {},
   "outputs": [
    {
     "data": {
      "text/plain": [
       "'Learn. Love. Code.'"
      ]
     },
     "execution_count": 7,
     "metadata": {},
     "output_type": "execute_result"
    }
   ],
   "source": [
    "# Desired output: \"Learn. Love. Code\"\n",
    "flatiron_mantra = \"LEARN. LOVE. CODE.\"\n",
    "flatiron_mantra.title()"
   ]
  },
  {
   "cell_type": "code",
   "execution_count": 8,
   "id": "8d435b6b-2c8f-4dad-a957-8f8869d4b3e9",
   "metadata": {},
   "outputs": [
    {
     "data": {
      "text/plain": [
       "str"
      ]
     },
     "execution_count": 8,
     "metadata": {},
     "output_type": "execute_result"
    }
   ],
   "source": [
    "# Desired output: str\n",
    "type_string = \"i'm a string\"\n",
    "type(type_string)"
   ]
  },
  {
   "cell_type": "code",
   "execution_count": 9,
   "id": "604d17b7-9bc9-4f87-8db5-884a51ed6528",
   "metadata": {},
   "outputs": [
    {
     "data": {
      "text/plain": [
       "list"
      ]
     },
     "execution_count": 9,
     "metadata": {},
     "output_type": "execute_result"
    }
   ],
   "source": [
    "# Desired output: list\n",
    "type_list = [\"i'm\", \"a\", \"list\"]\n",
    "type(type_list)"
   ]
  },
  {
   "cell_type": "code",
   "execution_count": 10,
   "id": "b7c9b6ce-115b-44d0-88d8-6584aae628e3",
   "metadata": {},
   "outputs": [
    {
     "data": {
      "text/plain": [
       "3"
      ]
     },
     "execution_count": 10,
     "metadata": {},
     "output_type": "execute_result"
    }
   ],
   "source": [
    "# Desired output: 3\n",
    "length_of_list = [\"i'm\", \"a\", \"list\"]\n",
    "len(length_of_list)"
   ]
  },
  {
   "cell_type": "code",
   "execution_count": 11,
   "id": "841fe677-1685-4a6c-ab39-5c51d743858a",
   "metadata": {},
   "outputs": [
    {
     "data": {
      "text/plain": [
       "'list'"
      ]
     },
     "execution_count": 11,
     "metadata": {},
     "output_type": "execute_result"
    }
   ],
   "source": [
    "# Desired output: \"list\"\n",
    "longest_word_in_list = [\"i'm\", \"a\", \"list\"]\n",
    "max(longest_word_in_list)"
   ]
  },
  {
   "cell_type": "code",
   "execution_count": 12,
   "id": "64c3b9a4-2a10-438a-93cd-bd1236a4d7d3",
   "metadata": {},
   "outputs": [
    {
     "data": {
      "text/plain": [
       "1"
      ]
     },
     "execution_count": 12,
     "metadata": {},
     "output_type": "execute_result"
    }
   ],
   "source": [
    "# Desired output: 1\n",
    "smallest_number = [1, 3, 4, 78]\n",
    "min(smallest_number)"
   ]
  },
  {
   "cell_type": "code",
   "execution_count": 13,
   "id": "cea2b6b0-0bfd-43ba-9064-8333def7fdf0",
   "metadata": {},
   "outputs": [
    {
     "data": {
      "text/plain": [
       "11"
      ]
     },
     "execution_count": 13,
     "metadata": {},
     "output_type": "execute_result"
    }
   ],
   "source": [
    "# Desired output: 11\n",
    "sum_of_numbers = [1, 2, 3, 5]\n",
    "sum(sum_of_numbers)"
   ]
  },
  {
   "cell_type": "code",
   "execution_count": null,
   "id": "f3402a6a-4a54-436c-884f-f09312e1ca0d",
   "metadata": {},
   "outputs": [],
   "source": []
  }
 ],
 "metadata": {
  "kernelspec": {
   "display_name": "Python 3 (ipykernel)",
   "language": "python",
   "name": "python3"
  },
  "language_info": {
   "codemirror_mode": {
    "name": "ipython",
    "version": 3
   },
   "file_extension": ".py",
   "mimetype": "text/x-python",
   "name": "python",
   "nbconvert_exporter": "python",
   "pygments_lexer": "ipython3",
   "version": "3.11.7"
  }
 },
 "nbformat": 4,
 "nbformat_minor": 5
}
