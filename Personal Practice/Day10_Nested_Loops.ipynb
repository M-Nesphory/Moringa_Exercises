{
 "cells": [
  {
   "cell_type": "markdown",
   "id": "38b1f3cb-857b-4f13-81e0-7ea6220ea9a7",
   "metadata": {},
   "source": [
    "Nested loops are loops inside another loop\n",
    "In nested loops, the inner loop runs in its entirety every iteration of the outer loop"
   ]
  },
  {
   "cell_type": "code",
   "execution_count": 2,
   "id": "11b5e5fd-5209-40b2-bade-868f5ffb6d0e",
   "metadata": {},
   "outputs": [
    {
     "name": "stdout",
     "output_type": "stream",
     "text": [
      "outer iteration: 1\n",
      "    inner iteration: 1\n",
      "    inner iteration: 2\n",
      "    inner iteration: 3\n",
      "\n",
      "\n",
      "outer iteration: 2\n",
      "    inner iteration: 1\n",
      "    inner iteration: 2\n",
      "    inner iteration: 3\n",
      "\n",
      "\n",
      "outer iteration: 3\n",
      "    inner iteration: 1\n",
      "    inner iteration: 2\n",
      "    inner iteration: 3\n",
      "\n",
      "\n"
     ]
    }
   ],
   "source": [
    "outer = 0\n",
    "inner = 0\n",
    "while outer < 3:\n",
    "    outer += 1\n",
    "    print(\"outer iteration:\", outer)\n",
    "    while inner < 3:\n",
    "        inner += 1\n",
    "        print(\"    inner iteration:\", inner)\n",
    "    inner = 0\n",
    "    print(\"\\n\")"
   ]
  },
  {
   "cell_type": "markdown",
   "id": "e9f5c198-c47c-427a-8583-d700486eb5d0",
   "metadata": {},
   "source": [
    "The outer loop only moves on to the next iteration once it has completed all the iterations in the inner loop."
   ]
  },
  {
   "cell_type": "code",
   "execution_count": 3,
   "id": "5ca21828-b267-4412-b2a3-a1beb0a2db1a",
   "metadata": {},
   "outputs": [],
   "source": [
    "programmers = [{'name': \"rachel\", 'favorite_languages': ['Ruby', 'JavaScript', 'SQL', \"Java\"]},\n",
    "               {'name': \"daniel\", 'favorite_languages': ['JavaScript', 'Elixir', 'Python']},\n",
    "               {'name': \"greg\", 'favorite_languages': ['C#', 'CoffeeScript', 'R']},\n",
    "               {'name': \"meryl\", 'favorite_languages': ['C++', 'PHP', 'Swift']}\n",
    "              ]"
   ]
  },
  {
   "cell_type": "code",
   "execution_count": 11,
   "id": "5931f901-e196-463f-9db0-f6f68528d7d4",
   "metadata": {},
   "outputs": [
    {
     "name": "stdout",
     "output_type": "stream",
     "text": [
      "Ruby\n",
      "JavaScript\n",
      "SQL\n",
      "Java\n",
      "JavaScript\n",
      "Elixir\n",
      "Python\n",
      "C#\n",
      "CoffeeScript\n",
      "R\n",
      "C++\n",
      "PHP\n",
      "Swift\n",
      "Swift\n"
     ]
    }
   ],
   "source": [
    "for programmer in programmers:\n",
    "    for language in programmer['favorite_languages']:\n",
    "        print(language)\n",
    "# We first get into the outer loop and then the inner loop"
   ]
  },
  {
   "cell_type": "markdown",
   "id": "64c0ce05-0668-464c-9620-f2d03ce19ce0",
   "metadata": {},
   "source": [
    "**Quiz**"
   ]
  },
  {
   "cell_type": "markdown",
   "id": "9ecfb557-89da-4961-bd95-0f494f957d15",
   "metadata": {},
   "source": [
    "Use nested loops and the below object, soccer_match, to complete the following prompts and get the desired return values."
   ]
  },
  {
   "cell_type": "code",
   "execution_count": 134,
   "id": "7613ee07-ac1a-423a-93d5-860996d2f1ed",
   "metadata": {},
   "outputs": [],
   "source": [
    "soccer_match = [\n",
    "  { \"home_team\": True,\n",
    "    \"away_team\": False,\n",
    "    \"country\": \"France\",\n",
    "    \"num_passes\": 484,\n",
    "    \"passes_completed\": 423,\n",
    "    \"fouls_committed\": 16,\n",
    "    \"colors\": [\"blue\", \"white\", \"red\"],\n",
    "    \"players\": [\n",
    "      {\n",
    "        \"name\": \"Hugo LLORIS\",\n",
    "        \"captain\": True,\n",
    "        \"shirt_number\": 1,\n",
    "        \"position\": \"Goalie\"\n",
    "      },\n",
    "      {\n",
    "        \"name\": \"Benjamin PAVARD\",\n",
    "        \"captain\": False,\n",
    "        \"shirt_number\": 2,\n",
    "        \"position\": \"Defender\"\n",
    "      },\n",
    "      {\n",
    "        \"name\": \"Raphael VARANE\",\n",
    "        \"captain\": False,\n",
    "        \"shirt_number\": 4,\n",
    "        \"position\": \"Defender\"\n",
    "      },\n",
    "      {\n",
    "        \"name\": \"Samuel UMTITI\",\n",
    "        \"captain\": False,\n",
    "        \"shirt_number\": 5,\n",
    "        \"position\": \"Defender\"\n",
    "      },\n",
    "      {\n",
    "        \"name\": \"Paul POGBA\",\n",
    "        \"captain\": False,\n",
    "        \"shirt_number\": 6,\n",
    "        \"position\": \"Midfield\"\n",
    "      },\n",
    "      {\n",
    "        \"name\": \"Antoine GRIEZMANN\",\n",
    "        \"captain\": False,\n",
    "        \"shirt_number\": 7,\n",
    "        \"position\": \"Forward\"\n",
    "      },\n",
    "      {\n",
    "        \"name\": \"Kylian MBAPPE\",\n",
    "        \"captain\": False,\n",
    "        \"shirt_number\": 10,\n",
    "        \"position\": \"Forward\"\n",
    "      },\n",
    "      {\n",
    "        \"name\": \"Ousmane DEMBELE\",\n",
    "        \"captain\": False,\n",
    "        \"shirt_number\": 11,\n",
    "        \"position\": \"Forward\"\n",
    "      },\n",
    "      {\n",
    "        \"name\": \"Corentin TOLISSO\",\n",
    "        \"captain\": False,\n",
    "        \"shirt_number\": 12,\n",
    "        \"position\": \"Midfield\"\n",
    "      },\n",
    "      {\n",
    "        \"name\": \"Ngolo KANTE\",\n",
    "        \"captain\": False,\n",
    "        \"shirt_number\": 13,\n",
    "        \"position\": \"Midfield\"\n",
    "      },\n",
    "      {\n",
    "        \"name\": \"Lucas HERNANDEZ\",\n",
    "        \"captain\": False,\n",
    "        \"shirt_number\": 21,\n",
    "        \"position\": \"Defender\"\n",
    "      }\n",
    "    ],\n",
    "  },\n",
    "  { \"home_team\": False,\n",
    "    \"away_team\": True,\n",
    "    \"country\": \"Australia\",\n",
    "    \"num_passes\": 390,\n",
    "    \"passes_completed\": 332,\n",
    "    \"fouls_committed\": 19,\n",
    "    \"colors\": [\"green\", \"gold\"],\n",
    "    \"players\": [\n",
    "      {\n",
    "        \"name\": \"Mathew RYAN\",\n",
    "        \"captain\": False,\n",
    "        \"shirt_number\": 1,\n",
    "        \"position\": \"Goalie\"\n",
    "      },\n",
    "      {\n",
    "        \"name\": \"Mark MILLIGAN\",\n",
    "        \"captain\": False,\n",
    "        \"shirt_number\": 5,\n",
    "        \"position\": \"Defender\"\n",
    "      },\n",
    "      {\n",
    "        \"name\": \"Mathew LECKIE\",\n",
    "        \"captain\": False,\n",
    "        \"shirt_number\": 7,\n",
    "        \"position\": \"Forward\"\n",
    "      },\n",
    "      {\n",
    "        \"name\": \"Robbie KRUSE\",\n",
    "        \"captain\": False,\n",
    "        \"shirt_number\": 10,\n",
    "        \"position\": \"Forward\"\n",
    "      },\n",
    "      {\n",
    "        \"name\": \"Andrew NABBOUT\",\n",
    "        \"captain\": False,\n",
    "        \"shirt_number\": 11,\n",
    "        \"position\": \"Forward\"\n",
    "      },\n",
    "      {\n",
    "        \"name\": \"Aaron MOOY\",\n",
    "        \"captain\": False,\n",
    "        \"shirt_number\": 13,\n",
    "        \"position\": \"Midfield\"\n",
    "      },\n",
    "      {\n",
    "        \"name\": \"Mile JEDINAK\",\n",
    "        \"captain\": True,\n",
    "        \"shirt_number\": 15,\n",
    "        \"position\": \"Midfield\"\n",
    "      },\n",
    "      {\n",
    "        \"name\": \"Aziz BEHICH\",\n",
    "        \"captain\": False,\n",
    "        \"shirt_number\": 16,\n",
    "        \"position\": \"Defender\"\n",
    "      },\n",
    "      {\n",
    "        \"name\": \"Joshua RISDON\",\n",
    "        \"captain\": False,\n",
    "        \"shirt_number\": 19,\n",
    "        \"position\": \"Defender\"\n",
    "      },\n",
    "      {\n",
    "        \"name\": \"Trent SAINSBURY\",\n",
    "        \"captain\": False,\n",
    "        \"shirt_number\": 20,\n",
    "        \"position\": \"Defender\"\n",
    "      },\n",
    "      {\n",
    "        \"name\": \"Tom ROGIC\",\n",
    "        \"captain\": False,\n",
    "        \"shirt_number\": 23,\n",
    "        \"position\": \"Midfield\"\n",
    "      }\n",
    "    ]\n",
    "  }\n",
    "]"
   ]
  },
  {
   "cell_type": "markdown",
   "id": "29272768-985e-4379-aa30-5aecb58810d5",
   "metadata": {},
   "source": [
    "Let's take a look at some properties of this nested data structure:\n",
    "\n",
    "soccer_match represents a soccer match (game) containing a home team and an away team. Each record within soccer_match represents a team that participated in the match, and their associated stats."
   ]
  },
  {
   "cell_type": "code",
   "execution_count": 14,
   "id": "d9b763a2-f562-420d-88fe-99fee6e02e29",
   "metadata": {},
   "outputs": [
    {
     "name": "stdout",
     "output_type": "stream",
     "text": [
      "Information about soccer_match\n",
      "Type: <class 'list'>\n",
      "Length: 2\n",
      "\n",
      "Information about soccer_match[0]:\n",
      "Type: <class 'dict'>\n",
      "Length: 8\n",
      "Keys: dict_keys(['home_team', 'away_team', 'country', 'num_passes', 'passes_completed', 'fouls_committed', 'colors', 'players'])\n",
      "Values: dict_values([False, True, 'Australia', 390, 332, 19, ['green', 'gold'], [{'name': 'Mathew RYAN', 'captain': False, 'shirt_number': 1, 'position': 'Goalie'}, {'name': 'Mark MILLIGAN', 'captain': False, 'shirt_number': 5, 'position': 'Defender'}, {'name': 'Mathew LECKIE', 'captain': False, 'shirt_number': 7, 'position': 'Forward'}, {'name': 'Robbie KRUSE', 'captain': False, 'shirt_number': 10, 'position': 'Forward'}, {'name': 'Andrew NABBOUT', 'captain': False, 'shirt_number': 11, 'position': 'Forward'}, {'name': 'Aaron MOOY', 'captain': False, 'shirt_number': 13, 'position': 'Midfield'}, {'name': 'Mile JEDINAK', 'captain': True, 'shirt_number': 15, 'position': 'Midfield'}, {'name': 'Aziz BEHICH', 'captain': False, 'shirt_number': 16, 'position': 'Defender'}, {'name': 'Joshua RISDON', 'captain': False, 'shirt_number': 19, 'position': 'Defender'}, {'name': 'Trent SAINSBURY', 'captain': False, 'shirt_number': 20, 'position': 'Defender'}, {'name': 'Tom ROGIC', 'captain': False, 'shirt_number': 23, 'position': 'Midfield'}]])\n"
     ]
    }
   ],
   "source": [
    "print(\"Information about soccer_match\")\n",
    "print(\"Type:\", type(soccer_match))\n",
    "print(\"Length:\", len(soccer_match))\n",
    "print()\n",
    "\n",
    "print(\"Information about soccer_match[0]:\")\n",
    "print(\"Type:\", type(soccer_match[0]))\n",
    "print(\"Length:\", len(soccer_match[0]))\n",
    "print(\"Keys:\", soccer_match[0].keys())\n",
    "print(\"Values:\", soccer_match[1].values())"
   ]
  },
  {
   "cell_type": "markdown",
   "id": "37bb5579-76fc-4ded-b228-0ba50267569e",
   "metadata": {},
   "source": [
    "In the cell below, iterate over the soccer_match list to create a new list with the name of the country for each team."
   ]
  },
  {
   "cell_type": "code",
   "execution_count": 29,
   "id": "39cf2236-9152-415c-94f8-3b879a7f6b86",
   "metadata": {},
   "outputs": [
    {
     "name": "stdout",
     "output_type": "stream",
     "text": [
      "['France', 'Australia']\n"
     ]
    }
   ],
   "source": [
    "countries = []\n",
    "for team in soccer_match:\n",
    "        countries.append(team['country'])\n",
    "print(countries)"
   ]
  },
  {
   "cell_type": "markdown",
   "id": "c1098d28-bc51-4aa0-a1b4-c47dd7d6d86e",
   "metadata": {},
   "source": [
    "In the cell below, iterate over the soccer_match list to create a new list with the colors for each team.\n",
    "\n",
    "This should be only one list containing strings for each of the country's colors, not a list of lists."
   ]
  },
  {
   "cell_type": "code",
   "execution_count": 33,
   "id": "96c9d64e-4ba8-44cf-aa9d-ff1d48fc1f2c",
   "metadata": {},
   "outputs": [
    {
     "name": "stdout",
     "output_type": "stream",
     "text": [
      "['blue', 'white', 'red', 'green', 'gold']\n"
     ]
    }
   ],
   "source": [
    "colors = []\n",
    "for team in soccer_match:\n",
    "    for color in team['colors']:\n",
    "        colors.append(color)\n",
    "print(colors)"
   ]
  },
  {
   "cell_type": "markdown",
   "id": "100cd74f-00da-464a-952c-202b6e94101b",
   "metadata": {},
   "source": [
    "This time, iterate over the soccer_match list to create a new list with the players from each team. players should be a single list containing the dictionaries for each of the country's players."
   ]
  },
  {
   "cell_type": "code",
   "execution_count": 39,
   "id": "7e31e43f-591f-4ed6-83ac-3a1aa82d59a8",
   "metadata": {},
   "outputs": [
    {
     "data": {
      "text/plain": [
       "[{'name': 'Hugo LLORIS',\n",
       "  'captain': True,\n",
       "  'shirt_number': 1,\n",
       "  'position': 'Goalie'},\n",
       " {'name': 'Benjamin PAVARD',\n",
       "  'captain': False,\n",
       "  'shirt_number': 2,\n",
       "  'position': 'Defender'},\n",
       " {'name': 'Raphael VARANE',\n",
       "  'captain': False,\n",
       "  'shirt_number': 4,\n",
       "  'position': 'Defender'},\n",
       " {'name': 'Samuel UMTITI',\n",
       "  'captain': False,\n",
       "  'shirt_number': 5,\n",
       "  'position': 'Defender'},\n",
       " {'name': 'Paul POGBA',\n",
       "  'captain': False,\n",
       "  'shirt_number': 6,\n",
       "  'position': 'Midfield'},\n",
       " {'name': 'Antoine GRIEZMANN',\n",
       "  'captain': False,\n",
       "  'shirt_number': 7,\n",
       "  'position': 'Forward'},\n",
       " {'name': 'Kylian MBAPPE',\n",
       "  'captain': False,\n",
       "  'shirt_number': 10,\n",
       "  'position': 'Forward'},\n",
       " {'name': 'Ousmane DEMBELE',\n",
       "  'captain': False,\n",
       "  'shirt_number': 11,\n",
       "  'position': 'Forward'},\n",
       " {'name': 'Corentin TOLISSO',\n",
       "  'captain': False,\n",
       "  'shirt_number': 12,\n",
       "  'position': 'Midfield'},\n",
       " {'name': 'Ngolo KANTE',\n",
       "  'captain': False,\n",
       "  'shirt_number': 13,\n",
       "  'position': 'Midfield'},\n",
       " {'name': 'Lucas HERNANDEZ',\n",
       "  'captain': False,\n",
       "  'shirt_number': 21,\n",
       "  'position': 'Defender'},\n",
       " {'name': 'Mathew RYAN',\n",
       "  'captain': False,\n",
       "  'shirt_number': 1,\n",
       "  'position': 'Goalie'},\n",
       " {'name': 'Mark MILLIGAN',\n",
       "  'captain': False,\n",
       "  'shirt_number': 5,\n",
       "  'position': 'Defender'},\n",
       " {'name': 'Mathew LECKIE',\n",
       "  'captain': False,\n",
       "  'shirt_number': 7,\n",
       "  'position': 'Forward'},\n",
       " {'name': 'Robbie KRUSE',\n",
       "  'captain': False,\n",
       "  'shirt_number': 10,\n",
       "  'position': 'Forward'},\n",
       " {'name': 'Andrew NABBOUT',\n",
       "  'captain': False,\n",
       "  'shirt_number': 11,\n",
       "  'position': 'Forward'},\n",
       " {'name': 'Aaron MOOY',\n",
       "  'captain': False,\n",
       "  'shirt_number': 13,\n",
       "  'position': 'Midfield'},\n",
       " {'name': 'Mile JEDINAK',\n",
       "  'captain': True,\n",
       "  'shirt_number': 15,\n",
       "  'position': 'Midfield'},\n",
       " {'name': 'Aziz BEHICH',\n",
       "  'captain': False,\n",
       "  'shirt_number': 16,\n",
       "  'position': 'Defender'},\n",
       " {'name': 'Joshua RISDON',\n",
       "  'captain': False,\n",
       "  'shirt_number': 19,\n",
       "  'position': 'Defender'},\n",
       " {'name': 'Trent SAINSBURY',\n",
       "  'captain': False,\n",
       "  'shirt_number': 20,\n",
       "  'position': 'Defender'},\n",
       " {'name': 'Tom ROGIC',\n",
       "  'captain': False,\n",
       "  'shirt_number': 23,\n",
       "  'position': 'Midfield'}]"
      ]
     },
     "execution_count": 39,
     "metadata": {},
     "output_type": "execute_result"
    }
   ],
   "source": [
    "players = []\n",
    "for team in soccer_match:\n",
    "    for player in team['players']:\n",
    "        players.append(player)\n",
    "players"
   ]
  },
  {
   "cell_type": "markdown",
   "id": "ed8364b9-088f-41c1-9b34-559c2372f7b8",
   "metadata": {},
   "source": [
    "Iterate over the soccer_match list to create a new list with the captains from each team.\n",
    "\n",
    "This should be a single list containing the dictionaries for each of the countries' captains."
   ]
  },
  {
   "cell_type": "code",
   "execution_count": 38,
   "id": "7a631712-517c-452b-ac7b-f58c06cd3590",
   "metadata": {},
   "outputs": [
    {
     "data": {
      "text/plain": [
       "[{'name': 'Hugo LLORIS',\n",
       "  'captain': True,\n",
       "  'shirt_number': 1,\n",
       "  'position': 'Goalie'},\n",
       " {'name': 'Mile JEDINAK',\n",
       "  'captain': True,\n",
       "  'shirt_number': 15,\n",
       "  'position': 'Midfield'}]"
      ]
     },
     "execution_count": 38,
     "metadata": {},
     "output_type": "execute_result"
    }
   ],
   "source": [
    "captains = []\n",
    "for team in soccer_match:\n",
    "    for player in team['players']:\n",
    "        if player['captain'] == True:\n",
    "            captains.append(player)\n",
    "\n",
    "captains"
   ]
  },
  {
   "cell_type": "markdown",
   "id": "e533567d-4821-4568-9987-2d7c3070ad27",
   "metadata": {},
   "source": [
    "Iterate over the soccer_match list to create a new list with the players from ONLY the home team.\n",
    "\n",
    "Do not \"hard-code\" which team this is; use the 'home_team' key."
   ]
  },
  {
   "cell_type": "code",
   "execution_count": 42,
   "id": "e6ea3d00-12d0-4b5b-89e6-ec0e14502a74",
   "metadata": {},
   "outputs": [
    {
     "data": {
      "text/plain": [
       "[[{'name': 'Hugo LLORIS',\n",
       "   'captain': True,\n",
       "   'shirt_number': 1,\n",
       "   'position': 'Goalie'},\n",
       "  {'name': 'Benjamin PAVARD',\n",
       "   'captain': False,\n",
       "   'shirt_number': 2,\n",
       "   'position': 'Defender'},\n",
       "  {'name': 'Raphael VARANE',\n",
       "   'captain': False,\n",
       "   'shirt_number': 4,\n",
       "   'position': 'Defender'},\n",
       "  {'name': 'Samuel UMTITI',\n",
       "   'captain': False,\n",
       "   'shirt_number': 5,\n",
       "   'position': 'Defender'},\n",
       "  {'name': 'Paul POGBA',\n",
       "   'captain': False,\n",
       "   'shirt_number': 6,\n",
       "   'position': 'Midfield'},\n",
       "  {'name': 'Antoine GRIEZMANN',\n",
       "   'captain': False,\n",
       "   'shirt_number': 7,\n",
       "   'position': 'Forward'},\n",
       "  {'name': 'Kylian MBAPPE',\n",
       "   'captain': False,\n",
       "   'shirt_number': 10,\n",
       "   'position': 'Forward'},\n",
       "  {'name': 'Ousmane DEMBELE',\n",
       "   'captain': False,\n",
       "   'shirt_number': 11,\n",
       "   'position': 'Forward'},\n",
       "  {'name': 'Corentin TOLISSO',\n",
       "   'captain': False,\n",
       "   'shirt_number': 12,\n",
       "   'position': 'Midfield'},\n",
       "  {'name': 'Ngolo KANTE',\n",
       "   'captain': False,\n",
       "   'shirt_number': 13,\n",
       "   'position': 'Midfield'},\n",
       "  {'name': 'Lucas HERNANDEZ',\n",
       "   'captain': False,\n",
       "   'shirt_number': 21,\n",
       "   'position': 'Defender'}]]"
      ]
     },
     "execution_count": 42,
     "metadata": {},
     "output_type": "execute_result"
    }
   ],
   "source": [
    "home_team_players = []\n",
    "for team in soccer_match:\n",
    "    if team['home_team'] == True:\n",
    "        home_team_players.append(team['players'])\n",
    "home_team_players"
   ]
  },
  {
   "cell_type": "markdown",
   "id": "ef1b8b3d-8e99-4d51-a484-746e65cdd46b",
   "metadata": {},
   "source": [
    "Iterate over the soccer_match list to create a new list with the information for each of the away team players whose position is \"Forward\"."
   ]
  },
  {
   "cell_type": "code",
   "execution_count": 52,
   "id": "8fbe5697-74eb-4939-ad83-e2bb316ce7f1",
   "metadata": {},
   "outputs": [
    {
     "data": {
      "text/plain": [
       "[{'name': 'Mathew LECKIE',\n",
       "  'captain': False,\n",
       "  'shirt_number': 7,\n",
       "  'position': 'Forward'},\n",
       " {'name': 'Robbie KRUSE',\n",
       "  'captain': False,\n",
       "  'shirt_number': 10,\n",
       "  'position': 'Forward'},\n",
       " {'name': 'Andrew NABBOUT',\n",
       "  'captain': False,\n",
       "  'shirt_number': 11,\n",
       "  'position': 'Forward'}]"
      ]
     },
     "execution_count": 52,
     "metadata": {},
     "output_type": "execute_result"
    }
   ],
   "source": [
    "away_team_forwards = []\n",
    "for team in soccer_match:\n",
    "    if team['away_team'] == True:\n",
    "       # print(team[\"country\"])\n",
    "        for player in team['players']:\n",
    "            if player['position'] == 'Forward':\n",
    "                away_team_forwards.append(player)\n",
    "away_team_forwards"
   ]
  },
  {
   "cell_type": "markdown",
   "id": "81f7ea5e-1a8a-4686-a170-9ed168aaf93e",
   "metadata": {},
   "source": [
    "Iterate over the soccer_match list and find the player with the highest shirt_number.\n",
    "Store this player's information in the player_with_highest_num variable."
   ]
  },
  {
   "cell_type": "code",
   "execution_count": 135,
   "id": "4ccbcf92-68ad-4476-b379-5f561d0a23df",
   "metadata": {},
   "outputs": [
    {
     "data": {
      "text/plain": [
       "[{'name': 'Tom ROGIC',\n",
       "  'captain': False,\n",
       "  'shirt_number': 23,\n",
       "  'position': 'Midfield'}]"
      ]
     },
     "execution_count": 135,
     "metadata": {},
     "output_type": "execute_result"
    }
   ],
   "source": [
    "player_with_highest_num = []\n",
    "shirt_numbers = []\n",
    "for team in soccer_match:\n",
    "    for player in team['players']:\n",
    "        shirt_numbers.append(player['shirt_number'])\n",
    "max_shirt_number = max(shirt_numbers)\n",
    "for team in soccer_match:\n",
    "    for player in team['players']:\n",
    "        if player['shirt_number'] == max(shirt_numbers):\n",
    "            player_with_highest_num.append(player)\n",
    "player_with_highest_num"
   ]
  },
  {
   "cell_type": "markdown",
   "id": "0bb400bb-e323-4826-8d1d-2c2bfaaa9f43",
   "metadata": {},
   "source": [
    "Notice that the players oddly have their last names in all caps. Create a list of all the names of the players in this match. Be sure to make sure their first and last names are properly capitalized (first letter upper case, proceeding letters lower case), as opposed to how they are currently formatted."
   ]
  },
  {
   "cell_type": "code",
   "execution_count": 143,
   "id": "181763ff-ec6a-4234-83ec-c2c6c246e467",
   "metadata": {},
   "outputs": [
    {
     "data": {
      "text/plain": [
       "['Hugo Lloris',\n",
       " 'Benjamin Pavard',\n",
       " 'Raphael Varane',\n",
       " 'Samuel Umtiti',\n",
       " 'Paul Pogba',\n",
       " 'Antoine Griezmann',\n",
       " 'Kylian Mbappe',\n",
       " 'Ousmane Dembele',\n",
       " 'Corentin Tolisso',\n",
       " 'Ngolo Kante',\n",
       " 'Lucas Hernandez',\n",
       " 'Mathew Ryan',\n",
       " 'Mark Milligan',\n",
       " 'Mathew Leckie',\n",
       " 'Robbie Kruse',\n",
       " 'Andrew Nabbout',\n",
       " 'Aaron Mooy',\n",
       " 'Mile Jedinak',\n",
       " 'Aziz Behich',\n",
       " 'Joshua Risdon',\n",
       " 'Trent Sainsbury',\n",
       " 'Tom Rogic']"
      ]
     },
     "execution_count": 143,
     "metadata": {},
     "output_type": "execute_result"
    }
   ],
   "source": [
    "player_names = []\n",
    "for team in soccer_match:\n",
    "    for player in team['players']:\n",
    "        player_names.append(player['name'].title())\n",
    "player_names"
   ]
  },
  {
   "cell_type": "markdown",
   "id": "e60adfc3-eac8-4de7-b469-31c48213856e",
   "metadata": {},
   "source": [
    "**Shit! This was tough**\n",
    "\n",
    "You deserve a break"
   ]
  }
 ],
 "metadata": {
  "kernelspec": {
   "display_name": "Python (learn-env)",
   "language": "python",
   "name": "learn-env"
  },
  "language_info": {
   "codemirror_mode": {
    "name": "ipython",
    "version": 3
   },
   "file_extension": ".py",
   "mimetype": "text/x-python",
   "name": "python",
   "nbconvert_exporter": "python",
   "pygments_lexer": "ipython3",
   "version": "3.8.5"
  }
 },
 "nbformat": 4,
 "nbformat_minor": 5
}
