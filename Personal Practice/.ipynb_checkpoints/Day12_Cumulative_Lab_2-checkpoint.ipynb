{
 "cells": [
  {
   "cell_type": "code",
   "execution_count": 1,
   "id": "572d496f-d62c-403f-bffc-feea0b1c5853",
   "metadata": {},
   "outputs": [
    {
     "data": {
      "text/plain": [
       "list"
      ]
     },
     "execution_count": 1,
     "metadata": {},
     "output_type": "execute_result"
    }
   ],
   "source": [
    "import json\n",
    "with open(\"coffee_product_reviews.json\") as f:\n",
    "    reviews = json.load(f)\n",
    "type(reviews)"
   ]
  },
  {
   "cell_type": "code",
   "execution_count": 3,
   "id": "0255f955-19d9-4ca9-bd79-12c7a1f0499b",
   "metadata": {},
   "outputs": [
    {
     "data": {
      "text/plain": [
       "{'rating': 5.0,\n",
       " 'reviewer_name': 'Sns073194',\n",
       " 'product_id': 'B00004RFRV',\n",
       " 'review_title': 'Perfect cafsito every time',\n",
       " 'review_time': '03 11, 2018',\n",
       " 'images': ['https://images-na.ssl-images-amazon.com/images/I/71d2cQEgJsL._SY88.jpg'],\n",
       " 'styles': {'Size:': ' 6-Cup', 'Color:': ' Silver'}}"
      ]
     },
     "execution_count": 3,
     "metadata": {},
     "output_type": "execute_result"
    }
   ],
   "source": [
    "reviews[0]"
   ]
  },
  {
   "cell_type": "markdown",
   "id": "99d5523a-c9b0-44b5-807c-a87e654d2504",
   "metadata": {},
   "source": [
    "Write a code function review_sentiment, which takes in a review dictionary as an argument, and returns the string \"positive\", \"negative\", or \"neutral\""
   ]
  },
  {
   "cell_type": "code",
   "execution_count": 10,
   "id": "73aec53d-d5bb-4c2b-8041-8716c9e2b8a2",
   "metadata": {},
   "outputs": [],
   "source": [
    "def review_sentiment(review):\n",
    "    if review['rating'] >= 4:\n",
    "        return \"positive\"\n",
    "    elif review['rating'] <= 2:\n",
    "        return 'negative'\n",
    "    elif review['rating'] == 3:\n",
    "        return 'neutral'"
   ]
  },
  {
   "cell_type": "code",
   "execution_count": 12,
   "id": "05fcb1c1-b76d-4435-be74-97417ddf6326",
   "metadata": {},
   "outputs": [
    {
     "name": "stdout",
     "output_type": "stream",
     "text": [
      "positive\n",
      "negative\n",
      "neutral\n"
     ]
    }
   ],
   "source": [
    "print(review_sentiment(reviews[2]))\n",
    "print(review_sentiment(reviews[4]))\n",
    "print(review_sentiment(reviews[47]))"
   ]
  },
  {
   "cell_type": "markdown",
   "id": "8a2a4613-f64b-4345-89cf-998e8a5d5a2c",
   "metadata": {},
   "source": [
    "Now, write a function to loop over all of the reviews in the list, and count how many are positive, negative, and neutral.\n",
    "\n",
    "The function should be called get_sentiment_counts, take one argument (the list of reviews), and return a dictionary containing the counts. A counter dictionary has been initialized for you with \"positive\", \"negative\", and \"neutral\" as the keys and values starting at 0."
   ]
  },
  {
   "cell_type": "code",
   "execution_count": 40,
   "id": "06a219a6-08bc-4d4f-9d1d-515fa9f71b18",
   "metadata": {},
   "outputs": [
    {
     "data": {
      "text/plain": [
       "{'positive': 67, 'negative': 15, 'neutral': 4}"
      ]
     },
     "execution_count": 40,
     "metadata": {},
     "output_type": "execute_result"
    }
   ],
   "source": [
    "# Method 1: Using the list of dictionaries directly\n",
    "def get_sentiment_counts(review_list):\n",
    "\n",
    "    sentiment_counts = {\n",
    "        \"positive\": 0,\n",
    "        \"negative\": 0,\n",
    "        \"neutral\": 0\n",
    "    }\n",
    "    for sentiment in review_list:\n",
    "        if sentiment['rating'] >= 4:\n",
    "            sentiment_counts['positive'] += 1\n",
    "        elif sentiment['rating'] <= 2:\n",
    "            sentiment_counts['negative'] += 1\n",
    "        elif sentiment['rating'] == 3:\n",
    "            sentiment_counts['neutral'] += 1\n",
    "    return sentiment_counts\n",
    "\n",
    "get_sentiment_counts(reviews)"
   ]
  },
  {
   "cell_type": "code",
   "execution_count": 41,
   "id": "88d19d65-c72e-4f8e-88b9-8cab805512d4",
   "metadata": {},
   "outputs": [
    {
     "data": {
      "text/plain": [
       "{'positive': 67, 'negative': 15, 'neutral': 4}"
      ]
     },
     "execution_count": 41,
     "metadata": {},
     "output_type": "execute_result"
    }
   ],
   "source": [
    "# Method 2: Using output from another function\n",
    "def get_sentiment_counts(review_list):\n",
    "\n",
    "    sentiment_counts = {\n",
    "        \"positive\": 0,\n",
    "        \"negative\": 0,\n",
    "        \"neutral\": 0\n",
    "    }\n",
    "    for sentiment in review_list:\n",
    "        if review_sentiment(sentiment) == 'positive':\n",
    "            sentiment_counts['positive'] += 1\n",
    "        elif review_sentiment(sentiment) == 'negative':\n",
    "            sentiment_counts['negative'] += 1\n",
    "        elif review_sentiment(sentiment) == 'neutral':\n",
    "            sentiment_counts['neutral'] += 1\n",
    "    return sentiment_counts\n",
    "\n",
    "get_sentiment_counts(reviews)"
   ]
  },
  {
   "cell_type": "markdown",
   "id": "97ae5967-f535-488a-ba73-435904c0e9f2",
   "metadata": {},
   "source": [
    "Write a function review_year, which takes in a review dictionary as an argument, and returns the year as an integer:"
   ]
  },
  {
   "cell_type": "code",
   "execution_count": 79,
   "id": "8ad3222b-7922-41b0-8d1d-f457aae97a66",
   "metadata": {},
   "outputs": [],
   "source": [
    "def review_year(review):\n",
    "    year = int(review['review_time'][-4:])\n",
    "    return year"
   ]
  },
  {
   "cell_type": "code",
   "execution_count": 48,
   "id": "2c0e58be-d3f7-4ed8-b1f2-3a7fd625ff71",
   "metadata": {},
   "outputs": [
    {
     "name": "stdout",
     "output_type": "stream",
     "text": [
      "2017\n",
      "2017\n",
      "2015\n"
     ]
    }
   ],
   "source": [
    "print(review_year(reviews[2]))\n",
    "print(review_year(reviews[4]))\n",
    "print(review_year(reviews[47]))"
   ]
  },
  {
   "cell_type": "markdown",
   "id": "434b539c-abe7-446e-bd57-10d31973bb56",
   "metadata": {},
   "source": [
    "Now, write a function called get_years to loop over all of the reviews in the review list and create a list of the years you find. Each year should only appear once, in ascending order. The function should accept one argument (review_list) and should return a list of integers representing the years.\n",
    "\n",
    "Hints:\n",
    "\n",
    "- Remember that you can use the set() function to keep only the unique elements in a list. Just make sure you use list() afterwards to convert it back to a list data type. This is not the only solution, however!\n",
    "- There is a list method named .sort()  that will automatically order the years; you don't need to write sorting logic \"by hand\""
   ]
  },
  {
   "cell_type": "code",
   "execution_count": 78,
   "id": "039a3141-2baa-40f4-b964-04ebe0909020",
   "metadata": {},
   "outputs": [
    {
     "name": "stdout",
     "output_type": "stream",
     "text": [
      "[2007, 2008, 2009, 2011, 2012, 2013, 2014, 2015, 2016, 2017, 2018]\n",
      "<class 'list'>\n"
     ]
    }
   ],
   "source": [
    "def get_years(review_list):\n",
    "    unsorted_years = []\n",
    "    for review in review_list:\n",
    "        year = int(review['review_time'][-4:])\n",
    "        unsorted_years.append(year)\n",
    "    years_set = set(unsorted_years)\n",
    "    sorted_years = list(years_set)\n",
    "    sorted_years.sort()\n",
    "    return sorted_years\n",
    "\n",
    "print(get_years(reviews))\n",
    "print(type(get_years(reviews)))"
   ]
  },
  {
   "cell_type": "markdown",
   "id": "bfef8b2f-ddff-484a-a465-d6593fb41e52",
   "metadata": {},
   "source": [
    "Here we are going to make use of another built-in Python function: filter(). To use this function, we first need to write a helper function that returns True or False based on the value passed in.\n",
    "\n",
    "So, create a function is_negative that takes in a review dictionary as an argument and returns True if the review is negative, False otherwise:"
   ]
  },
  {
   "cell_type": "code",
   "execution_count": 85,
   "id": "1cea6b35-9308-46ef-bd1e-1c8fe7e1fe05",
   "metadata": {},
   "outputs": [
    {
     "name": "stdout",
     "output_type": "stream",
     "text": [
      "False\n",
      "True\n",
      "False\n"
     ]
    }
   ],
   "source": [
    "def is_negative(review):\n",
    "    return review['rating'] <= 2\n",
    "\n",
    "print(is_negative(reviews[2]))\n",
    "print(is_negative(reviews[4]))\n",
    "print(is_negative(reviews[47]))"
   ]
  },
  {
   "cell_type": "code",
   "execution_count": 89,
   "id": "bdde4ee2-2763-46f4-921a-344c336a544b",
   "metadata": {},
   "outputs": [
    {
     "data": {
      "text/plain": [
       "[{'rating': 1.0,\n",
       "  'reviewer_name': 'EJ',\n",
       "  'product_id': 'B00004RFRV',\n",
       "  'review_title': 'Rusted spots everywhere fresh out the box...nasty',\n",
       "  'review_time': '06 4, 2017',\n",
       "  'images': ['https://images-na.ssl-images-amazon.com/images/I/71Dbr6X0bYL._SY88.jpg'],\n",
       "  'styles': {'Size:': ' 9-Cup', 'Color:': ' Silver'}},\n",
       " {'rating': 1.0,\n",
       "  'reviewer_name': 'mathman54',\n",
       "  'product_id': 'B00004RFRV',\n",
       "  'review_title': \"The bottom looks like it has rusted and I don't know how to ...\",\n",
       "  'review_time': '02 15, 2016',\n",
       "  'images': ['https://images-na.ssl-images-amazon.com/images/I/71qt4Hnra8L._SY88.jpg',\n",
       "   'https://images-na.ssl-images-amazon.com/images/I/71Wkg8MesdL._SY88.jpg'],\n",
       "  'styles': {'Size:': ' 12-Cup', 'Color:': ' Silver'}},\n",
       " {'rating': 1.0,\n",
       "  'reviewer_name': 'Maria Fernandez',\n",
       "  'product_id': 'B00004RFRV',\n",
       "  'review_title': 'Is it a Bialetti? Came dirty with coffee grounds.',\n",
       "  'review_time': '03 22, 2015',\n",
       "  'images': ['https://images-na.ssl-images-amazon.com/images/I/71aPg3ZuCzL._SY88.jpg',\n",
       "   'https://images-na.ssl-images-amazon.com/images/I/71-2keZacOL._SY88.jpg',\n",
       "   'https://images-na.ssl-images-amazon.com/images/I/71Z4C4G-0dL._SY88.jpg'],\n",
       "  'styles': {'Size:': ' 6-Cup', 'Color:': ' Silver'}},\n",
       " {'rating': 1.0,\n",
       "  'reviewer_name': 'Toni Bautista',\n",
       "  'product_id': 'B00005IBX9',\n",
       "  'review_title': 'Great but NOT PERFECT -missing Side water panel',\n",
       "  'review_time': '02 24, 2017',\n",
       "  'images': ['https://images-na.ssl-images-amazon.com/images/I/71X5NEjZG5L._SY88.jpg'],\n",
       "  'styles': {'Color:': ' Brushed Chrome'}},\n",
       " {'rating': 1.0,\n",
       "  'reviewer_name': 'SAinVA',\n",
       "  'product_id': 'B00005LM0T',\n",
       "  'review_title': 'Too much waste',\n",
       "  'review_time': '09 7, 2017',\n",
       "  'images': ['https://images-na.ssl-images-amazon.com/images/I/71shZggLRHL._SY88.jpg'],\n",
       "  'styles': {'Size:': ' 34 oz.', 'Package Type:': ' Standard Packaging'}},\n",
       " {'rating': 1.0,\n",
       "  'reviewer_name': 'Silicon Valley',\n",
       "  'product_id': 'B00005LM0T',\n",
       "  'review_title': 'FRAME RUSTS WITHIN A FEW WEEKS',\n",
       "  'review_time': '03 10, 2016',\n",
       "  'images': ['https://images-na.ssl-images-amazon.com/images/I/71FREAeBLIL._SY88.jpg',\n",
       "   'https://images-na.ssl-images-amazon.com/images/I/71qkhDjseuL._SY88.jpg',\n",
       "   'https://images-na.ssl-images-amazon.com/images/I/7143mVMMoCL._SY88.jpg'],\n",
       "  'styles': {'Size:': ' 34 oz.', 'Package Type:': ' Standard Packaging'}},\n",
       " {'rating': 1.0,\n",
       "  'reviewer_name': 'Andrew Furlong',\n",
       "  'product_id': 'B00005MF9C',\n",
       "  'review_title': 'but instead ran along the underside of the part of the maker that holds the grounds and finally dropping at an angle at which a',\n",
       "  'review_time': '02 22, 2017',\n",
       "  'images': ['https://images-na.ssl-images-amazon.com/images/I/71kh1XatynL._SY88.jpg'],\n",
       "  'styles': {'Color:': ' Black/Stainless Steel'}},\n",
       " {'rating': 2.0,\n",
       "  'reviewer_name': 'fred o.',\n",
       "  'product_id': 'B00005MF9C',\n",
       "  'review_title': 'Good purchase',\n",
       "  'review_time': '09 4, 2016',\n",
       "  'images': ['https://images-na.ssl-images-amazon.com/images/I/71tRehtvN+L._SY88.jpg',\n",
       "   'https://images-na.ssl-images-amazon.com/images/I/719K20U+MaL._SY88.jpg',\n",
       "   'https://images-na.ssl-images-amazon.com/images/I/71jd6yc1GdL._SY88.jpg'],\n",
       "  'styles': {'Color:': ' Black/White'}},\n",
       " {'rating': 1.0,\n",
       "  'reviewer_name': 'fifrox',\n",
       "  'product_id': 'B00005MF9C',\n",
       "  'review_title': 'Works great for a week then fails!',\n",
       "  'review_time': '03 10, 2016',\n",
       "  'images': ['https://images-na.ssl-images-amazon.com/images/I/81QVkUT4hdL._SY88.jpg'],\n",
       "  'styles': {'Color:': ' Black/Stainless Steel'}},\n",
       " {'rating': 1.0,\n",
       "  'reviewer_name': 'cas',\n",
       "  'product_id': 'B00005NCWQ',\n",
       "  'review_title': 'Garbage!!!',\n",
       "  'review_time': '03 26, 2018',\n",
       "  'images': ['https://images-na.ssl-images-amazon.com/images/I/71Bxydi3DQL._SY88.jpg'],\n",
       "  'styles': {'Size:': ' 8-Cup'}},\n",
       " {'rating': 1.0,\n",
       "  'reviewer_name': 'GoClick',\n",
       "  'product_id': 'B00005OTXM',\n",
       "  'review_title': 'Returned - produced revolting burnt plastic flavored coffee, and seemed flawed.',\n",
       "  'review_time': '04 16, 2015',\n",
       "  'images': ['https://images-na.ssl-images-amazon.com/images/I/71o+7Zru+iL._SY88.jpg',\n",
       "   'https://images-na.ssl-images-amazon.com/images/I/81sbfP4tc8L._SY88.jpg',\n",
       "   'https://images-na.ssl-images-amazon.com/images/I/71vhOebyGaL._SY88.jpg'],\n",
       "  'styles': {'Style Name:': ' COFFEE MAKER ONLY'}},\n",
       " {'rating': 2.0,\n",
       "  'reviewer_name': 'Picks n Pans',\n",
       "  'product_id': 'B00006F2LW',\n",
       "  'review_title': 'Cracked lid out of the box',\n",
       "  'review_time': '02 27, 2008',\n",
       "  'images': ['https://images-na.ssl-images-amazon.com/images/I/317fvUiuNDL._SY88.jpg'],\n",
       "  'styles': {'Color:': ' Black'}},\n",
       " {'rating': 2.0,\n",
       "  'reviewer_name': 'LMM',\n",
       "  'product_id': 'B00008ELEA',\n",
       "  'review_title': 'smelled like the cord was burning',\n",
       "  'review_time': '06 6, 2016',\n",
       "  'images': ['https://images-na.ssl-images-amazon.com/images/I/51xXENQhIGL._SY88.jpg'],\n",
       "  'styles': {'Size:': ' 4-Cup'}},\n",
       " {'rating': 1.0,\n",
       "  'reviewer_name': 'Marcia S.',\n",
       "  'product_id': 'B0000A1ZMS',\n",
       "  'review_title': 'Look what happened to this once great Cuisinart coffeemaker.',\n",
       "  'review_time': '11 12, 2016',\n",
       "  'images': ['https://images-na.ssl-images-amazon.com/images/I/51B8eue4nHL._SY88.jpg',\n",
       "   'https://images-na.ssl-images-amazon.com/images/I/519NziREFIL._SY88.jpg',\n",
       "   'https://images-na.ssl-images-amazon.com/images/I/51v+A1zWqTL._SY88.jpg'],\n",
       "  'styles': {'Color:': ' Black', 'Style Name:': ' Coffeemaker'}},\n",
       " {'rating': 2.0,\n",
       "  'reviewer_name': 'Jimmie',\n",
       "  'product_id': 'B0000A1ZMS',\n",
       "  'review_title': 'Leaks and more',\n",
       "  'review_time': '01 13, 2011',\n",
       "  'images': ['https://images-na.ssl-images-amazon.com/images/I/51U4K+PzETL._SY88.jpg'],\n",
       "  'styles': {'Color:': ' Black', 'Style Name:': ' Coffeemaker'}}]"
      ]
     },
     "execution_count": 89,
     "metadata": {},
     "output_type": "execute_result"
    }
   ],
   "source": [
    "# Using the filter() function to create a list of negative reviews\n",
    "list(filter(is_negative, reviews))"
   ]
  },
  {
   "cell_type": "markdown",
   "id": "1dadd74f-718b-42c4-b208-8da3545664fd",
   "metadata": {},
   "source": [
    "Write a function called get_negative_reviews that returns a list of these reviews. It should take the list of all reviews as an argument."
   ]
  },
  {
   "cell_type": "code",
   "execution_count": 91,
   "id": "bcec0629-8ee1-4f86-b033-fdbefd8764ed",
   "metadata": {},
   "outputs": [
    {
     "data": {
      "text/plain": [
       "15"
      ]
     },
     "execution_count": 91,
     "metadata": {},
     "output_type": "execute_result"
    }
   ],
   "source": [
    "def get_negative_reviews(review_list):\n",
    "    negative_reviews = []\n",
    "    for review in review_list:\n",
    "        if review['rating'] <= 2:\n",
    "            negative_reviews.append(review)\n",
    "    return negative_reviews\n",
    "\n",
    "len(get_negative_reviews(reviews))"
   ]
  },
  {
   "cell_type": "code",
   "execution_count": 94,
   "id": "9d52102c-6403-4603-81f8-f7de91b16da1",
   "metadata": {},
   "outputs": [
    {
     "data": {
      "text/plain": [
       "[{'rating': 1.0,\n",
       "  'reviewer_name': 'fifrox',\n",
       "  'product_id': 'B00005MF9C',\n",
       "  'review_title': 'Works great for a week then fails!',\n",
       "  'review_time': '03 10, 2016',\n",
       "  'images': ['https://images-na.ssl-images-amazon.com/images/I/81QVkUT4hdL._SY88.jpg'],\n",
       "  'styles': {'Color:': ' Black/Stainless Steel'}},\n",
       " {'rating': 1.0,\n",
       "  'reviewer_name': 'mathman54',\n",
       "  'product_id': 'B00004RFRV',\n",
       "  'review_title': \"The bottom looks like it has rusted and I don't know how to ...\",\n",
       "  'review_time': '02 15, 2016',\n",
       "  'images': ['https://images-na.ssl-images-amazon.com/images/I/71qt4Hnra8L._SY88.jpg',\n",
       "   'https://images-na.ssl-images-amazon.com/images/I/71Wkg8MesdL._SY88.jpg'],\n",
       "  'styles': {'Size:': ' 12-Cup', 'Color:': ' Silver'}},\n",
       " {'rating': 1.0,\n",
       "  'reviewer_name': 'SAinVA',\n",
       "  'product_id': 'B00005LM0T',\n",
       "  'review_title': 'Too much waste',\n",
       "  'review_time': '09 7, 2017',\n",
       "  'images': ['https://images-na.ssl-images-amazon.com/images/I/71shZggLRHL._SY88.jpg'],\n",
       "  'styles': {'Size:': ' 34 oz.', 'Package Type:': ' Standard Packaging'}}]"
      ]
     },
     "execution_count": 94,
     "metadata": {},
     "output_type": "execute_result"
    }
   ],
   "source": [
    "# BONUS TIP\n",
    "# To only get a random sample of the negative dataset\n",
    "import random\n",
    "random.sample(get_negative_reviews(reviews), 3)\n",
    "# random.sample() - takes in a collection and a number and returns that number of elements from the collection\n",
    "# E.g takes 3 random negative reviews from negative_reviews list (accessible through the get_negative reviews() function)"
   ]
  },
  {
   "cell_type": "code",
   "execution_count": 102,
   "id": "af9cdb0d-d46a-4684-ba6d-1b0247967a74",
   "metadata": {},
   "outputs": [
    {
     "data": {
      "text/plain": [
       "[{'rating': 2.0,\n",
       "  'reviewer_name': 'LMM',\n",
       "  'product_id': 'B00008ELEA',\n",
       "  'review_title': 'smelled like the cord was burning',\n",
       "  'review_time': '06 6, 2016',\n",
       "  'images': ['https://images-na.ssl-images-amazon.com/images/I/51xXENQhIGL._SY88.jpg'],\n",
       "  'styles': {'Size:': ' 4-Cup'}},\n",
       " {'rating': 1.0,\n",
       "  'reviewer_name': 'cas',\n",
       "  'product_id': 'B00005NCWQ',\n",
       "  'review_title': 'Garbage!!!',\n",
       "  'review_time': '03 26, 2018',\n",
       "  'images': ['https://images-na.ssl-images-amazon.com/images/I/71Bxydi3DQL._SY88.jpg'],\n",
       "  'styles': {'Size:': ' 8-Cup'}},\n",
       " {'rating': 1.0,\n",
       "  'reviewer_name': 'GoClick',\n",
       "  'product_id': 'B00005OTXM',\n",
       "  'review_title': 'Returned - produced revolting burnt plastic flavored coffee, and seemed flawed.',\n",
       "  'review_time': '04 16, 2015',\n",
       "  'images': ['https://images-na.ssl-images-amazon.com/images/I/71o+7Zru+iL._SY88.jpg',\n",
       "   'https://images-na.ssl-images-amazon.com/images/I/81sbfP4tc8L._SY88.jpg',\n",
       "   'https://images-na.ssl-images-amazon.com/images/I/71vhOebyGaL._SY88.jpg'],\n",
       "  'styles': {'Style Name:': ' COFFEE MAKER ONLY'}},\n",
       " {'rating': 1.0,\n",
       "  'reviewer_name': 'mathman54',\n",
       "  'product_id': 'B00004RFRV',\n",
       "  'review_title': \"The bottom looks like it has rusted and I don't know how to ...\",\n",
       "  'review_time': '02 15, 2016',\n",
       "  'images': ['https://images-na.ssl-images-amazon.com/images/I/71qt4Hnra8L._SY88.jpg',\n",
       "   'https://images-na.ssl-images-amazon.com/images/I/71Wkg8MesdL._SY88.jpg'],\n",
       "  'styles': {'Size:': ' 12-Cup', 'Color:': ' Silver'}}]"
      ]
     },
     "execution_count": 102,
     "metadata": {},
     "output_type": "execute_result"
    }
   ],
   "source": [
    "def get_negative_review_sample(review_list, num_samples):\n",
    "    return random.sample(get_negative_reviews(review_list), num_samples)\n",
    "\n",
    "get_negative_review_sample(reviews, 4)"
   ]
  },
  {
   "cell_type": "markdown",
   "id": "6d2600d2-5438-4e68-a6a3-ed6b3cb33168",
   "metadata": {},
   "source": [
    "Repeat the same process for positive reviews."
   ]
  },
  {
   "cell_type": "code",
   "execution_count": 100,
   "id": "73f2b5e7-487e-4606-bda4-d26c0542a24c",
   "metadata": {},
   "outputs": [
    {
     "data": {
      "text/plain": [
       "[{'rating': 5.0,\n",
       "  'reviewer_name': 'Jean-Claude Van Darn',\n",
       "  'product_id': 'B00005NCWQ',\n",
       "  'review_title': 'Well made with a charming nostalgic design.',\n",
       "  'review_time': '05 22, 2017',\n",
       "  'images': ['https://images-na.ssl-images-amazon.com/images/I/613Dj78CiqL._SY88.jpg'],\n",
       "  'styles': {'Size:': ' 8-Cup'}},\n",
       " {'rating': 5.0,\n",
       "  'reviewer_name': 'Nancy Howe',\n",
       "  'product_id': 'B00005LM0V',\n",
       "  'review_title': 'Wonderful for Special Occasions or Coffee Emergencies!',\n",
       "  'review_time': '05 13, 2015',\n",
       "  'images': ['https://images-na.ssl-images-amazon.com/images/I/61H3kUofLbL._SY88.jpg'],\n",
       "  'styles': {'Size:': ' 34 oz.', 'Color:': ' Gold'}},\n",
       " {'rating': 4.0,\n",
       "  'reviewer_name': 'Dave Lakhani',\n",
       "  'product_id': 'B00009ADDR',\n",
       "  'review_title': 'Beautiful, Well Designed Press But Really Only Big Enough For About Two Regular Cups Of Coffee',\n",
       "  'review_time': '11 9, 2016',\n",
       "  'images': ['https://images-na.ssl-images-amazon.com/images/I/61Am8Yh09VL._SY88.jpg'],\n",
       "  'styles': {'Size:': ' 17 Ounce', 'Color:': ' Polished'}},\n",
       " {'rating': 5.0,\n",
       "  'reviewer_name': 'John',\n",
       "  'product_id': 'B00009V4FI',\n",
       "  'review_title': 'Does the trick and is very attractive',\n",
       "  'review_time': '11 23, 2012',\n",
       "  'images': ['https://images-na.ssl-images-amazon.com/images/I/61z9nGr0irL._SY88.jpg'],\n",
       "  'styles': {'Size:': ' 16 Ounce', 'Package Quantity:': ' 1'}}]"
      ]
     },
     "execution_count": 100,
     "metadata": {},
     "output_type": "execute_result"
    }
   ],
   "source": [
    "def is_positive(review):\n",
    "    return review['rating'] >= 4\n",
    "\n",
    "def get_positive_reviews(review_list):\n",
    "    positive_reviews = []\n",
    "    for review in review_list:\n",
    "        if review['rating'] >= 4:\n",
    "            positive_reviews.append(review)\n",
    "    return positive_reviews\n",
    "\n",
    "def get_positive_review_sample(review_list, num_samples):\n",
    "    return random.sample(get_positive_reviews(review_list),num_samples)\n",
    "\n",
    "get_positive_review_sample(reviews,4)"
   ]
  },
  {
   "cell_type": "markdown",
   "id": "c499cc8c-948f-4787-bac4-21a5c4c6605a",
   "metadata": {},
   "source": [
    "Write a function called get_review_summary, which takes a review dictionary as an argument, and returns a string that resembles a summary string."
   ]
  },
  {
   "cell_type": "code",
   "execution_count": 111,
   "id": "cd1e91e1-5257-4edf-9416-39d4702d627a",
   "metadata": {},
   "outputs": [],
   "source": [
    "def get_review_summary(review_list):\n",
    "    title = review_list['review_title']\n",
    "    if review_list['rating'] >= 4:\n",
    "        rating = \"positive\"\n",
    "    elif review_list['rating'] <= 2:\n",
    "        rating = \"negative\"\n",
    "    elif review_list['rating'] == 3:\n",
    "        rating = \"neutral\"\n",
    "    author = review_list[\"reviewer_name\"]\n",
    "    year = review_list['review_time'][-4:]\n",
    "    return f\"{title}: This was a {rating} review written by {author} in {year}\""
   ]
  },
  {
   "cell_type": "code",
   "execution_count": 112,
   "id": "e310511d-f8ac-41a3-9df1-4511fc24f400",
   "metadata": {},
   "outputs": [
    {
     "name": "stdout",
     "output_type": "stream",
     "text": [
      "Bialetti is the Best!: This was a positive review written by Karen in 2017\n"
     ]
    }
   ],
   "source": [
    "print(get_review_summary(reviews[2]))"
   ]
  },
  {
   "cell_type": "markdown",
   "id": "40e9ba44-56d6-408b-ad5f-19579ebc7ed2",
   "metadata": {},
   "source": [
    "Now, instead of copying and pasting that every time, we can just call it repeatedly!\n",
    "\n",
    "Write a function that prompts the user to enter a review index, then prints the relevant review summary. The function should be called review_summary_prompt, it should take a list of reviews as an argument, and should print information but not return anything.\n",
    "\n",
    "Display the message \"Please enter a review index: \" when prompting for input. You can assume that the user will enter a valid index between 0 and 85."
   ]
  },
  {
   "cell_type": "code",
   "execution_count": 121,
   "id": "fa83670b-aa42-4241-942b-4ff54dea42b1",
   "metadata": {},
   "outputs": [
    {
     "name": "stdin",
     "output_type": "stream",
     "text": [
      "Please enter a review index:  4\n"
     ]
    },
    {
     "data": {
      "text/plain": [
       "'Rusted spots everywhere fresh out the box...nasty: This was a negative review written by EJ in 2017'"
      ]
     },
     "execution_count": 121,
     "metadata": {},
     "output_type": "execute_result"
    }
   ],
   "source": [
    "def review_summary_prompt(review_list):\n",
    "    review_index = int(input(\"Please enter a review index: \"))\n",
    "    return get_review_summary(review_list[review_index])\n",
    "\n",
    "review_summary_prompt(reviews)"
   ]
  }
 ],
 "metadata": {
  "kernelspec": {
   "display_name": "Python [conda env:base] *",
   "language": "python",
   "name": "conda-base-py"
  },
  "language_info": {
   "codemirror_mode": {
    "name": "ipython",
    "version": 3
   },
   "file_extension": ".py",
   "mimetype": "text/x-python",
   "name": "python",
   "nbconvert_exporter": "python",
   "pygments_lexer": "ipython3",
   "version": "3.11.7"
  }
 },
 "nbformat": 4,
 "nbformat_minor": 5
}
