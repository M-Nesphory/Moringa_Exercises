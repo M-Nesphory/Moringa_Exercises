{
 "cells": [
  {
   "cell_type": "markdown",
   "id": "8f86b86a-5356-456a-9027-a7381824716a",
   "metadata": {},
   "source": [
    "**Functions**\n",
    "\n",
    "Fucnctions allow us to reuse code"
   ]
  },
  {
   "cell_type": "code",
   "execution_count": 4,
   "id": "6e3e6d80-6665-4486-8f18-3a2a81c2b1d3",
   "metadata": {},
   "outputs": [
    {
     "data": {
      "text/plain": [
       "[\"Hi Jim, I'm so glad to be working with you\",\n",
       " \"Hi Tracy, I'm so glad to be working with you\",\n",
       " \"Hi Lisa, I'm so glad to be working with you\"]"
      ]
     },
     "execution_count": 4,
     "metadata": {},
     "output_type": "execute_result"
    }
   ],
   "source": [
    "new_employees = ['jim', 'tracy', 'lisa']\n",
    "welcome_messages = []\n",
    "for new_employee in new_employees:\n",
    "    welcome_messages.append(\"Hi \" + new_employee.title() + \", I'm so glad to be working with you\")\n",
    "\n",
    "welcome_messages"
   ]
  },
  {
   "cell_type": "markdown",
   "id": "d609275a-d50c-4516-8dc7-0bb04af990bb",
   "metadata": {},
   "source": [
    "Imagine the above code but each time there is anew employee coming in to the office. Instead of always copy-pasting the code. A function can be used"
   ]
  },
  {
   "cell_type": "code",
   "execution_count": 17,
   "id": "bd3a2be1-d404-4efb-87e8-ca0a0e4f7b65",
   "metadata": {},
   "outputs": [],
   "source": [
    "# Defining a function\n",
    "def greet_employees():\n",
    "    welcome_messages = []\n",
    "    for new_employee in new_employees:\n",
    "        welcome_messages.append(\"Hi \" + new_employee.title() + \", I'm so glad to be working with you\")\n",
    "    return welcome_messages"
   ]
  },
  {
   "cell_type": "code",
   "execution_count": 18,
   "id": "365f64de-2bc2-4ade-bb76-812b9883d033",
   "metadata": {},
   "outputs": [
    {
     "data": {
      "text/plain": [
       "[\"Hi John, I'm so glad to be working with you\",\n",
       " \"Hi Kamau, I'm so glad to be working with you\",\n",
       " \"Hi John Kamau, I'm so glad to be working with you\"]"
      ]
     },
     "execution_count": 18,
     "metadata": {},
     "output_type": "execute_result"
    }
   ],
   "source": [
    "new_employees = ['john', 'kamau','John KAMAU']\n",
    "# Calling the function\n",
    "greet_employees()"
   ]
  },
  {
   "cell_type": "markdown",
   "id": "8f33356a-058d-43cd-8323-033bfa38d542",
   "metadata": {},
   "source": [
    "**Breakdown**\n",
    "The first line in the function is the function signature\n",
    "\n",
    "**def function_name():**\n",
    "\n",
    "**def** tells Python we are declaring a function\n",
    "\n",
    "**function_name** shows how to reference and execute the function later\n",
    "\n",
    "**()** houses the parameters\n",
    "\n",
    "**:** ends the function signature\n",
    "\n",
    "After the signature we have the function body which houses what the function does. Indented.\n",
    "\n",
    "Variables that are declared inside a function are not available outside of the function. To get something out of the function, we must use the **return** keyword followed by what we would like to return"
   ]
  },
  {
   "cell_type": "markdown",
   "id": "1202afca-9e66-4216-aa37-c53551547e9d",
   "metadata": {},
   "source": [
    "**Quiz**"
   ]
  },
  {
   "cell_type": "markdown",
   "id": "adde5cbc-72ea-4ed7-b25d-b0d98a8afb11",
   "metadata": {},
   "source": [
    "Imagine we are creating a list of travel destinations -- which can really turn out to be a full time job if we like to travel. We have our list of travel_destinations which we assign below. Write a function called number_of_destinations() that returns the number of destinations we have on our list."
   ]
  },
  {
   "cell_type": "code",
   "execution_count": 20,
   "id": "2ae89414-9fb3-48cb-9d68-675986612fc4",
   "metadata": {},
   "outputs": [],
   "source": [
    "travel_destinations = ['argentina', 'mexico', 'italy', 'finland', 'canada', 'croatia']\n",
    "def number_of_destinations():\n",
    "    destinations = len(travel_destinations)\n",
    "    return destinations"
   ]
  },
  {
   "cell_type": "code",
   "execution_count": 30,
   "id": "2a15c32f-0fa2-420d-9c87-b0e11d836541",
   "metadata": {},
   "outputs": [
    {
     "name": "stdout",
     "output_type": "stream",
     "text": [
      "We have 6 locations\n"
     ]
    }
   ],
   "source": [
    "print(f\"We have {number_of_destinations()} locations\")"
   ]
  },
  {
   "cell_type": "markdown",
   "id": "f0cd22b5-7214-4b69-86c0-c1ef9b7aa856",
   "metadata": {},
   "source": [
    "Now write another function called next_up() that returns our first destination (the destination with the lowest index), in the list_of_destinations list."
   ]
  },
  {
   "cell_type": "code",
   "execution_count": 24,
   "id": "0180e53b-48c7-4d6b-bbb2-45af9127b9fe",
   "metadata": {},
   "outputs": [],
   "source": [
    "list_of_destinations = ['argentina', 'canada', 'croatia']\n",
    "def next_up():\n",
    "    next_location = list_of_destinations[0]\n",
    "    return next_location"
   ]
  },
  {
   "cell_type": "code",
   "execution_count": 26,
   "id": "367ac234-c0ce-4aa1-9eae-1ea7d475fc54",
   "metadata": {},
   "outputs": [
    {
     "data": {
      "text/plain": [
       "'Argentina'"
      ]
     },
     "execution_count": 26,
     "metadata": {},
     "output_type": "execute_result"
    }
   ],
   "source": [
    "next_up().title()"
   ]
  },
  {
   "cell_type": "markdown",
   "id": "872224f3-84b7-4e0d-a537-40adf334ec28",
   "metadata": {},
   "source": [
    "Ok, now write a function called favorite_destination() that returns the string 'madagascar'."
   ]
  },
  {
   "cell_type": "code",
   "execution_count": 57,
   "id": "6689f4ba-ed94-4deb-bfb5-6baee5921938",
   "metadata": {},
   "outputs": [],
   "source": [
    "def favorite_destination():\n",
    "    fav_destination = \"madagascar\"\n",
    "    return fav_destination"
   ]
  },
  {
   "cell_type": "code",
   "execution_count": 35,
   "id": "4f6d9b5f-971e-4c6a-bbf7-ddcdef7ce069",
   "metadata": {},
   "outputs": [
    {
     "data": {
      "text/plain": [
       "'Madagascar'"
      ]
     },
     "execution_count": 35,
     "metadata": {},
     "output_type": "execute_result"
    }
   ],
   "source": [
    "favorite_destination().title()"
   ]
  },
  {
   "cell_type": "markdown",
   "id": "a93ce801-7834-4992-8f16-8a1986ecada6",
   "metadata": {},
   "source": [
    "Again, let's declare a list called favorite_destinations. Write a new function called add_favorite_destination() that adds the string 'madagascar' to the end of favorite_destinations and also returns the string 'madagascar'."
   ]
  },
  {
   "cell_type": "code",
   "execution_count": 55,
   "id": "f40ed627-9b9f-4f63-bdc7-de99397616a8",
   "metadata": {},
   "outputs": [],
   "source": [
    "favorite_destinations = ['argentina', 'mexico', 'italy', 'finland', 'canada', 'croatia']\n",
    "def add_favorite_destination():\n",
    "    favorite_destinations.append('madagascar')\n",
    "    return favorite_destinations[-1]\n"
   ]
  },
  {
   "cell_type": "code",
   "execution_count": 56,
   "id": "f74c3f30-dc7e-4393-b540-3068fb5fb8c1",
   "metadata": {},
   "outputs": [
    {
     "data": {
      "text/plain": [
       "'madagascar'"
      ]
     },
     "execution_count": 56,
     "metadata": {},
     "output_type": "execute_result"
    }
   ],
   "source": [
    "add_favorite_destination()"
   ]
  },
  {
   "cell_type": "markdown",
   "id": "a8f189c3-0784-43c2-a435-b3e13bef2abe",
   "metadata": {},
   "source": [
    "Now let's write another function called capitalize_countries() which iterates through the list of capitalized_destinations and capitalizes the first letter of each word. It should return a list of capitalized destinations."
   ]
  },
  {
   "cell_type": "code",
   "execution_count": 70,
   "id": "e9e6c844-3f1c-4a5b-9694-7a462aadd37c",
   "metadata": {},
   "outputs": [],
   "source": [
    "capitalized_destinations = ['argentina', 'mexico', 'italy', 'finland', 'canada', 'croatia']\n",
    "def capitalized_countries():\n",
    "    capitalized_countries = []\n",
    "    for country in capitalized_destinations:\n",
    "        capitalized_countries.append(country.title())\n",
    "    return capitalized_countries\n"
   ]
  },
  {
   "cell_type": "code",
   "execution_count": 71,
   "id": "28a3b8e1-8843-43d8-8d21-d280742ecdc8",
   "metadata": {},
   "outputs": [
    {
     "data": {
      "text/plain": [
       "['Argentina', 'Mexico', 'Italy', 'Finland', 'Canada', 'Croatia']"
      ]
     },
     "execution_count": 71,
     "metadata": {},
     "output_type": "execute_result"
    }
   ],
   "source": [
    "capitalized_countries()"
   ]
  },
  {
   "cell_type": "markdown",
   "id": "a5b11693-9463-422a-aac1-762e09810f60",
   "metadata": {},
   "source": [
    "**Using Functions with Arguments**\n",
    "\n",
    "Sometimes functions require a variable to run. When code requires something to work, we call that something a dependency."
   ]
  },
  {
   "cell_type": "code",
   "execution_count": 72,
   "id": "983462d8-56a5-474c-98a2-0773d3ab92ff",
   "metadata": {},
   "outputs": [],
   "source": [
    "def meet(traveller):\n",
    "    welcome_message = \"Hi \" + traveller.title() + \", I'm so glad we'll be going on the trip together!\"\n",
    "    return welcome_message"
   ]
  },
  {
   "cell_type": "markdown",
   "id": "9698b1ae-dde4-463a-92a5-02f96ee10b82",
   "metadata": {},
   "source": [
    "The above function needs a variable named traveller to run. When calling the above function. We will need to declare the name of the traveller going with us like so:\n",
    "\n",
    "**NOTE**\n",
    "\n",
    "An *argument* is the data we pass to a function before execution *(e.g \"Nesphory\")* as seen below\n",
    "\n",
    "A *parameter* is the variable we define in the function signature *(e.g traveller)* as seen above"
   ]
  },
  {
   "cell_type": "code",
   "execution_count": 74,
   "id": "0d9697de-5df0-48bb-a998-b5262903ffff",
   "metadata": {},
   "outputs": [
    {
     "data": {
      "text/plain": [
       "\"Hi Nesphory, I'm so glad we'll be going on the trip together!\""
      ]
     },
     "execution_count": 74,
     "metadata": {},
     "output_type": "execute_result"
    }
   ],
   "source": [
    "meet(\"Nesphory\")"
   ]
  },
  {
   "cell_type": "markdown",
   "id": "62d09364-ea38-43c3-95e7-39fd4a95738b",
   "metadata": {},
   "source": [
    "The parameter in the meet() function acts like a variable. It changes depending on the argument passed when the function is called.\n",
    "\n",
    "However the traveller argument is only accessible from inside the function"
   ]
  },
  {
   "cell_type": "code",
   "execution_count": 79,
   "id": "cb7e5709-50c1-4b2a-8f29-568aa7aa5f5e",
   "metadata": {},
   "outputs": [
    {
     "name": "stdin",
     "output_type": "stream",
     "text": [
      "What is your name?  Nesphory\n"
     ]
    },
    {
     "data": {
      "text/plain": [
       "\"Hi Nesphory, I'm so glad we'll be going on the trip together!\""
      ]
     },
     "execution_count": 79,
     "metadata": {},
     "output_type": "execute_result"
    }
   ],
   "source": [
    "name = input(\"What is your name? \")\n",
    "meet(name)"
   ]
  },
  {
   "cell_type": "code",
   "execution_count": 81,
   "id": "f970473a-016c-47da-9413-e0cc5f55ab1c",
   "metadata": {},
   "outputs": [
    {
     "name": "stdout",
     "output_type": "stream",
     "text": [
      "Help on built-in function sum in module builtins:\n",
      "\n",
      "sum(iterable, /, start=0)\n",
      "    Return the sum of a 'start' value (default: 0) plus an iterable of numbers\n",
      "    \n",
      "    When the iterable is empty, return the start value.\n",
      "    This function is intended specifically for use with numeric values and may\n",
      "    reject non-numeric types.\n",
      "\n"
     ]
    }
   ],
   "source": [
    "help(sum)"
   ]
  },
  {
   "cell_type": "markdown",
   "id": "0425cfe6-419f-44df-9689-c474f2091a20",
   "metadata": {},
   "source": [
    "**Quiz**"
   ]
  },
  {
   "cell_type": "markdown",
   "id": "6cfe0250-8c1b-4834-991c-1c58ccc1c7f4",
   "metadata": {},
   "source": [
    "## Exploring Two Restaurants in Albuquerque\n",
    "\n",
    "Let's take a quick look at the information Yelp provides for a single restaurant:"
   ]
  },
  {
   "cell_type": "code",
   "execution_count": 85,
   "id": "d4e08ebd-6c69-493c-be31-c0733cbe18f5",
   "metadata": {},
   "outputs": [
    {
     "data": {
      "text/plain": [
       "{'categories': [{'alias': 'burgers', 'title': 'Burgers'},\n",
       "  {'alias': 'sandwiches', 'title': 'Sandwiches'},\n",
       "  {'alias': 'salad', 'title': 'Salad'}],\n",
       " 'coordinates': {'latitude': 35.10871, 'longitude': -106.56739},\n",
       " 'display_phone': '(505) 881-5293',\n",
       " 'distance': 3571.724649307866,\n",
       " 'id': 'fork-and-fig-albuquerque',\n",
       " 'image_url': 'https://s3-media1.fl.yelpcdn.com/bphoto/_-DpXKfS3jv6DyA47g6Fxg/o.jpg',\n",
       " 'is_closed': False,\n",
       " 'location': {'address1': '6904 Menaul Blvd NE',\n",
       "  'address2': 'Ste C',\n",
       "  'address3': '',\n",
       "  'city': 'Albuquerque',\n",
       "  'country': 'US',\n",
       "  'display_address': ['6904 Menaul Blvd NE', 'Ste C', 'Albuquerque, NM 87110'],\n",
       "  'state': 'NM',\n",
       "  'zip_code': '87110'},\n",
       " 'name': 'Fork & Fig',\n",
       " 'phone': '+15058815293',\n",
       " 'price': '$$',\n",
       " 'rating': 4.5,\n",
       " 'review_count': 604,\n",
       " 'transactions': [],\n",
       " 'url': 'https://www.yelp.com/biz/fork-and-fig-albuquerque?adjust_creative=SYc8R4Gowqru5h4SBKZXsQ&utm_campaign=yelp_api_v3&utm_medium=api_v3_business_search&utm_source=SYc8R4Gowqru5h4SBKZXsQ'}"
      ]
     },
     "execution_count": 85,
     "metadata": {},
     "output_type": "execute_result"
    }
   ],
   "source": [
    "# Run this cell without changes\n",
    "fork_fig = {'categories': [{'alias': 'burgers', 'title': 'Burgers'},\n",
    "  {'alias': 'sandwiches', 'title': 'Sandwiches'},\n",
    "  {'alias': 'salad', 'title': 'Salad'}],\n",
    " 'coordinates': {'latitude': 35.10871, 'longitude': -106.56739},\n",
    " 'display_phone': '(505) 881-5293',\n",
    " 'distance': 3571.724649307866,\n",
    " 'id': 'fork-and-fig-albuquerque',\n",
    " 'image_url': 'https://s3-media1.fl.yelpcdn.com/bphoto/_-DpXKfS3jv6DyA47g6Fxg/o.jpg',\n",
    " 'is_closed': False,\n",
    " 'location': {'address1': '6904 Menaul Blvd NE',\n",
    "  'address2': 'Ste C',\n",
    "  'address3': '',\n",
    "  'city': 'Albuquerque',\n",
    "  'country': 'US',\n",
    "  'display_address': ['6904 Menaul Blvd NE', 'Ste C', 'Albuquerque, NM 87110'],\n",
    "  'state': 'NM',\n",
    "  'zip_code': '87110'},\n",
    " 'name': 'Fork & Fig',\n",
    " 'phone': '+15058815293',\n",
    " 'price': '$$',\n",
    " 'rating': 4.5,\n",
    " 'review_count': 604,\n",
    " 'transactions': [],\n",
    " 'url': 'https://www.yelp.com/biz/fork-and-fig-albuquerque?adjust_creative=SYc8R4Gowqru5h4SBKZXsQ&utm_campaign=yelp_api_v3&utm_medium=api_v3_business_search&utm_source=SYc8R4Gowqru5h4SBKZXsQ'}\n",
    "fork_fig"
   ]
  },
  {
   "cell_type": "markdown",
   "id": "0808505b-3dda-4de8-a30c-2a32ff85cb97",
   "metadata": {},
   "source": [
    "Above is the information provided about Fork & Fig, but all restaurants are provided with this information. For example, here is the information provided by Yelp for another restaurant, Frontier Restaurant."
   ]
  },
  {
   "cell_type": "code",
   "execution_count": 84,
   "id": "341e6615-3f8f-489d-863c-76a8943fab95",
   "metadata": {},
   "outputs": [
    {
     "data": {
      "text/plain": [
       "{'categories': [{'alias': 'mexican', 'title': 'Mexican'},\n",
       "  {'alias': 'diners', 'title': 'Diners'},\n",
       "  {'alias': 'tradamerican', 'title': 'American (Traditional)'}],\n",
       " 'coordinates': {'latitude': 35.0808088832532, 'longitude': -106.619402244687},\n",
       " 'display_phone': '(505) 266-0550',\n",
       " 'distance': 4033.6583235266075,\n",
       " 'id': 'frontier-restaurant-albuquerque-2',\n",
       " 'image_url': 'https://s3-media4.fl.yelpcdn.com/bphoto/M9L2z6-G0NobuDJ6YTh6VA/o.jpg',\n",
       " 'is_closed': False,\n",
       " 'location': {'address1': '2400 Central Ave SE',\n",
       "  'address2': '',\n",
       "  'address3': '',\n",
       "  'city': 'Albuquerque',\n",
       "  'country': 'US',\n",
       "  'display_address': ['2400 Central Ave SE', 'Albuquerque, NM 87106'],\n",
       "  'state': 'NM',\n",
       "  'zip_code': '87106'},\n",
       " 'name': 'Frontier Restaurant',\n",
       " 'phone': '+15052660550',\n",
       " 'price': '$',\n",
       " 'rating': 4.0,\n",
       " 'review_count': 1369,\n",
       " 'transactions': [],\n",
       " 'url': 'https://www.yelp.com/biz/frontier-restaurant-albuquerque-2?adjust_creative=SYc8R4Gowqru5h4SBKZXsQ&utm_campaign=yelp_api_v3&utm_medium=api_v3_business_search&utm_source=SYc8R4Gowqru5h4SBKZXsQ'}"
      ]
     },
     "execution_count": 84,
     "metadata": {},
     "output_type": "execute_result"
    }
   ],
   "source": [
    "# Run this cell without changes\n",
    "frontier_restaurant = {'categories': [{'alias': 'mexican', 'title': 'Mexican'},\n",
    "  {'alias': 'diners', 'title': 'Diners'},\n",
    "  {'alias': 'tradamerican', 'title': 'American (Traditional)'}],\n",
    " 'coordinates': {'latitude': 35.0808088832532, 'longitude': -106.619402244687},\n",
    " 'display_phone': '(505) 266-0550',\n",
    " 'distance': 4033.6583235266075,\n",
    " 'id': 'frontier-restaurant-albuquerque-2',\n",
    " 'image_url': 'https://s3-media4.fl.yelpcdn.com/bphoto/M9L2z6-G0NobuDJ6YTh6VA/o.jpg',\n",
    " 'is_closed': False,\n",
    " 'location': {'address1': '2400 Central Ave SE',\n",
    "  'address2': '',\n",
    "  'address3': '',\n",
    "  'city': 'Albuquerque',\n",
    "  'country': 'US',\n",
    "  'display_address': ['2400 Central Ave SE', 'Albuquerque, NM 87106'],\n",
    "  'state': 'NM',\n",
    "  'zip_code': '87106'},\n",
    " 'name': 'Frontier Restaurant',\n",
    " 'phone': '+15052660550',\n",
    " 'price': '$',\n",
    " 'rating': 4.0,\n",
    " 'review_count': 1369,\n",
    " 'transactions': [],\n",
    " 'url': 'https://www.yelp.com/biz/frontier-restaurant-albuquerque-2?adjust_creative=SYc8R4Gowqru5h4SBKZXsQ&utm_campaign=yelp_api_v3&utm_medium=api_v3_business_search&utm_source=SYc8R4Gowqru5h4SBKZXsQ'}\n",
    "frontier_restaurant"
   ]
  },
  {
   "cell_type": "code",
   "execution_count": 90,
   "id": "da8ff285-896d-4f73-ac2b-055514e19360",
   "metadata": {},
   "outputs": [
    {
     "data": {
      "text/plain": [
       "dict_keys(['categories', 'coordinates', 'display_phone', 'distance', 'id', 'image_url', 'is_closed', 'location', 'name', 'phone', 'price', 'rating', 'review_count', 'transactions', 'url'])"
      ]
     },
     "execution_count": 90,
     "metadata": {},
     "output_type": "execute_result"
    }
   ],
   "source": [
    "fork_fig.keys() # Quickly view attributes of the dictionary"
   ]
  },
  {
   "cell_type": "code",
   "execution_count": 89,
   "id": "6ca35eab-ca71-4fd3-8a9c-d9da88006ace",
   "metadata": {},
   "outputs": [
    {
     "data": {
      "text/plain": [
       "dict_keys(['categories', 'coordinates', 'display_phone', 'distance', 'id', 'image_url', 'is_closed', 'location', 'name', 'phone', 'price', 'rating', 'review_count', 'transactions', 'url'])"
      ]
     },
     "execution_count": 89,
     "metadata": {},
     "output_type": "execute_result"
    }
   ],
   "source": [
    "frontier_restaurant.keys() # Quickly view attributes of the dictionary"
   ]
  },
  {
   "cell_type": "markdown",
   "id": "a5fe7894-0cc9-4128-af36-ad16b410fdf7",
   "metadata": {},
   "source": [
    "Write a function called restaurant_name() that, provided a dictionary representing a restaurant like you saw above, returns that restaurant's name."
   ]
  },
  {
   "cell_type": "code",
   "execution_count": 91,
   "id": "169a55d1-d5af-45e2-aa1c-d8b913290cf9",
   "metadata": {},
   "outputs": [],
   "source": [
    "def restaurant_name(restaurant):\n",
    "    return restaurant['name']"
   ]
  },
  {
   "cell_type": "code",
   "execution_count": 92,
   "id": "983be9fd-ace5-48e6-8881-734e16c79548",
   "metadata": {},
   "outputs": [
    {
     "data": {
      "text/plain": [
       "'Fork & Fig'"
      ]
     },
     "execution_count": 92,
     "metadata": {},
     "output_type": "execute_result"
    }
   ],
   "source": [
    "restaurant_name(fork_fig)"
   ]
  },
  {
   "cell_type": "code",
   "execution_count": 94,
   "id": "40d3665a-2c92-4a5c-b683-0e140ff9d7c5",
   "metadata": {},
   "outputs": [
    {
     "data": {
      "text/plain": [
       "'Frontier Restaurant'"
      ]
     },
     "execution_count": 94,
     "metadata": {},
     "output_type": "execute_result"
    }
   ],
   "source": [
    "restaurant_name(frontier_restaurant)"
   ]
  },
  {
   "cell_type": "markdown",
   "id": "325a4c0c-eb5e-495a-85cc-b2ec81aee404",
   "metadata": {},
   "source": [
    "Now write a function called restaurant_rating() that returns the rating of the provided restaurant."
   ]
  },
  {
   "cell_type": "code",
   "execution_count": 96,
   "id": "51fb3485-fbec-4045-bac6-ba108181bed3",
   "metadata": {},
   "outputs": [],
   "source": [
    "def restaurant_rating(restaurant):\n",
    "    return restaurant['rating']"
   ]
  },
  {
   "cell_type": "code",
   "execution_count": 97,
   "id": "4eb728f5-daf5-48a6-ad14-ea7832486e1e",
   "metadata": {},
   "outputs": [
    {
     "data": {
      "text/plain": [
       "4.0"
      ]
     },
     "execution_count": 97,
     "metadata": {},
     "output_type": "execute_result"
    }
   ],
   "source": [
    "restaurant_rating(frontier_restaurant)"
   ]
  },
  {
   "cell_type": "code",
   "execution_count": 98,
   "id": "ff9674ea-7913-409d-8a6c-83b9a07b9be3",
   "metadata": {},
   "outputs": [
    {
     "data": {
      "text/plain": [
       "4.5"
      ]
     },
     "execution_count": 98,
     "metadata": {},
     "output_type": "execute_result"
    }
   ],
   "source": [
    "restaurant_rating(fork_fig)"
   ]
  },
  {
   "cell_type": "markdown",
   "id": "4ce36496-5664-42fd-b772-6d2b01e0aa9a",
   "metadata": {},
   "source": [
    "Now let's write a function called is_better() that returns True if a restaurant has a higher rating than an alternative restaurant. The first argument should be called restaurant and the second argument should be called alternative. The function returns False if the two ratings are equal.\n",
    "\n",
    "This function should call (AKA invoke) your existing restaurant_rating function."
   ]
  },
  {
   "cell_type": "code",
   "execution_count": 102,
   "id": "f6d4a555-0726-44aa-8bad-09fef61718bd",
   "metadata": {},
   "outputs": [],
   "source": [
    "def is_better(restaurant,alternative):\n",
    "    rest = restaurant_rating(restaurant)\n",
    "    alt = restaurant_rating(alternative)\n",
    "    if rest > alt:\n",
    "        return True\n",
    "    elif alt == rest:\n",
    "        return False\n",
    "    else:\n",
    "        return False"
   ]
  },
  {
   "cell_type": "code",
   "execution_count": 103,
   "id": "3a5f6c74-0feb-4a46-9977-9603f0e3767c",
   "metadata": {},
   "outputs": [
    {
     "data": {
      "text/plain": [
       "False"
      ]
     },
     "execution_count": 103,
     "metadata": {},
     "output_type": "execute_result"
    }
   ],
   "source": [
    "is_better(frontier_restaurant, fork_fig)"
   ]
  },
  {
   "cell_type": "code",
   "execution_count": 104,
   "id": "13597840-37d2-4704-bfb8-7c12a0d8e0e5",
   "metadata": {},
   "outputs": [
    {
     "data": {
      "text/plain": [
       "True"
      ]
     },
     "execution_count": 104,
     "metadata": {},
     "output_type": "execute_result"
    }
   ],
   "source": [
    "is_better(fork_fig, frontier_restaurant)"
   ]
  },
  {
   "cell_type": "code",
   "execution_count": 105,
   "id": "d9d9aa28-f96d-4459-81a7-07376c2e760f",
   "metadata": {},
   "outputs": [
    {
     "data": {
      "text/plain": [
       "False"
      ]
     },
     "execution_count": 105,
     "metadata": {},
     "output_type": "execute_result"
    }
   ],
   "source": [
    "is_better(fork_fig, fork_fig)"
   ]
  },
  {
   "cell_type": "markdown",
   "id": "4bb7607c-74f6-47b8-a9ca-d38c0e6d3e8e",
   "metadata": {},
   "source": [
    "Now let's write a function called is_cheaper() that returns True if a restaurant has a lower price, that is the restaurant has fewer '$' signs, than an alternative restaurant. The first argument should be called restaurant and the second argument should be called alternative. The function returns False if the two prices are equal."
   ]
  },
  {
   "cell_type": "code",
   "execution_count": 107,
   "id": "0bdbaab5-2868-4ab9-8ed2-6dd6251d20d7",
   "metadata": {},
   "outputs": [],
   "source": [
    "def is_cheaper(restaurant,alternative):\n",
    "    if len(restaurant['price']) < len(alternative['price']):\n",
    "        return True\n",
    "    elif len(restaurant['price']) == len(alternative['price']):\n",
    "        return False\n",
    "    else:\n",
    "        return False"
   ]
  },
  {
   "cell_type": "code",
   "execution_count": 108,
   "id": "6e724eb6-72f8-4f93-9e67-7fb94705c562",
   "metadata": {},
   "outputs": [
    {
     "data": {
      "text/plain": [
       "False"
      ]
     },
     "execution_count": 108,
     "metadata": {},
     "output_type": "execute_result"
    }
   ],
   "source": [
    "is_cheaper(fork_fig, frontier_restaurant)"
   ]
  },
  {
   "cell_type": "code",
   "execution_count": 109,
   "id": "683ebba7-b3de-4e48-a073-bb7c41bb181e",
   "metadata": {},
   "outputs": [
    {
     "data": {
      "text/plain": [
       "True"
      ]
     },
     "execution_count": 109,
     "metadata": {},
     "output_type": "execute_result"
    }
   ],
   "source": [
    "is_cheaper(frontier_restaurant, fork_fig)"
   ]
  },
  {
   "cell_type": "code",
   "execution_count": 110,
   "id": "52a29221-7ca7-4a79-a137-85491438c491",
   "metadata": {},
   "outputs": [
    {
     "data": {
      "text/plain": [
       "False"
      ]
     },
     "execution_count": 110,
     "metadata": {},
     "output_type": "execute_result"
    }
   ],
   "source": [
    "is_cheaper(fork_fig, fork_fig)"
   ]
  },
  {
   "cell_type": "markdown",
   "id": "94da72d7-8ab7-414c-9358-e70cb3ff28b1",
   "metadata": {},
   "source": [
    "Now write a function called high_rating() that takes a restaurant as a first argument and a rating (in the form of a number) as the second argument and returns True if the given restaurant's rating is greater than or equal to the provided rating and returns False otherwise."
   ]
  },
  {
   "cell_type": "code",
   "execution_count": 115,
   "id": "68e403e2-e034-4178-a107-9f32d295e8d3",
   "metadata": {},
   "outputs": [],
   "source": [
    "def high_rating(restaurant, rating):\n",
    "    if restaurant['rating'] >= rating:\n",
    "        return True\n",
    "    else:\n",
    "        return False"
   ]
  },
  {
   "cell_type": "code",
   "execution_count": 116,
   "id": "4c2c55e6-7ab7-4b9b-aaa8-9005a1258148",
   "metadata": {},
   "outputs": [
    {
     "data": {
      "text/plain": [
       "True"
      ]
     },
     "execution_count": 116,
     "metadata": {},
     "output_type": "execute_result"
    }
   ],
   "source": [
    "high_rating(fork_fig, 4)"
   ]
  },
  {
   "cell_type": "code",
   "execution_count": 117,
   "id": "e139eff2-bab2-4259-a32d-98a35942e248",
   "metadata": {},
   "outputs": [
    {
     "data": {
      "text/plain": [
       "False"
      ]
     },
     "execution_count": 117,
     "metadata": {},
     "output_type": "execute_result"
    }
   ],
   "source": [
    "high_rating(fork_fig, 5)"
   ]
  },
  {
   "cell_type": "code",
   "execution_count": 121,
   "id": "33672fa7-95d8-4e12-92dc-945190eeb12a",
   "metadata": {},
   "outputs": [
    {
     "data": {
      "text/plain": [
       "True"
      ]
     },
     "execution_count": 121,
     "metadata": {},
     "output_type": "execute_result"
    }
   ],
   "source": [
    "high_rating(frontier_restaurant, 4)"
   ]
  },
  {
   "cell_type": "markdown",
   "id": "45d77bc8-eced-4dab-97dc-9f18e8a3e7e5",
   "metadata": {},
   "source": [
    "Awesome! We have built out some pretty cool functions so far. Let's now think about a case where we have more than just two data points to operate on. We have added some more restaurant dictionaries below and are going to add them to our list of restaurants. Don't worry that they have a slightly different amount of data.\n",
    "\n",
    "We are going to need a function mean_review_count() to give us an idea what the typical value for review_count is. This function should take in a list of restaurant dictionaries and return the mean of the review counts for the collection of restaurant dictionaries."
   ]
  },
  {
   "cell_type": "code",
   "execution_count": 122,
   "id": "cddb2417-4df3-448c-8bdc-11966c399741",
   "metadata": {},
   "outputs": [],
   "source": [
    "dennys = {'categories': [{'alias': 'breakfast', 'title': 'Breakfast'},\n",
    "  {'alias': 'diners', 'title': 'Diners'},\n",
    "  {'alias': 'tradamerican', 'title': 'American (Traditional)'}],\n",
    " 'is_closed': False,\n",
    " 'name': \"Denny's\",\n",
    " 'price': '$',\n",
    " 'rating': 3.0,\n",
    " 'review_count': 1200}\n",
    "\n",
    "ihop = {'categories': [{'alias': 'breakfast', 'title': 'Breakfast'},\n",
    "  {'alias': 'diners', 'title': 'Diners'},\n",
    "  {'alias': 'tradamerican', 'title': 'American (Traditional)'}],\n",
    " 'is_closed': False,\n",
    " 'name': \"IHOP: International House of Pancakes\",\n",
    " 'price': '$',\n",
    " 'rating': 3.45,\n",
    " 'review_count': 1588}\n",
    "\n",
    "mcdonalds = {'categories': [{'alias': 'breakfast', 'title': 'Breakfast'},\n",
    "  {'alias': 'burgers', 'title': 'Burgers'},\n",
    "  {'alias': 'fast food', 'title': 'Good Food Fast'}],\n",
    " 'is_closed': False,\n",
    " 'name': \"McDonalds\",\n",
    " 'price': '$',\n",
    " 'rating': 3.45,\n",
    " 'review_count': 2455}\n",
    "\n",
    "pearl_street_oyster_bar = {'categories': [{'alias': 'seafood', 'title': 'Seafood'},\n",
    "  {'alias': 'gourmet', 'title': 'Gourmet'},\n",
    "  {'alias': 'Shellfish', 'title': 'Shellfish'}],\n",
    " 'is_closed': False,\n",
    " 'name': \"Pear Street Oyster Bar\",\n",
    " 'price': '$$$',\n",
    " 'rating': 4.75,\n",
    " 'review_count': 350}"
   ]
  },
  {
   "cell_type": "code",
   "execution_count": 123,
   "id": "3ac6f4e6-c4d5-4cdd-a9f3-a353b85cc777",
   "metadata": {},
   "outputs": [],
   "source": [
    "restaurant_list = [pearl_street_oyster_bar, mcdonalds, ihop, dennys, fork_fig, frontier_restaurant]"
   ]
  },
  {
   "cell_type": "code",
   "execution_count": 166,
   "id": "7ec77c75-068f-494e-a572-1318ca9cb58c",
   "metadata": {},
   "outputs": [],
   "source": [
    "def mean_review_count(list_of_restaurants):\n",
    "    total = 0\n",
    "    length = len(list_of_restaurants)\n",
    "    for restaurant in list_of_restaurants:\n",
    "        total += restaurant['review_count']\n",
    "    return total/length"
   ]
  },
  {
   "cell_type": "code",
   "execution_count": 167,
   "id": "bf72db7f-d40f-4592-b8ab-9e8981e8ff7b",
   "metadata": {},
   "outputs": [
    {
     "data": {
      "text/plain": [
       "1261.0"
      ]
     },
     "execution_count": 167,
     "metadata": {},
     "output_type": "execute_result"
    }
   ],
   "source": [
    "mean_review_count(restaurant_list)"
   ]
  },
  {
   "cell_type": "markdown",
   "id": "0d6b88a6-f74f-4d95-9b77-ea2d74e60309",
   "metadata": {},
   "source": [
    "Now we have an idea of how many reviews a typical restaurant has, but none of these restaurants have exactly that number of reviews.\n",
    "\n",
    "Which restaurants have a review_count within 150 of the average? (\"within 150\" meaning exactly average, <= 150 fewer reviews than the average, or <= 150 more reviews than the average)\n",
    "\n",
    "Return a list of the restaurant names."
   ]
  },
  {
   "cell_type": "code",
   "execution_count": 173,
   "id": "7e3d7b3d-a7d3-47db-9031-811158755a05",
   "metadata": {},
   "outputs": [],
   "source": [
    "def near_average_review_count(list_of_restaurants):\n",
    "    restaurants_within_average = []\n",
    "    mean = mean_review_count(list_of_restaurants)\n",
    "    for restaurant in list_of_restaurants:\n",
    "        if mean - 150 <= restaurant[\"review_count\"] <= mean + 150:\n",
    "            # if restaurant[\"review_count\"] >= mean - 150 and restaurant[\"review_count\"] <= mean + 150:\n",
    "            restaurants_within_average.append(restaurant['name'])\n",
    "        else:\n",
    "            continue\n",
    "    return restaurants_within_average"
   ]
  },
  {
   "cell_type": "code",
   "execution_count": 174,
   "id": "2be85d2b-7f4a-4448-a305-52b4e02a5983",
   "metadata": {},
   "outputs": [
    {
     "data": {
      "text/plain": [
       "[\"Denny's\", 'Frontier Restaurant']"
      ]
     },
     "execution_count": 174,
     "metadata": {},
     "output_type": "execute_result"
    }
   ],
   "source": [
    "near_average_review_count(restaurant_list)"
   ]
  },
  {
   "cell_type": "code",
   "execution_count": null,
   "id": "38d436c7-d759-45c4-8c28-87a01bbcba3b",
   "metadata": {},
   "outputs": [],
   "source": []
  }
 ],
 "metadata": {
  "kernelspec": {
   "display_name": "Python [conda env:base] *",
   "language": "python",
   "name": "conda-base-py"
  },
  "language_info": {
   "codemirror_mode": {
    "name": "ipython",
    "version": 3
   },
   "file_extension": ".py",
   "mimetype": "text/x-python",
   "name": "python",
   "nbconvert_exporter": "python",
   "pygments_lexer": "ipython3",
   "version": "3.11.7"
  }
 },
 "nbformat": 4,
 "nbformat_minor": 5
}
