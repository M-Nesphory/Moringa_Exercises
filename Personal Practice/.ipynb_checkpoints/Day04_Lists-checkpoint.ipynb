{
 "cells": [
  {
   "cell_type": "markdown",
   "id": "ac867ec2-7c14-414b-b674-e3bcc4212a52",
   "metadata": {},
   "source": [
    "Lists are a form of collection. Used to group multiple pieces of data together. This is how they appear in code:"
   ]
  },
  {
   "cell_type": "code",
   "execution_count": 2,
   "id": "62056a42-8894-4586-9349-64170567cedf",
   "metadata": {},
   "outputs": [
    {
     "data": {
      "text/plain": [
       "['Nairobi', 'Dodoma', 'Kigali', 'Bujumbura', 'Kampala', 'Kinshasa']"
      ]
     },
     "execution_count": 2,
     "metadata": {},
     "output_type": "execute_result"
    }
   ],
   "source": [
    "['Nairobi', 'Dodoma','Kigali','Bujumbura', 'Kampala','Kinshasa']"
   ]
  },
  {
   "cell_type": "markdown",
   "id": "3d708d21-570b-4c84-a6cb-8631cc54eab2",
   "metadata": {},
   "source": [
    "Lists are initialized with an opening square bracket and the list ends with a closing square bracket. Each list item (element) is separated with a comma."
   ]
  },
  {
   "cell_type": "code",
   "execution_count": 3,
   "id": "6d53220b-b074-4b05-9ba9-d275a4cf21d7",
   "metadata": {},
   "outputs": [],
   "source": [
    "ea_capitals = ['Nairobi', 'Dodoma','Kigali','Bujumbura', 'Kampala','Kinshasa']"
   ]
  },
  {
   "cell_type": "code",
   "execution_count": 4,
   "id": "560e8b55-3135-4af5-bd08-66367fe0f3d5",
   "metadata": {},
   "outputs": [
    {
     "data": {
      "text/plain": [
       "['Nairobi', 'Dodoma', 'Kigali', 'Bujumbura', 'Kampala', 'Kinshasa']"
      ]
     },
     "execution_count": 4,
     "metadata": {},
     "output_type": "execute_result"
    }
   ],
   "source": [
    "ea_capitals"
   ]
  },
  {
   "cell_type": "markdown",
   "id": "1f668264-d601-493b-bd55-aefbdf360417",
   "metadata": {},
   "source": [
    "We can access the list elements by referencing the list and using the square brackets to access a specific element in the list using an index.\n",
    "\n",
    "Python uses a zero-indexed numbering scheme for collections which means that numbering begins at zero. So ea_capitals[0] is Nairobi and ea_capitals[1] is Dodoma"
   ]
  },
  {
   "cell_type": "code",
   "execution_count": 5,
   "id": "cc5fc635-ee3d-4f86-bd99-a4777a640f5e",
   "metadata": {},
   "outputs": [
    {
     "data": {
      "text/plain": [
       "'Dodoma'"
      ]
     },
     "execution_count": 5,
     "metadata": {},
     "output_type": "execute_result"
    }
   ],
   "source": [
    "ea_capitals[1]"
   ]
  },
  {
   "cell_type": "code",
   "execution_count": 6,
   "id": "dc89d40a-ed4d-4760-a7fd-d38e3305d779",
   "metadata": {},
   "outputs": [
    {
     "data": {
      "text/plain": [
       "'Nairobi'"
      ]
     },
     "execution_count": 6,
     "metadata": {},
     "output_type": "execute_result"
    }
   ],
   "source": [
    "ea_capitals[0]"
   ]
  },
  {
   "cell_type": "code",
   "execution_count": 7,
   "id": "d4138883-495a-412f-8dbc-0152d9a539b8",
   "metadata": {},
   "outputs": [
    {
     "data": {
      "text/plain": [
       "'Kinshasa'"
      ]
     },
     "execution_count": 7,
     "metadata": {},
     "output_type": "execute_result"
    }
   ],
   "source": [
    "ea_capitals[-1]\n",
    "# To access the last element in the list"
   ]
  },
  {
   "cell_type": "code",
   "execution_count": 8,
   "id": "3f5beade-0c86-477d-865d-001e0a3e66fd",
   "metadata": {},
   "outputs": [
    {
     "data": {
      "text/plain": [
       "'Kampala'"
      ]
     },
     "execution_count": 8,
     "metadata": {},
     "output_type": "execute_result"
    }
   ],
   "source": [
    "ea_capitals[-2]"
   ]
  },
  {
   "cell_type": "code",
   "execution_count": 9,
   "id": "c1558480-e95e-4a87-9534-e170feb64719",
   "metadata": {},
   "outputs": [
    {
     "name": "stdout",
     "output_type": "stream",
     "text": [
      "Nairobi\n"
     ]
    }
   ],
   "source": [
    "# In a string, each element can be equal to a variable now.\n",
    "kenya_capital = ea_capitals[0]\n",
    "print(kenya_capital)"
   ]
  },
  {
   "cell_type": "code",
   "execution_count": 10,
   "id": "20a9c5f5-559f-495b-bf11-055d4ee0a5e3",
   "metadata": {},
   "outputs": [
    {
     "data": {
      "text/plain": [
       "list"
      ]
     },
     "execution_count": 10,
     "metadata": {},
     "output_type": "execute_result"
    }
   ],
   "source": [
    "type(ea_capitals)"
   ]
  },
  {
   "cell_type": "code",
   "execution_count": 11,
   "id": "123d2ba9-01f5-4671-bf3d-1060a1cdcaef",
   "metadata": {},
   "outputs": [
    {
     "data": {
      "text/plain": [
       "str"
      ]
     },
     "execution_count": 11,
     "metadata": {},
     "output_type": "execute_result"
    }
   ],
   "source": [
    "type(kenya_capital)"
   ]
  },
  {
   "cell_type": "markdown",
   "id": "76d4f8fa-cf90-4412-a09d-d50747f8bafe",
   "metadata": {},
   "source": [
    "We can also access multiple elements in a list. We do that but placing two numbers, separated by a colon inside the brackets.\n",
    "\n",
    "E.g ea_capitals [0:2]\n",
    "\n",
    "The first number indicates the index of the first element. The second number reps the index at which we stop our selection minus the index indicated in the slice.\n",
    "\n",
    "This operation is called slicing and of course, we can use this to create another variable."
   ]
  },
  {
   "cell_type": "code",
   "execution_count": 12,
   "id": "6b8565ad-e517-48c8-a7e6-d70718c91bbb",
   "metadata": {},
   "outputs": [
    {
     "data": {
      "text/plain": [
       "['Nairobi', 'Dodoma', 'Kigali']"
      ]
     },
     "execution_count": 12,
     "metadata": {},
     "output_type": "execute_result"
    }
   ],
   "source": [
    "first_three = ea_capitals[0:3]\n",
    "first_three"
   ]
  },
  {
   "cell_type": "code",
   "execution_count": 13,
   "id": "65b7fa8d-b564-425f-a096-aaed7ed2a4e4",
   "metadata": {},
   "outputs": [
    {
     "data": {
      "text/plain": [
       "['Dodoma', 'Kigali', 'Bujumbura']"
      ]
     },
     "execution_count": 13,
     "metadata": {},
     "output_type": "execute_result"
    }
   ],
   "source": [
    "ea_capitals[1:4]"
   ]
  },
  {
   "cell_type": "code",
   "execution_count": 14,
   "id": "320cc4d7-348b-416b-96c2-386601e17750",
   "metadata": {},
   "outputs": [
    {
     "data": {
      "text/plain": [
       "['Dodoma', 'Kigali', 'Bujumbura', 'Kampala', 'Kinshasa']"
      ]
     },
     "execution_count": 14,
     "metadata": {},
     "output_type": "execute_result"
    }
   ],
   "source": [
    "ea_capitals[1:]\n",
    "# This starts from the second element until the end of the list."
   ]
  },
  {
   "cell_type": "code",
   "execution_count": 15,
   "id": "ce628e2a-0d0b-4569-b76f-1332b4c94600",
   "metadata": {},
   "outputs": [
    {
     "data": {
      "text/plain": [
       "['Dodoma', 'Kigali', 'Bujumbura', 'Kampala']"
      ]
     },
     "execution_count": 15,
     "metadata": {},
     "output_type": "execute_result"
    }
   ],
   "source": [
    "ea_capitals[1:-1]\n",
    "# Eliminates the first and last elements"
   ]
  },
  {
   "cell_type": "code",
   "execution_count": 16,
   "id": "0d8ba7ab-ef58-4f7e-aaf9-2386a3c30b61",
   "metadata": {},
   "outputs": [
    {
     "data": {
      "text/plain": [
       "['Nairobi', 'Dodoma', 'Kigali', 'Bujumbura', 'Kampala', 'Kinshasa']"
      ]
     },
     "execution_count": 16,
     "metadata": {},
     "output_type": "execute_result"
    }
   ],
   "source": [
    "ea_capitals"
   ]
  },
  {
   "cell_type": "code",
   "execution_count": 17,
   "id": "03323c21-f56e-4fb1-812a-1e2e90c9bf6c",
   "metadata": {},
   "outputs": [
    {
     "data": {
      "text/plain": [
       "['Kigali', 'Bujumbura', 'Kampala']"
      ]
     },
     "execution_count": 17,
     "metadata": {},
     "output_type": "execute_result"
    }
   ],
   "source": [
    "ea_capitals[2:5]"
   ]
  },
  {
   "cell_type": "code",
   "execution_count": 18,
   "id": "4ea57015-31e7-4c0e-817b-829bd7d055b2",
   "metadata": {},
   "outputs": [],
   "source": [
    "# Adding a new element to the list\n",
    "# Assume that Ethiopia entered the EAC\n",
    "ea_capitals.append('Addis Ababa')"
   ]
  },
  {
   "cell_type": "code",
   "execution_count": 19,
   "id": "ce8c2621-ab14-4281-bbb2-fe6309f07950",
   "metadata": {},
   "outputs": [
    {
     "data": {
      "text/plain": [
       "['Nairobi',\n",
       " 'Dodoma',\n",
       " 'Kigali',\n",
       " 'Bujumbura',\n",
       " 'Kampala',\n",
       " 'Kinshasa',\n",
       " 'Addis Ababa']"
      ]
     },
     "execution_count": 19,
     "metadata": {},
     "output_type": "execute_result"
    }
   ],
   "source": [
    "ea_capitals"
   ]
  },
  {
   "cell_type": "markdown",
   "id": "8159cb1e-7eb7-43d0-aa15-dcc880508092",
   "metadata": {},
   "source": [
    "Addis Ababa has been added to the end of the list. Somalia also entered the EAC but later got out. Add first then remove"
   ]
  },
  {
   "cell_type": "code",
   "execution_count": 20,
   "id": "e194c22b-3aaf-40fd-ad00-aa48e0fe1dee",
   "metadata": {},
   "outputs": [],
   "source": [
    "ea_capitals.append('Mogadishu')"
   ]
  },
  {
   "cell_type": "code",
   "execution_count": 21,
   "id": "185a483e-0067-4a96-a8d4-f5ea1a56d980",
   "metadata": {},
   "outputs": [
    {
     "data": {
      "text/plain": [
       "['Nairobi',\n",
       " 'Dodoma',\n",
       " 'Kigali',\n",
       " 'Bujumbura',\n",
       " 'Kampala',\n",
       " 'Kinshasa',\n",
       " 'Addis Ababa',\n",
       " 'Mogadishu']"
      ]
     },
     "execution_count": 21,
     "metadata": {},
     "output_type": "execute_result"
    }
   ],
   "source": [
    "ea_capitals"
   ]
  },
  {
   "cell_type": "markdown",
   "id": "fc26d57e-03b8-4b28-ad96-dcd446616e9c",
   "metadata": {},
   "source": [
    "The **pop()** method is used to remove the last element of a list.\n"
   ]
  },
  {
   "cell_type": "code",
   "execution_count": 22,
   "id": "e8aa5f8c-3573-49b3-ba99-03357b94c204",
   "metadata": {},
   "outputs": [
    {
     "data": {
      "text/plain": [
       "'Mogadishu'"
      ]
     },
     "execution_count": 22,
     "metadata": {},
     "output_type": "execute_result"
    }
   ],
   "source": [
    "ea_capitals.pop()"
   ]
  },
  {
   "cell_type": "code",
   "execution_count": 23,
   "id": "f5df518c-17eb-4752-b17f-c6a2da2166b8",
   "metadata": {},
   "outputs": [
    {
     "data": {
      "text/plain": [
       "['Nairobi',\n",
       " 'Dodoma',\n",
       " 'Kigali',\n",
       " 'Bujumbura',\n",
       " 'Kampala',\n",
       " 'Kinshasa',\n",
       " 'Addis Ababa']"
      ]
     },
     "execution_count": 23,
     "metadata": {},
     "output_type": "execute_result"
    }
   ],
   "source": [
    "ea_capitals"
   ]
  },
  {
   "cell_type": "markdown",
   "id": "16b529b7-b119-46ec-8e9e-bc5a423896df",
   "metadata": {},
   "source": [
    "We can also change the contents of an element in the list by calling its index and giving it a new value, like so. Assume Tanzania changed their capital from Dodoma to Dar es Salaam"
   ]
  },
  {
   "cell_type": "code",
   "execution_count": 24,
   "id": "5be58edd-e398-4e35-a13c-b07b8d7e41a1",
   "metadata": {},
   "outputs": [
    {
     "data": {
      "text/plain": [
       "'Dodoma'"
      ]
     },
     "execution_count": 24,
     "metadata": {},
     "output_type": "execute_result"
    }
   ],
   "source": [
    "ea_capitals[1]"
   ]
  },
  {
   "cell_type": "code",
   "execution_count": 25,
   "id": "2afa0614-feb9-48bd-ad72-f07fcff33b92",
   "metadata": {},
   "outputs": [],
   "source": [
    "ea_capitals[1] = \"Dar es Salaam\""
   ]
  },
  {
   "cell_type": "code",
   "execution_count": 26,
   "id": "1ec54e77-6c8a-430c-89ec-5fd340688bdc",
   "metadata": {},
   "outputs": [
    {
     "data": {
      "text/plain": [
       "['Nairobi',\n",
       " 'Dar es Salaam',\n",
       " 'Kigali',\n",
       " 'Bujumbura',\n",
       " 'Kampala',\n",
       " 'Kinshasa',\n",
       " 'Addis Ababa']"
      ]
     },
     "execution_count": 26,
     "metadata": {},
     "output_type": "execute_result"
    }
   ],
   "source": [
    "ea_capitals\n",
    "# Updated"
   ]
  },
  {
   "cell_type": "code",
   "execution_count": 27,
   "id": "03e0c98d-1a26-488e-b2e4-b87cce2a9751",
   "metadata": {},
   "outputs": [],
   "source": [
    "ea_capitals[1] = \"Dodoma\"\n",
    "# Back to Normal"
   ]
  },
  {
   "cell_type": "code",
   "execution_count": 28,
   "id": "d8983e43-cb5c-4387-bb8e-ea5d14013e31",
   "metadata": {},
   "outputs": [
    {
     "data": {
      "text/plain": [
       "['Nairobi',\n",
       " 'Dodoma',\n",
       " 'Kigali',\n",
       " 'Bujumbura',\n",
       " 'Kampala',\n",
       " 'Kinshasa',\n",
       " 'Addis Ababa']"
      ]
     },
     "execution_count": 28,
     "metadata": {},
     "output_type": "execute_result"
    }
   ],
   "source": [
    "ea_capitals"
   ]
  },
  {
   "cell_type": "markdown",
   "id": "cfeb2aa2-8f8a-48dd-ba0e-3029a3177080",
   "metadata": {},
   "source": [
    "Sometimes, lists may have repeating values. To get only unique elements, we use the set function that only shows unique values without any order."
   ]
  },
  {
   "cell_type": "code",
   "execution_count": 29,
   "id": "dc3f8c7e-a972-4eb4-af90-dde68df70e57",
   "metadata": {},
   "outputs": [],
   "source": [
    "ea_capitals.append(\"Nairobi\")"
   ]
  },
  {
   "cell_type": "code",
   "execution_count": 30,
   "id": "4660689b-0a57-4e37-9416-267edb3356b2",
   "metadata": {},
   "outputs": [
    {
     "data": {
      "text/plain": [
       "['Nairobi',\n",
       " 'Dodoma',\n",
       " 'Kigali',\n",
       " 'Bujumbura',\n",
       " 'Kampala',\n",
       " 'Kinshasa',\n",
       " 'Addis Ababa',\n",
       " 'Nairobi']"
      ]
     },
     "execution_count": 30,
     "metadata": {},
     "output_type": "execute_result"
    }
   ],
   "source": [
    "ea_capitals"
   ]
  },
  {
   "cell_type": "code",
   "execution_count": 31,
   "id": "04428d21-1b44-478a-bf4c-1b3423dc60c5",
   "metadata": {},
   "outputs": [
    {
     "data": {
      "text/plain": [
       "{'Addis Ababa',\n",
       " 'Bujumbura',\n",
       " 'Dodoma',\n",
       " 'Kampala',\n",
       " 'Kigali',\n",
       " 'Kinshasa',\n",
       " 'Nairobi'}"
      ]
     },
     "execution_count": 31,
     "metadata": {},
     "output_type": "execute_result"
    }
   ],
   "source": [
    "# Converts the list into a set\n",
    "unique_ea_capitals = set(ea_capitals)\n",
    "unique_ea_capitals"
   ]
  },
  {
   "cell_type": "code",
   "execution_count": null,
   "id": "e6cf56df-5650-4846-b829-fc78cb4b7529",
   "metadata": {},
   "outputs": [],
   "source": [
    "# Alternative way to initialize a set\n",
    "my_set = {1, 2, 3}\n",
    "print(my_set)\n",
    "type(my_set)"
   ]
  },
  {
   "cell_type": "code",
   "execution_count": 32,
   "id": "d53196da-6548-4c0f-8c25-9da15c59878b",
   "metadata": {},
   "outputs": [
    {
     "data": {
      "text/plain": [
       "set"
      ]
     },
     "execution_count": 32,
     "metadata": {},
     "output_type": "execute_result"
    }
   ],
   "source": [
    "type(unique_ea_capitals)"
   ]
  },
  {
   "cell_type": "code",
   "execution_count": 33,
   "id": "f1091fd6-3f38-4411-bbd3-f58e607db9d0",
   "metadata": {},
   "outputs": [
    {
     "data": {
      "text/plain": [
       "['Nairobi',\n",
       " 'Dodoma',\n",
       " 'Kigali',\n",
       " 'Bujumbura',\n",
       " 'Kampala',\n",
       " 'Kinshasa',\n",
       " 'Addis Ababa',\n",
       " 'Nairobi']"
      ]
     },
     "execution_count": 33,
     "metadata": {},
     "output_type": "execute_result"
    }
   ],
   "source": [
    "new_ea_capitals = list(unique_ea_capitals)\n",
    "ea_capitals\n",
    "# Converts the cleaned set into a list"
   ]
  },
  {
   "cell_type": "code",
   "execution_count": 34,
   "id": "76befb3c-005b-4466-8d64-f2bfab16c48a",
   "metadata": {},
   "outputs": [
    {
     "data": {
      "text/plain": [
       "list"
      ]
     },
     "execution_count": 34,
     "metadata": {},
     "output_type": "execute_result"
    }
   ],
   "source": [
    "type(new_ea_capitals)"
   ]
  },
  {
   "cell_type": "code",
   "execution_count": 35,
   "id": "c90bc9f8-bad4-495b-a128-7839d0c58ac6",
   "metadata": {},
   "outputs": [
    {
     "data": {
      "text/plain": [
       "8"
      ]
     },
     "execution_count": 35,
     "metadata": {},
     "output_type": "execute_result"
    }
   ],
   "source": [
    "# To check the length or the number of elements in the list, we use the len function.\n",
    "\n",
    "len(ea_capitals)"
   ]
  },
  {
   "cell_type": "code",
   "execution_count": 49,
   "id": "ca70bcfc-5c19-4623-a465-4c6d94a42afc",
   "metadata": {},
   "outputs": [
    {
     "data": {
      "text/plain": [
       "7"
      ]
     },
     "execution_count": 49,
     "metadata": {},
     "output_type": "execute_result"
    }
   ],
   "source": [
    "len(new_ea_capitals)"
   ]
  },
  {
   "cell_type": "code",
   "execution_count": 51,
   "id": "968b0609-a214-4661-abdc-b6c833696498",
   "metadata": {},
   "outputs": [
    {
     "name": "stdout",
     "output_type": "stream",
     "text": [
      "[1, 2, 3, 4, 5, 6]\n"
     ]
    }
   ],
   "source": [
    "l1 = [1,2,3]\n",
    "l2 = [4,5,6]\n",
    "l1.extend(l2)\n",
    "print(l1)\n",
    "# Adds elements from the second list to the first list"
   ]
  },
  {
   "cell_type": "markdown",
   "id": "048129bf-e84e-49bb-9d96-90c6052f5689",
   "metadata": {},
   "source": [
    "**Lists Lab**"
   ]
  },
  {
   "cell_type": "code",
   "execution_count": 37,
   "id": "8fed3c08-f2e2-47fc-8c88-364d95033e23",
   "metadata": {},
   "outputs": [
    {
     "data": {
      "text/plain": [
       "['Croatia',\n",
       " 'USA',\n",
       " 'Argentina',\n",
       " 'Mexico',\n",
       " 'USA',\n",
       " 'Morocco',\n",
       " 'New Mexico',\n",
       " 'Finland',\n",
       " 'Argentina',\n",
       " 'Italy',\n",
       " 'Canada',\n",
       " 'South Korea']"
      ]
     },
     "execution_count": 37,
     "metadata": {},
     "output_type": "execute_result"
    }
   ],
   "source": [
    "countries = ['Croatia',\n",
    " 'USA',\n",
    " 'Argentina',\n",
    " 'Mexico',\n",
    " 'USA',\n",
    " 'Morocco',\n",
    " 'New Mexico',\n",
    " 'Finland',\n",
    " 'Argentina',\n",
    " 'Italy',\n",
    " 'Canada',\n",
    " 'South Korea']\n",
    "countries\n",
    "# Initializing a list"
   ]
  },
  {
   "cell_type": "code",
   "execution_count": 38,
   "id": "7ef5920a-0289-45cb-9217-c797a54ccddc",
   "metadata": {},
   "outputs": [
    {
     "name": "stdout",
     "output_type": "stream",
     "text": [
      "Italy\n"
     ]
    }
   ],
   "source": [
    "italy = countries[-3]\n",
    "print(italy)\n",
    "# Accessing Italy from the list and assigning it a variable"
   ]
  },
  {
   "cell_type": "code",
   "execution_count": 39,
   "id": "05d8564f-5479-453a-af44-b7efbe2f6442",
   "metadata": {},
   "outputs": [
    {
     "name": "stdout",
     "output_type": "stream",
     "text": [
      "Mexico\n"
     ]
    }
   ],
   "source": [
    "mexico = countries[3]\n",
    "print(mexico)\n",
    "# Accessing Mexico from the list and assigning it a variable"
   ]
  },
  {
   "cell_type": "code",
   "execution_count": 40,
   "id": "49000db9-deda-4ea0-b203-11b1a3422c27",
   "metadata": {},
   "outputs": [
    {
     "name": "stdout",
     "output_type": "stream",
     "text": [
      "['Argentina', 'Mexico', 'USA']\n"
     ]
    }
   ],
   "source": [
    "kindof_neighbours = countries[2:5]\n",
    "print(kindof_neighbours)\n",
    "# Slicing and printing a subset of the list. From the 2nd element to the 5th"
   ]
  },
  {
   "cell_type": "code",
   "execution_count": 41,
   "id": "d852fde2-a3aa-4bca-a692-106b97741350",
   "metadata": {},
   "outputs": [],
   "source": [
    "countries.append(\"Malta\")\n",
    "countries.append('Thailand')\n",
    "# Adding Malta and Thailand to the list"
   ]
  },
  {
   "cell_type": "code",
   "execution_count": 42,
   "id": "a4ebb17b-fdbb-4834-934e-3d64c7d52556",
   "metadata": {},
   "outputs": [
    {
     "data": {
      "text/plain": [
       "['Croatia',\n",
       " 'USA',\n",
       " 'Argentina',\n",
       " 'Mexico',\n",
       " 'USA',\n",
       " 'Morocco',\n",
       " 'New Mexico',\n",
       " 'Finland',\n",
       " 'Argentina',\n",
       " 'Italy',\n",
       " 'Canada',\n",
       " 'South Korea',\n",
       " 'Malta',\n",
       " 'Thailand']"
      ]
     },
     "execution_count": 42,
     "metadata": {},
     "output_type": "execute_result"
    }
   ],
   "source": [
    "countries"
   ]
  },
  {
   "cell_type": "code",
   "execution_count": 43,
   "id": "a6533704-34d4-44bc-95c4-af016d01692a",
   "metadata": {},
   "outputs": [],
   "source": [
    "countries[6] = \"USA\"\n",
    "# Changing New Mexico to USA"
   ]
  },
  {
   "cell_type": "code",
   "execution_count": 44,
   "id": "e25c53ce-fa16-4a57-b830-0487f1253be6",
   "metadata": {},
   "outputs": [
    {
     "data": {
      "text/plain": [
       "['Croatia',\n",
       " 'USA',\n",
       " 'Argentina',\n",
       " 'Mexico',\n",
       " 'USA',\n",
       " 'Morocco',\n",
       " 'USA',\n",
       " 'Finland',\n",
       " 'Argentina',\n",
       " 'Italy',\n",
       " 'Canada',\n",
       " 'South Korea',\n",
       " 'Malta',\n",
       " 'Thailand']"
      ]
     },
     "execution_count": 44,
     "metadata": {},
     "output_type": "execute_result"
    }
   ],
   "source": [
    "countries"
   ]
  },
  {
   "cell_type": "code",
   "execution_count": 45,
   "id": "58266a04-832a-49a3-a21d-3f2702c8d865",
   "metadata": {},
   "outputs": [
    {
     "name": "stdout",
     "output_type": "stream",
     "text": [
      "['Croatia', 'USA', 'Argentina', 'Mexico', 'USA', 'Morocco', 'USA', 'Finland', 'Argentina', 'Italy', 'Canada', 'South Korea', 'Malta']\n"
     ]
    }
   ],
   "source": [
    "countries.pop()\n",
    "print(countries)\n",
    "# Removing Thailand from the list for no good reason"
   ]
  },
  {
   "cell_type": "code",
   "execution_count": 46,
   "id": "3f7cf4f4-a3e6-47ad-bd12-e529618e8499",
   "metadata": {},
   "outputs": [],
   "source": [
    "unique_countries = set(countries)\n",
    "# Converting the list to a set to remove duplicate values"
   ]
  },
  {
   "cell_type": "code",
   "execution_count": 47,
   "id": "4a19653e-6a67-44b4-9661-9f53f8b68a19",
   "metadata": {},
   "outputs": [
    {
     "name": "stdout",
     "output_type": "stream",
     "text": [
      "{'USA', 'Finland', 'Mexico', 'South Korea', 'Italy', 'Malta', 'Argentina', 'Canada', 'Croatia', 'Morocco'}\n"
     ]
    }
   ],
   "source": [
    "print(unique_countries)"
   ]
  },
  {
   "cell_type": "code",
   "execution_count": 48,
   "id": "e6ddd22a-2ada-47b4-bad4-7dd32d2d9d6c",
   "metadata": {},
   "outputs": [
    {
     "name": "stdout",
     "output_type": "stream",
     "text": [
      "3\n"
     ]
    }
   ],
   "source": [
    "num_of_repeats = len(countries) - len(unique_countries)\n",
    "print(num_of_repeats)\n",
    "# Getting the number of elements from the countries list and the unique_countries set \n",
    "# o figure out the number of duplicate values"
   ]
  }
 ],
 "metadata": {
  "kernelspec": {
   "display_name": "Python 3 (ipykernel)",
   "language": "python",
   "name": "python3"
  },
  "language_info": {
   "codemirror_mode": {
    "name": "ipython",
    "version": 3
   },
   "file_extension": ".py",
   "mimetype": "text/x-python",
   "name": "python",
   "nbconvert_exporter": "python",
   "pygments_lexer": "ipython3",
   "version": "3.11.7"
  }
 },
 "nbformat": 4,
 "nbformat_minor": 5
}
