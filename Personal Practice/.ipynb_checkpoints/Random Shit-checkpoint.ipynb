{
 "cells": [
  {
   "cell_type": "code",
   "execution_count": null,
   "id": "71a9be07-aa69-4bb5-aac3-d4c0deab6eaf",
   "metadata": {},
   "outputs": [],
   "source": [
    "def stats(df):\n",
    "    ''' Calculate mean, median, std, min, max, and range '''\n",
    "    cols = df.columns\n",
    "    data = df[column]\n",
    "    mean = data.mean()\n",
    "    median = data.median()\n",
    "    mode = df[column].mode()\n",
    "    std = data.std()\n",
    "    min_val = data.min()\n",
    "    max_val = data.max()\n",
    "    data_range = max_val - min_val"
   ]
  }
 ],
 "metadata": {
  "kernelspec": {
   "display_name": "Python [conda env:base] *",
   "language": "python",
   "name": "conda-base-py"
  },
  "language_info": {
   "codemirror_mode": {
    "name": "ipython",
    "version": 3
   },
   "file_extension": ".py",
   "mimetype": "text/x-python",
   "name": "python",
   "nbconvert_exporter": "python",
   "pygments_lexer": "ipython3",
   "version": "3.11.7"
  }
 },
 "nbformat": 4,
 "nbformat_minor": 5
}
