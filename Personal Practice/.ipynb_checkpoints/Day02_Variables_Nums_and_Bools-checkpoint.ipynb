{
 "cells": [
  {
   "cell_type": "code",
   "execution_count": 1,
   "id": "74177669-a2f1-4731-bc74-4721a982693b",
   "metadata": {},
   "outputs": [
    {
     "data": {
      "text/plain": [
       "3618"
      ]
     },
     "execution_count": 1,
     "metadata": {},
     "output_type": "execute_result"
    }
   ],
   "source": [
    "54 * 67"
   ]
  },
  {
   "cell_type": "code",
   "execution_count": 2,
   "id": "208c4657-b2bf-4d5b-adcf-0e38e189b3e0",
   "metadata": {},
   "outputs": [
    {
     "data": {
      "text/plain": [
       "int"
      ]
     },
     "execution_count": 2,
     "metadata": {},
     "output_type": "execute_result"
    }
   ],
   "source": [
    "type(3618)"
   ]
  },
  {
   "cell_type": "code",
   "execution_count": 3,
   "id": "ac2b12e2-01f0-4e89-a706-bc79840d96e8",
   "metadata": {},
   "outputs": [
    {
     "data": {
      "text/plain": [
       "10.75"
      ]
     },
     "execution_count": 3,
     "metadata": {},
     "output_type": "execute_result"
    }
   ],
   "source": [
    "10 + 0.75"
   ]
  },
  {
   "cell_type": "markdown",
   "id": "aeaa529b-e70b-48fa-8f65-2bf5f98ee81d",
   "metadata": {},
   "source": [
    "int - Number without a decimal\n",
    "\n",
    "float - Number with a decimal\n",
    "\n",
    "Boolean - Either True or False. Mostly used in comparisons\n",
    "\n",
    "We can convert data types into other datatypes\n",
    "For example\n",
    "\n",
    "To convert a str to an int, we write, **int('34')**\n",
    "\n",
    "To convert a int/float to a str, we write, **str(34)** e.g when writing an address\n",
    "\n",
    "For Bool, 0 reps False and 1 reps True"
   ]
  },
  {
   "cell_type": "code",
   "execution_count": 17,
   "id": "20669972-296a-40b2-9821-b8a48a065d0c",
   "metadata": {},
   "outputs": [
    {
     "data": {
      "text/plain": [
       "str"
      ]
     },
     "execution_count": 17,
     "metadata": {},
     "output_type": "execute_result"
    }
   ],
   "source": [
    "x = '34'\n",
    "type(x)"
   ]
  },
  {
   "cell_type": "code",
   "execution_count": 14,
   "id": "0b05e4e4-8f2d-4cab-9e82-07a591e1a921",
   "metadata": {},
   "outputs": [
    {
     "data": {
      "text/plain": [
       "int"
      ]
     },
     "execution_count": 14,
     "metadata": {},
     "output_type": "execute_result"
    }
   ],
   "source": [
    "x= int('34')\n",
    "type(x)\n",
    "\n",
    "# Converted"
   ]
  },
  {
   "cell_type": "code",
   "execution_count": 16,
   "id": "3419012d-bb13-4403-8dd5-23efd5da1467",
   "metadata": {},
   "outputs": [
    {
     "data": {
      "text/plain": [
       "'KG 532 ST 3'"
      ]
     },
     "execution_count": 16,
     "metadata": {},
     "output_type": "execute_result"
    }
   ],
   "source": [
    "\"KG \" +str(532)+ \" ST \" +str(3)"
   ]
  },
  {
   "cell_type": "markdown",
   "id": "bae8cd59-0a73-4f60-958c-bfdd63a68378",
   "metadata": {},
   "source": [
    "**Variables_Nums_And_Bools_Lab**"
   ]
  },
  {
   "cell_type": "code",
   "execution_count": 25,
   "id": "81ae069f-1f4f-471c-b85a-06d68df19e8f",
   "metadata": {},
   "outputs": [],
   "source": [
    "art_vandelay = \"art vandelay\""
   ]
  },
  {
   "cell_type": "code",
   "execution_count": 24,
   "id": "c11dc3bb-b5ee-4701-b83d-a62d53d60ea6",
   "metadata": {},
   "outputs": [
    {
     "data": {
      "text/plain": [
       "'Art Vandelay'"
      ]
     },
     "execution_count": 24,
     "metadata": {},
     "output_type": "execute_result"
    }
   ],
   "source": [
    "art_vandelay.title()\n",
    "# Capitalizes both First and Last name"
   ]
  },
  {
   "cell_type": "code",
   "execution_count": 26,
   "id": "89883998-e972-4178-9e8b-1c7df9864388",
   "metadata": {},
   "outputs": [
    {
     "data": {
      "text/plain": [
       "'CEO'"
      ]
     },
     "execution_count": 26,
     "metadata": {},
     "output_type": "execute_result"
    }
   ],
   "source": [
    "ceo = \"Ceo\"\n",
    "ceo.upper()\n",
    "# Converts to UPPERCASE"
   ]
  },
  {
   "cell_type": "code",
   "execution_count": 29,
   "id": "8c8aaec1-58cd-42cb-aed5-f7d14ec3ac30",
   "metadata": {},
   "outputs": [
    {
     "data": {
      "text/plain": [
       "False"
      ]
     },
     "execution_count": 29,
     "metadata": {},
     "output_type": "execute_result"
    }
   ],
   "source": [
    "ends_with_com = \"art.vandelay@vandelay.co\"\n",
    "ends_with_com.endswith(\".com\")\n",
    "#Checks to see if email ends with \".com\""
   ]
  },
  {
   "cell_type": "code",
   "execution_count": 33,
   "id": "0184f2a6-aed3-4598-bcad-e206fb83f519",
   "metadata": {},
   "outputs": [
    {
     "data": {
      "text/plain": [
       "'www.vandelay.com'"
      ]
     },
     "execution_count": 33,
     "metadata": {},
     "output_type": "execute_result"
    }
   ],
   "source": [
    "web_address = 'vandelay.com'\n",
    "web_address = \"www.\" + web_address\n",
    "web_address"
   ]
  },
  {
   "cell_type": "code",
   "execution_count": 41,
   "id": "edb45054-f767-4b9d-89f1-d6b6548f0b16",
   "metadata": {},
   "outputs": [
    {
     "data": {
      "text/plain": [
       "7285553335"
      ]
     },
     "execution_count": 41,
     "metadata": {},
     "output_type": "execute_result"
    }
   ],
   "source": [
    "phone_num_one = \"7285553334\"\n",
    "int(phone_num_one) + 1\n",
    "# Converting phone number to an int and operating on it"
   ]
  },
  {
   "cell_type": "code",
   "execution_count": 42,
   "id": "acc50482-f178-4df6-8095-29f5e36e0bc7",
   "metadata": {},
   "outputs": [
    {
     "data": {
      "text/plain": [
       "7285553336"
      ]
     },
     "execution_count": 42,
     "metadata": {},
     "output_type": "execute_result"
    }
   ],
   "source": [
    "phone_num_one = \"7285553334\"\n",
    "int(phone_num_one) + 2\n",
    "# Converting phone number to an int and operating on it"
   ]
  },
  {
   "cell_type": "markdown",
   "id": "4154e23b-d39b-4f36-8455-2a3a22fa4842",
   "metadata": {},
   "source": [
    "**Variables Assignment**"
   ]
  },
  {
   "cell_type": "code",
   "execution_count": 43,
   "id": "7577faa6-36c2-4d28-9555-b6a42333113f",
   "metadata": {},
   "outputs": [],
   "source": [
    "travel_month = \"January\""
   ]
  },
  {
   "cell_type": "code",
   "execution_count": 44,
   "id": "24442d9c-ad75-42bf-90d0-9f3c5c50cc03",
   "metadata": {},
   "outputs": [],
   "source": [
    "number_of_weeks = 3"
   ]
  },
  {
   "cell_type": "code",
   "execution_count": 45,
   "id": "f7decc97-e367-4a61-aaa6-93d443927881",
   "metadata": {},
   "outputs": [],
   "source": [
    "number_of_weeks = 5"
   ]
  },
  {
   "cell_type": "code",
   "execution_count": 46,
   "id": "fa59d217-6e25-4b18-960b-5b8fa76456f5",
   "metadata": {},
   "outputs": [
    {
     "data": {
      "text/plain": [
       "'I will be travelling 5 weeks starting in the month of January'"
      ]
     },
     "execution_count": 46,
     "metadata": {},
     "output_type": "execute_result"
    }
   ],
   "source": [
    "# First Method of Sring Interpolation\n",
    "\"I will be travelling \" +str(number_of_weeks)+ \" weeks starting in the month of \" + travel_month"
   ]
  },
  {
   "cell_type": "code",
   "execution_count": 52,
   "id": "7a1e12ed-6cc0-47f4-80a5-5eb9b4c9f823",
   "metadata": {},
   "outputs": [
    {
     "data": {
      "text/plain": [
       "'I will be travelling 5 weeks starting in the month of January'"
      ]
     },
     "execution_count": 52,
     "metadata": {},
     "output_type": "execute_result"
    }
   ],
   "source": [
    "# Second method of String Interpolation\n",
    "\"I will be travelling {number_of_weeks} weeks starting in the month of {travel_month}\".format(number_of_weeks = str(number_of_weeks), travel_month = travel_month)"
   ]
  },
  {
   "cell_type": "code",
   "execution_count": 56,
   "id": "dda8d7ef-2e43-47c9-a977-a5ac97aac573",
   "metadata": {},
   "outputs": [
    {
     "data": {
      "text/plain": [
       "'I will be travelling 5 weeks starting in the month of January'"
      ]
     },
     "execution_count": 56,
     "metadata": {},
     "output_type": "execute_result"
    }
   ],
   "source": [
    "# Third method of string interpolation\n",
    "f\"I will be travelling {str(number_of_weeks)} weeks starting in the month of {travel_month}\""
   ]
  }
 ],
 "metadata": {
  "kernelspec": {
   "display_name": "Python 3 (ipykernel)",
   "language": "python",
   "name": "python3"
  },
  "language_info": {
   "codemirror_mode": {
    "name": "ipython",
    "version": 3
   },
   "file_extension": ".py",
   "mimetype": "text/x-python",
   "name": "python",
   "nbconvert_exporter": "python",
   "pygments_lexer": "ipython3",
   "version": "3.11.7"
  }
 },
 "nbformat": 4,
 "nbformat_minor": 5
}
