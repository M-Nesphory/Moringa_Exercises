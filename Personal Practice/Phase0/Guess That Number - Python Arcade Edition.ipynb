{
 "cells": [
  {
   "cell_type": "code",
   "execution_count": null,
   "id": "df4a7adc-cfa9-416a-9c2a-47894e3fe4b2",
   "metadata": {},
   "outputs": [],
   "source": [
    "import random\n",
    "import numpy as np\n",
    "number_pool = np.arange(1, 21)\n",
    "choice = random.choice(number_pool)\n",
    "guess_count = 1\n",
    "while guess_count <= 5:\n",
    "    guess = int(input(\"Guess a number between 1 and 20: \"))\n",
    "    if guess > 20:\n",
    "        print(\"Wrong input. Please enter a number between 1 and 20\")\n",
    "        guess_count += 1\n",
    "        continue\n",
    "    if guess > choice:\n",
    "        print(\"Go lower\")\n",
    "        guess_count += 1\n",
    "    elif guess < choice:\n",
    "        print(\"Go higher\")\n",
    "        guess_count += 1\n",
    "    elif guess == choice:\n",
    "        print(\"Bang on!\")\n",
    "        print(f\"That took you {guess_count} tries\")\n",
    "        guess_count += 1\n",
    "        break\n",
    "\n",
    "print(f\"\\nGame Over! The correct guess was {choice}\")\n"
   ]
  }
 ],
 "metadata": {
  "kernelspec": {
   "display_name": "Python [conda env:base] *",
   "language": "python",
   "name": "conda-base-py"
  },
  "language_info": {
   "codemirror_mode": {
    "name": "ipython",
    "version": 3
   },
   "file_extension": ".py",
   "mimetype": "text/x-python",
   "name": "python",
   "nbconvert_exporter": "python",
   "pygments_lexer": "ipython3",
   "version": "3.11.7"
  }
 },
 "nbformat": 4,
 "nbformat_minor": 5
}
