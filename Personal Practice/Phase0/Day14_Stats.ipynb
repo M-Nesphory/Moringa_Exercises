{
 "cells": [
  {
   "cell_type": "markdown",
   "id": "0481a08d-0a49-4ad2-a16a-c50b75455f40",
   "metadata": {},
   "source": [
    "For this lab, we'll use the NHIS dataset, which contains weights, heights, and some other attributes for a number of surveyed individuals. The context of this survey is outside the scope this lab, so we'll just go ahead and load the heights column as a list for us to run some simple statistical experiments. We'll use the pandas library to import the data into our Python environment. This process will be covered in detail in a later section. For now, we'll do this part for you to give you a head start.\n",
    "\n",
    "Run the cell below to import the data."
   ]
  },
  {
   "cell_type": "code",
   "execution_count": 5,
   "id": "2c31f016-fad5-4bfa-b923-c040dc8c6bd2",
   "metadata": {},
   "outputs": [],
   "source": [
    "import pandas as pd\n",
    "df = pd.read_csv('nhis.csv')\n",
    "height = list(df['height'])"
   ]
  },
  {
   "cell_type": "markdown",
   "id": "4c315e2f-f343-46e6-b4d9-1f0b4dca7c0c",
   "metadata": {},
   "source": [
    "We are only interested in the height column, so we saved it as a list in the variable height in the cell above.\n",
    "\n",
    "In the cells below:\n",
    "\n",
    "- Display the number of items in height\n",
    "- Slice and display the first 10 items from height"
   ]
  },
  {
   "cell_type": "code",
   "execution_count": 6,
   "id": "67b82d60-e5ae-40f6-85eb-1cba29df2220",
   "metadata": {},
   "outputs": [
    {
     "data": {
      "text/plain": [
       "4785"
      ]
     },
     "execution_count": 6,
     "metadata": {},
     "output_type": "execute_result"
    }
   ],
   "source": [
    "num_records = len(height)\n",
    "num_records"
   ]
  },
  {
   "cell_type": "code",
   "execution_count": 7,
   "id": "98d96135-87b5-4f0d-b368-ec9db367bc1c",
   "metadata": {},
   "outputs": [
    {
     "data": {
      "text/plain": [
       "[74, 70, 61, 68, 66, 98, 99, 70, 65, 64]"
      ]
     },
     "execution_count": 7,
     "metadata": {},
     "output_type": "execute_result"
    }
   ],
   "source": [
    "first_10 = height[0:10]\n",
    "first_10"
   ]
  },
  {
   "cell_type": "markdown",
   "id": "4e21a294-82bb-485c-9358-7a7dbfc82bac",
   "metadata": {},
   "source": [
    "Plotting Histograms\n",
    "\n",
    "We'll begin by importing the pyplot module from the library matplotlib and setting an alias of plt for it (so that we only have to type plt. instead of matplotlib.pyplot. each time we want to use it). Note that plt is considered the standard alias for Matplotlib.\n",
    "\n",
    "Run the cell below to import Matplotlib and use it to create a histogram of our height data with 8 different bins."
   ]
  },
  {
   "cell_type": "code",
   "execution_count": 8,
   "id": "53c46737-02ad-4b35-8652-4ca694083612",
   "metadata": {},
   "outputs": [],
   "source": [
    "import matplotlib.pyplot as plt\n",
    "%matplotlib inline\n",
    "# The above is used so that the plot is run in the notebook directly and not a separate window"
   ]
  },
  {
   "cell_type": "markdown",
   "id": "ab4e718d-bec6-4176-b1ca-e5e092bf2fe5",
   "metadata": {},
   "source": [
    "Next, we'll use Matplotlib to create a histogram by passing in our data, as well as the parameter bins=8, into the hist function."
   ]
  },
  {
   "cell_type": "code",
   "execution_count": 9,
   "id": "0f8a94b7-0b81-4bea-9d35-8a0a4e9c55d9",
   "metadata": {},
   "outputs": [
    {
     "data": {
      "image/png": "[encoded data removed]",
      "text/plain": [
       "<Figure size 640x480 with 1 Axes>"
      ]
     },
     "metadata": {},
     "output_type": "display_data"
    }
   ],
   "source": [
    "plt.hist(height, bins=8);"
   ]
  },
  {
   "cell_type": "markdown",
   "id": "6798732a-2505-42a3-81c5-769e8b272cd3",
   "metadata": {},
   "source": [
    "Using the Python skills you have learned so far, create a function get_mean() to perform the following tasks:\n",
    "\n",
    "- Input a list of numbers (like the height list we have above)\n",
    "- Calculate the sum of numbers and length of the list\n",
    "- Calculate mean from above, round off to 2 decimals and return it."
   ]
  },
  {
   "cell_type": "code",
   "execution_count": 10,
   "id": "da5246d9-aa87-4f3c-a1da-40bb1903c577",
   "metadata": {},
   "outputs": [
    {
     "name": "stdout",
     "output_type": "stream",
     "text": [
      "Sample mean: 69.58\n"
     ]
    }
   ],
   "source": [
    "def get_mean(lst):\n",
    "    '''\n",
    "    This function calculates the mean of a list\n",
    "    '''\n",
    "    total = 0\n",
    "    length = len(lst)\n",
    "    for item in lst:\n",
    "        total += item\n",
    "    mean = total/length\n",
    "    return round(mean,2)\n",
    "\n",
    "mean = get_mean(height)\n",
    "print(\"Sample mean:\", mean)"
   ]
  },
  {
   "cell_type": "markdown",
   "id": "d3f51fe0-8280-4cea-bda1-1f3cf218c775",
   "metadata": {},
   "source": [
    "So, we have our mean length, 69.58, and this confirms our observations from the histogram. But we also have some outliers in our data above and we know outliers affect the mean calculation by pulling the mean value in their direction. So, let's remove these outliers and create a new list to see if our mean shifts or stays. We'll use a threshold of 80 inches, i.e. filter out any values greater than 80.\n",
    "\n",
    "Perform following tasks:\n",
    "\n",
    "- Create a function filter_height_outliers that takes a list as an argument\n",
    "- Perform a for loop to iteratively check and append values to a new list if the value is less than 80, for every element in the original list\n",
    "- Return the new list"
   ]
  },
  {
   "cell_type": "code",
   "execution_count": 11,
   "id": "f01338af-9ee7-4784-a226-fb6ddef9e447",
   "metadata": {},
   "outputs": [
    {
     "data": {
      "text/plain": [
       "4347"
      ]
     },
     "execution_count": 11,
     "metadata": {},
     "output_type": "execute_result"
    }
   ],
   "source": [
    "def filter_height_outliers(lst):\n",
    "    '''\n",
    "    This function removes items greater than 80\n",
    "    '''\n",
    "    filtered_list = []\n",
    "    for item in lst:\n",
    "        if item < 80:\n",
    "            filtered_list.append(item)\n",
    "        else:\n",
    "            continue\n",
    "\n",
    "    return filtered_list\n",
    "\n",
    "filter_height_outliers(height)\n",
    "# Append the cleaned heights to a new list - filtered_height\n",
    "filtered_height = filter_height_outliers(height)\n",
    "len(filtered_height)"
   ]
  },
  {
   "cell_type": "markdown",
   "id": "f8aaccd6-beab-404c-aac8-41ef2fb52723",
   "metadata": {},
   "source": [
    "Now that we have filtered the outliers out of our data and reduced the size of the dataset from 4785 to 4347, let's recreate our histogram with 8 bins using our filtered data."
   ]
  },
  {
   "cell_type": "code",
   "execution_count": 12,
   "id": "56522b7d-2610-415a-b15c-5c788726bc54",
   "metadata": {},
   "outputs": [
    {
     "data": {
      "text/plain": [
       "(array([342., 575., 817., 794., 667., 515., 409., 228.]),\n",
       " array([59.   , 61.125, 63.25 , 65.375, 67.5  , 69.625, 71.75 , 73.875,\n",
       "        76.   ]),\n",
       " <BarContainer object of 8 artists>)"
      ]
     },
     "execution_count": 12,
     "metadata": {},
     "output_type": "execute_result"
    },
    {
     "data": {
      "image/png": "[encoded data removed]",
      "text/plain": [
       "<Figure size 640x480 with 1 Axes>"
      ]
     },
     "metadata": {},
     "output_type": "display_data"
    }
   ],
   "source": [
    "plt.hist(filtered_height, bins = 8)"
   ]
  },
  {
   "cell_type": "markdown",
   "id": "86727894-65bb-47d0-8f21-b810c33d0003",
   "metadata": {},
   "source": [
    "Since we've filtered our data to remove outliers, we should also recalculate the mean. Do this now in the cell below, using our get_mean() function."
   ]
  },
  {
   "cell_type": "code",
   "execution_count": 13,
   "id": "5348ee25-714e-4efa-9a5b-5797f5ee7839",
   "metadata": {},
   "outputs": [
    {
     "name": "stdout",
     "output_type": "stream",
     "text": [
      "New sample mean: 66.85\n"
     ]
    }
   ],
   "source": [
    "new_mean = get_mean(filtered_height)\n",
    "print('New sample mean:',new_mean)"
   ]
  },
  {
   "cell_type": "markdown",
   "id": "f6d35c10-15a2-4a06-995d-abe17044a7a5",
   "metadata": {},
   "source": [
    "# Calculating the Median\n",
    "\n",
    "The median is the value directly in the middle of the dataset. In statistical terms, this is the Median Quartile. If the dataset was sorted from lowest value to highest value, the median is the value that would be larger than the first 50% of the data, and smaller than the second 50%.\n",
    "\n",
    "If the dataset has an odd number of values, then the median is the middle number. If the dataset has an even number of values, then we take the mean of the middle two numbers.\n",
    "\n",
    "In the cell below, write a function that takes in a list of numbers and returns the median value for that dataset. Make sure you first check for even / odd number of data points and perform the computation accordingly. The best approach to calculate the median is as follows:\n",
    "\n",
    "- Sort the data\n",
    "- Check if the data has even or odd number of data points\n",
    "- Calculate the median of the sorted data now that you know if the count is even or odd.\n",
    "\n",
    "Hints:\n",
    "\n",
    "- You can use the modulo operator % in Python to check if a value is even or odd -- odd numbers % 2 (e.g. 5 % 2) will equal 1, while even numbers % 2 (e.g. 4 % 2) will equal 0!\n",
    "- You can use integer division // to calculate the index -- for even numbers this just means that the result is an integer (e.g. 4 // 2 is 2 rather than 2.0), while for odd numbers this means that the remainder is cut off (e.g. 7 // 2 is 3, not 3.5)"
   ]
  },
  {
   "cell_type": "code",
   "execution_count": 14,
   "id": "cc315ad4-c325-4f7a-ae2e-1e5f546211f7",
   "metadata": {},
   "outputs": [
    {
     "data": {
      "text/plain": [
       "67"
      ]
     },
     "execution_count": 14,
     "metadata": {},
     "output_type": "execute_result"
    }
   ],
   "source": [
    "def get_median(lst):\n",
    "    '''\n",
    "    Captures the median of the list\n",
    "    '''\n",
    "    data_sorted = sorted(lst)\n",
    "    length = len(data_sorted)\n",
    "    median = length // 2\n",
    "    \n",
    "    if length % 2 == 0:\n",
    "        return (data_sorted[median -1] + data_sorted[median])/2\n",
    "    else:\n",
    "        return data_sorted[median]\n",
    "\n",
    "get_median(height)"
   ]
  },
  {
   "cell_type": "markdown",
   "id": "f0e0789b-b31d-4934-b9a0-5538113fa5c3",
   "metadata": {},
   "source": [
    "So, we have 67, which is much closer to the filtered list mean (66.85) than the mean we calculated with actual list (69.58). So, median in this case seems to be a much better indicator of the central tendency found in the dataset. This makes sense because we've already learned that medians are less sensitive to outliers than mean values are!"
   ]
  },
  {
   "cell_type": "markdown",
   "id": "627cc371-6b61-46f4-9b34-aa16940dd3d4",
   "metadata": {},
   "source": [
    "# Calculating the Mode\n",
    "The mode is the value that shows up the most in a dataset. A dataset can have 0 or more modes. If no value shows up more than once, the dataset is considered to have no mode value. If two numbers show up the same number of times, that dataset is considered bimodal. Datasets where multiple values all show up the same number of times are considered multimodal.\n",
    "\n",
    "In the cell below, write a function that takes in a list of numbers and returns another list containing the mode value(s). In the case of only one mode, the list would have a single element.\n",
    "\n",
    "Hint: Building a frequency distribution table using dictionaries is probably the easiest way to approach this problem. Use each unique element from the height list as a key, and the frequency of this element as the value and build a dictionary. You can then simply identify the keys (heights) with maximum values."
   ]
  },
  {
   "cell_type": "code",
   "execution_count": 15,
   "id": "a38ffa14-20d6-42ef-ab69-f217a3dc60ae",
   "metadata": {},
   "outputs": [
    {
     "name": "stdout",
     "output_type": "stream",
     "text": [
      "[5]\n",
      "[1, 5]\n"
     ]
    }
   ],
   "source": [
    "def get_mode(lst):\n",
    "    '''\n",
    "    Calculate the mode\n",
    "    '''\n",
    "    frequency_dict = {}\n",
    "    for item in lst:\n",
    "        if item not in frequency_dict:\n",
    "            frequency_dict[item] = 1\n",
    "        else:\n",
    "            frequency_dict[item] +=1\n",
    "            \n",
    "    highest_freq = max(frequency_dict.values())\n",
    "    \n",
    "    modes = []\n",
    "    \n",
    "    for height, frequency in frequency_dict.items():\n",
    "        if frequency == highest_freq:\n",
    "            modes.append(height)\n",
    "        \n",
    "    return modes\n",
    "\n",
    "test1 = [1, 2, 3, 5, 5, 4]\n",
    "test2 = [1, 1, 1, 2, 3, 4, 5, 5, 5]\n",
    "\n",
    "print(get_mode(test1))\n",
    "print(get_mode(test2))"
   ]
  },
  {
   "cell_type": "code",
   "execution_count": 16,
   "id": "cf1e1a24-75ac-444c-a030-1434bc73fe12",
   "metadata": {},
   "outputs": [
    {
     "data": {
      "text/plain": [
       "[64]"
      ]
     },
     "execution_count": 16,
     "metadata": {},
     "output_type": "execute_result"
    }
   ],
   "source": [
    "mode = get_mode(height)\n",
    "mode"
   ]
  },
  {
   "cell_type": "markdown",
   "id": "08fb88df-ce25-4a5e-b148-41e18d885a5a",
   "metadata": {},
   "source": [
    "So, the mode value is much lower than our mean and median calculated earlier. What do you make of this? The answer to that could be subjective and depends on the problem. i.e. if your problem is to identify sizes for garments that would sell the most, you cannot disregard mode. However, if you want to get an idea about the general or typical height of individuals, you can probably still do that with the median and the average."
   ]
  },
  {
   "cell_type": "markdown",
   "id": "b35f4815-bd23-4d30-bb2c-df3552f9fc73",
   "metadata": {},
   "source": [
    "# Measures of Dispersion"
   ]
  },
  {
   "cell_type": "markdown",
   "id": "cd678727-04b9-4e3c-86fc-8a8d2d3a89ab",
   "metadata": {},
   "source": [
    "In the cell below, write a function that takes a list of numbers as input and returns the variance (rounded to two decimal places) of the sample as output."
   ]
  },
  {
   "cell_type": "code",
   "execution_count": 17,
   "id": "4b8cf97d-fbac-4122-8bb3-616a86e315ba",
   "metadata": {},
   "outputs": [],
   "source": [
    "def get_variance(lst):\n",
    "    \"\"\"\n",
    "    Calculating sample mean\n",
    "    \"\"\"\n",
    "    sample_lst_mean = get_mean(lst)\n",
    "    sum_of_squares = 0\n",
    "    for item in lst:\n",
    "        diff = item - sample_lst_mean\n",
    "        diff_squared = diff ** 2\n",
    "        sum_of_squares += diff_squared\n",
    "\n",
    "    variance = sum_of_squares/(len(lst) -1)\n",
    "    return round(variance, 2)\n"
   ]
  },
  {
   "cell_type": "code",
   "execution_count": 18,
   "id": "6acb4d95-2497-4111-9f67-479e9106d544",
   "metadata": {},
   "outputs": [
    {
     "name": "stdout",
     "output_type": "stream",
     "text": [
      "The variance is: 87.74\n"
     ]
    }
   ],
   "source": [
    "variance = get_variance(height)\n",
    "print(f\"The variance is: {variance}\")"
   ]
  },
  {
   "cell_type": "markdown",
   "id": "5ed26f50-0338-4fb1-a3ac-0e9cb35e240d",
   "metadata": {},
   "source": [
    "In the cell below, write a function that takes a list of numbers as input and returns the standard deviation of that sample as output."
   ]
  },
  {
   "cell_type": "code",
   "execution_count": 19,
   "id": "a64e161b-2682-4073-a252-423a07b652ee",
   "metadata": {},
   "outputs": [],
   "source": [
    "def get_stddev(lst):\n",
    "    stddev = get_variance(lst) ** 0.5\n",
    "    \n",
    "    return round(stddev, 2)"
   ]
  },
  {
   "cell_type": "code",
   "execution_count": 20,
   "id": "78d102e4-5022-44fb-a00b-69be1d6352ac",
   "metadata": {},
   "outputs": [
    {
     "name": "stdout",
     "output_type": "stream",
     "text": [
      "The standard deviation is 9.37\n"
     ]
    }
   ],
   "source": [
    "standard_deviation = get_stddev(height)\n",
    "print(f\"The standard deviation is {standard_deviation}\")"
   ]
  },
  {
   "cell_type": "markdown",
   "id": "a1eff04d-6e42-492a-aaea-005e9d3d909d",
   "metadata": {},
   "source": [
    "So 9.37 inches is the amount of deviation present in our dataset. As we are still including outlier values, this might be slightly affected but these results are now much more reliable."
   ]
  },
  {
   "cell_type": "markdown",
   "id": "fee42e5e-af8c-4ed3-af57-ba21f9f6cf56",
   "metadata": {},
   "source": [
    "# Simplifying the Process with NumPy\n",
    "We hope writing these functions was a useful experience in terms of deepening your understanding of these statistical measures as well as sharpening your Python skills. However in reality there is almost never a need to write these kinds of functions \"by hand\", since libraries like NumPy and SciPy can typically handle them for us in a single line.\n",
    "\n",
    "Below is a demonstration of the same calculations performed above, written using Python libraries side-by-side with the results of the functions you've just written:"
   ]
  },
  {
   "cell_type": "code",
   "execution_count": 21,
   "id": "5580783b-5f8e-40b5-b253-d87d4f32715c",
   "metadata": {},
   "outputs": [
    {
     "name": "stdout",
     "output_type": "stream",
     "text": [
      "Mean: 69.58\n",
      "Median: 67.0\n",
      "Mode: 64\n",
      "Variance: 87.73\n",
      "Standard Deviation: 9.37\n",
      "\n",
      "The crap you did above was honestly useless. These are the shortcuts.\n",
      "But at least you have experience in writing fucntions\n"
     ]
    }
   ],
   "source": [
    "import numpy as np\n",
    "from scipy import stats as st\n",
    "print(f\"Mean: {round(np.mean(height),2)}\")\n",
    "print(f\"Median: {round(np.median(height),2)}\")\n",
    "print(f\"Mode: {st.mode(height)[0]}\") # Used Scipy library\n",
    "print(f\"Variance: {round(np.var(height),2)}\")\n",
    "print(f\"Standard Deviation: {round(np.std(height),2)}\\n\")\n",
    "\n",
    "print(\"The crap you did above was honestly useless. These are the shortcuts.\")\n",
    "print(\"But at least you have experience in writing fucntions\")"
   ]
  },
  {
   "cell_type": "markdown",
   "id": "a60deac8-b2a2-496e-b5b3-bcd5ba189b4b",
   "metadata": {},
   "source": [
    "# Covariance and Correlation"
   ]
  },
  {
   "cell_type": "markdown",
   "id": "71740337-f2a2-44a2-ae27-d9754940cd66",
   "metadata": {},
   "source": [
    "**The Data**\n",
    "\n",
    "The two variables include 20 heights (in inches) and weights (in pounds). This will help us focus more on seeing covariance and correlation in action!\n",
    "\n",
    "At this point, you should be able to calculate the average height and average weight. You can also explain the medians, variances, and standard deviations for this dataset.\n",
    "\n",
    "But all of those measurements are only concerned with a single variable. Now that we have both heights and weights, we want to perform statistical analysis for multiple variables. In this lab, you'll answer the following questions:\n",
    "\n",
    "Is there a linear relationship between weight an height?\n",
    "Does weight increase as height increases?\n",
    "How strong is the linear relationship between weight and height?\n",
    "There are always exceptions, but when you look at the population in general, taller people will tend to weigh more than shorter people. While you should always be cautious when generalizing, generalization of information can be very useful as it shows you a bigger picture that you can build your intuitions upon. This is also what a lot of core statistical principles are built upon.\n",
    "\n",
    "First, run the below cells to load the heights and weights into memory."
   ]
  },
  {
   "cell_type": "code",
   "execution_count": 24,
   "id": "a230667a-33d2-4b68-9816-152ca3e5fe73",
   "metadata": {},
   "outputs": [],
   "source": [
    "height = [68, 71, 61, 69, 71, 58, 72, 73, 58, 74,\n",
    "          61, 59, 69, 68, 64, 69, 72, 66, 65, 69]\n",
    "weight = [165, 201, 140, 170, 192, 125, 195, 205,\n",
    "          115, 210, 135, 125, 172, 175, 145, 170,\n",
    "          200, 155, 150, 171]"
   ]
  },
  {
   "cell_type": "code",
   "execution_count": 26,
   "id": "d161aeb6-cb86-4d8f-b89b-590356d96cc1",
   "metadata": {},
   "outputs": [
    {
     "data": {
      "text/plain": [
       "144.75789473684205"
      ]
     },
     "execution_count": 26,
     "metadata": {},
     "output_type": "execute_result"
    }
   ],
   "source": [
    "covariance_matrix = np.cov(height, weight)\n",
    "covariance_matrix[0][1]"
   ]
  },
  {
   "cell_type": "code",
   "execution_count": 27,
   "id": "375204b3-b992-4f6b-a939-efa5fd45a06b",
   "metadata": {},
   "outputs": [
    {
     "data": {
      "text/plain": [
       "0.9773995748246294"
      ]
     },
     "execution_count": 27,
     "metadata": {},
     "output_type": "execute_result"
    }
   ],
   "source": [
    "correlation_matrix = np.corrcoef(height, weight)\n",
    "correlation_matrix[0][1]"
   ]
  },
  {
   "cell_type": "markdown",
   "id": "513e609e-350b-4fb6-be70-7c960641e3f4",
   "metadata": {},
   "source": [
    "**Covariance**\n",
    "\n",
    "In stats, when trying to figure out how two variables vary together, you can use the covaiance between these two varibales. This gives you an idea of how the variables change together\n",
    "\n",
    "Covariance values range from positive infinity to negative infinity\n",
    "- A positive covariance indicates that the two variables are positively related\n",
    "- A negative covariance indicates that the two variables are negatively related\n",
    "- A covariance equal or close to zero indicates no linear relationship between the two variables\n",
    "\n",
    "**Correlation**\n",
    "\n",
    "It refers to a relationship or association between variables.\n",
    "\n",
    "- If two variables have a correlation of +0.9, this means the change in one item results in an almost similar change to another item.\n",
    "- A correlation value of -0.9 means that the change is one variable results in an opposite change in the other variable.\n",
    "- A correlation near 0 would be no effect.\n",
    "\n",
    "Causation is when any change in the value of one variable leads to a change in the value of another variable, which means one variable causes the change in another. This is also referred to as cause and effect."
   ]
  },
  {
   "cell_type": "code",
   "execution_count": null,
   "id": "4cbcd8ce-5a69-4fce-a567-9ad29c5ffa40",
   "metadata": {},
   "outputs": [],
   "source": []
  }
 ],
 "metadata": {
  "kernelspec": {
   "display_name": "Python (learn-env)",
   "language": "python",
   "name": "learn-env"
  },
  "language_info": {
   "codemirror_mode": {
    "name": "ipython",
    "version": 3
   },
   "file_extension": ".py",
   "mimetype": "text/x-python",
   "name": "python",
   "nbconvert_exporter": "python",
   "pygments_lexer": "ipython3",
   "version": "3.8.5"
  }
 },
 "nbformat": 4,
 "nbformat_minor": 5
}
